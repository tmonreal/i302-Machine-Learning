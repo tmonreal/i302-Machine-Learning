{
 "cells": [
  {
   "cell_type": "code",
   "execution_count": null,
   "metadata": {},
   "outputs": [],
   "source": [
    "%load_ext autoreload\n",
    "%autoreload 2"
   ]
  },
  {
   "cell_type": "markdown",
   "metadata": {},
   "source": [
    "# Clase Tutorial 7: MLP & Backpropagation"
   ]
  },
  {
   "cell_type": "markdown",
   "metadata": {},
   "source": [
    "\n",
    "Existen varios frameworks que permiten desarrollar redes neuronales con facilidad, como son TensorFlow y PyTorch. Sin embargo, en esta clase comenzaremos programando una red neuronal desde cero para obtener un mayor entendimiento y una mejor intuición sobre como funcionan los algoritmos. En particular, vamos a implementar un perceptrón multicapa para resolver tareas de clasificación solamente usando NumPy para hacer cálculos matemáticos."
   ]
  },
  {
   "cell_type": "markdown",
   "metadata": {},
   "source": [
    "## Redes Neuronales\n",
    "\n",
    "- Supongamos que queremos predecir el precio de una vivienda dado el tamaño de esta. \n",
    "- Nuestro objetivo es introducir un valor de entrada $x$ en una función $h(x)$ que devuelva el precio de la vivienda $y$. \n",
    "$$h: x \\rightarrow y$$ \n",
    "- Una de las redes neuronales más simples sería definir $h(x)$ como una sola “neurona” en la red, donde: \n",
    "    - $h(x) = \\max(ax + b, 0)$, para algunos coeficientes $a$ y $b$. \n",
    "    - En el contexto de redes neuronales, esta función se llama __ReLU__, o unidad lineal rectificada. \n",
    "\n",
    "- Una red neuronal más compleja puede tomar la neurona simple descrita anteriormente y “apilar” varias de ellas de manera que una neurona pase su salida como entrada a la siguiente neurona, resultando en una función más compleja. \n",
    "\n",
    "    - Es análogo a armar estructuras con Legos: tomas bloques individuales y los apilas para construir estructuras complejas. Para las redes, tomamos neuronas individuales y las apilamos para crear redes neuronales complejas.\n",
    "\n",
    "- Ahora profundicemos en el ejemplo de predicción de viviendas. Además del tamaño de la casa, supongamos que conocemos el número de dormitorios, el código postal y el capital del barrio. Dadas estas features, podríamos decidir que el precio de la casa depende de:\n",
    "\n",
    "    - El __tamaño máximo de la familia__ que puede habitarla. Se podría pensar como una función del _tamaño de la casa_ y del _número de dormitorios_. \n",
    "    - Cuán __caminable__ es el barrio (es decir, ¿podes caminar hasta el almacén o necesitas manejar a todas partes?). Se podría pensar que el código postal puede proporcionar esta información\n",
    "    - La __calidad de la escuela primaria__ de la zona. Se podría pensar como una función del _código postal_ con el _capital_ del barrio. \n",
    "\n",
    "    Entonces podríamos concluir que el precio de la casa depende en última instancia de estas tres características derivadas. \n",
    "\n",
    "    <img src=\"/home/linar/Desktop/ML/Clases/i302/Clases/07_Clase 7: MLPs & Backpropagations/images/img1.jpg\" alt=\"image\" style=\"display: block; margin: 0 auto; max-width: 50%; height: auto;\">\n",
    "\n"
   ]
  },
  {
   "cell_type": "markdown",
   "metadata": {},
   "source": [
    "- Lo que hicimos fue describir la red neuronal como si ya tuvieramos la intuición de que estos tres factores finalmente afectan el precio de una casa. \n",
    "- Pero parte de la \"magia\" de una red neuronal es que solo entregándole las características de entrada $x$ y la salida $y$, se encarga de descubrir todo lo que sucede en el medio. (Lo único que debemos proporcionarle es una cantidad suficiente de ejemplos de entrenamiento $(x^{(i)}, y^{(i)})$). \n",
    "    - A este proceso de aprendizaje de características intermedias se le llama __\"end-to-end learning\"__. \n",
    "\n",
    "- Muchas veces, la red neuronal va a descubrir características complejas que son muy útiles para predecir la salida, pero que pueden ser difíciles de entender para una persona, ya que no tienen un significado \"común\". \n",
    "    - Por eso, algunas personas se refieren a las redes neuronales como una caja negra, ya que puede ser difícil entender las características que ha inventado."
   ]
  },
  {
   "cell_type": "markdown",
   "metadata": {},
   "source": [
    "### Formalizando\n",
    "\n",
    "- Supongamos que tenemos:\n",
    "    - 3 características de entrada $x_1, x_2, x_3$, que colectivamente se llaman la __capa de entrada__\n",
    "    - 4 neuronas/unidades ocultas que conforman la __capa oculta__, y \n",
    "    - 1 neurona de salida llamada la __capa de salida__. \n",
    "    \n",
    "    _NOTA: El término capa oculta se llama \"oculta\" porque no tenemos el valor real o de entrenamiento para las unidades ocultas. Esto es diferente de las capas de entrada y salida, donde conocemos los valores reales de $(x^{(i)}, y^{(i)})$._\n",
    "\n",
    "- La primera unidad oculta necesita como entrada $x_1, x_2, x_3$ y devuelve un valor denotado por $z_1$. \n",
    "- En este ejemplo en particular, tenemos una única capa oculta, pero es posible tener varias capas ocultas. \n",
    "- Denotamos $z^{[1]}_1$ como el valor de salida de la primera unidad oculta en la primera capa oculta. \n",
    "    - Usamos indexación en cero para referirnos a los números de capa. Es decir, la capa de entrada es la capa 0, la primera capa oculta es la capa 1 y la capa de salida es la capa 2. \n",
    "    - Dada esta notación, la salida de la capa 2 es $z^{[2]}_1$. \n",
    "\n",
    "- Para aclarar: \n",
    "    - $foo^{[1]}$ con _corchetes_ denota cualquier cosa asociada con la _capa_ 1, \n",
    "    - $x^{(i)}$ con _paréntesis_ se refiere al i-ésimo _ejemplo de entrenamiento_, y \n",
    "    - $z^{[\\ell]}_j$ se refiere a la activación de la j-ésima unidad en la capa $\\ell$. \n",
    "\n",
    "    Si vemos la regresión logística $g(x)$ como una única neurona:\n",
    "\n",
    "    $$ g(x) = \\frac{1}{1 + e^{-\\theta^Tx}}$$\n",
    "\n",
    "    <img src=\"/home/linar/Desktop/ML/Clases/i302/Clases/07_Clase 7: MLPs & Backpropagations/images/img2.png\" alt=\"image\" style=\"display: block; margin: 0 auto; max-width: 50%; height: auto;\">\n",
    "\n",
    "    - Donde la entrada de la regresión logística son las 3 features $x_1, x_2, x_3$ y su salida es una estimación del valor de $y$. \n",
    "    - Podemos representar a $g(x)$ como una sola neurona, y descomponerla en dos cálculos distintos:\n",
    "\n",
    "        1. $a = w^T x + b$  \n",
    "        2. $z = \\sigma(a) = \\frac{1}{1 + e^{-a}}$.\n",
    "\n",
    "    - Notar la diferencia de notación: anteriormente usamos $a = \\theta^T x$, pero ahora estamos usando $a = w^T x + b$, donde $w$ es un vector. Más adelante, usaremos la letra mayúscula $W$ para denotar una matriz.\n",
    "    - Si generalizamos, $z = g(a)$ donde $g(a)$ es alguna función de activación (no lineal). Ejemplos de funciones de activación incluyen:\n",
    "\n",
    "    $$g(z) = \\frac{1}{1 + e^{-z}} \\quad (\\text{sigmoide})$$  \n",
    "    $$g(z) = \\max(z, 0) \\quad (\\text{ReLU})$$  \n",
    "    $$g(z) = \\frac{e^z - e^{-z}}{e^z + e^{-z}} \\quad (\\text{tanh})$$"
   ]
  },
  {
   "cell_type": "markdown",
   "metadata": {},
   "source": [
    "- Volviendo a nuestra red neuronal anterior, la primera unidad oculta en la primera capa oculta realizará el siguiente cálculo:\n",
    "\n",
    "    $$a^{[1]}_1 = W^{[1]T}_1 x + b^{[1]}_1$$  \n",
    "\n",
    "    $$z^{[1]}_1 = g(a^{[1]}_1)$$\n",
    "\n",
    "    donde $W$ es una matriz de parámetros y $W_1$ se refiere a la primera fila de esta matriz.  \n",
    "\n",
    "- Los parámetros asociados a la primera unidad oculta son el vector $W^{[1]}_1 \\in \\mathbb{R}^3$ y el escalar $b^{[1]}_1 \\in \\mathbb{R}$. \n",
    "\n",
    "- Para la segunda y tercera unidad oculta en la primera capa oculta, el cálculo está definido como:\n",
    "\n",
    "    $$a^{[1]}_2 = W^{[1]T}_2 x + b^{[1]}_2;\\text{   } a^{[1]}_3 = W^{[1]T}_3 x + b^{[1]}_3  $$  \n",
    "    $$z^{[1]}_2 = g(a^{[1]}_2);\\text{   } z^{[1]}_3 = g(a^{[1]}_3)$$\n",
    "\n",
    "    donde cada unidad oculta tiene sus correspondientes parámetros $W$ y $b$.  \n",
    "\n",
    "- Siguiendo, la capa de salida realiza el cálculo:\n",
    "\n",
    "    $$a^{[2]}_1 = W^{[2]T}_1 z^{[1]} + b^{[2]}_1$$  \n",
    "    $$z^{[2]}_1 = g(a^{[2]}_1)$$\n",
    "\n",
    "    donde $z^{[1]}$ se define como la concatenación de todas las activaciones de la primera capa:\n",
    "\n",
    "    $$z^{[1]} = \\begin{bmatrix} z^{[1]}_1 \\\\ z^{[1]}_2 \\\\ z^{[1]}_3 \\\\ z^{[1]}_4 \\end{bmatrix}$$\n",
    "\n",
    "- La activación $z^{[2]}_1$ de la segunda capa, que es un escalar único definido por $z^{[2]}_1 = g(a^{[2]}_1)$, representa la predicción final de la red neuronal. \n",
    "\n",
    "    _NOTA: para tareas de regresión, típicamente no se aplica una función no lineal que sea estrictamente positiva (como ReLU o sigmoide), ya que en algunos casos el valor real de $y$ puede ser negativo._\n"
   ]
  },
  {
   "cell_type": "markdown",
   "metadata": {},
   "source": [
    "## Vectorización\n",
    "\n",
    "- Para calcular las activaciones de las unidades ocultas en la primera capa, tenemos que calcular:\n",
    "\n",
    "$$a^{[1]}_1 = W^{[1]T}_1 x + b^{[1]}_1 \\quad \\dots \\quad a^{[1]}_4 = W^{[1]T}_4 x + b^{[1]}_4$$  \n",
    " \n",
    "$$z^{[1]}_1 = g(a^{[1]}_1) \\quad \\dots \\quad z^{[1]}_4 = g(a^{[1]}_4)$$\n",
    "\n",
    "- La forma más natural de implementar esto en código sería usar un bucle `for`. Sin embargo, uno de los grandes aportes del deep learning al campo del machine learning es que los algoritmos de deep learning tienen altos requisitos computacionales. Como resultado, el código se ejecutará muy lentamente si se utilizan bucles `for`.\n",
    "\n",
    "- En lugar de usar bucles, la vectorización aprovecha el álgebra matricial para hacer que los cálculos en redes neuronales se ejecuten rápidamente. \n"
   ]
  },
  {
   "cell_type": "markdown",
   "metadata": {},
   "source": [
    "- Usando álgebra matricial, podemos calcular las preactivaciones:\n",
    "\n",
    "\n",
    "$$\n",
    "a^{[1]} = W^{[1]}x + b^{[1]}\n",
    "$$\n",
    "\n",
    "$$\n",
    "\\begin{bmatrix}\n",
    "a^{[1]}_1 \\\\\n",
    "\\vdots \\\\\n",
    "a^{[1]}_4\n",
    "\\end{bmatrix}\n",
    "=\n",
    "\\begin{bmatrix}\n",
    "W^{[1]T}_1 \\\\\n",
    "W^{[1]T}_2 \\\\\n",
    "\\vdots \\\\\n",
    "W^{[1]T}_4\n",
    "\\end{bmatrix}\n",
    "\\begin{bmatrix}\n",
    "x_1 \\\\\n",
    "x_2 \\\\\n",
    "x_3\n",
    "\\end{bmatrix}\n",
    "+\n",
    "\\begin{bmatrix}\n",
    "b^{[1]}_1 \\\\\n",
    "b^{[1]}_2 \\\\\n",
    "\\vdots \\\\\n",
    "b^{[1]}_4\n",
    "\\end{bmatrix}\n",
    "$$\n",
    "\n",
    "$$\n",
    "\\left[\\mathbb{R}^{4 \\times 1}\\right] = \\left[\\mathbb{R}^{4 \\times 3}\\right]\\left[\\mathbb{R}^{3 \\times 1}\\right] + \\left[\\mathbb{R}^{4 \\times 1}\\right]\n",
    "$$\n",
    "\n",
    "- Para calcular $z^{[1]}$ sin un bucle `for`, podemos aprovechar las bibliotecas vectorizadas de Python, las cuales calculan $z^{[1]} = g(a^{[1]})$ muy rápido realizando operaciones elemento a elemento en paralelo. "
   ]
  },
  {
   "cell_type": "markdown",
   "metadata": {},
   "source": [
    "#### 🤔 ¿Por qué no usamos la función identidad para $g(z)$ (es decir, $g(z) = z$)?\n",
    "\n",
    "\n",
    "- Supongamos que $b^{[1]}$ y $b^{[2]}$ son ceros. Si computamos la preactivacion de la capa de salida, tenemos:\n",
    "\n",
    "    $$\n",
    "    a^{[2]} = W^{[2]}z^{[1]} = W^{[2]}g(a^{[1]}) = W^{[2]}a^{[1]} = W^{[2]}W^{[1]}x = \\tilde{W}x\n",
    "    $$\n",
    "\n",
    "- Observen cómo $W^{[2]}W^{[1]}$ se colapsó en $\\tilde{W}$. Esto ocurre porque aplicar una función lineal a otra función lineal resulta en una función lineal sobre el input original (es decir, podemos construir un $\\tilde{W}$ tal que $\\tilde{W}x = W^{[2]}W^{[1]}x$). \n",
    "- Esto pierde gran parte del poder representacional de la red neuronal, ya que muchas veces la salida que estamos tratando de predecir tiene una relación no lineal con las entradas. \n",
    "\n",
    "➡️ Sin funciones de activación no lineales, la red neuronal simplemente realizaría una regresión lineal.\n"
   ]
  },
  {
   "cell_type": "markdown",
   "metadata": {},
   "source": [
    "#### Vectorización sobre ejemplos de entrenamiento\n",
    "\n",
    "- Supongamos que tenemos un conjunto de entrenamiento con tres ejemplos. Las preactivaciones para cada ejemplo son las siguientes:\n",
    "\n",
    "    $$\n",
    "    a^{[1](1) } = W^{[1]}x^{(1)} + b^{[1]} \\\\\n",
    "    a^{[1](2) } = W^{[1]}x^{(2)} + b^{[1]} \\\\\n",
    "    a^{[1](3) } = W^{[1]}x^{(3)} + b^{[1]}\n",
    "    $$\n",
    "\n",
    "    ❗ _Tener en cuenta la diferencia entre los corchetes $[ \\cdot ]$, que se refieren al número de capa, y los paréntesis $( \\cdot )$, que se refieren al número de ejemplo de entrenamiento._\n",
    "\n",
    "- Para vectorizar estas operaciones, apilamos los ejemplos de entrenamiento en columnas (no en filas):\n",
    "\n",
    "    $$\n",
    "    X =\n",
    "    \\begin{bmatrix}\n",
    "    | & | & | \\\\\n",
    "    x^{(1)} & x^{(2)} & x^{(3)} \\\\\n",
    "    | & | & |\n",
    "    \\end{bmatrix}\n",
    "    $$\n",
    "\n",
    "- De esta forma, podemos combinar esto en una sola formulación unificada:\n",
    "\n",
    "$$\n",
    "A^{[1]} =\n",
    "\\begin{bmatrix}\n",
    "| & | & | \\\\\n",
    "a^{[1](1) } & a^{[1](2) } & a^{[1](3) } \\\\\n",
    "| & | & |\n",
    "\\end{bmatrix}\n",
    "= W^{[1]}X + b^{[1]}\n",
    "$$\n",
    "\n",
    "Resumiendo: \n",
    "- Supongamos que tenemos un conjunto de entrenamiento $(x^{(1)}, y^{(1)}), \\dots , (x^{(m)}, y^{(m)})$, donde $x^{(i)}$ es una imagen y $y^{(i)}$ es una etiqueta binaria que indica si la imagen contiene un gato o no (es decir, $1 =$ contiene un gato).\n",
    "\n",
    "1. Inicializamos los parámetros $W^{[1]}, b^{[1]}, W^{[2]}, b^{[2]}$ con números aleatorios pequeños. \n",
    "2. Para cada ejemplo, calculamos la “probabilidad” de salida usando la función sigmoide $z^{[2](i)}$. Usando la función de log-verosimilitud de la regresión logística:\n",
    "\n",
    "$$\n",
    "\\sum_{i=1}^{m} \\left( y^{(i)} \\log z^{[2](i)} + (1 - y^{(i)}) \\log (1 - z^{[2](i)}) \\right)\n",
    "$$\n",
    "\n",
    "3. Entrenamos la red neuronal. En este caso, correspondería a maximizar esta función utilizando ascenso por gradiente."
   ]
  },
  {
   "cell_type": "markdown",
   "metadata": {},
   "source": [
    "Un modelo de red neuronal consiste en dos componentes:\n",
    "1. La arquitectura: definimos cuantas capas, cuantas neuronas y cómo se conectan.\n",
    "2. Los parámetros: los valores o pesos de la red. \n",
    "\n",
    "A continuación vamos a hablar sobre cómo aprender estos parámetros."
   ]
  },
  {
   "cell_type": "markdown",
   "metadata": {},
   "source": [
    "## Parámetros de la red"
   ]
  },
  {
   "cell_type": "markdown",
   "metadata": {},
   "source": [
    "Consideremos la siguiente red neuronal \"fully connected\" (todas las neuronas de la capa $\\ell-1$ están conectadas a todas las neuronas de la capa $\\ell$. )"
   ]
  },
  {
   "cell_type": "markdown",
   "metadata": {},
   "source": [
    "<img src=\"/home/linar/Desktop/ML/Clases/i302/Clases/07_Clase 7: MLPs & Backpropagations/images/img3.jpg\" alt=\"image\" style=\"display: block; margin: 0 auto; max-width: 50%; height: auto;\">"
   ]
  },
  {
   "cell_type": "markdown",
   "metadata": {},
   "source": [
    "#### 🤔 ¿Cuántos parámetros tiene esta red?\n",
    "\n",
    "Para calcular cuántos parámetros hay en esta red, podemos calcular la propagación hacia adelante manualmente.\n",
    "\n",
    "$$\n",
    "a^{[1]} = W^{[1]} x^{(i)} + b^{[1]}\n",
    "$$\n",
    "$$\n",
    "z^{[1]} = g(a^{[1]})\n",
    "$$\n",
    "$$\n",
    "a^{[2]} = W^{[2]} z^{[1]} + b^{[2]}\n",
    "$$\n",
    "$$\n",
    "z^{[2]} = g(a^{[2]})\n",
    "$$\n",
    "$$\n",
    "a^{[3]} = W^{[3]} z^{[2]} + b^{[3]}\n",
    "$$\n",
    "$$\n",
    "\\hat{y}^{(i)} = z^{[3]} = g(a^{[3]})\n",
    "$$\n",
    "\n",
    "Sabemos que $a^{[1]}, z^{[1]} \\in \\mathbb{R}^{3 \\times 1}$, $a^{[2]}, z^{[2]} \\in \\mathbb{R}^{2 \\times 1}$, y $a^{[3]}, az^{[3]} \\in \\mathbb{R}^{1 \\times 1}$. \n",
    "\n",
    "Para calcular el tamaño de $W^{[1]}$, sabemos que $x \\in \\mathbb{R}^{n \\times 1}$. Esto nos lleva a lo siguiente:\n",
    "\n",
    "$$ \n",
    "a^{[1]} = W^{[1]}x{(i)} = \\mathbb{R}^{3 \\times 1}\n",
    "$$\n",
    " \n",
    "Escrito como tamaños: $\\mathbb{R}^{3 \\times 1} = \\mathbb{R}^{? \\times ?} \\cdot \\mathbb{R}^{n \\times 1}$.\n",
    "\n",
    "- Concluimos que $W^{[1]}$ debe ser $3 \\times n$ y que $b^{[1]}$ debe ser $3 \\times 1$.\n",
    "\n",
    "Repetimos este proceso para cada capa oculta. Esto nos da:\n",
    "\n",
    "- $W^{[2]}$ debe ser $2 \\times 3$ y $b^{[2]}$ debe ser $2 \\times 1$.\n",
    "- $W^{[3]}$ debe ser $1 \\times 2$ y $b^{[3]}$ debe ser $1 \\times 1$.\n",
    "\n",
    "En total, tenemos $3n + 3$ en la primera capa, $2 \\times 3 + 2$ en la segunda capa y $2 + 1$ en la tercera capa. \n",
    "\n",
    "➡️ Esto nos da un total de $3n + 14$ parámetros."
   ]
  },
  {
   "cell_type": "markdown",
   "metadata": {},
   "source": [
    "### Inicialización de parámetros"
   ]
  },
  {
   "cell_type": "markdown",
   "metadata": {},
   "source": [
    "- Es necesario inicializar los parámetros de la red neuronal para poder comenzar a entrenarla con descenso por gradiente.\n",
    "\n",
    "- Después de una sola pasada hacia adelante por la red neuronal, la salida será un valor predicho $\\hat{y}$. Luego, podemos calcular la pérdida $L$. \n",
    "\n",
    "- Dado este valor, ahora debemos actualizar todos los parámetros en las capas de la red neuronal. Para cualquier índice de capa $\\ell$, actualizamos los parámetros de la siguiente manera:\n",
    "\n",
    "    $$\n",
    "    W^{[\\ell]}_{new} = W^{[\\ell]}_{old} - \\alpha \\frac{\\partial L}{\\partial W^{[\\ell]}}\n",
    "    $$\n",
    "    $$\n",
    "    b^{[\\ell]}_{new} = b^{[\\ell]}_{old} - \\alpha \\frac{\\partial L}{\\partial b^{[\\ell]}}\n",
    "    $$\n",
    "\n",
    "    donde $\\alpha$ es la tasa de aprendizaje/learning rate. \n",
    "    \n",
    "- Para proceder, debemos calcular el gradiente con respecto a los parámetros: $\\frac{\\partial L}{\\partial W^{[\\ell]}}$ y $\\frac{\\partial L}{\\partial b^{[\\ell]}}$."
   ]
  },
  {
   "cell_type": "markdown",
   "metadata": {},
   "source": [
    "#### 1. 🤔 ¿Qué pasa si inicializamos todos los parámetros a con un mismo valor?\n",
    "\n",
    "- Las activaciones de la primera capa serían:\n",
    "\n",
    "    $$\n",
    "    z^{[1]} = g(a^{[1]}) = g(W^{[1]}x^{(i)} + b^{[1]})\n",
    "    $$\n",
    "\n",
    "    donde todos los elementos de $W^{[1]}$ tienen el mismo valor.\n",
    "\n",
    "- Lo mismo ocurriría para todas las capas de la red neuronal.\n",
    "\n",
    "- Cuando calculemos el gradiente durante backpropagation, todas las neuronas en una capa serán igualmente responsables de lo que contribuya a la pérdida final.\n",
    "\n",
    "- Esto se conoce como __simetría__: cada neurona (dentro de una capa) recibirá exactamente el mismo valor de actualización de gradiente (es decir, todas las neuronas aprenderán lo mismo). \n",
    "\n",
    "- Entonces esta arquitectura podría ser comprimida a una estructura mucho más simple (una sola neurona en cada capa). Esta arquitectura solamente nos permitirá resolver problemas lineales."
   ]
  },
  {
   "cell_type": "markdown",
   "metadata": {},
   "source": [
    "#### 2. 🤔 ¿Qué pasa si inicializamos todos los parámetros a cero?\n",
    "\n",
    "- La salida de la última capa evaluaría a 0:   \n",
    "    $$\n",
    "        a^{[3]} = W^{[3]}z^{[2]}+b^{[3]} = 0_{1 \\times 2}z^{[2]} + 0_{1 \\times 1}\n",
    "    $$\n",
    "    donde $0_{n \\times m}$ denota una matriz de tamaño $n \\times m$ llena de ceros. \n",
    "\n",
    "- Sin embargo, la salida de la red neuronal está definida como $z^{[3]} = g(a^{[3]})$, y si $g(\\cdot)$ está definida como la función sigmoide:\n",
    "\n",
    "$$\n",
    "z^{[3]} = g(0) = 0.5\n",
    "$$\n",
    "\n",
    "➡️ Por lo tanto, sin importar el valor de $x^{(i)}$ que proporcionemos, la red producirá $\\hat{y} = 0.5$."
   ]
  },
  {
   "cell_type": "markdown",
   "metadata": {},
   "source": [
    "#### 3. 🤔 ¿Qué pasa si inicializamos los parámetros con valores muy altos o muy bajos?"
   ]
  },
  {
   "cell_type": "markdown",
   "metadata": {},
   "source": [
    "__Valores muy altos:__\n",
    "\n",
    "- Exploding gradients: Los gradientes pueden explotar durante la retropropagación. \n",
    "- Esto ocurre porque, en redes profundas, los pesos grandes hacen que las derivadas crezcan exponencialmente al propagarse hacia atrás, resultando en actualizaciones inestables y saltos grandes en la función de costo, lo que puede hacer que el modelo no converja o diverja.\n",
    "\n",
    "__Valores muy bajos:__\n",
    "\n",
    "- Vanishing gradients: Los gradientes pueden desvanecerse. \n",
    "- Los pesos pequeños tienden a hacer que las derivadas se reduzcan al propagarse hacia atrás, causando que las actualizaciones sean mínimas y que el aprendizaje sea extremadamente lento. \n",
    "- La red puede quedarse \"estancada\" sin hacer progreso hacia un mínimo en la función de costo."
   ]
  },
  {
   "cell_type": "code",
   "execution_count": 7,
   "metadata": {},
   "outputs": [
    {
     "data": {
      "image/png": "[encoded data removed]",
      "text/plain": [
       "<Figure size 864x288 with 3 Axes>"
      ]
     },
     "metadata": {
      "needs_background": "light"
     },
     "output_type": "display_data"
    }
   ],
   "source": [
    "import numpy as np\n",
    "import matplotlib.pyplot as plt\n",
    "\n",
    "def sigmoid(x):\n",
    "    return 1 / (1 + np.exp(-x))\n",
    "\n",
    "def sigmoid_deriv(x):\n",
    "    return sigmoid(x) * (1 - sigmoid(x))\n",
    "\n",
    "def tanh(x):\n",
    "    return np.tanh(x)\n",
    "\n",
    "def tanh_deriv(x):\n",
    "    return 1 - np.tanh(x)**2\n",
    "\n",
    "def relu(x):\n",
    "    return np.maximum(0, x)\n",
    "\n",
    "def relu_deriv(x):\n",
    "    return np.where(x > 0, 1, 0)\n",
    "\n",
    "x = np.linspace(-5, 5, 400)\n",
    "fig, axs = plt.subplots(1, 3, figsize=(12, 4))\n",
    "\n",
    "axs[0].plot(x, sigmoid(x), label='Sigmoid', color='blue')\n",
    "axs[0].plot(x, sigmoid_deriv(x), label='Sigmoid Derivative', color='red', linestyle='--')\n",
    "axs[0].set_title('Sigmoid and its Derivative')\n",
    "axs[0].legend()\n",
    "\n",
    "axs[1].plot(x, tanh(x), label='Tanh', color='blue')\n",
    "axs[1].plot(x, tanh_deriv(x), label='Tanh Derivative', color='red', linestyle='--')\n",
    "axs[1].set_title('Tanh and its Derivative')\n",
    "axs[1].legend()\n",
    "\n",
    "axs[2].plot(x, relu(x), label='ReLU', color='blue')\n",
    "axs[2].plot(x, relu_deriv(x), label='ReLU Derivative', color='red', linestyle='--')\n",
    "axs[2].set_title('ReLU and its Derivative')\n",
    "axs[2].legend()\n",
    "\n",
    "plt.tight_layout()\n",
    "plt.show()"
   ]
  },
  {
   "cell_type": "markdown",
   "metadata": {},
   "source": [
    "#### 🤔 Entonces, ¿Cuál es la forma correcta de inicializar los parámetros?\n",
    " \n",
    "- Para funciones de activación como sigmoide o tanh, se suele usar la inicialización __Xavier/Glorot__:\n",
    "\n",
    "    $$\n",
    "    \\mathcal{N}(0, \\sqrt{\\frac{2}{n_{in} + n_{out}}} )\n",
    "    $$\n",
    "\n",
    "- Para funciones de activación como la ReLU, se suele usar la inicialización __He__:\n",
    "\n",
    "    $$\n",
    "    \\mathcal{N}(0, \\sqrt{\\frac{2}{n_{in}}} )\n",
    "    $$\n",
    "\n",
    "En general, las dos inicializaciones anteriores funcionan muy bien cuando se tienen redes con muchas capas ocultas. Si se tiene una red con pocas capas ocultas, otra variantes posibles son:\n",
    "\n",
    "- Para sigmoid y tanh: $$ \\mathcal{U}(-\\sqrt{\\frac{6}{n_{in}+ n_{out}}},\\sqrt{\\frac{6}{n_{in}+ n_{out}}})$$ \n",
    "\n",
    "- Para ReLU: $$ \\mathcal{U}(-\\sqrt{\\frac{6}{n_{in}}},\\sqrt{\\frac{6}{n_{in}}})$$ \n",
    "\n",
    "\n",
    "En cuanto al sesgo/bias, se configuran típicamente en valores positivos pequeños para asegurar que la mayoría de las preactivaciones estén activas inicialmente durante el aprendizaje.\n",
    "\n",
    "- Esto es especialmente útil con las unidades ReLU, donde queremos que las preactivaciones sean positivas para que haya un gradiente no nulo que impulse el aprendizaje."
   ]
  },
  {
   "cell_type": "markdown",
   "metadata": {},
   "source": [
    "Para más info sobre el tema: https://www.deeplearning.ai/ai-notes/initialization/index.html"
   ]
  },
  {
   "cell_type": "markdown",
   "metadata": {},
   "source": [
    "## 🤔 ¿Cómo \"aprende\" un MLP?\n",
    "\n",
    "A muy alto nivel, el procedimiento de aprendizaje sigue la siguiente secuencia de pasos:\n",
    "\n",
    "* Inicializamos los parámetros\n",
    "* Elegimos algoritmo de optimización\n",
    "* Repetimos:\n",
    "    1. Propagación hacia adelante del input\n",
    "    2. Cálculo de función de pérdida\n",
    "    3. Cálculo de gradientes de la función de pérdida respecto a los parámetros usando backpropagation\n",
    "    4. Actualización de cada parámetro usando los gradientes (según el algoritmo de optimización).\n",
    "\n",
    "    ```\n",
    "    for e = 1, ..., epochs:\n",
    "        for b = 1 ...batchs:\n",
    "            1. ⏩ Forward Pass \n",
    "            2. ⏮️ Backward Pass \n",
    "            3. 🔁 Update model weights (to minimize L)\n",
    "    ```"
   ]
  },
  {
   "cell_type": "markdown",
   "metadata": {},
   "source": [
    "### 🤔 Pero ... ¿Qué significa \"epoch\" y \"batch\"?\n",
    "\n",
    "<img src=\"/home/linar/Desktop/ML/Clases/i302/Clases/07_Clase 7: MLPs & Backpropagations/images/img4.webp\" alt=\"image\" style=\"display: block; margin: 0 auto; max-width: 30%; height: auto;\">\n",
    "\n",
    "__Epoch__\n",
    "\n",
    "- Un epoch es una iteración completa a través de todo el conjunto de datos de entrenamiento. \n",
    "- En otras palabras, durante un epoch, el modelo ha visto y actualizado sus parámetros usando cada muestra del conjunto de entrenamiento una vez. \n",
    "- Si tenemos un dataset con 1000 ejemplos y entremos nuestro modelo durante 10 epochs, significa que el modelo ha pasado por esos 1000 ejemplos 10 veces.\n",
    "\n",
    "__Batch__\n",
    "\n",
    "- Un batch (o lote) es un subconjunto del conjunto de datos completo. \n",
    "- En lugar de usar todas las muestras del dataset para actualizar los parámetros del modelo en cada iteración, se divide el conjunto de datos en varios batches más pequeños. \n",
    "- Cada batch se usa para calcular una actualización de los parámetros del modelo. Esto se hace para hacer el proceso de entrenamiento más manejable y eficiente en términos de computo y memoria.\n",
    "- Si tenemos un dataset con 1000 ejemplos y decidimos usar un batch size de 100, entonces dividiríamos los datos en 10 batches, cada uno con 100 ejemplos. \n",
    "- El modelo actualizará sus parámetros después de cada batch."
   ]
  },
  {
   "cell_type": "markdown",
   "metadata": {},
   "source": [
    "### 🤔 ¿Que es Gradient Descent?\n",
    "\n",
    "* Es un algoritmo de optimización iterativo de primer orden para encontrar el mínimo de una función.\n",
    "* Su objetivo es minimizar la función de costo de la red neuronal.\n",
    "* Para lograrlo, tiene dos pasos iterativos:\n",
    "    1. Calcular el gradiente (derivada de primer orden) de la función en un punto\n",
    "    2. Moverse en la dirección opuesta del aumento de la pendiente desde es punto actual por una distancia computada\n",
    "    \n",
    "    <img src=\"/home/linar/Desktop/ML/Clases/i302/Clases/07_Clase 7: MLPs & Backpropagations/images/gradient-descent.webp\" alt=\"image\" style=\"display: block; margin: 0 auto; max-width: 50%; height: auto;\">\n",
    "\n",
    "* Entonces, el objetivo es pasar el set de entrenamiento a través de las capas ocultas de la red, y luego ajustar los parámetros de las capas computando los gradientes usando los ejemplos de entrenamiento.\n",
    "\n",
    "### Variantes del Gradient Descent \n",
    "\n",
    "Dependiendo de cómo se utilizan los batches, hay varias variantes del gradiente descendente:\n",
    "\n",
    "- __Gradient Descent Estocástico (SGD)__: \n",
    "    - Usa un solo ejemplo (batch size de 1) para actualizar los parámetros en cada iteración. \n",
    "    - Esto puede ser ruidoso, pero permite actualizaciones más frecuentes y puede escapar de mínimos locales.\n",
    "\n",
    "- __Gradient Descent por Batch Completo (Batch Gradient Descent)__: \n",
    "    - Usa todo el conjunto de datos para calcular el gradiente y actualizar los parámetros. \n",
    "    - Aunque puede ser más preciso en la estimación del gradiente, puede ser muy lento y consumir mucha memoria para grandes conjuntos de datos.\n",
    "\n",
    "- __Gradient Descent por Mini-batch__: \n",
    "    - Combina las ventajas del SGD y el Batch Gradient Descent. \n",
    "    - Divide el conjunto de datos en mini-batches (subconjuntos pequeños) y actualiza los parámetros después de cada mini-batch. \n",
    "    - Esto hace que el entrenamiento sea más rápido y manejable, y también introduce algo de ruido en las actualizaciones que puede ayudar a escapar de mínimos locales."
   ]
  },
  {
   "cell_type": "markdown",
   "metadata": {},
   "source": [
    "<img src=\"/home/linar/Desktop/ML/Clases/i302/Clases/07_Clase 7: MLPs & Backpropagations/images/GD.jpg\" alt=\"image\" style=\"display: block; margin: 0 auto; max-width: 50%; height: auto;\">\n"
   ]
  },
  {
   "cell_type": "markdown",
   "metadata": {},
   "source": [
    "## Implementación de una MLP para clasificación"
   ]
  },
  {
   "cell_type": "markdown",
   "metadata": {},
   "source": [
    "Encapsularemos la implementación del perceptrón multicapa dentro de una clase llamada `MLP` dentro de `models.py`\n",
    "\n",
    "Para implementar una instancia de la clase debera:\n",
    "\n",
    "```\n",
    "from models import MLP\n",
    "model = MLP(layers=[1,10,1],\n",
    "            activations=[\"relu\",\"sigmoid\"])\n",
    "```"
   ]
  },
  {
   "cell_type": "markdown",
   "metadata": {},
   "source": [
    "## Ejemplo de uso"
   ]
  },
  {
   "cell_type": "markdown",
   "metadata": {},
   "source": [
    "### 📊 Dataset: Wine Quality\n",
    "\n",
    "https://archive.ics.uci.edu/dataset/186/wine+quality"
   ]
  },
  {
   "cell_type": "code",
   "execution_count": 11,
   "metadata": {},
   "outputs": [],
   "source": [
    "import matplotlib.pyplot as plt\n",
    "import seaborn as sns\n",
    "import pandas as pd \n",
    "\n",
    "from models import MLP\n",
    "from sklearn.model_selection import train_test_split\n",
    "from sklearn.preprocessing import StandardScaler\n",
    "from sklearn.metrics import classification_report, confusion_matrix, roc_curve, auc, precision_recall_curve\n",
    "\n",
    "df = pd.read_csv(\"/home/linar/Desktop/ML/Clases/i302/Clases/07_Clase 7: MLPs & Backpropagations/Data/winequality-red.csv\")\n",
    "\n",
    "# Convert into a binary classification problem (e.g. quality <= 5 as class 0, quality > 5 as class 1)\n",
    "df['quality'] = (df['quality'] > 5).astype(int)\n",
    "\n",
    "# Prepare dataset\n",
    "X = df.drop(columns=['quality']).values\n",
    "y = df['quality'].values.reshape(-1, 1)\n",
    "\n",
    "# Standardize features\n",
    "scaler = StandardScaler()\n",
    "X_scaled = scaler.fit_transform(X)\n",
    "\n",
    "# Split dataset\n",
    "X_train, X_test, y_train, y_test = train_test_split(X_scaled, y, test_size=0.2, random_state=42)\n",
    "\n",
    "# Train the MLP\n",
    "training_data = list(zip(X_train, y_train))\n",
    "testing_data = list(zip(X_test, y_test))"
   ]
  },
  {
   "cell_type": "markdown",
   "metadata": {},
   "source": [
    "### 👩🏻‍💻 Creamos MLP "
   ]
  },
  {
   "cell_type": "code",
   "execution_count": null,
   "metadata": {},
   "outputs": [],
   "source": [
    "mlp = MLP(layers=[11, 10, 1], \n",
    "          activations=[\"relu\", \"sigmoid\"], \n",
    "          verbose=True)"
   ]
  },
  {
   "cell_type": "markdown",
   "metadata": {},
   "source": [
    "### 💪 Entrenamos"
   ]
  },
  {
   "cell_type": "code",
   "execution_count": 12,
   "metadata": {},
   "outputs": [
    {
     "name": "stderr",
     "output_type": "stream",
     "text": [
      "Training Epochs: 100%|██████████| 100/100 [00:15<00:00,  6.39it/s]\n"
     ]
    }
   ],
   "source": [
    "mlp.fit(training_data, epochs=100, mini_batch_size=32, lr=0.01, val_data=testing_data, verbose=False)"
   ]
  },
  {
   "cell_type": "markdown",
   "metadata": {},
   "source": [
    "### 🎯 Predecimos sobre Test Set"
   ]
  },
  {
   "cell_type": "code",
   "execution_count": null,
   "metadata": {},
   "outputs": [],
   "source": [
    "# Predict on test data\n",
    "predictions = mlp.predict(X_test)\n",
    "predicted_classes = (predictions > 0.5).astype(int)"
   ]
  },
  {
   "cell_type": "markdown",
   "metadata": {},
   "source": [
    "### 📈 Evaluamos las métricas"
   ]
  },
  {
   "cell_type": "code",
   "execution_count": 13,
   "metadata": {},
   "outputs": [
    {
     "name": "stdout",
     "output_type": "stream",
     "text": [
      "              precision    recall  f1-score   support\n",
      "\n",
      "           0       0.70      0.75      0.72       141\n",
      "           1       0.79      0.74      0.77       179\n",
      "\n",
      "    accuracy                           0.75       320\n",
      "   macro avg       0.74      0.75      0.75       320\n",
      "weighted avg       0.75      0.75      0.75       320\n",
      "\n"
     ]
    },
    {
     "data": {
      "image/png": "[encoded data removed]",
      "text/plain": [
       "<Figure size 576x432 with 2 Axes>"
      ]
     },
     "metadata": {
      "needs_background": "light"
     },
     "output_type": "display_data"
    },
    {
     "data": {
      "image/png": "[encoded data removed]",
      "text/plain": [
       "<Figure size 576x432 with 1 Axes>"
      ]
     },
     "metadata": {
      "needs_background": "light"
     },
     "output_type": "display_data"
    },
    {
     "data": {
      "image/png": "[encoded data removed]",
      "text/plain": [
       "<Figure size 576x432 with 1 Axes>"
      ]
     },
     "metadata": {
      "needs_background": "light"
     },
     "output_type": "display_data"
    }
   ],
   "source": [
    "# Print classification report\n",
    "print(classification_report(y_test, predicted_classes))\n",
    "\n",
    "# Confusion matrix\n",
    "conf_matrix = confusion_matrix(y_test, predicted_classes)\n",
    "plt.figure(figsize=(8, 6))\n",
    "sns.heatmap(conf_matrix, annot=True, fmt='d', cmap='Blues')\n",
    "plt.title(\"Confusion Matrix\")\n",
    "plt.ylabel(\"Actual Class\")\n",
    "plt.xlabel(\"Predicted Class\")\n",
    "plt.show()\n",
    "\n",
    "# ROC Curve\n",
    "fpr, tpr, thresholds = roc_curve(y_test, predictions)\n",
    "roc_auc = auc(fpr, tpr)\n",
    "plt.figure(figsize=(8, 6))\n",
    "plt.plot(fpr, tpr, label=f'AUC = {roc_auc:.2f}')\n",
    "plt.plot([0, 1], [0, 1], linestyle='--')\n",
    "plt.title('ROC Curve')\n",
    "plt.xlabel('False Positive Rate')\n",
    "plt.ylabel('True Positive Rate')\n",
    "plt.legend(loc=\"lower right\")\n",
    "plt.show()\n",
    "\n",
    "# Precision-Recall Curve\n",
    "precision, recall, _ = precision_recall_curve(y_test, predictions)\n",
    "plt.figure(figsize=(8, 6))\n",
    "plt.plot(recall, precision, marker='.')\n",
    "plt.title('Precision-Recall Curve')\n",
    "plt.xlabel('Recall')\n",
    "plt.ylabel('Precision')\n",
    "plt.show()"
   ]
  }
 ],
 "metadata": {
  "kernelspec": {
   "display_name": "i302",
   "language": "python",
   "name": "python3"
  },
  "language_info": {
   "codemirror_mode": {
    "name": "ipython",
    "version": 3
   },
   "file_extension": ".py",
   "mimetype": "text/x-python",
   "name": "python",
   "nbconvert_exporter": "python",
   "pygments_lexer": "ipython3",
   "version": "3.8.10"
  }
 },
 "nbformat": 4,
 "nbformat_minor": 2
}
