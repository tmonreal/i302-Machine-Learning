{
 "cells": [
  {
   "cell_type": "code",
   "execution_count": 23,
   "metadata": {},
   "outputs": [
    {
     "name": "stdout",
     "output_type": "stream",
     "text": [
      "Training set\n",
      "[[-0.16356982  0.74911222]\n",
      " [-0.75834396  0.741439  ]\n",
      " [ 0.247445    0.17087871]\n",
      " [ 1.5524437  -0.53551617]\n",
      " [ 0.39891848 -0.31032431]\n",
      " [ 0.53210588  1.05426959]\n",
      " [ 1.98417046  0.63129735]\n",
      " [ 0.8560581  -0.01943953]] [0 0 1 1 1 0 1 0]\n",
      "Test set\n",
      "[[ 0.8540598   0.54788143]\n",
      " [-0.99171235  0.00915409]\n",
      " [ 0.05034331 -0.21986339]\n",
      " [ 1.69871018 -0.27931217]] [0 0 1 1]\n",
      "Confusion Matrix - KNN (k=3):\n",
      " [[2 0]\n",
      " [0 2]]\n",
      "Confusion Matrix - LDA:\n",
      " [[2 0]\n",
      " [0 2]]\n",
      "Confusion Matrix - Logistic Regression:\n",
      " [[1 1]\n",
      " [1 1]]\n"
     ]
    }
   ],
   "source": [
    "import numpy as np\n",
    "from sklearn.datasets import make_moons\n",
    "from sklearn.neighbors import KNeighborsClassifier\n",
    "from sklearn.discriminant_analysis import LinearDiscriminantAnalysis as LDA\n",
    "from sklearn.linear_model import LogisticRegression\n",
    "from sklearn.metrics import confusion_matrix\n",
    "\n",
    "# Generate a dataset with two interleaved moons\n",
    "X, y = make_moons(n_samples=12, noise=0.2, random_state=4)\n",
    "\n",
    "# Split into training and testing sets\n",
    "X_train, X_test = X[:8], X[8:]\n",
    "y_train, y_test = y[:8], y[8:]\n",
    "\n",
    "print(\"Training set\")\n",
    "print(X_train, y_train)\n",
    "\n",
    "print(\"Test set\")\n",
    "print(X_test, y_test)\n",
    "# 1. KNN Classifier (k=3)\n",
    "knn = KNeighborsClassifier(n_neighbors=3)\n",
    "knn.fit(X_train, y_train)\n",
    "y_pred_knn = knn.predict(X_test)\n",
    "cm_knn = confusion_matrix(y_test, y_pred_knn)\n",
    "\n",
    "# 2. Linear Discriminant Analysis\n",
    "lda = LDA()\n",
    "lda.fit(X_train, y_train)\n",
    "y_pred_lda = lda.predict(X_test)\n",
    "cm_lda = confusion_matrix(y_test, y_pred_lda)\n",
    "\n",
    "# 3. Logistic Regression\n",
    "log_reg = LogisticRegression()\n",
    "log_reg.fit(X_train, y_train)\n",
    "y_pred_log = log_reg.predict(X_test)\n",
    "cm_log = confusion_matrix(y_test, y_pred_log)\n",
    "\n",
    "# Print results\n",
    "print(\"Confusion Matrix - KNN (k=3):\\n\", cm_knn)\n",
    "print(\"Confusion Matrix - LDA:\\n\", cm_lda)\n",
    "print(\"Confusion Matrix - Logistic Regression:\\n\", cm_log)\n"
   ]
  },
  {
   "cell_type": "code",
   "execution_count": 60,
   "metadata": {},
   "outputs": [
    {
     "name": "stdout",
     "output_type": "stream",
     "text": [
      "Training set\n",
      "[[-0.15, 0.75], [-0.75, 0.75], [0.25, 0.2], [1.55, -0.55], [0.4, -0.3], [0.55, 1], [2.0, 0.6], [0.85, 0.0]] [0, 0, 1, 1, 1, 0, 1, 0]\n",
      "Test set\n",
      "[[-0.9, 0.6], [1, 0.2], [0.0, 0.0], [1.7, -0.3]] [0, 0, 1, 1]\n",
      "Confusion Matrix - KNN (k=3):\n",
      " [[1 1]\n",
      " [0 2]]\n",
      "Confusion Matrix - LDA:\n",
      " [[1 1]\n",
      " [0 2]]\n",
      "Confusion Matrix - Logistic Regression:\n",
      " [[1 1]\n",
      " [1 1]]\n"
     ]
    }
   ],
   "source": [
    "X_train = [[-0.15, 0.75], [-0.75, 0.75], [0.25, 0.20], [1.55, -0.55], [0.40, -0.30], [0.55, 1], [2.0, 0.60], [0.85, 0.0]]\n",
    "y_train = [0, 0, 1, 1, 1, 0, 1, 0]\n",
    "\n",
    "X_test = [[-0.9, 0.6], [1, 0.2], [0.0, 0.0], [1.7, -0.30]]\n",
    "y_test = [0, 0, 1, 1]\n",
    "\n",
    "print(\"Training set\")\n",
    "print(X_train, y_train)\n",
    "\n",
    "print(\"Test set\")\n",
    "print(X_test, y_test)\n",
    "# 1. KNN Classifier (k=3)\n",
    "knn = KNeighborsClassifier(n_neighbors=3)\n",
    "knn.fit(X_train, y_train)\n",
    "y_pred_knn = knn.predict(X_test)\n",
    "cm_knn = confusion_matrix(y_test, y_pred_knn)\n",
    "\n",
    "# 2. Linear Discriminant Analysis\n",
    "lda = LDA()\n",
    "lda.fit(X_train, y_train)\n",
    "y_pred_lda = lda.predict(X_test)\n",
    "cm_lda = confusion_matrix(y_test, y_pred_lda)\n",
    "\n",
    "# 3. Logistic Regression\n",
    "log_reg = LogisticRegression()\n",
    "log_reg.fit(X_train, y_train)\n",
    "y_pred_log = log_reg.predict(X_test)\n",
    "cm_log = confusion_matrix(y_test, y_pred_log)\n",
    "\n",
    "# Print results\n",
    "print(\"Confusion Matrix - KNN (k=3):\\n\", cm_knn)\n",
    "print(\"Confusion Matrix - LDA:\\n\", cm_lda)\n",
    "print(\"Confusion Matrix - Logistic Regression:\\n\", cm_log)"
   ]
  },
  {
   "cell_type": "code",
   "execution_count": 2,
   "metadata": {},
   "outputs": [
    {
     "name": "stderr",
     "output_type": "stream",
     "text": [
      "/home/linar/.local/lib/python3.10/site-packages/matplotlib/projections/__init__.py:63: UserWarning: Unable to import Axes3D. This may be due to multiple versions of Matplotlib being installed (e.g. as a system package and as a pip package). As a result, the 3D projection is not available.\n",
      "  warnings.warn(\"Unable to import Axes3D. This may be due to multiple versions of \"\n"
     ]
    },
    {
     "data": {
      "image/png": "[encoded data removed]",
      "text/plain": [
       "<Figure size 576x432 with 1 Axes>"
      ]
     },
     "metadata": {
      "needs_background": "light"
     },
     "output_type": "display_data"
    }
   ],
   "source": [
    "import matplotlib.pyplot as plt\n",
    "import numpy as np\n",
    "\n",
    "# Datos de entrenamiento y prueba\n",
    "X_train = [[0.2, 1], [-0.8, 0.8],  [0.9, 0.0], [0.3, 0.20], [1.5, -0.5], [2.0, 0.6]]\n",
    "y_train = [0, 0, 0, 1, 1, 1]\n",
    "\n",
    "X_test = [[0.5, 0.6], [-1, 0.4], [0.0, 0.0], [1.7, 0.30]]\n",
    "y_test = [0, 0, 1, 1]\n",
    "\n",
    "# Convertir los datos a numpy arrays para facilidad\n",
    "X_train = np.array(X_train)\n",
    "X_test = np.array(X_test)\n",
    "\n",
    "# Crear el gráfico\n",
    "plt.figure(figsize=(8, 6))\n",
    "\n",
    "# Graficar los puntos de entrenamiento\n",
    "plt.scatter(X_train[:, 0], X_train[:, 1], c=y_train, cmap=plt.cm.coolwarm, label=\"Train\", marker='o', s=100)\n",
    "\n",
    "# Graficar los puntos de prueba\n",
    "plt.scatter(X_test[:, 0], X_test[:, 1], c=y_test, cmap=plt.cm.coolwarm, label=\"Test\", marker='x', s=100)\n",
    "\n",
    "# Agregar etiquetas y título\n",
    "plt.title(\"Conjunto de datos\")\n",
    "plt.xlabel(\"Feature 1\")\n",
    "plt.ylabel(\"Feature 2\")\n",
    "plt.legend()\n",
    "\n",
    "# Mostrar el gráfico\n",
    "plt.grid(True)\n",
    "plt.show()\n"
   ]
  },
  {
   "cell_type": "markdown",
   "metadata": {},
   "source": [
    "# LDA"
   ]
  },
  {
   "cell_type": "code",
   "execution_count": 10,
   "metadata": {},
   "outputs": [
    {
     "name": "stdout",
     "output_type": "stream",
     "text": [
      "mu_0 [0.1 0.6]\n",
      "mu_1 [1.26666667 0.1       ]\n",
      "S_0 [[ 0.73 -0.31]\n",
      " [-0.31  0.28]]\n",
      "S_1 [[0.76333333 0.065     ]\n",
      " [0.065      0.31      ]]\n",
      "S_total [[ 0.74666667 -0.1225    ]\n",
      " [-0.1225      0.295     ]]\n",
      "Inv S total [[1.43719868 0.59680284]\n",
      " [0.59680284 3.63765542]]\n",
      "w [ 1.37833037 -1.12255773]\n",
      "Matriz de confusión:\n",
      " [[1 1]\n",
      " [0 2]]\n"
     ]
    }
   ],
   "source": [
    "import numpy as np\n",
    "from sklearn.metrics import confusion_matrix\n",
    "\n",
    "# Conjunto de entrenamiento\n",
    "Xtrain = np.array(X_train)\n",
    "ytrain = np.array(y_train)\n",
    "\n",
    "# Conjunto de prueba\n",
    "Xtest = np.array(X_test)\n",
    "ytest = np.array(y_test)\n",
    "\n",
    "# Paso 1: Calcular medias de cada clase\n",
    "mu_0 = Xtrain[ytrain == 0].mean(axis=0)\n",
    "mu_1 = Xtrain[ytrain == 1].mean(axis=0)\n",
    "print(\"mu_0\", mu_0)\n",
    "print(\"mu_1\", mu_1)\n",
    "\n",
    "# Paso 2: Calcular matrices de covarianza para cada clase\n",
    "S_0 = np.cov(Xtrain[ytrain == 0].T)\n",
    "S_1 = np.cov(Xtrain[ytrain == 1].T)\n",
    "print(\"S_0\", S_0)\n",
    "print(\"S_1\", S_1)\n",
    "\n",
    "# Paso 3: Calcular la matriz de covarianza total\n",
    "S_total = (S_0 * (ytrain == 0).sum() + S_1 * (ytrain == 1).sum()) / len(ytrain)\n",
    "print(\"S_total\", S_total)\n",
    "print(\"Inv S total\", np.linalg.inv(S_total))\n",
    "\n",
    "# Paso 4: Calcular el vector discriminante\n",
    "w = np.linalg.inv(S_total).dot(mu_1 - mu_0)\n",
    "print(\"w\", w)\n",
    "\n",
    "# Paso 5: Clasificar los puntos de prueba\n",
    "def lda_predict(X, w, mu_0, mu_1):\n",
    "    # Calcular la función discriminante\n",
    "    g = np.dot(X, w)\n",
    "    return np.where(g >= 0, 1, 0)\n",
    "\n",
    "# Predecir las clases para Xtest\n",
    "y_pred = lda_predict(Xtest, w, mu_0, mu_1)\n",
    "\n",
    "# Paso 6: Calcular la matriz de confusión\n",
    "conf_matrix = confusion_matrix(ytest, y_pred)\n",
    "\n",
    "print(\"Matriz de confusión:\\n\", conf_matrix)\n"
   ]
  },
  {
   "cell_type": "code",
   "execution_count": 12,
   "metadata": {},
   "outputs": [],
   "source": [
    "from sklearn.discriminant_analysis import LinearDiscriminantAnalysis as LDA\n",
    "lda = LDA()\n",
    "lda.fit(Xtrain, ytrain)\n",
    "y_pred_lda = lda.predict(Xtest)\n",
    "cm_lda = confusion_matrix(ytest, y_pred_lda)"
   ]
  },
  {
   "cell_type": "code",
   "execution_count": 14,
   "metadata": {},
   "outputs": [
    {
     "data": {
      "text/plain": [
       "array([0, 0, 0, 1])"
      ]
     },
     "execution_count": 14,
     "metadata": {},
     "output_type": "execute_result"
    }
   ],
   "source": [
    "y_pred_lda"
   ]
  },
  {
   "cell_type": "markdown",
   "metadata": {},
   "source": [
    "# Reg Logistica"
   ]
  },
  {
   "cell_type": "code",
   "execution_count": 55,
   "metadata": {},
   "outputs": [
    {
     "name": "stdout",
     "output_type": "stream",
     "text": [
      "Iteración 1 - Costo: 0.7943756597868161, w: [ 0.99960053 -0.00224769], b: 0.996985730163274\n",
      "Iteración 2 - Costo: 0.7929520701163641, w: [ 0.99920211 -0.0044924 ], b: 0.9939772784325276\n",
      "Iteración 3 - Costo: 0.7915334031546021, w: [ 0.99880474 -0.00673411], b: 0.9909746460067086\n",
      "Matriz de Confusión:\n",
      "[[0 2]\n",
      " [0 2]]\n"
     ]
    }
   ],
   "source": [
    "import numpy as np\n",
    "\n",
    "# Datos de entrenamiento\n",
    "X_train = np.array([[-0.15, 0.75], [-0.75, 0.75], [0.25, 0.20], [1.55, -0.55],\n",
    "                    [0.40, -0.30], [0.55, 1.00], [2.00, 0.60], [0.85, 0.00]])\n",
    "\n",
    "y_train = np.array([0, 0, 1, 1, 1, 0, 1, 0])\n",
    "\n",
    "# Datos de test\n",
    "X_test = np.array([[-0.9, 0.6], [1.0, 0.2], [0.0, 0.0], [1.7, -0.30]])\n",
    "y_test = np.array([0, 0, 1, 1])\n",
    "\n",
    "# Inicialización de los parámetros\n",
    "w = np.array([1.0, 0.0])  # pesos\n",
    "b = 1.0  # sesgo\n",
    "\n",
    "# Tasa de aprendizaje\n",
    "alpha = 0.01\n",
    "\n",
    "# Número de iteraciones\n",
    "iterations = 3\n",
    "\n",
    "# Función sigmoide\n",
    "def sigmoid(z):\n",
    "    return 1 / (1 + np.exp(-z))\n",
    "\n",
    "# Función de costo (log loss)\n",
    "def compute_cost(X, y, w, b):\n",
    "    m = len(y)\n",
    "    predictions = sigmoid(np.dot(X, w) + b)\n",
    "    cost = -1/m * np.sum(y * np.log(predictions) + (1 - y) * np.log(1 - predictions))\n",
    "    return cost\n",
    "\n",
    "# Función para calcular los gradientes\n",
    "def compute_gradients(X, y, w, b):\n",
    "    m = len(y)\n",
    "    predictions = sigmoid(np.dot(X, w) + b)\n",
    "    \n",
    "    dw = (1/m) * np.dot(X.T, (predictions - y))\n",
    "    db = (1/m) * np.sum(predictions - y)\n",
    "    \n",
    "    return dw, db\n",
    "\n",
    "# Entrenamiento con gradiente descendente\n",
    "costs = []\n",
    "for i in range(iterations):\n",
    "    # Calcular los gradientes\n",
    "    dw, db = compute_gradients(X_train, y_train, w, b)\n",
    "    \n",
    "    # Actualizar los parámetros\n",
    "    w -= alpha * dw\n",
    "    b -= alpha * db\n",
    "    \n",
    "    # Calcular y almacenar el costo para seguimiento\n",
    "    cost = compute_cost(X_train, y_train, w, b)\n",
    "    costs.append(cost)\n",
    "    \n",
    "    print(f\"Iteración {i+1} - Costo: {cost}, w: {w}, b: {b}\")\n",
    "\n",
    "# Predicciones en el conjunto de test\n",
    "def predict(X, w, b):\n",
    "    return sigmoid(np.dot(X, w) + b) >= 0.5\n",
    "\n",
    "y_pred = predict(X_test, w, b)\n",
    "\n",
    "# Matriz de confusión\n",
    "from sklearn.metrics import confusion_matrix\n",
    "cm = confusion_matrix(y_test, y_pred)\n",
    "\n",
    "print(\"Matriz de Confusión:\")\n",
    "print(cm)"
   ]
  }
 ],
 "metadata": {
  "kernelspec": {
   "display_name": "Python 3",
   "language": "python",
   "name": "python3"
  },
  "language_info": {
   "codemirror_mode": {
    "name": "ipython",
    "version": 3
   },
   "file_extension": ".py",
   "mimetype": "text/x-python",
   "name": "python",
   "nbconvert_exporter": "python",
   "pygments_lexer": "ipython3",
   "version": "3.10.12"
  }
 },
 "nbformat": 4,
 "nbformat_minor": 2
}
