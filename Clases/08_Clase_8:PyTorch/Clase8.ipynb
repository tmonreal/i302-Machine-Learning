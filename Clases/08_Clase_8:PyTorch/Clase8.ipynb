{
 "cells": [
  {
   "cell_type": "code",
   "execution_count": 1,
   "metadata": {},
   "outputs": [],
   "source": [
    "%load_ext autoreload\n",
    "%autoreload 2"
   ]
  },
  {
   "cell_type": "markdown",
   "metadata": {},
   "source": [
    "# Clase Tutorial 8: Introducción a  <img src=\"/home/linar/Desktop/ML/Clases/i302/Clases/08_Clase_8:PyTorch/images/pytorch.svg\" alt=\"image\" style=\"max-width: 3%; height: auto;\"> PyTorch "
   ]
  },
  {
   "cell_type": "markdown",
   "metadata": {},
   "source": [
    "## ¿Qué es PyTorch? \n",
    "\n",
    "PyTorch es una biblioteca de código abierto para el aprendizaje automático desarrollada por Facebook AI Research que permite crear redes neuronales de manera sencilla y flexible. Esta herramienta se puede utilizar tanto en CPUs como en GPUs, lo que facilita el desarrollo y la implementación de modelos de aprendizaje profundo.\n",
    "\n",
    "## ¿Por qué elegir PyTorch?\n",
    "\n",
    "A pesar de que existen otros frameworks como TensorFlow, PyTorch se ha convertido en una opción preferida para muchos investigadores y desarrolladores. A continuación, se presentan algunas de las razones por las cuales se elige PyTorch:\n",
    "\n",
    "1. ⭐ **Facilidad de uso**: \n",
    "   - La creación de redes neuronales en PyTorch es más \"Pythonic\", lo que significa que se asemeja más a la forma en que escribimos código en Python. Esto hace que sea más accesible para quienes están familiarizados con este lenguaje.\n",
    "   - La API de PyTorch es intuitiva, lo que facilita la comprensión y el uso de sus funciones.\n",
    "\n",
    "2. ⭐ **Mejor capacidad de depuración**: \n",
    "   - PyTorch utiliza un grafo computacional dinámico, lo que permite realizar cambios sobre la marcha. Esto contrasta con TensorFlow, que utiliza un grafo estático. Esta flexibilidad, junto con la sintaxis más natural de PyTorch, hace que la depuración sea más sencilla y eficiente.\n",
    "\n",
    "3. ⭐ **Popularidad creciente**: \n",
    "   - En los últimos años, PyTorch ha ganado mucha popularidad en la comunidad de aprendizaje automático. Es el framework predominante en muchos artículos de investigación y en bibliotecas como Hugging Face, lo que indica su amplia aceptación y uso en el campo.\n"
   ]
  },
  {
   "cell_type": "markdown",
   "metadata": {},
   "source": [
    "Para instalar la última versión de PyTorch, ver el [este instructivo](https://pytorch.org/get-started/locally/)."
   ]
  },
  {
   "cell_type": "markdown",
   "metadata": {},
   "source": [
    "## [PyTorch Tensors](https://pytorch.org/docs/stable/tensors.html)"
   ]
  },
  {
   "cell_type": "markdown",
   "metadata": {},
   "source": [
    "- Los tensores son una estructura de datos especializada, muy similar a los arrays y matrices. \n",
    "- En PyTorch, usamos tensores para <span style=\"color: purple;\">codificar las entradas y salidas de un modelo, así como los parámetros del mismo</span>.\n",
    "- Los tensores son parecidos a los ndarrays de NumPy, pero con la ventaja de que <span style=\"color: purple;\">pueden ejecutarse en GPUs</span> u otro hardware especializado para acelerar los cálculos. "
   ]
  },
  {
   "cell_type": "code",
   "execution_count": 2,
   "metadata": {},
   "outputs": [],
   "source": [
    "import torch\n",
    "import numpy as np"
   ]
  },
  {
   "cell_type": "markdown",
   "metadata": {},
   "source": [
    "### Inicialización de Tensors\n",
    "\n",
    "Los tensores se pueden inicializar de varias maneras. Por ejemplo:"
   ]
  },
  {
   "cell_type": "markdown",
   "metadata": {},
   "source": [
    "**<span style=\"color: purple;\">Directamente desde datos**\n",
    "\n",
    "Los tensores se pueden crear directamente a partir de datos. El tipo de dato se infiere automáticamente."
   ]
  },
  {
   "cell_type": "code",
   "execution_count": 3,
   "metadata": {},
   "outputs": [],
   "source": [
    "data = [[1, 2], [3, 4]]\n",
    "x_data = torch.tensor(data)"
   ]
  },
  {
   "cell_type": "markdown",
   "metadata": {},
   "source": [
    "**<span style=\"color: purple;\">Desde un array de NumPy**\n",
    "\n",
    "Los tensores se pueden crear a partir de arrays de NumPy (y viceversa, mirá el puente con NumPy)."
   ]
  },
  {
   "cell_type": "code",
   "execution_count": 4,
   "metadata": {},
   "outputs": [],
   "source": [
    "np_array = np.array(data)\n",
    "x_np = torch.from_numpy(np_array)"
   ]
  },
  {
   "cell_type": "markdown",
   "metadata": {},
   "source": [
    "**<span style=\"color: purple;\">Desde otro Tensor**\n",
    "\n",
    "El nuevo Tensor mantiene las propiedades (forma, tipo de dato) del Tensor original, a menos que se sobrescriban explícitamente."
   ]
  },
  {
   "cell_type": "code",
   "execution_count": 7,
   "metadata": {},
   "outputs": [
    {
     "data": {
      "text/plain": [
       "tensor([[1, 2],\n",
       "        [3, 4]])"
      ]
     },
     "execution_count": 7,
     "metadata": {},
     "output_type": "execute_result"
    }
   ],
   "source": [
    "x_data"
   ]
  },
  {
   "cell_type": "code",
   "execution_count": 6,
   "metadata": {},
   "outputs": [
    {
     "name": "stdout",
     "output_type": "stream",
     "text": [
      "Ones Tensor: \n",
      " tensor([[1, 1],\n",
      "        [1, 1]]) \n",
      "\n",
      "Random Tensor: \n",
      " tensor([[0.6097, 0.3627],\n",
      "        [0.8635, 0.9036]]) \n",
      "\n"
     ]
    }
   ],
   "source": [
    "x_ones = torch.ones_like(x_data) # retains the properties of x_data\n",
    "print(f\"Ones Tensor: \\n {x_ones} \\n\")\n",
    "\n",
    "x_rand = torch.rand_like(x_data, dtype=torch.float) # overrides the datatype of x_data\n",
    "print(f\"Random Tensor: \\n {x_rand} \\n\")"
   ]
  },
  {
   "cell_type": "markdown",
   "metadata": {},
   "source": [
    "**<span style=\"color: purple;\">Con valores aleatorios o constantes**\n",
    "\n",
    "Aleatorios con `rand`, constantes a partir de `ones` o `zeros`."
   ]
  },
  {
   "cell_type": "code",
   "execution_count": 8,
   "metadata": {},
   "outputs": [
    {
     "name": "stdout",
     "output_type": "stream",
     "text": [
      "Random Tensor: \n",
      " tensor([[0.6924, 0.4423, 0.8135],\n",
      "        [0.6098, 0.1991, 0.1090]]) \n",
      "\n",
      "Ones Tensor: \n",
      " tensor([[1., 1., 1.],\n",
      "        [1., 1., 1.]]) \n",
      "\n",
      "Zeros Tensor: \n",
      " tensor([[0., 0., 0.],\n",
      "        [0., 0., 0.]])\n"
     ]
    }
   ],
   "source": [
    "shape = (2, 3,)\n",
    "rand_tensor = torch.rand(shape)\n",
    "ones_tensor = torch.ones(shape)\n",
    "zeros_tensor = torch.zeros(shape)\n",
    "\n",
    "print(f\"Random Tensor: \\n {rand_tensor} \\n\")\n",
    "print(f\"Ones Tensor: \\n {ones_tensor} \\n\")\n",
    "print(f\"Zeros Tensor: \\n {zeros_tensor}\")"
   ]
  },
  {
   "cell_type": "markdown",
   "metadata": {},
   "source": [
    "### Atributos del Tensor\n",
    "\n",
    "Los atributos del tensor describen su forma, tipo de dato y el dispositivo en el que están almacenados."
   ]
  },
  {
   "cell_type": "code",
   "execution_count": 9,
   "metadata": {},
   "outputs": [
    {
     "name": "stdout",
     "output_type": "stream",
     "text": [
      "Shape of tensor: torch.Size([3, 4])\n",
      "Datatype of tensor: torch.float32\n",
      "Device tensor is stored on: cpu\n"
     ]
    }
   ],
   "source": [
    "tensor = torch.rand(3, 4)\n",
    "\n",
    "print(f\"Shape of tensor: {tensor.shape}\")\n",
    "print(f\"Datatype of tensor: {tensor.dtype}\")\n",
    "print(f\"Device tensor is stored on: {tensor.device}\")"
   ]
  },
  {
   "cell_type": "markdown",
   "metadata": {},
   "source": [
    "### Operaciones con Tensores\n",
    "\n",
    "- Existen [más de 100 operaciones](https://pytorch.org/docs/stable/torch.html) con tensores.\n",
    "- Incluyen transposición, indexación, slicing, operaciones matemáticas, álgebra lineal, muestreo aleatorio y más.\n",
    "- Cada una de estas operaciones <span style=\"color: purple;\">se puede ejecutar en la GPU</span> (generalmente a velocidades más altas que en una CPU). \n",
    "    - Si usas Google Colab, asigná una GPU yendo a Edición > Configuración del cuaderno."
   ]
  },
  {
   "cell_type": "code",
   "execution_count": 10,
   "metadata": {},
   "outputs": [],
   "source": [
    "# We move our tensor to the GPU if available\n",
    "if torch.cuda.is_available():\n",
    "  tensor = tensor.to('cuda')\n",
    "  print(f\"Device tensor is stored on: {tensor.device}\")"
   ]
  },
  {
   "cell_type": "markdown",
   "metadata": {},
   "source": [
    "**<span style=\"color: purple;\">Indexación y slicing al estilo de NumPy**"
   ]
  },
  {
   "cell_type": "code",
   "execution_count": 11,
   "metadata": {},
   "outputs": [
    {
     "name": "stdout",
     "output_type": "stream",
     "text": [
      "tensor([[1., 0., 1., 1.],\n",
      "        [1., 0., 1., 1.],\n",
      "        [1., 0., 1., 1.],\n",
      "        [1., 0., 1., 1.]])\n"
     ]
    }
   ],
   "source": [
    "tensor = torch.ones(4, 4)\n",
    "tensor[:,1] = 0\n",
    "print(tensor)"
   ]
  },
  {
   "cell_type": "markdown",
   "metadata": {},
   "source": [
    "**<span style=\"color: purple;\">Uniendo tensores**\n",
    "\n",
    "- Podemos usar `torch.cat` para concatenar una secuencia de tensores a lo largo de una dimensión dada. \n",
    "- Esto significa que los tensores se apilan uno al lado del otro en la misma dimensión, manteniendo las demás dimensiones igual."
   ]
  },
  {
   "cell_type": "code",
   "execution_count": 12,
   "metadata": {},
   "outputs": [
    {
     "name": "stdout",
     "output_type": "stream",
     "text": [
      "tensor([[1., 0., 1., 1., 1., 0., 1., 1., 1., 0., 1., 1.],\n",
      "        [1., 0., 1., 1., 1., 0., 1., 1., 1., 0., 1., 1.],\n",
      "        [1., 0., 1., 1., 1., 0., 1., 1., 1., 0., 1., 1.],\n",
      "        [1., 0., 1., 1., 1., 0., 1., 1., 1., 0., 1., 1.]])\n"
     ]
    }
   ],
   "source": [
    "t1 = torch.cat([tensor, tensor, tensor], dim=1)\n",
    "print(t1)"
   ]
  },
  {
   "cell_type": "markdown",
   "metadata": {},
   "source": [
    "- También podemos usar `torch.stack`, otra operación para unir tensores que es sutilmente diferente: apila los tensores a lo largo de una nueva dimensión. \n",
    "- Esto crea un nuevo tensor en el que los tensores originales se organizan en una nueva dimensión, aumentando así la cantidad de dimensiones del tensor resultante."
   ]
  },
  {
   "cell_type": "code",
   "execution_count": 13,
   "metadata": {},
   "outputs": [
    {
     "name": "stdout",
     "output_type": "stream",
     "text": [
      "tensor([[[1., 0., 1., 1.],\n",
      "         [1., 0., 1., 1.],\n",
      "         [1., 0., 1., 1.]],\n",
      "\n",
      "        [[1., 0., 1., 1.],\n",
      "         [1., 0., 1., 1.],\n",
      "         [1., 0., 1., 1.]],\n",
      "\n",
      "        [[1., 0., 1., 1.],\n",
      "         [1., 0., 1., 1.],\n",
      "         [1., 0., 1., 1.]],\n",
      "\n",
      "        [[1., 0., 1., 1.],\n",
      "         [1., 0., 1., 1.],\n",
      "         [1., 0., 1., 1.]]])\n"
     ]
    }
   ],
   "source": [
    "t1 = torch.stack([tensor, tensor, tensor], dim=1)\n",
    "print(t1)"
   ]
  },
  {
   "cell_type": "markdown",
   "metadata": {},
   "source": [
    "**<span style=\"color: purple;\">Multiplicando tensores**\n",
    "\n",
    "Multiplicación elemento a elemento:"
   ]
  },
  {
   "cell_type": "code",
   "execution_count": 14,
   "metadata": {},
   "outputs": [
    {
     "name": "stdout",
     "output_type": "stream",
     "text": [
      "tensor.mul(tensor) \n",
      " tensor([[1., 0., 1., 1.],\n",
      "        [1., 0., 1., 1.],\n",
      "        [1., 0., 1., 1.],\n",
      "        [1., 0., 1., 1.]]) \n",
      "\n",
      "tensor * tensor \n",
      " tensor([[1., 0., 1., 1.],\n",
      "        [1., 0., 1., 1.],\n",
      "        [1., 0., 1., 1.],\n",
      "        [1., 0., 1., 1.]])\n"
     ]
    }
   ],
   "source": [
    "# This computes the element-wise product\n",
    "print(f\"tensor.mul(tensor) \\n {tensor.mul(tensor)} \\n\")\n",
    "# Alternative syntax:\n",
    "print(f\"tensor * tensor \\n {tensor * tensor}\")"
   ]
  },
  {
   "cell_type": "markdown",
   "metadata": {},
   "source": [
    "Multiplicación matricial entre dos tensores:"
   ]
  },
  {
   "cell_type": "code",
   "execution_count": 16,
   "metadata": {},
   "outputs": [
    {
     "name": "stdout",
     "output_type": "stream",
     "text": [
      "tensor.matmul(tensor) \n",
      " tensor([[3., 0., 3., 3.],\n",
      "        [3., 0., 3., 3.],\n",
      "        [3., 0., 3., 3.],\n",
      "        [3., 0., 3., 3.]]) \n",
      "\n",
      "tensor @ tensor \n",
      " tensor([[3., 0., 3., 3.],\n",
      "        [3., 0., 3., 3.],\n",
      "        [3., 0., 3., 3.],\n",
      "        [3., 0., 3., 3.]])\n"
     ]
    }
   ],
   "source": [
    "print(f\"tensor.matmul(tensor) \\n {tensor.matmul(tensor)} \\n\")\n",
    "# Alternative syntax:\n",
    "print(f\"tensor @ tensor \\n {tensor @ tensor}\")"
   ]
  },
  {
   "cell_type": "markdown",
   "metadata": {},
   "source": [
    "**<span style=\"color: purple;\">Operaciones in-place**\n",
    "\n",
    "Las operaciones que tienen un sufijo _ son in-place. \n",
    "\n",
    "- Esto quiere decir que <span style=\"color: purple;\">modifica directamente el contenido del objeto o tensor en el que se está aplicando</span>, en lugar de crear una copia nueva con el resultado de la operación.\n",
    "- Por ejemplo: `x.copy_(y)` o `x.t_()` cambiarán el valor de x.\n",
    "- Las operaciones in-place ahorran algo de memoria, pero pueden ser problemáticas al calcular derivadas debido a la pérdida inmediata de historial. Por eso, su uso no se recomienda."
   ]
  },
  {
   "cell_type": "code",
   "execution_count": 19,
   "metadata": {},
   "outputs": [
    {
     "name": "stdout",
     "output_type": "stream",
     "text": [
      "tensor([[6., 5., 6., 6.],\n",
      "        [6., 5., 6., 6.],\n",
      "        [6., 5., 6., 6.],\n",
      "        [6., 5., 6., 6.]]) \n",
      "\n",
      "tensor([[11., 10., 11., 11.],\n",
      "        [11., 10., 11., 11.],\n",
      "        [11., 10., 11., 11.],\n",
      "        [11., 10., 11., 11.]])\n"
     ]
    }
   ],
   "source": [
    "print(tensor, \"\\n\")\n",
    "tensor.add_(5)\n",
    "print(tensor)"
   ]
  },
  {
   "cell_type": "markdown",
   "metadata": {},
   "source": [
    "### Relación con NumPy\n",
    "\n",
    "- Los Tensores en la CPU y los arrays de NumPy pueden compartir sus ubicaciones de memoria subyacentes, y cambiar uno afectará al otro."
   ]
  },
  {
   "cell_type": "markdown",
   "metadata": {},
   "source": [
    "**<span style=\"color: purple;\">Tensor a NumPy Array**"
   ]
  },
  {
   "cell_type": "code",
   "execution_count": 20,
   "metadata": {},
   "outputs": [
    {
     "name": "stdout",
     "output_type": "stream",
     "text": [
      "Torch: tensor([1., 1., 1., 1., 1.])\n",
      "Numpy: [1. 1. 1. 1. 1.]\n"
     ]
    }
   ],
   "source": [
    "t = torch.ones(5)\n",
    "print(f\"Torch: {t}\")\n",
    "n = t.numpy()\n",
    "print(f\"Numpy: {n}\")"
   ]
  },
  {
   "cell_type": "markdown",
   "metadata": {},
   "source": [
    "➡️ Veamos como un cambio en el Tensor se refleja en el array de NumPy:"
   ]
  },
  {
   "cell_type": "code",
   "execution_count": 21,
   "metadata": {},
   "outputs": [
    {
     "name": "stdout",
     "output_type": "stream",
     "text": [
      "Torch: tensor([2., 2., 2., 2., 2.])\n",
      "Numpy: [2. 2. 2. 2. 2.]\n"
     ]
    }
   ],
   "source": [
    "t.add_(1)\n",
    "print(f\"Torch: {t}\")\n",
    "print(f\"Numpy: {n}\")"
   ]
  },
  {
   "cell_type": "markdown",
   "metadata": {},
   "source": [
    "**<span style=\"color: purple;\">NumPy Array a Tensor**"
   ]
  },
  {
   "cell_type": "code",
   "execution_count": 22,
   "metadata": {},
   "outputs": [
    {
     "name": "stdout",
     "output_type": "stream",
     "text": [
      "Torch: tensor([1., 1., 1., 1., 1.], dtype=torch.float64)\n",
      "Numpy: [1. 1. 1. 1. 1.]\n"
     ]
    }
   ],
   "source": [
    "n = np.ones(5)\n",
    "t = torch.from_numpy(n)\n",
    "print(f\"Torch: {t}\")\n",
    "print(f\"Numpy: {n}\")"
   ]
  },
  {
   "cell_type": "markdown",
   "metadata": {},
   "source": [
    "➡️ Los cambios en el array de NumPy se reflejan en el Tensor:"
   ]
  },
  {
   "cell_type": "code",
   "execution_count": 23,
   "metadata": {},
   "outputs": [
    {
     "name": "stdout",
     "output_type": "stream",
     "text": [
      "Torch: tensor([2., 2., 2., 2., 2.], dtype=torch.float64)\n",
      "Numpy: [2. 2. 2. 2. 2.]\n"
     ]
    }
   ],
   "source": [
    "np.add(n, 1, out=n)\n",
    "print(f\"Torch: {t}\")\n",
    "print(f\"Numpy: {n}\")"
   ]
  },
  {
   "cell_type": "markdown",
   "metadata": {},
   "source": [
    "## [Datasets y DataLoaders](https://pytorch.org/docs/stable/data.html#torch.utils.data.Dataset)"
   ]
  },
  {
   "cell_type": "markdown",
   "metadata": {},
   "source": [
    "- El código para procesar nuestras muestras de datos puede volverse desordenado y difícil de mantener rápidamente.\n",
    "- Idealmente, queremos que nuestro código sobre el conjunto de datos esté desacoplado del código de entrenamiento del modelo para mejorar la legibilidad y la modularidad.\n",
    "- PyTorch proporciona dos primitivas de datos: `torch.utils.data.DataLoader` y `torch.utils.data.Dataset` que permiten usar datasets pre-cargados o propios.\n",
    "    - `Dataset`: almacena las muestras y sus etiquetas correspondientes.\n",
    "    - `DataLoader`: envuelve un iterable alrededor del `Dataset` para facilitar el acceso a las muestras. Es fundamental para:\n",
    "        - <span style=\"color: purple;\">Manejar conjuntos de datos grandes</span> (no siempre se pueden cargar en memoria de una, este permite cargar los datos de manera paulatina en batches)\n",
    "        - <span style=\"color: purple;\">Cargar datos</span> de forma eficiente <span style=\"color: purple;\">en minibatches</span> (automatiza este proceso de crear y gestionar los minibatches).\n",
    "        - Asegurar que los <span style=\"color: purple;\">datos se procesen en paralelo</span> para optimizar el tiempo de entrenamiento (cargar datos puede ser un bottleneck si el proceso de carga es lento).\n",
    "        - Aplicar <span style=\"color: purple;\">transformaciones automáticamente</span> (como normalización, recorte de imágenes, etc.) a medida que se cargan los datos.\n",
    "        - <span style=\"color: purple;\">Facilitar el uso de GPUs</span> (transferiere los datos desde la CPU a la GPU).\n",
    "- Las bibliotecas en PyTorch ofrecen datasets integrados de alta calidad que podés usar en `Dataset`. Estos están disponibles actualmente en:\n",
    "    - [torchvision](https://pytorch.org/vision/stable/index.html)\n",
    "    - [torchaudio](https://pytorch.org/audio/stable/index.html)\n",
    "    - [torchtext](https://pytorch.org/text/stable/index.html)\n",
    "        - [Tutorial](https://pytorch.org/tutorials/recipes/recipes/loading_data_recipe.html) de como cargar la data."
   ]
  },
  {
   "cell_type": "markdown",
   "metadata": {},
   "source": [
    "### Cargando un Dataset\n",
    "\n",
    "Ejemplo: Cargar el dataset [Fashion-MNIST](https://github.com/zalandoresearch/fashion-mnist) desde TorchVision. \n",
    "\n",
    "<img src=\"/home/linar/Desktop/ML/Clases/i302/Clases/08_Clase_8:PyTorch/images/fashion-mnist-sprite.png\" alt=\"image\" style=\"display: block; margin: 0 auto; max-width: 50%; height: auto;\">\n",
    "\n",
    "\n",
    "- Fashion-MNIST es un conjunto de datos de imágenes de artículos de Zalando que consta de 60,000 ejemplos de entrenamiento y 10,000 ejemplos de prueba. \n",
    "- Cada ejemplo incluye una <span style=\"color: purple;\">imagen en escala de grises de 28×28</span> y una etiqueta asociada de una de <span style=\"color: blue;\">10 clases</span>.\n",
    "\n",
    "Cargamos el conjunto de datos FashionMNIST con los siguientes parámetros:\n",
    "- `root` es la ruta donde se almacenan los datos de entrenamiento/prueba.\n",
    "- `train` especifica si es un conjunto de datos de entrenamiento o de prueba.\n",
    "- `download=True` descarga los datos de internet si no están disponibles en `root`.\n",
    "- `transform` y `target_transform` especifican las transformaciones de características y etiquetas."
   ]
  },
  {
   "cell_type": "code",
   "execution_count": 24,
   "metadata": {},
   "outputs": [],
   "source": [
    "from torch.utils.data import Dataset\n",
    "from torchvision import datasets\n",
    "from torchvision.transforms import ToTensor\n",
    "import matplotlib.pyplot as plt\n",
    "\n",
    "training_data = datasets.FashionMNIST(\n",
    "    root=\"data\",\n",
    "    train=True,\n",
    "    download=True,\n",
    "    transform=ToTensor()\n",
    ")\n",
    "\n",
    "test_data = datasets.FashionMNIST(\n",
    "    root=\"data\",\n",
    "    train=False,\n",
    "    download=True,\n",
    "    transform=ToTensor()\n",
    ")"
   ]
  },
  {
   "cell_type": "markdown",
   "metadata": {},
   "source": [
    "### Iterando y Visualizando el Dataset\n",
    "\n",
    "- Podemos indexar manualmente los Datasets como si fueran una lista: `training_data[index]`. \n",
    "- Usamos matplotlib para visualizar algunas muestras de nuestros datos de entrenamiento."
   ]
  },
  {
   "cell_type": "code",
   "execution_count": 25,
   "metadata": {},
   "outputs": [
    {
     "data": {
      "image/png": "[encoded data removed]",
      "text/plain": [
       "<Figure size 720x720 with 25 Axes>"
      ]
     },
     "metadata": {
      "needs_background": "light"
     },
     "output_type": "display_data"
    }
   ],
   "source": [
    "labels_map = {\n",
    "    0: \"T-Shirt\",\n",
    "    1: \"Trouser\",\n",
    "    2: \"Pullover\",\n",
    "    3: \"Dress\",\n",
    "    4: \"Coat\",\n",
    "    5: \"Sandal\",\n",
    "    6: \"Shirt\",\n",
    "    7: \"Sneaker\",\n",
    "    8: \"Bag\",\n",
    "    9: \"Ankle Boot\",\n",
    "}\n",
    "\n",
    "figure = plt.figure(figsize=(10, 10))\n",
    "cols, rows = 5, 5\n",
    "for i in range(1, cols * rows + 1):\n",
    "    sample_idx = torch.randint(len(training_data), size=(1,)).item()\n",
    "    img, label = training_data[sample_idx]\n",
    "    figure.add_subplot(rows, cols, i)\n",
    "    plt.title(labels_map[label])\n",
    "    plt.axis(\"off\")\n",
    "    plt.imshow(img.squeeze(), cmap=\"gray\")\n",
    "plt.show()"
   ]
  },
  {
   "cell_type": "markdown",
   "metadata": {},
   "source": [
    "### Creando un Dataset Personalizado para tus archivos\n",
    "\n",
    "- Una clase de Dataset personalizada debe implementar tres funciones: `__init__`, `__len__` y `__getitem__`. \n",
    "- En la siguiente implementación, las imágenes de FashionMNIST se almacenan en un directorio `img_dir`, y sus etiquetas se guardan por separado en un archivo CSV `annotations_file`."
   ]
  },
  {
   "cell_type": "code",
   "execution_count": 26,
   "metadata": {},
   "outputs": [],
   "source": [
    "import os\n",
    "import pandas as pd\n",
    "from torchvision.io import read_image\n",
    "\n",
    "class CustomImageDataset(Dataset):\n",
    "    def __init__(self, annotations_file, img_dir, transform=None, target_transform=None):\n",
    "        self.img_labels = pd.read_csv(annotations_file)\n",
    "        self.img_dir = img_dir\n",
    "        self.transform = transform\n",
    "        self.target_transform = target_transform\n",
    "\n",
    "    def __len__(self):\n",
    "        return len(self.img_labels)\n",
    "\n",
    "    def __getitem__(self, idx):\n",
    "        img_path = os.path.join(self.img_dir, self.img_labels.iloc[idx, 0])\n",
    "        image = read_image(img_path)\n",
    "        label = self.img_labels.iloc[idx, 1]\n",
    "        if self.transform:\n",
    "            image = self.transform(image)\n",
    "        if self.target_transform:\n",
    "            label = self.target_transform(label)\n",
    "        return image, label"
   ]
  },
  {
   "cell_type": "markdown",
   "metadata": {},
   "source": [
    "Desglosemos qué ocurre en cada una de las funciones:"
   ]
  },
  {
   "cell_type": "markdown",
   "metadata": {},
   "source": [
    "1. `__init__`\n",
    "\n",
    "- Se ejecuta una vez cuando se instancia el objeto `Dataset`. \n",
    "- Inicializamos el directorio que contiene las imágenes, el archivo de labels y las transformaciones que pueden tener.\n",
    "\n",
    "    El archivo `labels.csv` se ve así:\n",
    "\n",
    "    >tshirt1.jpg, 0\n",
    "    >\n",
    "    >tshirt2.jpg, 0\n",
    "    >\n",
    "    >......\n",
    "    >\n",
    "    >ankleboot999.jpg, 9"
   ]
  },
  {
   "cell_type": "code",
   "execution_count": 27,
   "metadata": {},
   "outputs": [],
   "source": [
    "def __init__(self, annotations_file, img_dir, transform=None, target_transform=None):\n",
    "    self.img_labels = pd.read_csv(annotations_file)\n",
    "    self.img_dir = img_dir\n",
    "    self.transform = transform\n",
    "    self.target_transform = target_transform"
   ]
  },
  {
   "cell_type": "markdown",
   "metadata": {},
   "source": [
    "2. `__len__`\n",
    "- Devuelve la cantidad de muestras en nuestro conjunto de datos. Ejemplo:"
   ]
  },
  {
   "cell_type": "code",
   "execution_count": 28,
   "metadata": {},
   "outputs": [],
   "source": [
    "def __len__(self):\n",
    "    return len(self.img_labels)"
   ]
  },
  {
   "cell_type": "markdown",
   "metadata": {},
   "source": [
    "3. `__getitem__`\n",
    "\n",
    "- Carga y devuelve una muestra del dataset en el índice dado `idx`. \n",
    "- Basándose en el índice:\n",
    "    1. Identifica la ubicación de la imagen en el disco\n",
    "    2. La convierte en un tensor usando `read_image`\n",
    "    3. Recupera la etiqueta correspondiente del archivo CSV en `self.img_labels`\n",
    "    4. Aplica las funciones de transformación (si corresponde) \n",
    "    5. Devuelve la imagen en formato Tensor y la etiqueta correspondiente en una tupla.\n",
    "\n"
   ]
  },
  {
   "cell_type": "code",
   "execution_count": 29,
   "metadata": {},
   "outputs": [],
   "source": [
    "def __getitem__(self, idx):\n",
    "    img_path = os.path.join(self.img_dir, self.img_labels.iloc[idx, 0])\n",
    "    image = read_image(img_path)\n",
    "    label = self.img_labels.iloc[idx, 1]\n",
    "    if self.transform:\n",
    "        image = self.transform(image)\n",
    "    if self.target_transform:\n",
    "        label = self.target_transform(label)\n",
    "    return image, label"
   ]
  },
  {
   "cell_type": "markdown",
   "metadata": {},
   "source": [
    "### Preparando los datos para el entrenamiento con DataLoaders\n",
    "\n",
    "- El Dataset recupera las features y labels de nuestro dataset de a una muestra. \n",
    "- Durante el entrenamiento de un modelo, generalmente queremos pasar muestras en “minibatches”, reshuffle los datos en cada época para reducir el overfitting del modelo, y usar multiprocesamiento en Python para acelerar la recuperación de datos.\n",
    "- `DataLoader` es un iterable que abstrae esta complejidad y nos proporciona una API sencilla."
   ]
  },
  {
   "cell_type": "code",
   "execution_count": 30,
   "metadata": {},
   "outputs": [],
   "source": [
    "from torch.utils.data import DataLoader\n",
    "\n",
    "train_dataloader = DataLoader(training_data, batch_size=64, shuffle=True)\n",
    "test_dataloader = DataLoader(test_data, batch_size=64, shuffle=True)"
   ]
  },
  {
   "cell_type": "markdown",
   "metadata": {},
   "source": [
    "### Iterar a través del DataLoader\n",
    "\n",
    "- Ya cargamos el dataset en el `DataLoader` y podemos iterar sobre el dataset según sea necesario. \n",
    "- Cada iteración a continuación devuelve un batch de `train_features` y `train_labels` (que contienen `batch_size=64` features y labels respectivamente). \n",
    "- Como especificamos `shuffle=True`, después de iterar sobre todos los lotes, los datos se mezclan. \n",
    "- Para un control más detallado sobre el orden de carga de los datos, ver [Samplers](https://pytorch.org/docs/stable/data.html#data-loading-order-and-sampler)."
   ]
  },
  {
   "cell_type": "code",
   "execution_count": 36,
   "metadata": {},
   "outputs": [
    {
     "name": "stdout",
     "output_type": "stream",
     "text": [
      "Feature batch shape: torch.Size([64, 1, 28, 28])\n",
      "Labels batch shape: torch.Size([64])\n"
     ]
    },
    {
     "data": {
      "image/png": "[encoded data removed]",
      "text/plain": [
       "<Figure size 432x288 with 1 Axes>"
      ]
     },
     "metadata": {
      "needs_background": "light"
     },
     "output_type": "display_data"
    },
    {
     "name": "stdout",
     "output_type": "stream",
     "text": [
      "Label: Trouser\n"
     ]
    }
   ],
   "source": [
    "# Display image and label\n",
    "train_features, train_labels = next(iter(train_dataloader)) # Obtiene un batch del dataloader para el entrenamiento\n",
    "print(f\"Feature batch shape: {train_features.size()}\")\n",
    "print(f\"Labels batch shape: {train_labels.size()}\")\n",
    "img = train_features[0].squeeze()\n",
    "label = train_labels[0]\n",
    "plt.imshow(img, cmap=\"gray\")\n",
    "plt.show()\n",
    "print(f\"Label: {labels_map[label.item()]}\")"
   ]
  },
  {
   "cell_type": "markdown",
   "metadata": {},
   "source": [
    "La dimensión del batch `torch.Size([64, 1, 28, 28])`, se puede desglosar de la siguiente manera:\n",
    "\n",
    "- **64**: Es el tamaño del batch, lo que significa que en este caso estamos procesando 64 imágenes a la vez.\n",
    "- **1**: Representa la cantidad de canales. En este caso, las imágenes son en escala de grises (1 canal). Si fueran a color, el valor sería 3 para los canales RGB.\n",
    "- **28**: Es la altura de cada imagen.\n",
    "- **28**: Es el ancho de cada imagen."
   ]
  },
  {
   "cell_type": "markdown",
   "metadata": {},
   "source": [
    "## Transformaciones\n",
    "\n",
    "- Los datos no siempre vienen en su forma final procesada que se requiere para entrenar algoritmos de machine learning. \n",
    "- Usamos transformaciones para realizar algunas manipulaciones de los datos y hacerlos adecuados para el entrenamiento.\n",
    "- Todos los datasets de TorchVision tienen dos parámetros: \n",
    "    - `transform` para modificar las características. \n",
    "    - `target_transform` para modificar las etiquetas.\n",
    "\n",
    "- El módulo [torchvision.transforms](https://pytorch.org/vision/0.9/transforms.html) ofrece varias transformaciones comunes listas para usar.\n",
    "\n",
    "- Las features de FashionMNIST están en formato de imagen PIL, y las etiquetas son números enteros. \n",
    "    - Para el entrenamiento, necesitamos que las <span style=\"color: purple;\">features sean tensores normalizados</span> y las <span style=\"color: purple;\">etiquetas sean tensores codificados en one-hot</span>. \n",
    "    - Para realizar estas transformaciones, usamos `ToTensor` y `Lambda`."
   ]
  },
  {
   "cell_type": "code",
   "execution_count": 37,
   "metadata": {},
   "outputs": [],
   "source": [
    "from torchvision.transforms import ToTensor, Lambda\n",
    "\n",
    "ds = datasets.FashionMNIST(\n",
    "    root=\"data\",\n",
    "    train=True,\n",
    "    download=True,\n",
    "    transform=ToTensor(),\n",
    "    target_transform=Lambda(lambda y: torch.zeros(10, dtype=torch.float).scatter_(0, torch.tensor(y), value=1))\n",
    ")"
   ]
  },
  {
   "cell_type": "markdown",
   "metadata": {},
   "source": [
    "### ToTensor()\n",
    "\n",
    "- `ToTensor()` convierte una imagen en formato PIL o un arreglo NumPy (`ndarray`) en un `FloatTensor`.\n",
    "- Además, escala los valores de intensidad de los píxeles de la imagen al rango [0, 1], donde los píxeles originalmente tienen valores entre 0 y 255. \n",
    "- Es útil para normalizar las imágenes antes de entrenar modelos de ML."
   ]
  },
  {
   "cell_type": "markdown",
   "metadata": {},
   "source": [
    "### Lambda Transforms\n",
    "\n",
    "- Las transformaciones `Lambda` aplican cualquier función definida por el usuario mediante una función lambda. \n",
    "- Ejemplo: definimos una función para <span style=\"color: purple;\">convertir un entero en un tensor codificado en one-hot</span>. \n",
    "\n",
    "    1. Crea un tensor de ceros de tamaño 10 (la cantidad de etiquetas en nuestro conjunto de datos) \n",
    "    2. Llama a `scatter_`, que asigna el valor `1` en el índice correspondiente a la etiqueta `y`."
   ]
  },
  {
   "cell_type": "code",
   "execution_count": 38,
   "metadata": {},
   "outputs": [],
   "source": [
    "target_transform = Lambda(lambda y: torch.zeros(10, dtype=torch.float).scatter_(dim=0, \n",
    "                                                                                index=torch.tensor(y), value=1))"
   ]
  },
  {
   "cell_type": "markdown",
   "metadata": {},
   "source": [
    "## Construcción de la Red Neuronal\n",
    "\n",
    "- Las redes neuronales están compuestas por capas/módulos que realizan operaciones sobre los datos. \n",
    "- [torch.nn](https://pytorch.org/docs/stable/nn.html) proporciona todos los bloques de construcción necesarios para armar nuestra propia red neuronal. \n",
    "- Cada módulo en PyTorch es una subclase de [nn.Module](https://pytorch.org/docs/stable/generated/torch.nn.Module.html). \n",
    "- <span style=\"color: purple;\">Una red neuronal es un módulo en sí mismo que consiste en otros módulos (las capas)</span>. \n",
    "- Esta estructura anidada permite construir y gestionar arquitecturas complejas de manera sencilla.\n",
    "\n",
    "A continuación vamos a construir una red neuronal para clasificar imágenes del dataset FashionMNIST."
   ]
  },
  {
   "cell_type": "markdown",
   "metadata": {},
   "source": [
    "### Dispositivo para Entrenamiento\n",
    "\n",
    "Si queremos entrenar nuestro modelo en un acelerador de hardware como la GPU (Graphics Processor Unit) o MPS (Metal Performance Shaders) tenemos que verificar si [torch.cuda](https://pytorch.org/docs/stable/notes/cuda.html) o [torch.backends.mps](https://pytorch.org/docs/stable/notes/mps.html) están disponibles. Si no lo están, usamos la CPU."
   ]
  },
  {
   "cell_type": "code",
   "execution_count": 39,
   "metadata": {},
   "outputs": [
    {
     "name": "stdout",
     "output_type": "stream",
     "text": [
      "Using cpu device\n"
     ]
    }
   ],
   "source": [
    "device = (\n",
    "    \"cuda\"\n",
    "    if torch.cuda.is_available()\n",
    "    else \"mps\"\n",
    "    if torch.backends.mps.is_available()\n",
    "    else \"cpu\"\n",
    ")\n",
    "print(f\"Using {device} device\")"
   ]
  },
  {
   "cell_type": "markdown",
   "metadata": {},
   "source": [
    "### Definición de la Clase\n",
    "\n",
    "- Definimos nuestra red neuronal subclasando `nn.Module`\n",
    "- Inicializamos las capas de la red neuronal en `__init__`. \n",
    "- Cada subclase de `nn.Module` implementa las operaciones sobre los datos de entrada en el método `forward`."
   ]
  },
  {
   "cell_type": "code",
   "execution_count": 40,
   "metadata": {},
   "outputs": [],
   "source": [
    "from torch import nn\n",
    "\n",
    "class NeuralNetwork(nn.Module):\n",
    "    def __init__(self):\n",
    "        super().__init__()\n",
    "        self.flatten = nn.Flatten()\n",
    "        self.linear_relu_stack = nn.Sequential(\n",
    "            nn.Linear(28*28, 512),\n",
    "            nn.ReLU(),\n",
    "            nn.Linear(512, 512),\n",
    "            nn.ReLU(),\n",
    "            nn.Linear(512, 10),\n",
    "        )\n",
    "\n",
    "    def forward(self, x):\n",
    "        x = self.flatten(x)\n",
    "        logits = self.linear_relu_stack(x)\n",
    "        return logits"
   ]
  },
  {
   "cell_type": "markdown",
   "metadata": {},
   "source": [
    "Creamos una instancia de `NeuralNetwork`, la movemos al dispositivo correspondiente (GPU o CPU), y mostramos su estructura con un `print`."
   ]
  },
  {
   "cell_type": "code",
   "execution_count": 41,
   "metadata": {},
   "outputs": [
    {
     "name": "stdout",
     "output_type": "stream",
     "text": [
      "NeuralNetwork(\n",
      "  (flatten): Flatten(start_dim=1, end_dim=-1)\n",
      "  (linear_relu_stack): Sequential(\n",
      "    (0): Linear(in_features=784, out_features=512, bias=True)\n",
      "    (1): ReLU()\n",
      "    (2): Linear(in_features=512, out_features=512, bias=True)\n",
      "    (3): ReLU()\n",
      "    (4): Linear(in_features=512, out_features=10, bias=True)\n",
      "  )\n",
      ")\n"
     ]
    }
   ],
   "source": [
    "model = NeuralNetwork().to(device)\n",
    "print(model)"
   ]
  },
  {
   "cell_type": "markdown",
   "metadata": {},
   "source": [
    "- Para usar el modelo, le tenemos que pasar los datos de entrada. \n",
    "- Esto va a ejecutar el método `forward` del modelo, junto con [algunas operaciones](https://github.com/pytorch/pytorch/blob/270111b7b611d174967ed204776985cefca9c144/torch/nn/modules/module.py#L866) en segundo plano. \n",
    "    - No llamar directamente a `model.forward()`!\n",
    "        - Al hacer esto, PyTorch también maneja el seguimiento del gradiente y otras operaciones necesarias para el entrenamiento, como la actualización de los parámetros del modelo. Si llamamos a `model.forward()` directamente, podemos omitir estas funciones automáticas, lo que podría llevar a errores o un comportamiento inesperado en el modelo.\n",
    "\n",
    "- Al llamar al modelo con la entrada, obtenemos un tensor de 2 dimensiones:\n",
    "    - `dim=0`: las 10 predicciones crudas para cada clase \n",
    "    - `dim=1`: valores individuales de cada salida. \n",
    "    \n",
    "- Obtenemos las probabilidades de predicción al pasar el resultado a través de una instancia del módulo `nn.Softmax`."
   ]
  },
  {
   "cell_type": "code",
   "execution_count": 42,
   "metadata": {},
   "outputs": [
    {
     "name": "stdout",
     "output_type": "stream",
     "text": [
      "Predicted class: tensor([5])\n"
     ]
    }
   ],
   "source": [
    "X = torch.rand(1, 28, 28, device=device)\n",
    "logits = model(X)\n",
    "pred_probab = nn.Softmax(dim=1)(logits)\n",
    "y_pred = pred_probab.argmax(1)\n",
    "print(f\"Predicted class: {y_pred}\")"
   ]
  },
  {
   "cell_type": "markdown",
   "metadata": {},
   "source": [
    "### Capas del Modelo\n",
    "\n",
    "Vamos a desglosar las capas de nuestro modelo de FashionMNIST. \n",
    "\n",
    "- Para ilustrarlo, vamos a tomar un minibatch de 3 imágenes de tamaño 28x28.\n",
    "- Veamos qué sucede al pasarlas a través de la red."
   ]
  },
  {
   "cell_type": "code",
   "execution_count": 43,
   "metadata": {},
   "outputs": [
    {
     "name": "stdout",
     "output_type": "stream",
     "text": [
      "torch.Size([3, 28, 28])\n"
     ]
    }
   ],
   "source": [
    "input_image = torch.rand(3, 28, 28)\n",
    "print(input_image.size())"
   ]
  },
  {
   "cell_type": "markdown",
   "metadata": {},
   "source": [
    "#### [nn.Flatten](https://pytorch.org/docs/stable/generated/torch.nn.Flatten.html)\n",
    "\n",
    "- Inicializamos la capa `nn.Flatten` para convertir cada imagen 2D de 28x28 en un array contiguo de 784 valores de píxeles (se mantiene la dimensión del minibatch en `dim=0`). \n",
    "- Esto permite que la red neuronal procese las imágenes en forma de un vector unidimensional, lo que es necesario para las capas densas que seguirán.\n",
    "\n",
    "<img src=\"/home/linar/Desktop/ML/Clases/i302/Clases/08_Clase_8:PyTorch/images/flatten.png\" alt=\"image\" style=\"display: block; margin: 0 auto; max-width: 50%; height: auto;\">"
   ]
  },
  {
   "cell_type": "code",
   "execution_count": 44,
   "metadata": {},
   "outputs": [
    {
     "name": "stdout",
     "output_type": "stream",
     "text": [
      "torch.Size([3, 784])\n"
     ]
    }
   ],
   "source": [
    "flatten = nn.Flatten()\n",
    "flat_image = flatten(input_image)\n",
    "print(flat_image.size())"
   ]
  },
  {
   "cell_type": "markdown",
   "metadata": {},
   "source": [
    "#### [nn.Linear](https://pytorch.org/docs/stable/generated/torch.nn.Linear.html)\n",
    "\n",
    "- La capa lineal es un módulo que aplica una transformación lineal a la entrada utilizando sus pesos y biases almacenados. \n",
    "\n",
    "$$ y = xW^T+b$$\n",
    "\n",
    "- Toma el vector de entrada (en este caso, el vector de 784 elementos) y lo multiplica por una matriz de pesos, además de sumar un vector de sesgos, produciendo una salida que puede ser pasada a la siguiente capa en la red neuronal. "
   ]
  },
  {
   "cell_type": "code",
   "execution_count": 45,
   "metadata": {},
   "outputs": [
    {
     "name": "stdout",
     "output_type": "stream",
     "text": [
      "torch.Size([3, 20])\n"
     ]
    }
   ],
   "source": [
    "layer1 = nn.Linear(in_features=28*28, out_features=20)\n",
    "hidden1 = layer1(flat_image)\n",
    "print(hidden1.size())"
   ]
  },
  {
   "cell_type": "markdown",
   "metadata": {},
   "source": [
    "#### [nn.ReLU](https://pytorch.org/docs/stable/generated/torch.nn.ReLU.html)\n",
    "\n",
    "- Las activaciones no lineales son las que crean los mapeos complejos entre las entradas y salidas del modelo. \n",
    "- Se aplican después de las transformaciones lineales para introducir no linealidad, lo que ayuda a las redes neuronales a aprender una amplia variedad de fenómenos.\n",
    "- En este modelo, usamos `nn.ReLU` entre nuestras capas lineales, pero hay otras funciones de activación que también puedes usar para introducir no linealidad en tu modelo. "
   ]
  },
  {
   "cell_type": "code",
   "execution_count": 46,
   "metadata": {},
   "outputs": [
    {
     "name": "stdout",
     "output_type": "stream",
     "text": [
      "Before ReLU: tensor([[ 0.2845,  0.1034, -0.5583, -0.1069,  0.4049, -0.2398, -0.4524,  0.8569,\n",
      "         -0.0812, -0.4609, -0.2580,  0.3751,  0.2451, -0.0269, -0.5808,  0.1744,\n",
      "          0.2599, -0.2401,  0.1462, -0.3654],\n",
      "        [ 0.2873,  0.0985, -0.3930, -0.3281,  0.6824, -0.0267, -0.4630,  1.1176,\n",
      "         -0.0239, -0.4469, -0.1497, -0.0877,  0.1032, -0.3392, -0.5915, -0.0302,\n",
      "          0.6828, -0.3431,  0.2226, -0.1506],\n",
      "        [-0.0958,  0.2676, -0.5039, -0.3104,  0.5448, -0.2476, -0.2706,  1.0370,\n",
      "          0.5220, -0.1157, -0.1697,  0.2328,  0.3858, -0.2588, -0.5347,  0.1744,\n",
      "          0.3991, -0.1479,  0.3341, -0.2112]], grad_fn=<AddmmBackward0>)\n",
      "\n",
      "\n",
      "After ReLU: tensor([[0.2845, 0.1034, 0.0000, 0.0000, 0.4049, 0.0000, 0.0000, 0.8569, 0.0000,\n",
      "         0.0000, 0.0000, 0.3751, 0.2451, 0.0000, 0.0000, 0.1744, 0.2599, 0.0000,\n",
      "         0.1462, 0.0000],\n",
      "        [0.2873, 0.0985, 0.0000, 0.0000, 0.6824, 0.0000, 0.0000, 1.1176, 0.0000,\n",
      "         0.0000, 0.0000, 0.0000, 0.1032, 0.0000, 0.0000, 0.0000, 0.6828, 0.0000,\n",
      "         0.2226, 0.0000],\n",
      "        [0.0000, 0.2676, 0.0000, 0.0000, 0.5448, 0.0000, 0.0000, 1.0370, 0.5220,\n",
      "         0.0000, 0.0000, 0.2328, 0.3858, 0.0000, 0.0000, 0.1744, 0.3991, 0.0000,\n",
      "         0.3341, 0.0000]], grad_fn=<ReluBackward0>)\n"
     ]
    }
   ],
   "source": [
    "print(f\"Before ReLU: {hidden1}\\n\\n\")\n",
    "hidden1 = nn.ReLU()(hidden1)\n",
    "print(f\"After ReLU: {hidden1}\")"
   ]
  },
  {
   "cell_type": "markdown",
   "metadata": {},
   "source": [
    "#### [nn.Sequential](https://pytorch.org/docs/stable/generated/torch.nn.Sequential.html)\n",
    "\n",
    "- Es un contenedor ordenado de módulos. \n",
    "- Los datos se pasan a través de todos los módulos en el mismo orden en que están definidos. \n",
    "- Simplifica la creación de redes neuronales al permitirte apilar capas de manera sencilla y clara, sin tener que definir manualmente el flujo de datos en el método `forward`. \n",
    "- Es útil para modelos más simples donde el flujo es lineal."
   ]
  },
  {
   "cell_type": "code",
   "execution_count": 47,
   "metadata": {},
   "outputs": [],
   "source": [
    "seq_modules = nn.Sequential(\n",
    "    flatten,\n",
    "    layer1,\n",
    "    nn.ReLU(),\n",
    "    nn.Linear(20, 10)\n",
    ")\n",
    "input_image = torch.rand(3,28,28)\n",
    "logits = seq_modules(input_image)"
   ]
  },
  {
   "cell_type": "markdown",
   "metadata": {},
   "source": [
    "#### [nn.Softmax](https://pytorch.org/docs/stable/generated/torch.nn.Softmax.html)\n",
    "\n",
    "- La última capa lineal de la red neuronal devuelve logits.\n",
    "    - Logits: valores crudos en el rango $[-\\infty, \\infty]$. \n",
    "- Estos logits se pasan al módulo `nn.Softmax`. \n",
    "    - La función `Softmax` escala los logits a valores en el rango $[0, 1]$, representando las probabilidades predichas por el modelo para cada clase.\n",
    "\n",
    "<img src=\"/home/linar/Desktop/ML/Clases/i302/Clases/08_Clase_8:PyTorch/images/logits.jpg\" alt=\"image\" style=\"display: block; margin: 0 auto; max-width: 50%; height: auto;\">\n",
    "\n",
    "El parámetro `dim` indica la dimensión a lo largo de la cual los valores deben sumar 1, asegurando que las probabilidades de todas las clases en la salida se normalicen correctamente. Esto es crucial para tareas de clasificación, ya que permite interpretar las salidas del modelo como probabilidades."
   ]
  },
  {
   "cell_type": "code",
   "execution_count": 48,
   "metadata": {},
   "outputs": [],
   "source": [
    "softmax = nn.Softmax(dim=1)\n",
    "pred_probab = softmax(logits)"
   ]
  },
  {
   "cell_type": "code",
   "execution_count": 49,
   "metadata": {},
   "outputs": [
    {
     "name": "stdout",
     "output_type": "stream",
     "text": [
      "Example for image 1:\n",
      "\n",
      "Logits:\n",
      " tensor([ 0.0594, -0.1111,  0.1342, -0.0597,  0.1592,  0.1398,  0.0771, -0.1018,\n",
      "        -0.1260, -0.0096], grad_fn=<SelectBackward0>)\n",
      "Probabilities:\n",
      " tensor([0.1038, 0.0876, 0.1119, 0.0922, 0.1147, 0.1125, 0.1057, 0.0884, 0.0863,\n",
      "        0.0969], grad_fn=<SelectBackward0>)\n",
      "\n",
      "Sum of probabilities (after Softmax): 0\n",
      "Class predicted: 4\n"
     ]
    }
   ],
   "source": [
    "print(\"Example for image 1:\\n\")\n",
    "print(f\"Logits:\\n {logits[0]}\")\n",
    "print(f\"Probabilities:\\n {pred_probab[0]}\\n\")\n",
    "print(f\"Sum of probabilities (after Softmax): {int(pred_probab[0].sum())}\")\n",
    "print(f\"Class predicted: {pred_probab[0].argmax()}\")"
   ]
  },
  {
   "cell_type": "markdown",
   "metadata": {},
   "source": [
    "### Parámetros del Modelo\n",
    "\n",
    "- Como sabemos, muchas capas dentro de una red neuronal son paramétricas (tienen pesos y sesgos asociados que se optimizan durante el entrenamiento). \n",
    "- Al subclasear `nn.Module`, se rastrean automáticamente todos los campos definidos dentro del objeto de modelo, y <span style=\"color: purple;\">todos los parámetros son accesibles</span> mediante los métodos `parameters()` o `named_parameters()` de tu modelo.\n",
    "\n",
    "- En este ejemplo, iteramos sobre cada parámetro y mostramos su tamaño y una vista previa de sus valores.\n",
    "- Esto es útil para entender la estructura del modelo y verificar que los parámetros se están inicializando correctamente antes del entrenamiento."
   ]
  },
  {
   "cell_type": "code",
   "execution_count": 50,
   "metadata": {},
   "outputs": [
    {
     "name": "stdout",
     "output_type": "stream",
     "text": [
      "Model structure: NeuralNetwork(\n",
      "  (flatten): Flatten(start_dim=1, end_dim=-1)\n",
      "  (linear_relu_stack): Sequential(\n",
      "    (0): Linear(in_features=784, out_features=512, bias=True)\n",
      "    (1): ReLU()\n",
      "    (2): Linear(in_features=512, out_features=512, bias=True)\n",
      "    (3): ReLU()\n",
      "    (4): Linear(in_features=512, out_features=10, bias=True)\n",
      "  )\n",
      ")\n",
      "\n",
      "\n",
      "Layer: linear_relu_stack.0.weight | Size: torch.Size([512, 784]) | Values : tensor([[-0.0011, -0.0268, -0.0200,  ..., -0.0181, -0.0349,  0.0021],\n",
      "        [ 0.0151,  0.0306,  0.0271,  ..., -0.0125, -0.0217,  0.0228]],\n",
      "       grad_fn=<SliceBackward0>) \n",
      "\n",
      "Layer: linear_relu_stack.0.bias | Size: torch.Size([512]) | Values : tensor([ 0.0324, -0.0330], grad_fn=<SliceBackward0>) \n",
      "\n",
      "Layer: linear_relu_stack.2.weight | Size: torch.Size([512, 512]) | Values : tensor([[-0.0131,  0.0176, -0.0162,  ..., -0.0242, -0.0087, -0.0419],\n",
      "        [ 0.0337,  0.0382, -0.0267,  ..., -0.0251,  0.0366,  0.0076]],\n",
      "       grad_fn=<SliceBackward0>) \n",
      "\n",
      "Layer: linear_relu_stack.2.bias | Size: torch.Size([512]) | Values : tensor([-0.0217,  0.0123], grad_fn=<SliceBackward0>) \n",
      "\n",
      "Layer: linear_relu_stack.4.weight | Size: torch.Size([10, 512]) | Values : tensor([[-0.0030,  0.0163, -0.0259,  ..., -0.0066,  0.0008, -0.0441],\n",
      "        [-0.0185,  0.0350, -0.0021,  ...,  0.0060,  0.0050, -0.0097]],\n",
      "       grad_fn=<SliceBackward0>) \n",
      "\n",
      "Layer: linear_relu_stack.4.bias | Size: torch.Size([10]) | Values : tensor([0.0095, 0.0394], grad_fn=<SliceBackward0>) \n",
      "\n"
     ]
    }
   ],
   "source": [
    "print(f\"Model structure: {model}\\n\\n\")\n",
    "\n",
    "for name, param in model.named_parameters():\n",
    "    print(f\"Layer: {name} | Size: {param.size()} | Values : {param[:2]} \\n\")"
   ]
  },
  {
   "cell_type": "markdown",
   "metadata": {},
   "source": [
    "En la capa Flatten:\n",
    "- `start_dim=1`: Comienza a aplanar desde la dimensión 1 (es decir, ignora la dimensión 0, que generalmente corresponde al tamaño del batch).\n",
    "- `end_dim=-1`: Aplana hasta la última dimensión del tensor. El valor -1 se refiere a la última dimensión automáticamente, sin importar cuántas dimensiones tenga el tensor."
   ]
  },
  {
   "cell_type": "markdown",
   "metadata": {},
   "source": [
    "## Diferenciación Automática con `torch.autograd`\n",
    "\n",
    "- Al entrenar redes neuronales, el algoritmo más utilizado es la retropropagación. \n",
    "- En este algoritmo, se ajustan los parámetros (pesos del modelo) de acuerdo con el gradiente de la función de pérdida con respecto al parámetro dado.\n",
    "- Para calcular esos gradientes, PyTorch tiene un motor de diferenciación incorporado llamado `torch.autograd`. Este motor <span style=\"color: purple;\">soporta el cálculo automático del gradiente para cualquier grafo computacional</span> .\n",
    "\n",
    "Consideremos la red neuronal más simple, que tiene una sola capa con entrada $x$, parámetros $w$ y $b$, y una función de pérdida. Esto se puede definir en PyTorch de la siguiente manera:"
   ]
  },
  {
   "cell_type": "code",
   "execution_count": 51,
   "metadata": {},
   "outputs": [],
   "source": [
    "x = torch.ones(5)  # input tensor\n",
    "y = torch.zeros(3)  # expected output\n",
    "w = torch.randn(5, 3, requires_grad=True)\n",
    "b = torch.randn(3, requires_grad=True)\n",
    "z = torch.matmul(x, w)+b\n",
    "loss = torch.nn.functional.binary_cross_entropy_with_logits(z, y)"
   ]
  },
  {
   "cell_type": "markdown",
   "metadata": {},
   "source": [
    "### Tensores, Funciones y Grafo Computacional\n",
    "\n",
    "Este código define el siguiente grafo computacional:\n",
    "\n",
    "<img src=\"/home/linar/Desktop/ML/Clases/i302/Clases/08_Clase_8:PyTorch/images/comp-graph.png\" alt=\"image\" style=\"display: block; margin: 0 auto; max-width: 50%; height: auto;\">\n",
    "\n",
    "- En esta red, $w$ y $b$ son parámetros que necesitamos optimizar. \n",
    "- Por lo tanto, debemos poder calcular los gradientes de la función de pérdida con respecto a esas variables. \n",
    "- Para hacer esto, establecemos la propiedad `requires_grad` de esos tensores.\n",
    "    - Al configurar `requires_grad=True`, indicamos a PyTorch que queremos calcular y almacenar los gradientes de estos tensores durante el proceso de backpropagation. \n",
    "    - Esto es esencial para actualizar los parámetros del modelo utilizando algoritmos de optimización como el descenso de gradiente. \n",
    "    - Así, cada vez que realicemos una operación con estos tensores, PyTorch construirá el grafo computacional necesario para calcular los gradientes automáticamente.\n",
    "- **NOTA**: Podés establecer el valor de `requires_grad` al crear un tensor, o hacerlo más tarde usando el método `x.requires_grad_(True)`."
   ]
  },
  {
   "cell_type": "markdown",
   "metadata": {},
   "source": [
    "- Una función que aplicamos a tensores para construir el grafo computacional es, de hecho, un objeto de la clase `Function`. \n",
    "- Este objeto sabe cómo calcular la función en la dirección hacia adelante y también cómo calcular su derivada durante el paso de retropropagación. \n",
    "- Una referencia a la función de backpropagation se almacena en la propiedad `grad_fn` de un tensor."
   ]
  },
  {
   "cell_type": "code",
   "execution_count": 52,
   "metadata": {},
   "outputs": [
    {
     "name": "stdout",
     "output_type": "stream",
     "text": [
      "Gradient function for z = <AddBackward0 object at 0x7f80c9172ee0>\n",
      "Gradient function for loss = <BinaryCrossEntropyWithLogitsBackward0 object at 0x7f80c9172e80>\n"
     ]
    }
   ],
   "source": [
    "print(f\"Gradient function for z = {z.grad_fn}\")\n",
    "print(f\"Gradient function for loss = {loss.grad_fn}\")"
   ]
  },
  {
   "cell_type": "markdown",
   "metadata": {},
   "source": [
    "### Computando Gradientes  \n",
    "- Para optimizar los pesos de los parámetros en la red neuronal, necesitamos calcular las derivadas de nuestra función de pérdida con respecto a los parámetros\n",
    "    - Es decir, necesitamos $\\frac{\\partial \\text{Loss}}{\\partial w}$ y $\\frac{\\partial \\text{Loss}}{\\partial b}$ bajo algunos valores fijos de $x$ e $y$. \n",
    "- Para calcular esas derivadas, llamamos a `loss.backward()`, y luego recuperamos los valores de `w.grad` y `b.grad`:"
   ]
  },
  {
   "cell_type": "code",
   "execution_count": 53,
   "metadata": {},
   "outputs": [
    {
     "name": "stdout",
     "output_type": "stream",
     "text": [
      "tensor([[0.0042, 0.0032, 0.0116],\n",
      "        [0.0042, 0.0032, 0.0116],\n",
      "        [0.0042, 0.0032, 0.0116],\n",
      "        [0.0042, 0.0032, 0.0116],\n",
      "        [0.0042, 0.0032, 0.0116]])\n",
      "tensor([0.0042, 0.0032, 0.0116])\n"
     ]
    }
   ],
   "source": [
    "loss.backward()\n",
    "print(w.grad)\n",
    "print(b.grad)"
   ]
  },
  {
   "cell_type": "markdown",
   "metadata": {},
   "source": [
    "**NOTA**: Solo los nodos que son considerados \"hoja\" (es decir, aquellos que no tienen otros nodos como dependencias) y que tienen la propiedad `requires_grad` activada pueden proporcionar información sobre sus gradientes. Para todos los demás nodos en nuestro grafo, los gradientes no estarán disponibles.\n",
    "\n",
    "Además, cuando llamamos a `backward()` para calcular los gradientes, solo podemos hacerlo una vez por cada grafo. Si queremos calcular los gradientes varias veces en el mismo grafo, debemos usar el parámetro `retain_graph=True`, lo que permite que el grafo se mantenga en memoria para cálculos futuros. Esto es útil para evitar que se pierda la información del grafo después de una primera pasada."
   ]
  },
  {
   "cell_type": "markdown",
   "metadata": {},
   "source": [
    "### Desactivando el seguimiento de gradientes  \n",
    "\n",
    "- Por defecto, los tensores que tienen `requires_grad=True` guardan un registro de cómo se calcularon para poder hacer cálculos de gradientes. \n",
    "- Pero a veces, como cuando ya entrenamos el modelo y solo __queremos usarlo para hacer predicciones__, no necesitamos ese seguimiento. \n",
    "- Para evitarlo y hacer las cosas más rápidas, podemos usar un bloque `torch.no_grad()`, que desactiva temporalmente ese seguimiento mientras hacemos los cálculos."
   ]
  },
  {
   "cell_type": "code",
   "execution_count": 54,
   "metadata": {},
   "outputs": [
    {
     "name": "stdout",
     "output_type": "stream",
     "text": [
      "True\n",
      "False\n"
     ]
    }
   ],
   "source": [
    "z = torch.matmul(x, w) + b\n",
    "print(z.requires_grad)\n",
    "\n",
    "with torch.no_grad():\n",
    "    z = torch.matmul(x, w) + b\n",
    "print(z.requires_grad)"
   ]
  },
  {
   "cell_type": "markdown",
   "metadata": {},
   "source": [
    "Otra forma de lograr el mismo resultado es usar el método `detach()` en el tensor. "
   ]
  },
  {
   "cell_type": "code",
   "execution_count": 55,
   "metadata": {},
   "outputs": [
    {
     "name": "stdout",
     "output_type": "stream",
     "text": [
      "False\n"
     ]
    }
   ],
   "source": [
    "z = torch.matmul(x, w) + b\n",
    "z_det = z.detach()\n",
    "print(z_det.requires_grad)"
   ]
  },
  {
   "cell_type": "markdown",
   "metadata": {},
   "source": [
    "#### 🤔 ¿Por qué razones se les ocurre que podríamos querer desactivar el seguimiento de gradientes?\n",
    "\n",
    "1. **Congelar parámetros**: Si queremos marcar algunos parámetros en nuestra red neuronal como parámetros congelados (es decir, que no se actualizarán durante el entrenamiento).\n",
    "\n",
    "2. **Acelerar cálculos**: Cuando solo estamos haciendo forward propagation, las operaciones en tensores que no rastrean gradientes son más eficientes, lo que puede hacer que nuestros cálculos sean más rápidos."
   ]
  },
  {
   "cell_type": "markdown",
   "metadata": {},
   "source": [
    "### Más sobre gráficos computacionales\n",
    "\n",
    "`autograd` es una herramienta en PyTorch que nos ayuda a calcular gradientes automáticamente. Imaginemos que todos nuestros datos (tensores) y las operaciones que hacemos con ellos forman un gráfico (grafo dirigido acíclico, DAG). Este gráfico tiene dos tipos de nodos: \n",
    "\n",
    "- **Hojas**: son nuestros datos de entrada.\n",
    "- **Raíces**: son los resultados que obtenemos.\n",
    "\n",
    "Cuando hacemos cálculos, `autograd` registra todo en este grafo. Así, podemos calcular los gradientes cuando los necesitemos.\n",
    "\n",
    "**Pasos de funcionamiento:**\n",
    "\n",
    "1. **Paso hacia adelante**: Cuando calculamos algo, `autograd` realiza la operación y guarda información sobre cómo hacerlo de nuevo si es necesario.\n",
    "   \n",
    "2. **Paso hacia atrás**: Cuando llamamos a `.backward()`, `autograd`:\n",
    "   - Calcula los gradientes de todos los pasos que realizamos.\n",
    "   - Guarda esos gradientes en los tensores correspondientes.\n",
    "   - Propaga esos gradientes hacia los datos de entrada.\n",
    "\n",
    "Esto nos permite optimizar los parámetros de nuestro modelo, ajustando los pesos para mejorar su rendimiento."
   ]
  },
  {
   "cell_type": "markdown",
   "metadata": {},
   "source": [
    "## Optimizando los Parámetros del Modelo\n",
    "\n",
    "Ahora que tenemos un modelo y datos, es momento de entrenar, validar y probar nuestro modelo optimizando sus parámetros. El entrenamiento de un modelo es un proceso iterativo. En cada iteración tenemos:\n",
    "\n",
    "1. **Predicción**: El modelo hace una estimación sobre el resultado.\n",
    "2. **Cálculo de Error**: Se calcula el error de esa estimación (pérdida).\n",
    "3. **Derivadas**: Se recolectan las derivadas del error con respecto a los parámetros del modelo.\n",
    "4. **Optimización**: Se optimizan estos parámetros utilizando el descenso de gradiente.\n",
    "\n",
    "Este proceso se repite varias veces hasta que el modelo mejora y se ajusta mejor a los datos."
   ]
  },
  {
   "cell_type": "markdown",
   "metadata": {},
   "source": [
    "### Hiperparámetros\n",
    "\n",
    "- Recordemos que los hiperparámetros son parámetros ajustables que nos permiten controlar el proceso de optimización del modelo. Por ejemplo:\n",
    "\n",
    "1. **Épocas**: Cuántas veces se itera sobre el conjunto de datos.\n",
    "\n",
    "2. **Tamaño del Lote (Batch Size)**: La cantidad de muestras de datos que se propagan a través de la red antes de que se actualicen los parámetros.\n",
    "\n",
    "3. **Tasa de Aprendizaje (Learning Rate)**: Cuánto se actualizan los parámetros del modelo en cada lote/época. \n",
    "    - Valores más pequeños resultan en una velocidad de aprendizaje lenta, mientras que valores grandes pueden llevar a comportamientos impredecibles durante el entrenamiento."
   ]
  },
  {
   "cell_type": "code",
   "execution_count": 56,
   "metadata": {},
   "outputs": [],
   "source": [
    "epochs = 5\n",
    "batch_size = 64\n",
    "learning_rate = 1e-3"
   ]
  },
  {
   "cell_type": "markdown",
   "metadata": {},
   "source": [
    "### Bucle de Optimización\n",
    "\n",
    "- Una vez que establecemos nuestros hiperparámetros, podemos entrenar y optimizar nuestro modelo con un bucle de optimización.\n",
    "\n",
    "- Cada época (1 iteración del bucle) consta de dos partes principales:\n",
    "\n",
    "    1. **Bucle de Entrenamiento**: Iterar sobre el set de entrenamiento y tratar de converger hacia parámetros óptimos.\n",
    "\n",
    "    2. **Bucle de Validación/Test**: Iterar sobre el set de prueba para verificar si el rendimiento del modelo está mejorando.\n"
   ]
  },
  {
   "cell_type": "markdown",
   "metadata": {},
   "source": [
    "#### Función de Pérdida\n",
    "\n",
    "- Mide el grado de disimilitud entre el resultado obtenido y el valor objetivo. \n",
    "- Es esta función la que queremos minimizar durante el entrenamiento. \n",
    "- [Ver todas las loss functions de Pytorch](https://pytorch.org/docs/stable/nn.html#loss-functions).\n",
    "\n",
    "Para nuestra red, vamos a pasar los logits de salida de nuestro modelo a [nn.CrossEntropyLoss](https://pytorch.org/docs/stable/generated/torch.nn.CrossEntropyLoss.html#torch.nn.CrossEntropyLoss), que normaliza los logits y calcula el error de predicción.\n"
   ]
  },
  {
   "cell_type": "code",
   "execution_count": 57,
   "metadata": {},
   "outputs": [],
   "source": [
    "# Initialize the loss function\n",
    "loss_fn = nn.CrossEntropyLoss()"
   ]
  },
  {
   "cell_type": "markdown",
   "metadata": {},
   "source": [
    "#### Optimizador\n",
    "\n",
    "- Toda la lógica de optimización está encapsulada en el objeto `optimizer`. \n",
    "- En este ejemplo utilizamos el optimizador SGD.\n",
    "- Hay muchos otros [optimizadores disponibles en PyTorch](https://pytorch.org/docs/stable/optim.html), como ADAM y RMSProp, que funcionan mejor para diferentes tipos de modelos y datos.\n",
    "- Inicializamos el optimizador registrando los parámetros del modelo que deben ser entrenados y pasando el hiperparámetro de la tasa de aprendizaje."
   ]
  },
  {
   "cell_type": "code",
   "execution_count": 58,
   "metadata": {},
   "outputs": [],
   "source": [
    "optimizer = torch.optim.SGD(model.parameters(), lr=learning_rate)"
   ]
  },
  {
   "cell_type": "markdown",
   "metadata": {},
   "source": [
    "Dentro del bucle de entrenamiento, la optimización ocurre en tres pasos:\n",
    "\n",
    "1. Llamar a `optimizer.zero_grad()` para <span style=\"color: purple;\">restablecer los gradientes de los parámetros</span> del modelo. Por defecto, los gradientes se suman. Para evitar contar dos veces, los reiniciamos en cada iteración.\n",
    "\n",
    "2. <span style=\"color: purple;\">Retropropagar la pérdida de la predicción</span> con una llamada a `loss.backward()`. PyTorch guarda los gradientes de la pérdida con respecto a cada parámetro.\n",
    "\n",
    "3. Una vez que tenemos nuestros gradientes, llamamos a `optimizer.step()` para <span style=\"color: purple;\">ajustar los parámetros</span> según los gradientes recogidos en la retropropagación."
   ]
  },
  {
   "cell_type": "markdown",
   "metadata": {},
   "source": [
    "#### Implementación Completa\n",
    "\n",
    "Definimos el `train_loop` que itera sobre nuestro código de optimización, y el `test_loop` que evalúa el rendimiento del modelo con respecto a nuestros datos de prueba."
   ]
  },
  {
   "cell_type": "code",
   "execution_count": 59,
   "metadata": {},
   "outputs": [],
   "source": [
    "def train_loop(dataloader, model, loss_fn, optimizer):\n",
    "    size = len(dataloader.dataset)  # Obtener el tamaño del conjunto de datos\n",
    "    # Configura el modelo en modo de entrenamiento: importante para batch normalization y dropout\n",
    "    # Aunque no es necesario en esta situación, se incluye por buenas prácticas\n",
    "    model.train()\n",
    "    for batch, (X, y) in enumerate(dataloader):\n",
    "        pred = model(X) # Realiza la predicción usando el modelo\n",
    "        loss = loss_fn(pred, y)  # Calcula la pérdida comparando la predicción con las etiquetas verdaderas\n",
    "\n",
    "        # Retropropagación\n",
    "        loss.backward()  # Calcula los gradientes de la pérdida con respecto a los parámetros del modelo\n",
    "        optimizer.step()  # Actualiza los parámetros del modelo usando los gradientes\n",
    "        optimizer.zero_grad()  # Reinicia los gradientes para la siguiente iteración\n",
    "\n",
    "        # Imprimir cada 100 lotes\n",
    "        if batch % 100 == 0:\n",
    "            loss, current = loss.item(), batch * batch_size + len(X)  # Obtener la pérdida y la posición actual\n",
    "            print(f\"loss: {loss:>7f}  [{current:>5d}/{size:>5d}]\")  # Imprimir la pérdida y el progreso\n",
    "\n",
    "def test_loop(dataloader, model, loss_fn):\n",
    "    # Configura el modelo en modo de evaluación: importante para batch normalization y dropout\n",
    "    # Aunque no es necesario en esta situación, se incluye por buenas prácticas\n",
    "    model.eval()\n",
    "    size = len(dataloader.dataset)  # Obtener el tamaño del conjunto de datos\n",
    "    num_batches = len(dataloader)  # Obtener el número de lotes\n",
    "    test_loss, correct = 0, 0  # Inicializar la pérdida de prueba y el contador de aciertos\n",
    "\n",
    "    # Evaluar el modelo sin calcular gradientes para reducir el uso de memoria\n",
    "    # Esto asegura que no se calculen gradientes durante el modo de prueba\n",
    "    with torch.no_grad():\n",
    "        for X, y in dataloader:\n",
    "            pred = model(X)  # Realiza la predicción usando el modelo\n",
    "            test_loss += loss_fn(pred, y).item()  # Sumar la pérdida de prueba\n",
    "            correct += (pred.argmax(1) == y).type(torch.float).sum().item()  # Contar aciertos comparando predicciones con etiquetas verdaderas\n",
    "\n",
    "    test_loss /= num_batches  # Calcular la pérdida promedio de prueba\n",
    "    correct /= size  # Calcular la precisión\n",
    "    print(f\"Test Error: \\n Accuracy: {(100*correct):>0.1f}%, Avg loss: {test_loss:>8f} \\n\")  # Imprimir precisión y pérdida promedio"
   ]
  },
  {
   "cell_type": "markdown",
   "metadata": {},
   "source": [
    "Inicializamos la función de pérdida y el optimizador, y los pasamos a `train_loop` y `test_loop`."
   ]
  },
  {
   "cell_type": "code",
   "execution_count": 60,
   "metadata": {},
   "outputs": [
    {
     "name": "stdout",
     "output_type": "stream",
     "text": [
      "Epoch 1\n",
      "-------------------------------\n",
      "loss: 2.310758  [   64/60000]\n",
      "loss: 2.289955  [ 6464/60000]\n",
      "loss: 2.280777  [12864/60000]\n",
      "loss: 2.274449  [19264/60000]\n",
      "loss: 2.245030  [25664/60000]\n",
      "loss: 2.246209  [32064/60000]\n",
      "loss: 2.217553  [38464/60000]\n",
      "loss: 2.199668  [44864/60000]\n",
      "loss: 2.186793  [51264/60000]\n",
      "loss: 2.194147  [57664/60000]\n",
      "Test Error: \n",
      " Accuracy: 46.3%, Avg loss: 2.167669 \n",
      "\n",
      "Done!\n"
     ]
    }
   ],
   "source": [
    "loss_fn = nn.CrossEntropyLoss()\n",
    "optimizer = torch.optim.SGD(model.parameters(), lr=learning_rate)\n",
    "\n",
    "epochs = 1\n",
    "for t in range(epochs):\n",
    "    print(f\"Epoch {t+1}\\n-------------------------------\")\n",
    "    train_loop(train_dataloader, model, loss_fn, optimizer)\n",
    "    test_loop(test_dataloader, model, loss_fn)\n",
    "print(\"Done!\")"
   ]
  },
  {
   "cell_type": "markdown",
   "metadata": {},
   "source": [
    "### Guardar y Cargar el Modelo"
   ]
  },
  {
   "cell_type": "markdown",
   "metadata": {},
   "source": [
    "Los modelos de PyTorch almacenan los parámetros aprendidos en un diccionario de estado interno, llamado `state_dict`. Estos pueden ser guardados mediante el método `torch.save`:"
   ]
  },
  {
   "cell_type": "code",
   "execution_count": 61,
   "metadata": {},
   "outputs": [],
   "source": [
    "# Guardar el modelo\n",
    "torch.save(model.state_dict(), '/home/linar/Desktop/ML/Clases/i302/Clases/08_Clase_8:PyTorch/models/model_weights.pth')"
   ]
  },
  {
   "cell_type": "markdown",
   "metadata": {},
   "source": [
    "Para cargar los pesos del modelo, primero necesitas crear una instancia del mismo modelo y luego cargar los parámetros usando el método `load_state_dict()`.\n",
    "\n",
    "En el código a continuación, establecemos `weights_only=True` para limitar las funciones ejecutadas durante el deserializado solo a aquellas necesarias para cargar los pesos."
   ]
  },
  {
   "cell_type": "code",
   "execution_count": 62,
   "metadata": {},
   "outputs": [
    {
     "data": {
      "text/plain": [
       "<All keys matched successfully>"
      ]
     },
     "execution_count": 62,
     "metadata": {},
     "output_type": "execute_result"
    }
   ],
   "source": [
    "# Cargar el modelo\n",
    "model = NeuralNetwork()\n",
    "model.load_state_dict(torch.load(\"/home/linar/Desktop/ML/Clases/i302/Clases/08_Clase_8:PyTorch/models/model_weights.pth\", weights_only=True))\n",
    "#model.eval() # important to call before inferencing to set the dropout and batch normalization layers to evaluation mode (not applicable in this example)"
   ]
  },
  {
   "cell_type": "markdown",
   "metadata": {},
   "source": [
    "- Al cargar los pesos del modelo, necesitamos instanciar primero la clase del modelo, porque la clase define la estructura de una red. \n",
    "- Puede que queramos guardar la estructura de esta clase junto con el modelo, en cuyo caso podemos pasar el modelo (y no `model.state_dict()`) a la función de guardado:"
   ]
  },
  {
   "cell_type": "code",
   "execution_count": 63,
   "metadata": {},
   "outputs": [],
   "source": [
    "torch.save(model, '/home/linar/Desktop/ML/Clases/i302/Clases/08_Clase_8:PyTorch/models/model.pth')"
   ]
  },
  {
   "cell_type": "markdown",
   "metadata": {},
   "source": [
    "Luego, podemos cargar el modelo como se demuestra a continuación.\n",
    "\n",
    "**NOTA**: Guardar `state_dict` se considera la mejor práctica. Sin embargo, a continuación usamos `weights_only=False` porque esto implica cargar el modelo, que es un caso de uso heredado para `torch.save`."
   ]
  },
  {
   "cell_type": "code",
   "execution_count": 64,
   "metadata": {},
   "outputs": [],
   "source": [
    "model = torch.load('/home/linar/Desktop/ML/Clases/i302/Clases/08_Clase_8:PyTorch/models/model.pth', weights_only=False)"
   ]
  },
  {
   "cell_type": "markdown",
   "metadata": {},
   "source": [
    "## TensorBoard\n",
    "\n",
    "PyTorch se integra con TensorBoard, una herramienta diseñada para visualizar los resultados de las sesiones de entrenamiento de redes neuronales.\n",
    "\n"
   ]
  },
  {
   "cell_type": "markdown",
   "metadata": {},
   "source": [
    "### 1. Configuración de TensorBoard  \n",
    "\n",
    "Empezamos configurando TensorBoard, importando `tensorboard` desde `torch.utils` y definiendo un `SummaryWriter`, nuestro objeto principal para escribir información en TensorBoard."
   ]
  },
  {
   "cell_type": "code",
   "execution_count": 65,
   "metadata": {},
   "outputs": [],
   "source": [
    "from torch.utils.tensorboard import SummaryWriter\n",
    "\n",
    "# default `log_dir` is \"runs\" - we'll be more specific here\n",
    "writer = SummaryWriter('runs/fashion_mnist_experiment_3')"
   ]
  },
  {
   "cell_type": "markdown",
   "metadata": {},
   "source": [
    "Tengan en cuenta que esta línea por sí sola crea una carpeta `runs/fashion_mnist_experiment_3`.\n",
    "\n",
    "### 2. Escribiendo en TensorBoard  \n",
    "Ahora escribiremos una imagen en nuestro TensorBoard, específicamente una cuadrícula, usando [make_grid](https://pytorch.org/vision/stable/utils.html#torchvision.utils.make_grid).\n",
    "\n",
    "Para ello, primero definimos una función para graficar una imagen usando `matplotlib`:"
   ]
  },
  {
   "cell_type": "code",
   "execution_count": 66,
   "metadata": {},
   "outputs": [],
   "source": [
    "# Helper function to show an image\n",
    "def matplotlib_imshow(img, one_channel=False):\n",
    "    if one_channel:\n",
    "        img = img.mean(dim=0)\n",
    "    img = img / 2 + 0.5     # unnormalize\n",
    "    npimg = img.numpy()\n",
    "    if one_channel:\n",
    "        plt.imshow(npimg, cmap=\"Greys\")\n",
    "    else:\n",
    "        plt.imshow(np.transpose(npimg, (1, 2, 0)))"
   ]
  },
  {
   "cell_type": "code",
   "execution_count": 67,
   "metadata": {},
   "outputs": [
    {
     "data": {
      "image/png": "[encoded data removed]",
      "text/plain": [
       "<Figure size 432x288 with 1 Axes>"
      ]
     },
     "metadata": {
      "needs_background": "light"
     },
     "output_type": "display_data"
    }
   ],
   "source": [
    "from torchvision import utils\n",
    "\n",
    "# Get some random training images\n",
    "dataiter = iter(train_dataloader)\n",
    "images, labels = next(dataiter)\n",
    "\n",
    "# Create grid of images\n",
    "img_grid = utils.make_grid(images)\n",
    "\n",
    "# Show images\n",
    "matplotlib_imshow(img_grid, one_channel=True)\n",
    "\n",
    "# \"rite to tensorboard\n",
    "writer.add_image('four_fashion_mnist_images', img_grid)"
   ]
  },
  {
   "cell_type": "markdown",
   "metadata": {},
   "source": [
    "Una vez que ejecutes el siguiente comando, podrás abrir TensorBoard en tu navegador web accediendo a [localhost:6006](http://localhost:6006) (o la dirección que se muestre en la terminal):\n",
    "\n",
    "`tensorboard --logdir=runs --bind_all`"
   ]
  },
  {
   "cell_type": "markdown",
   "metadata": {},
   "source": [
    "### 3. Inspeccionar el modelo utilizando TensorBoard  \n",
    "Una de las fortalezas de TensorBoard es su capacidad para visualizar estructuras de modelos complejas. Vamos a visualizar el modelo que construimos."
   ]
  },
  {
   "cell_type": "code",
   "execution_count": 68,
   "metadata": {},
   "outputs": [],
   "source": [
    "writer.add_graph(model, images)"
   ]
  },
  {
   "cell_type": "markdown",
   "metadata": {},
   "source": [
    "### 4. Agregar un \"Proyector\" a TensorBoard  \n",
    "\n",
    "Podemos visualizar la representación de datos de alta dimensionalidad en un espacio de menor dimensionalidad utilizando el método [add_embedding](https://pytorch.org/docs/stable/tensorboard.html#torch.utils.tensorboard.writer.SummaryWriter.add_embedding)."
   ]
  },
  {
   "cell_type": "code",
   "execution_count": 69,
   "metadata": {},
   "outputs": [],
   "source": [
    "# Helper function\n",
    "def select_n_random(data, labels, n=100):\n",
    "    '''\n",
    "    Selects n random datapoints and their corresponding labels from a dataset\n",
    "    '''\n",
    "    assert len(data) == len(labels)\n",
    "\n",
    "    perm = torch.randperm(len(data))\n",
    "    return data[perm][:n], labels[perm][:n]\n",
    "\n",
    "# Select random images and their target indices\n",
    "images, labels = select_n_random(training_data.data, training_data.targets)\n",
    "\n",
    "# Get the class labels for each image\n",
    "class_labels = [labels_map[lab.item()] for lab in labels]\n",
    "\n",
    "# Log embeddings\n",
    "features = images.view(-1, 28 * 28)\n",
    "writer.add_embedding(features,\n",
    "                    metadata=class_labels,\n",
    "                    label_img=images.unsqueeze(1))"
   ]
  },
  {
   "cell_type": "markdown",
   "metadata": {},
   "source": [
    "- Ahora, en la pestaña \"Projector\" de TensorBoard, podemos ver estas 100 imágenes —cada una de las cuales tiene 784 dimensiones— proyectadas en un espacio tridimensional. \n",
    "- Además, esta visualización es interactiva: podemos hacer clic y arrastrar para rotar la proyección en tres dimensiones. \n",
    "- Finalmente, un par de consejos para facilitar la visualización: seleccionen \"color: label\" en la parte superior izquierda, y activen el \"modo nocturno\", lo cual hará que las imágenes sean más fáciles de ver, ya que su fondo es blanco."
   ]
  },
  {
   "cell_type": "markdown",
   "metadata": {},
   "source": [
    "Ahora que inspeccionamos completamente nuestros datos, mostremos cómo TensorBoard puede hacer que el seguimiento del entrenamiento y la evaluación del modelo sea más claro, comenzando con el entrenamiento."
   ]
  },
  {
   "cell_type": "markdown",
   "metadata": {},
   "source": [
    "### 5. Seguimiento del entrenamiento del modelo con TensorBoard\n",
    "- Antes, simplemente imprimimos la pérdida acumulada del modelo cada X iteraciones. \n",
    "- Ahora, registraremos la pérdida acumulada en TensorBoard, junto con una vista de las predicciones que el modelo está realizando a través de la función `plot_classes_preds`."
   ]
  },
  {
   "cell_type": "code",
   "execution_count": 70,
   "metadata": {},
   "outputs": [],
   "source": [
    "# Helper functions\n",
    "def images_to_probs(model, images):\n",
    "    '''\n",
    "    Generates predictions and corresponding probabilities from a trained\n",
    "    network and a list of images\n",
    "    '''\n",
    "    output = model(images)\n",
    "    # Convert output probabilities to predicted class\n",
    "    _, preds_tensor = torch.max(output, 1)\n",
    "    preds = np.squeeze(preds_tensor.numpy())\n",
    "    return preds, [torch.nn.functional.softmax(el, dim=0)[i].item() for i, el in zip(preds, output)]"
   ]
  },
  {
   "cell_type": "code",
   "execution_count": 71,
   "metadata": {},
   "outputs": [],
   "source": [
    "def plot_classes_preds(model, images, labels):\n",
    "    '''\n",
    "    Generates matplotlib Figure using a trained network, along with images\n",
    "    and labels from a batch, that shows the network's top prediction along\n",
    "    with its probability, alongside the actual label, coloring this\n",
    "    information based on whether the prediction was correct or not.\n",
    "    Uses the \"images_to_probs\" function.\n",
    "    '''\n",
    "    preds, probs = images_to_probs(model, images)\n",
    "    # Plotea las imágenes del batch junto con las etiquetas predichas y verdaderas\n",
    "    fig = plt.figure(figsize=(12, 48))\n",
    "    for idx in np.arange(4):\n",
    "        ax = fig.add_subplot(1, 4, idx+1, xticks=[], yticks=[])\n",
    "        matplotlib_imshow(images[idx], one_channel=True)\n",
    "        ax.set_title(\"{0}, {1:.1f}%\\n(label: {2})\".format(\n",
    "            labels_map[preds[idx].item()],  # Convertir tensor a entero\n",
    "            probs[idx] * 100.0,\n",
    "            labels_map[labels[idx].item()]),  # Convertir tensor a entero\n",
    "                    color=(\"green\" if preds[idx] == labels[idx].item() else \"red\"))\n",
    "    return fig"
   ]
  },
  {
   "cell_type": "markdown",
   "metadata": {},
   "source": [
    "Finalmente, entrenemos el modelo utilizando el mismo código de entrenamiento de antes, pero en lugar de imprimir los resultado, vamos a escribirlos en TensorBoard cada 100 batches usando la función `add_scalar`.\n",
    "\n",
    "Además, mientras entrenamos, generaremos una imagen que mostrará las predicciones del modelo frente a los resultados reales en las cuatro imágenes incluidas en ese lote."
   ]
  },
  {
   "cell_type": "code",
   "execution_count": 72,
   "metadata": {},
   "outputs": [],
   "source": [
    "def train_loop(dataloader, model, loss_fn, optimizer, epoch):\n",
    "    size = len(dataloader.dataset)  # Obtener el tamaño del conjunto de datos\n",
    "    model.train()\n",
    "    running_loss = 0.0  # Inicializar la pérdida acumulada\n",
    "    for batch, (X, y) in enumerate(dataloader):\n",
    "        pred = model(X)  # Realiza la predicción usando el modelo\n",
    "        loss = loss_fn(pred, y)  # Calcula la pérdida\n",
    "\n",
    "        # Retropropagación\n",
    "        loss.backward()  # Calcula los gradientes\n",
    "        optimizer.step()  # Actualiza los parámetros\n",
    "        optimizer.zero_grad()  # Reinicia los gradientes\n",
    "\n",
    "        running_loss += loss.item()  # Acumula la pérdida\n",
    "\n",
    "        # Log a TensorBoard cada 100 lotes\n",
    "        if batch % 100 == 0:\n",
    "            loss, current = loss.item(), batch * len(X)  # Obtener la pérdida y la posición actual\n",
    "            print(f\"loss: {loss:>7f}  [{current:>5d}/{size:>5d}]\")  # Imprimir la pérdida\n",
    "            \n",
    "            writer.add_scalar('training loss',\n",
    "                              running_loss / 1000,\n",
    "                              epoch * len(dataloader) + batch)  # Registrar la pérdida\n",
    "            writer.add_figure('predictions vs. actuals',\n",
    "                            plot_classes_preds(model, X, y),\n",
    "                            global_step=epoch * len(dataloader) + i)\n",
    "                            \n",
    "            running_loss = 0.0  # Reiniciar la pérdida acumulada\n",
    "\n",
    "def test_loop(dataloader, model, loss_fn, epoch):\n",
    "    model.eval()\n",
    "    size = len(dataloader.dataset)  # Obtener el tamaño del conjunto de datos\n",
    "    num_batches = len(dataloader)  # Obtener el número de lotes\n",
    "    test_loss, correct = 0, 0  # Inicializar la pérdida de prueba y el contador de aciertos\n",
    "    \n",
    "    # Listas para acumular probabilidades y etiquetas\n",
    "    all_probs = []\n",
    "    all_labels = []\n",
    "\n",
    "    # Evaluar el modelo sin calcular gradientes\n",
    "    with torch.no_grad():\n",
    "        for X, y in dataloader:\n",
    "            pred = model(X)  # Realiza la predicción\n",
    "            test_loss += loss_fn(pred, y).item()  # Sumar la pérdida de prueba\n",
    "            correct += (pred.argmax(1) == y).type(torch.float).sum().item()  # Contar aciertos\n",
    "            \n",
    "            # Obtener probabilidades y etiquetas\n",
    "            all_probs.append(pred.softmax(dim=1))  # Usar softmax para obtener probabilidades\n",
    "            all_labels.append(y)  # Guardar las etiquetas reales\n",
    "\n",
    "    test_loss /= num_batches  # Calcular la pérdida promedio de prueba\n",
    "    correct /= size  # Calcular la precisión\n",
    "    print(f\"Test Error: \\n Accuracy: {(100*correct):>0.1f}%, Avg loss: {test_loss:>8f} \\n\")  # Imprimir precisión y pérdida promedio\n",
    "\n",
    "    # Log de la pérdida de prueba en TensorBoard\n",
    "    writer.add_scalar('test loss',\n",
    "                      test_loss,\n",
    "                      epoch * num_batches)  # Registrar la pérdida de prueba\n",
    "\n",
    "    # Concatenar todas las probabilidades y etiquetas\n",
    "    test_probs = torch.cat(all_probs)  # Combinar todas las probabilidades\n",
    "    test_labels = torch.cat(all_labels)  # Combinar todas las etiquetas\n",
    "\n",
    "    return test_probs, test_labels  # Retornar las probabilidades y etiquetas\n",
    "\n",
    "\n",
    "# Definimos la función de pérdida y el optimizador\n",
    "loss_fn = nn.CrossEntropyLoss()\n",
    "optimizer = torch.optim.SGD(model.parameters(), lr=learning_rate)"
   ]
  },
  {
   "cell_type": "code",
   "execution_count": 73,
   "metadata": {},
   "outputs": [
    {
     "name": "stdout",
     "output_type": "stream",
     "text": [
      "Epoch 1\n",
      "-------------------------------\n",
      "loss: 2.174959  [    0/60000]\n",
      "loss: 2.150274  [ 6400/60000]\n",
      "loss: 2.133465  [12800/60000]\n",
      "loss: 2.087193  [19200/60000]\n",
      "loss: 2.088684  [25600/60000]\n",
      "loss: 2.072410  [32000/60000]\n",
      "loss: 2.070004  [38400/60000]\n",
      "loss: 1.984126  [44800/60000]\n",
      "loss: 2.018535  [51200/60000]\n",
      "loss: 1.933559  [57600/60000]\n",
      "Test Error: \n",
      " Accuracy: 59.3%, Avg loss: 1.917648 \n",
      "\n",
      "Epoch 2\n",
      "-------------------------------\n",
      "loss: 1.967867  [    0/60000]\n",
      "loss: 1.892304  [ 6400/60000]\n",
      "loss: 1.853612  [12800/60000]\n",
      "loss: 1.738213  [19200/60000]\n",
      "loss: 1.739571  [25600/60000]\n",
      "loss: 1.732806  [32000/60000]\n",
      "loss: 1.640030  [38400/60000]\n",
      "loss: 1.667632  [44800/60000]\n",
      "loss: 1.630083  [51200/60000]\n",
      "loss: 1.570708  [57600/60000]\n",
      "Test Error: \n",
      " Accuracy: 62.3%, Avg loss: 1.546837 \n",
      "\n",
      "Epoch 3\n",
      "-------------------------------\n",
      "loss: 1.533856  [    0/60000]\n",
      "loss: 1.467806  [ 6400/60000]\n",
      "loss: 1.525526  [12800/60000]\n",
      "loss: 1.479278  [19200/60000]\n",
      "loss: 1.464382  [25600/60000]\n",
      "loss: 1.434726  [32000/60000]\n",
      "loss: 1.240263  [38400/60000]\n",
      "loss: 1.296894  [44800/60000]\n",
      "loss: 1.259827  [51200/60000]\n",
      "loss: 1.291864  [57600/60000]\n",
      "Test Error: \n",
      " Accuracy: 63.2%, Avg loss: 1.268523 \n",
      "\n",
      "Epoch 4\n",
      "-------------------------------\n",
      "loss: 1.338368  [    0/60000]\n",
      "loss: 1.136805  [ 6400/60000]\n",
      "loss: 1.227500  [12800/60000]\n",
      "loss: 1.289590  [19200/60000]\n",
      "loss: 1.336065  [25600/60000]\n",
      "loss: 1.127946  [32000/60000]\n",
      "loss: 1.214564  [38400/60000]\n",
      "loss: 1.232410  [44800/60000]\n",
      "loss: 1.026667  [51200/60000]\n",
      "loss: 1.054671  [57600/60000]\n",
      "Test Error: \n",
      " Accuracy: 64.9%, Avg loss: 1.096657 \n",
      "\n",
      "Epoch 5\n",
      "-------------------------------\n",
      "loss: 1.024929  [    0/60000]\n",
      "loss: 1.038196  [ 6400/60000]\n",
      "loss: 1.009440  [12800/60000]\n",
      "loss: 0.992939  [19200/60000]\n",
      "loss: 1.145536  [25600/60000]\n",
      "loss: 0.974271  [32000/60000]\n",
      "loss: 0.940932  [38400/60000]\n",
      "loss: 1.122557  [44800/60000]\n",
      "loss: 1.007486  [51200/60000]\n",
      "loss: 0.961336  [57600/60000]\n",
      "Test Error: \n",
      " Accuracy: 65.6%, Avg loss: 0.988912 \n",
      "\n",
      "Epoch 6\n",
      "-------------------------------\n",
      "loss: 0.988844  [    0/60000]\n",
      "loss: 1.068021  [ 6400/60000]\n",
      "loss: 1.007605  [12800/60000]\n",
      "loss: 1.054446  [19200/60000]\n",
      "loss: 0.828613  [25600/60000]\n",
      "loss: 0.999728  [32000/60000]\n",
      "loss: 0.896148  [38400/60000]\n",
      "loss: 0.824936  [44800/60000]\n",
      "loss: 0.935196  [51200/60000]\n",
      "loss: 0.881802  [57600/60000]\n",
      "Test Error: \n",
      " Accuracy: 66.6%, Avg loss: 0.915472 \n",
      "\n",
      "Epoch 7\n",
      "-------------------------------\n",
      "loss: 0.915548  [    0/60000]\n",
      "loss: 0.945587  [ 6400/60000]\n",
      "loss: 0.845003  [12800/60000]\n",
      "loss: 0.900408  [19200/60000]\n",
      "loss: 0.885056  [25600/60000]\n",
      "loss: 0.896340  [32000/60000]\n",
      "loss: 0.915196  [38400/60000]\n",
      "loss: 0.718317  [44800/60000]\n",
      "loss: 0.777285  [51200/60000]\n",
      "loss: 0.767705  [57600/60000]\n",
      "Test Error: \n",
      " Accuracy: 68.4%, Avg loss: 0.861951 \n",
      "\n",
      "Epoch 8\n",
      "-------------------------------\n",
      "loss: 0.934115  [    0/60000]\n",
      "loss: 0.945420  [ 6400/60000]\n",
      "loss: 0.829533  [12800/60000]\n",
      "loss: 0.831605  [19200/60000]\n",
      "loss: 0.853724  [25600/60000]\n",
      "loss: 0.742059  [32000/60000]\n",
      "loss: 0.703273  [38400/60000]\n",
      "loss: 0.883169  [44800/60000]\n",
      "loss: 0.825059  [51200/60000]\n",
      "loss: 0.668262  [57600/60000]\n",
      "Test Error: \n",
      " Accuracy: 69.2%, Avg loss: 0.819842 \n",
      "\n",
      "Epoch 9\n",
      "-------------------------------\n",
      "loss: 0.579901  [    0/60000]\n",
      "loss: 0.893764  [ 6400/60000]\n",
      "loss: 0.850409  [12800/60000]\n",
      "loss: 0.803387  [19200/60000]\n",
      "loss: 0.741322  [25600/60000]\n",
      "loss: 0.834273  [32000/60000]\n",
      "loss: 0.839968  [38400/60000]\n",
      "loss: 0.819763  [44800/60000]\n",
      "loss: 1.113263  [51200/60000]\n",
      "loss: 0.743708  [57600/60000]\n",
      "Test Error: \n",
      " Accuracy: 70.9%, Avg loss: 0.788139 \n",
      "\n",
      "Epoch 10\n",
      "-------------------------------\n",
      "loss: 0.780814  [    0/60000]\n",
      "loss: 0.690096  [ 6400/60000]\n",
      "loss: 0.971769  [12800/60000]\n",
      "loss: 0.571827  [19200/60000]\n",
      "loss: 0.814776  [25600/60000]\n",
      "loss: 0.832938  [32000/60000]\n",
      "loss: 0.775194  [38400/60000]\n",
      "loss: 0.679673  [44800/60000]\n",
      "loss: 0.654041  [51200/60000]\n",
      "loss: 0.899716  [57600/60000]\n",
      "Test Error: \n",
      " Accuracy: 71.7%, Avg loss: 0.763194 \n",
      "\n",
      "Done!\n"
     ]
    }
   ],
   "source": [
    "epochs = 10\n",
    "for t in range(epochs):\n",
    "    print(f\"Epoch {t+1}\\n-------------------------------\")\n",
    "    train_loop(train_dataloader, model, loss_fn, optimizer, t)\n",
    "    test_probs, test_label = test_loop(test_dataloader, model, loss_fn, t)\n",
    "\n",
    "print(\"Done!\")"
   ]
  },
  {
   "cell_type": "markdown",
   "metadata": {},
   "source": [
    "- Podemos acceder a la pestaña \"Scalars\" para ver el training loss ploteado en tiempo real.\n",
    "- Además, podemos observar las predicciones que el modelo hizo sobre batches arbitrarios a lo largo del proceso de aprendizaje. \n",
    "    - Ir la pestaña \"Imágenes\" y desplázarse hacia abajo en la visualización \"predictions vs. actuals\" para ver esto."
   ]
  },
  {
   "cell_type": "code",
   "execution_count": null,
   "metadata": {},
   "outputs": [],
   "source": [
    "# Helper function\n",
    "def add_pr_curve_tensorboard(class_index, test_probs, test_label, global_step=0):\n",
    "    '''\n",
    "    Takes in a \"class_index\" from 0 to 9 and plots the corresponding\n",
    "    precision-recall curve\n",
    "    '''\n",
    "    tensorboard_truth = test_label == class_index\n",
    "    tensorboard_probs = test_probs[:, class_index]\n",
    "\n",
    "    # Obtener el nombre de la clase desde labels_map\n",
    "    class_name = labels_map[class_index]\n",
    "\n",
    "    # Agregar la curva de precisión-recall a TensorBoard\n",
    "    writer.add_pr_curve(class_name, \n",
    "                        tensorboard_truth, \n",
    "                        tensorboard_probs, \n",
    "                        global_step=global_step)\n",
    "\n",
    "# Traza todas las curvas de precisión-recall\n",
    "for i in range(len(labels_map)):\n",
    "    add_pr_curve_tensorboard(i, test_probs, test_label)\n"
   ]
  }
 ],
 "metadata": {
  "kernelspec": {
   "display_name": "i302",
   "language": "python",
   "name": "python3"
  },
  "language_info": {
   "codemirror_mode": {
    "name": "ipython",
    "version": 3
   },
   "file_extension": ".py",
   "mimetype": "text/x-python",
   "name": "python",
   "nbconvert_exporter": "python",
   "pygments_lexer": "ipython3",
   "version": "3.8.10"
  }
 },
 "nbformat": 4,
 "nbformat_minor": 2
}
