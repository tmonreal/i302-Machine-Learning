{
 "cells": [
  {
   "cell_type": "markdown",
   "metadata": {},
   "source": [
    "# Clase Tutorial 6: Árboles de Decisión 🌳"
   ]
  },
  {
   "cell_type": "markdown",
   "metadata": {},
   "source": [
    "## 1. Introducción"
   ]
  },
  {
   "cell_type": "markdown",
   "metadata": {},
   "source": [
    "Los algoritmos de Árboles de Decisión pertenecen al tipo de algoritmos de aprendizaje supervisado, y si bien pueden ser utilizados para regresiones, son principalmente utilizados en problemas de clasificación.  \n",
    "  \n",
    "Existen varios tipos de árboles de decisión:\n",
    "\n",
    "- Árboles de decisión simples:  \n",
    "    - **Árboles de clasificación:** realizan predicciones sobre una variable **categórica**. \n",
    "    - **Árboles de regresión:** realizan predicciones sobre una variable **contínua**.\n",
    "    \n",
    "    \n",
    "- Árboles de decisión basados en técnicas de Ensamble:\n",
    "    - **Bagging**. \n",
    "    - **Random Forest**.  \n",
    "    - **Boosting**.  "
   ]
  },
  {
   "cell_type": "markdown",
   "metadata": {},
   "source": [
    "## Árboles de Decisión Simples"
   ]
  },
  {
   "cell_type": "markdown",
   "metadata": {},
   "source": [
    "A este tipo de árboles simples (splits binarios) se lo suele llamar **CART** (**C**lassification **A**nd **R**egression **T**rees).\n",
    "  \n",
    "A continuación veremos un ejemplo simple de la utilización de árboles de decisión para definir a partir del peso y la altura si una persona adulta es de sexo masculino o femenino.\n",
    "\n",
    "<p align=\"center\">\n",
    "  <img  src=\"img/Ejemplo_CART.png\">\n",
    "</p>\n",
    "\n",
    "Como podemos observar, un árbol de decisión no es más que un conjunto de reglas:\n",
    "* `If Altura > 180 cm Then Hombre`\n",
    "* `If Altura <= 180 cm AND Peso > 80 kg Then Hombre`\n",
    "* `If Altura <= 180 cm AND Peso <= 80 kg Then Mujer`\n",
    "\n",
    "Por supuesto existen mujeres que miden más de 1,80m o mujeres que pesen más de 80 kg, pero es importante recordar que los modelos predictivos no buscan ser infalibles sino que buscan poder predecir o **clasificar con un determinado grado de precisión** que sea aceptable para el uso que se le quiere dar.\n",
    "\n",
    "La tarea de los algoritmos de CART es justamente definir a partir de los datos de entrada cuál atributo es conveniente utilizar en cada nodo del árbol, y cuál es el punto de corte óptimo en dicho nodo para realizar las particiones de forma tal de lograr obtener el árbol de clasificación con la mayor precisión posible.\n"
   ]
  },
  {
   "cell_type": "markdown",
   "metadata": {},
   "source": [
    "### Ventajas y Desventajas de los Árboles de Decisión"
   ]
  },
  {
   "cell_type": "markdown",
   "metadata": {},
   "source": [
    "#### 👍 Ventajas\n",
    "- Son fáciles de interpretar, y pueden ser representados gráficamente.\n",
    "- Pueden capturar patrones no lineales.\n",
    "- Pueden manejar datos numéricos y categóricos. Pueden manejar variables categóricas sin necesidad de implementar one hot encoding.\n",
    "- Requieren menos preparación de los datos. No es necesario normalizar el dataset (entrenamiento no está basado en GD y trabajamos comparando features con umbrales) $\\rightarrow$ invariantes a transformaciones monótonas (como escalado o normalización)."
   ]
  },
  {
   "cell_type": "markdown",
   "metadata": {},
   "source": [
    "#### 👎 Desventajas\n",
    "- No son robustos ya que son muy sensibles a los cambios en el dataset. Un pequeño cambio del dataset, puede generar un árbol completamente distinto.\n",
    "- Tienen tendencia a sobreajuste.\n",
    "- Menor precisión con variables continuas: Los árboles generan divisiones discretas en el espacio de las variables, lo que puede dificultar la captura de relaciones suaves o graduales entre variables continuas y la variable objetivo.\n",
    "- Suelen verse muy afectados por datasets que no estén balanceados.\n",
    "- El óptimo global no está garantizado: dado que en cada paso se busca maximizar la ganancia de información, esta metodología no necesariamente puede garantizar el resultado óptimo global."
   ]
  },
  {
   "cell_type": "markdown",
   "metadata": {},
   "source": [
    "## 2. Marco Teórico"
   ]
  },
  {
   "cell_type": "markdown",
   "metadata": {},
   "source": [
    "Un árbol de decisión es una estructura similar a un diagrama de flujo, es por eso que son fáciles de entender e interpretar.\n",
    "\n",
    "<p align=\"center\">\n",
    "  <img  src=\"img/Arboles-de-decision-001.png\">\n",
    "</p>\n",
    "  \n",
    "Los árboles están compuestos por las siguientes partes:\n",
    "- Cada **nodo de decisión** representa una característica.\n",
    "- Cada **rama** representa una regla de decisión. \n",
    "- Cada **nodo hoja** representa el resultado.\n",
    "- Al nodo superior en un árbol de decisión se lo conoce como el **nodo raíz**.\n",
    "- Al nodo del cual se desprenden otros nodos se lo llama **nodo padre** y a los nodos que se desprenden del nodo padre se los llama **nodos hijo**.\n",
    "- Cada rama que no sea un nodo hoja se la puede considerar como un **sub-árbol**."
   ]
  },
  {
   "cell_type": "markdown",
   "metadata": {},
   "source": [
    "### 🤔 ¿Cómo funcionan los algoritmos de árboles de decisión?\n",
    "La idea básica detrás de cualquier algoritmo de árbol de decisión es ir particionando la población inicial en poblaciones más chicas que no se solapen y que sean más homogéneas que la población inicial a fin de que aumenten las posibilidades de predecir la variable objetivo.\n",
    "\n",
    "Los algoritmos CART realizan ésto, mediante los siguientes pasos: \n",
    "\n",
    "1. **Seleccionar la mejor partición**: de todos los features, seleccionar cuál es aquél que divide la población en segmentos más pequeños y homogéneos (\"puros\") posibles. \n",
    "2. **Particionar**: Crear un nodo de decisión con ese atributo y dividir la población generando nuevos nodos hijos. \n",
    "3. Repetir el proceso para cada nodo hijo de <span style=\"color:blue\">manera recursiva</span> hasta que ocurra cualquiera de las siguientes condiciones:\n",
    "    * Todos los nodos hijos sean puros o\n",
    "    * Se aplique un método de corte preestablecido (por ejemplo indicando la profundidad máxima del árbol)\n",
    "\n",
    "- Es un algoritmo avaro (**\"greedy\"**) $\\rightarrow$ en cada paso que da busca obtener la mejor partición posible en ese nodo, sin ser estas particiones necesariamente la mejores cuando uno mira el árbol en todo su conjunto.\n",
    "\n",
    "Veamos cuales son los pasos de CART para seleccionar con qué features comenzar a particionar la población en cada nodo de manera que estas particiones sean lo más puras posible."
   ]
  },
  {
   "cell_type": "code",
   "execution_count": 1,
   "metadata": {},
   "outputs": [],
   "source": [
    "%load_ext autoreload\n",
    "%autoreload 2\n",
    "import pandas as pd\n",
    "import numpy as np\n",
    "from IPython.display import Image"
   ]
  },
  {
   "cell_type": "code",
   "execution_count": 22,
   "metadata": {},
   "outputs": [
    {
     "data": {
      "text/html": [
       "<div>\n",
       "<style scoped>\n",
       "    .dataframe tbody tr th:only-of-type {\n",
       "        vertical-align: middle;\n",
       "    }\n",
       "\n",
       "    .dataframe tbody tr th {\n",
       "        vertical-align: top;\n",
       "    }\n",
       "\n",
       "    .dataframe thead th {\n",
       "        text-align: right;\n",
       "    }\n",
       "</style>\n",
       "<table border=\"1\" class=\"dataframe\">\n",
       "  <thead>\n",
       "    <tr style=\"text-align: right;\">\n",
       "      <th></th>\n",
       "      <th>Pelo corto</th>\n",
       "      <th>Peso</th>\n",
       "      <th>Estatura</th>\n",
       "      <th>Sexo</th>\n",
       "    </tr>\n",
       "  </thead>\n",
       "  <tbody>\n",
       "    <tr>\n",
       "      <th>0</th>\n",
       "      <td>False</td>\n",
       "      <td>78</td>\n",
       "      <td>181</td>\n",
       "      <td>M</td>\n",
       "    </tr>\n",
       "    <tr>\n",
       "      <th>1</th>\n",
       "      <td>True</td>\n",
       "      <td>82</td>\n",
       "      <td>182</td>\n",
       "      <td>M</td>\n",
       "    </tr>\n",
       "    <tr>\n",
       "      <th>2</th>\n",
       "      <td>False</td>\n",
       "      <td>75</td>\n",
       "      <td>162</td>\n",
       "      <td>M</td>\n",
       "    </tr>\n",
       "    <tr>\n",
       "      <th>3</th>\n",
       "      <td>False</td>\n",
       "      <td>65</td>\n",
       "      <td>167</td>\n",
       "      <td>M</td>\n",
       "    </tr>\n",
       "    <tr>\n",
       "      <th>4</th>\n",
       "      <td>False</td>\n",
       "      <td>85</td>\n",
       "      <td>182</td>\n",
       "      <td>H</td>\n",
       "    </tr>\n",
       "    <tr>\n",
       "      <th>5</th>\n",
       "      <td>True</td>\n",
       "      <td>76</td>\n",
       "      <td>170</td>\n",
       "      <td>H</td>\n",
       "    </tr>\n",
       "    <tr>\n",
       "      <th>6</th>\n",
       "      <td>True</td>\n",
       "      <td>83</td>\n",
       "      <td>175</td>\n",
       "      <td>H</td>\n",
       "    </tr>\n",
       "    <tr>\n",
       "      <th>7</th>\n",
       "      <td>True</td>\n",
       "      <td>75</td>\n",
       "      <td>166</td>\n",
       "      <td>H</td>\n",
       "    </tr>\n",
       "    <tr>\n",
       "      <th>8</th>\n",
       "      <td>False</td>\n",
       "      <td>70</td>\n",
       "      <td>166</td>\n",
       "      <td>M</td>\n",
       "    </tr>\n",
       "    <tr>\n",
       "      <th>9</th>\n",
       "      <td>True</td>\n",
       "      <td>84</td>\n",
       "      <td>161</td>\n",
       "      <td>M</td>\n",
       "    </tr>\n",
       "    <tr>\n",
       "      <th>10</th>\n",
       "      <td>False</td>\n",
       "      <td>73</td>\n",
       "      <td>165</td>\n",
       "      <td>M</td>\n",
       "    </tr>\n",
       "    <tr>\n",
       "      <th>11</th>\n",
       "      <td>False</td>\n",
       "      <td>69</td>\n",
       "      <td>159</td>\n",
       "      <td>M</td>\n",
       "    </tr>\n",
       "    <tr>\n",
       "      <th>12</th>\n",
       "      <td>True</td>\n",
       "      <td>75</td>\n",
       "      <td>170</td>\n",
       "      <td>H</td>\n",
       "    </tr>\n",
       "    <tr>\n",
       "      <th>13</th>\n",
       "      <td>True</td>\n",
       "      <td>90</td>\n",
       "      <td>190</td>\n",
       "      <td>H</td>\n",
       "    </tr>\n",
       "    <tr>\n",
       "      <th>14</th>\n",
       "      <td>True</td>\n",
       "      <td>80</td>\n",
       "      <td>183</td>\n",
       "      <td>H</td>\n",
       "    </tr>\n",
       "    <tr>\n",
       "      <th>15</th>\n",
       "      <td>False</td>\n",
       "      <td>71</td>\n",
       "      <td>155</td>\n",
       "      <td>M</td>\n",
       "    </tr>\n",
       "    <tr>\n",
       "      <th>16</th>\n",
       "      <td>True</td>\n",
       "      <td>77</td>\n",
       "      <td>181</td>\n",
       "      <td>H</td>\n",
       "    </tr>\n",
       "    <tr>\n",
       "      <th>17</th>\n",
       "      <td>False</td>\n",
       "      <td>81</td>\n",
       "      <td>185</td>\n",
       "      <td>H</td>\n",
       "    </tr>\n",
       "    <tr>\n",
       "      <th>18</th>\n",
       "      <td>False</td>\n",
       "      <td>70</td>\n",
       "      <td>163</td>\n",
       "      <td>M</td>\n",
       "    </tr>\n",
       "    <tr>\n",
       "      <th>19</th>\n",
       "      <td>True</td>\n",
       "      <td>73</td>\n",
       "      <td>181</td>\n",
       "      <td>H</td>\n",
       "    </tr>\n",
       "  </tbody>\n",
       "</table>\n",
       "</div>"
      ],
      "text/plain": [
       "    Pelo corto  Peso  Estatura Sexo\n",
       "0        False    78       181    M\n",
       "1         True    82       182    M\n",
       "2        False    75       162    M\n",
       "3        False    65       167    M\n",
       "4        False    85       182    H\n",
       "5         True    76       170    H\n",
       "6         True    83       175    H\n",
       "7         True    75       166    H\n",
       "8        False    70       166    M\n",
       "9         True    84       161    M\n",
       "10       False    73       165    M\n",
       "11       False    69       159    M\n",
       "12        True    75       170    H\n",
       "13        True    90       190    H\n",
       "14        True    80       183    H\n",
       "15       False    71       155    M\n",
       "16        True    77       181    H\n",
       "17       False    81       185    H\n",
       "18       False    70       163    M\n",
       "19        True    73       181    H"
      ]
     },
     "metadata": {},
     "output_type": "display_data"
    }
   ],
   "source": [
    "df=pd.read_csv(\"Data/ejemploCART.csv\")\n",
    "display(df)"
   ]
  },
  {
   "cell_type": "code",
   "execution_count": 23,
   "metadata": {},
   "outputs": [
    {
     "data": {
      "text/html": [
       "<div>\n",
       "<style scoped>\n",
       "    .dataframe tbody tr th:only-of-type {\n",
       "        vertical-align: middle;\n",
       "    }\n",
       "\n",
       "    .dataframe tbody tr th {\n",
       "        vertical-align: top;\n",
       "    }\n",
       "\n",
       "    .dataframe thead th {\n",
       "        text-align: right;\n",
       "    }\n",
       "</style>\n",
       "<table border=\"1\" class=\"dataframe\">\n",
       "  <thead>\n",
       "    <tr style=\"text-align: right;\">\n",
       "      <th></th>\n",
       "      <th>dtypes</th>\n",
       "    </tr>\n",
       "  </thead>\n",
       "  <tbody>\n",
       "    <tr>\n",
       "      <th>Pelo corto</th>\n",
       "      <td>bool</td>\n",
       "    </tr>\n",
       "    <tr>\n",
       "      <th>Peso</th>\n",
       "      <td>int64</td>\n",
       "    </tr>\n",
       "    <tr>\n",
       "      <th>Estatura</th>\n",
       "      <td>int64</td>\n",
       "    </tr>\n",
       "    <tr>\n",
       "      <th>Sexo</th>\n",
       "      <td>object</td>\n",
       "    </tr>\n",
       "  </tbody>\n",
       "</table>\n",
       "</div>"
      ],
      "text/plain": [
       "            dtypes\n",
       "Pelo corto    bool\n",
       "Peso         int64\n",
       "Estatura     int64\n",
       "Sexo        object"
      ]
     },
     "execution_count": 23,
     "metadata": {},
     "output_type": "execute_result"
    }
   ],
   "source": [
    "pd.DataFrame(df.dtypes,columns=['dtypes'])"
   ]
  },
  {
   "cell_type": "code",
   "execution_count": 3,
   "metadata": {},
   "outputs": [
    {
     "data": {
      "text/html": [
       "<div>\n",
       "<style scoped>\n",
       "    .dataframe tbody tr th:only-of-type {\n",
       "        vertical-align: middle;\n",
       "    }\n",
       "\n",
       "    .dataframe tbody tr th {\n",
       "        vertical-align: top;\n",
       "    }\n",
       "\n",
       "    .dataframe thead th {\n",
       "        text-align: right;\n",
       "    }\n",
       "</style>\n",
       "<table border=\"1\" class=\"dataframe\">\n",
       "  <thead>\n",
       "    <tr style=\"text-align: right;\">\n",
       "      <th></th>\n",
       "      <th>Pelo corto</th>\n",
       "      <th>Peso</th>\n",
       "      <th>Estatura</th>\n",
       "      <th>Sexo</th>\n",
       "    </tr>\n",
       "  </thead>\n",
       "  <tbody>\n",
       "    <tr>\n",
       "      <th>0</th>\n",
       "      <td>False</td>\n",
       "      <td>False</td>\n",
       "      <td>True</td>\n",
       "      <td>M</td>\n",
       "    </tr>\n",
       "    <tr>\n",
       "      <th>1</th>\n",
       "      <td>True</td>\n",
       "      <td>True</td>\n",
       "      <td>True</td>\n",
       "      <td>M</td>\n",
       "    </tr>\n",
       "    <tr>\n",
       "      <th>2</th>\n",
       "      <td>False</td>\n",
       "      <td>False</td>\n",
       "      <td>False</td>\n",
       "      <td>M</td>\n",
       "    </tr>\n",
       "  </tbody>\n",
       "</table>\n",
       "</div>"
      ],
      "text/plain": [
       "   Pelo corto   Peso  Estatura Sexo\n",
       "0       False  False      True    M\n",
       "1        True   True      True    M\n",
       "2       False  False     False    M"
      ]
     },
     "metadata": {},
     "output_type": "display_data"
    },
    {
     "name": "stdout",
     "output_type": "stream",
     "text": [
      "\n"
     ]
    },
    {
     "data": {
      "text/html": [
       "<div>\n",
       "<style scoped>\n",
       "    .dataframe tbody tr th:only-of-type {\n",
       "        vertical-align: middle;\n",
       "    }\n",
       "\n",
       "    .dataframe tbody tr th {\n",
       "        vertical-align: top;\n",
       "    }\n",
       "\n",
       "    .dataframe thead th {\n",
       "        text-align: right;\n",
       "    }\n",
       "</style>\n",
       "<table border=\"1\" class=\"dataframe\">\n",
       "  <thead>\n",
       "    <tr style=\"text-align: right;\">\n",
       "      <th></th>\n",
       "      <th>dtypes</th>\n",
       "    </tr>\n",
       "  </thead>\n",
       "  <tbody>\n",
       "    <tr>\n",
       "      <th>Pelo corto</th>\n",
       "      <td>bool</td>\n",
       "    </tr>\n",
       "    <tr>\n",
       "      <th>Peso</th>\n",
       "      <td>bool</td>\n",
       "    </tr>\n",
       "    <tr>\n",
       "      <th>Estatura</th>\n",
       "      <td>bool</td>\n",
       "    </tr>\n",
       "    <tr>\n",
       "      <th>Sexo</th>\n",
       "      <td>category</td>\n",
       "    </tr>\n",
       "  </tbody>\n",
       "</table>\n",
       "</div>"
      ],
      "text/plain": [
       "              dtypes\n",
       "Pelo corto      bool\n",
       "Peso            bool\n",
       "Estatura        bool\n",
       "Sexo        category"
      ]
     },
     "execution_count": 3,
     "metadata": {},
     "output_type": "execute_result"
    }
   ],
   "source": [
    "# Trasformamos columnas continuas (Peso y Estatura) a variables categoricas.\n",
    "df[\"Peso\"]=df[\"Peso\"].apply(lambda x: x>80)\n",
    "df[\"Estatura\"]=df[\"Estatura\"].apply(lambda x: x>180)\n",
    "df['Sexo']= df.Sexo.astype('category') # Convertimos a categorical\n",
    "display(df.head(3))\n",
    "print()\n",
    "pd.DataFrame(df.dtypes,columns=['dtypes'])"
   ]
  },
  {
   "cell_type": "code",
   "execution_count": 4,
   "metadata": {},
   "outputs": [
    {
     "data": {
      "text/html": [
       "<div>\n",
       "<style scoped>\n",
       "    .dataframe tbody tr th:only-of-type {\n",
       "        vertical-align: middle;\n",
       "    }\n",
       "\n",
       "    .dataframe tbody tr th {\n",
       "        vertical-align: top;\n",
       "    }\n",
       "\n",
       "    .dataframe thead th {\n",
       "        text-align: right;\n",
       "    }\n",
       "</style>\n",
       "<table border=\"1\" class=\"dataframe\">\n",
       "  <thead>\n",
       "    <tr style=\"text-align: right;\">\n",
       "      <th></th>\n",
       "      <th>Pelo corto</th>\n",
       "      <th>Peso</th>\n",
       "      <th>Estatura</th>\n",
       "    </tr>\n",
       "    <tr>\n",
       "      <th>Sexo</th>\n",
       "      <th></th>\n",
       "      <th></th>\n",
       "      <th></th>\n",
       "    </tr>\n",
       "  </thead>\n",
       "  <tbody>\n",
       "    <tr>\n",
       "      <th>H</th>\n",
       "      <td>10</td>\n",
       "      <td>10</td>\n",
       "      <td>10</td>\n",
       "    </tr>\n",
       "    <tr>\n",
       "      <th>M</th>\n",
       "      <td>10</td>\n",
       "      <td>10</td>\n",
       "      <td>10</td>\n",
       "    </tr>\n",
       "  </tbody>\n",
       "</table>\n",
       "</div>"
      ],
      "text/plain": [
       "      Pelo corto  Peso  Estatura\n",
       "Sexo                            \n",
       "H             10    10        10\n",
       "M             10    10        10"
      ]
     },
     "execution_count": 4,
     "metadata": {},
     "output_type": "execute_result"
    }
   ],
   "source": [
    "df.groupby(['Sexo'], observed=True).count()"
   ]
  },
  {
   "cell_type": "markdown",
   "metadata": {},
   "source": [
    "Vemos entonces que antes de hacer ninguna partición tenemos que la población total es de 20 personas, siendo:\n",
    "* 10 mujeres\n",
    "* 10 hombres  \n",
    "\n",
    "Por lo que si tratamos de predecir el sexo de una persona, tenemos un 50% de probabilidad de éxito.\n",
    "\n",
    "A continuación vamos a ver qué feature logra particionar la población de una manera más homogenea, de manera que mejore nuestras probabilidades de predecir el sexo de la persona. "
   ]
  },
  {
   "cell_type": "markdown",
   "metadata": {},
   "source": [
    "**1. Particionamos la población por el atributo de \"Peso\" > 80 kg**"
   ]
  },
  {
   "cell_type": "code",
   "execution_count": 5,
   "metadata": {},
   "outputs": [
    {
     "data": {
      "text/html": [
       "<div>\n",
       "<style scoped>\n",
       "    .dataframe tbody tr th:only-of-type {\n",
       "        vertical-align: middle;\n",
       "    }\n",
       "\n",
       "    .dataframe tbody tr th {\n",
       "        vertical-align: top;\n",
       "    }\n",
       "\n",
       "    .dataframe thead th {\n",
       "        text-align: right;\n",
       "    }\n",
       "</style>\n",
       "<table border=\"1\" class=\"dataframe\">\n",
       "  <thead>\n",
       "    <tr style=\"text-align: right;\">\n",
       "      <th></th>\n",
       "      <th></th>\n",
       "      <th>Count</th>\n",
       "      <th>p</th>\n",
       "    </tr>\n",
       "    <tr>\n",
       "      <th>Peso</th>\n",
       "      <th>Sexo</th>\n",
       "      <th></th>\n",
       "      <th></th>\n",
       "    </tr>\n",
       "  </thead>\n",
       "  <tbody>\n",
       "    <tr>\n",
       "      <th rowspan=\"2\" valign=\"top\">False</th>\n",
       "      <th>H</th>\n",
       "      <td>6</td>\n",
       "      <td>0.428571</td>\n",
       "    </tr>\n",
       "    <tr>\n",
       "      <th>M</th>\n",
       "      <td>8</td>\n",
       "      <td>0.571429</td>\n",
       "    </tr>\n",
       "    <tr>\n",
       "      <th rowspan=\"2\" valign=\"top\">True</th>\n",
       "      <th>H</th>\n",
       "      <td>4</td>\n",
       "      <td>0.666667</td>\n",
       "    </tr>\n",
       "    <tr>\n",
       "      <th>M</th>\n",
       "      <td>2</td>\n",
       "      <td>0.333333</td>\n",
       "    </tr>\n",
       "  </tbody>\n",
       "</table>\n",
       "</div>"
      ],
      "text/plain": [
       "            Count         p\n",
       "Peso  Sexo                 \n",
       "False H         6  0.428571\n",
       "      M         8  0.571429\n",
       "True  H         4  0.666667\n",
       "      M         2  0.333333"
      ]
     },
     "metadata": {},
     "output_type": "display_data"
    }
   ],
   "source": [
    "df_peso = df.groupby(['Peso','Sexo'], observed=True)[['Sexo']].count()\n",
    "df_peso = df_peso.rename(columns = {'Sexo':'Count'})\n",
    "df_peso.loc[False,'p']= df_peso.loc[False,'Count'].values / df_peso.loc[False,'Count'].sum()\n",
    "df_peso.loc[True,'p']= df_peso.loc[True,'Count'].values / df_peso.loc[True,'Count'].sum()\n",
    "display(df_peso)"
   ]
  },
  {
   "cell_type": "markdown",
   "metadata": {},
   "source": [
    "**2. Particionamos la población por el atributo de \"Estatura\" > 180 cm**"
   ]
  },
  {
   "cell_type": "code",
   "execution_count": 6,
   "metadata": {},
   "outputs": [
    {
     "data": {
      "text/html": [
       "<div>\n",
       "<style scoped>\n",
       "    .dataframe tbody tr th:only-of-type {\n",
       "        vertical-align: middle;\n",
       "    }\n",
       "\n",
       "    .dataframe tbody tr th {\n",
       "        vertical-align: top;\n",
       "    }\n",
       "\n",
       "    .dataframe thead th {\n",
       "        text-align: right;\n",
       "    }\n",
       "</style>\n",
       "<table border=\"1\" class=\"dataframe\">\n",
       "  <thead>\n",
       "    <tr style=\"text-align: right;\">\n",
       "      <th></th>\n",
       "      <th></th>\n",
       "      <th>Count</th>\n",
       "      <th>p</th>\n",
       "    </tr>\n",
       "    <tr>\n",
       "      <th>Estatura</th>\n",
       "      <th>Sexo</th>\n",
       "      <th></th>\n",
       "      <th></th>\n",
       "    </tr>\n",
       "  </thead>\n",
       "  <tbody>\n",
       "    <tr>\n",
       "      <th rowspan=\"2\" valign=\"top\">False</th>\n",
       "      <th>H</th>\n",
       "      <td>4</td>\n",
       "      <td>0.333333</td>\n",
       "    </tr>\n",
       "    <tr>\n",
       "      <th>M</th>\n",
       "      <td>8</td>\n",
       "      <td>0.666667</td>\n",
       "    </tr>\n",
       "    <tr>\n",
       "      <th rowspan=\"2\" valign=\"top\">True</th>\n",
       "      <th>H</th>\n",
       "      <td>6</td>\n",
       "      <td>0.750000</td>\n",
       "    </tr>\n",
       "    <tr>\n",
       "      <th>M</th>\n",
       "      <td>2</td>\n",
       "      <td>0.250000</td>\n",
       "    </tr>\n",
       "  </tbody>\n",
       "</table>\n",
       "</div>"
      ],
      "text/plain": [
       "               Count         p\n",
       "Estatura Sexo                 \n",
       "False    H         4  0.333333\n",
       "         M         8  0.666667\n",
       "True     H         6  0.750000\n",
       "         M         2  0.250000"
      ]
     },
     "metadata": {},
     "output_type": "display_data"
    }
   ],
   "source": [
    "df_estatura = df.groupby(['Estatura','Sexo'], observed=True)[['Sexo']].count()\n",
    "df_estatura = df_estatura.rename(columns = {'Sexo':'Count'})\n",
    "df_estatura.loc[False,'p']= df_estatura.loc[False,'Count'].values / df_estatura.loc[False,'Count'].sum()\n",
    "df_estatura.loc[True,'p']= df_estatura.loc[True,'Count'].values / df_estatura.loc[True,'Count'].sum()\n",
    "display(df_estatura)"
   ]
  },
  {
   "cell_type": "markdown",
   "metadata": {},
   "source": [
    "**3. Particionamos la población por el atributo de \"Pelo Corto\"**"
   ]
  },
  {
   "cell_type": "code",
   "execution_count": 7,
   "metadata": {},
   "outputs": [
    {
     "data": {
      "text/html": [
       "<div>\n",
       "<style scoped>\n",
       "    .dataframe tbody tr th:only-of-type {\n",
       "        vertical-align: middle;\n",
       "    }\n",
       "\n",
       "    .dataframe tbody tr th {\n",
       "        vertical-align: top;\n",
       "    }\n",
       "\n",
       "    .dataframe thead th {\n",
       "        text-align: right;\n",
       "    }\n",
       "</style>\n",
       "<table border=\"1\" class=\"dataframe\">\n",
       "  <thead>\n",
       "    <tr style=\"text-align: right;\">\n",
       "      <th></th>\n",
       "      <th></th>\n",
       "      <th>Count</th>\n",
       "      <th>p</th>\n",
       "    </tr>\n",
       "    <tr>\n",
       "      <th>Pelo corto</th>\n",
       "      <th>Sexo</th>\n",
       "      <th></th>\n",
       "      <th></th>\n",
       "    </tr>\n",
       "  </thead>\n",
       "  <tbody>\n",
       "    <tr>\n",
       "      <th rowspan=\"2\" valign=\"top\">False</th>\n",
       "      <th>H</th>\n",
       "      <td>2</td>\n",
       "      <td>0.2</td>\n",
       "    </tr>\n",
       "    <tr>\n",
       "      <th>M</th>\n",
       "      <td>8</td>\n",
       "      <td>0.8</td>\n",
       "    </tr>\n",
       "    <tr>\n",
       "      <th rowspan=\"2\" valign=\"top\">True</th>\n",
       "      <th>H</th>\n",
       "      <td>8</td>\n",
       "      <td>0.8</td>\n",
       "    </tr>\n",
       "    <tr>\n",
       "      <th>M</th>\n",
       "      <td>2</td>\n",
       "      <td>0.2</td>\n",
       "    </tr>\n",
       "  </tbody>\n",
       "</table>\n",
       "</div>"
      ],
      "text/plain": [
       "                 Count    p\n",
       "Pelo corto Sexo            \n",
       "False      H         2  0.2\n",
       "           M         8  0.8\n",
       "True       H         8  0.8\n",
       "           M         2  0.2"
      ]
     },
     "metadata": {},
     "output_type": "display_data"
    }
   ],
   "source": [
    "df_pc = df.groupby(['Pelo corto','Sexo'], observed=True)[['Sexo']].count()\n",
    "df_pc = df_pc.rename(columns = {'Sexo':'Count'})\n",
    "df_pc.loc[False,'p']= df_pc.loc[False,'Count'].values / df_pc.loc[False,'Count'].sum()\n",
    "df_pc.loc[True,'p']= df_pc.loc[True,'Count'].values / df_pc.loc[True,'Count'].sum()\n",
    "display(df_pc)"
   ]
  },
  {
   "cell_type": "markdown",
   "metadata": {},
   "source": [
    "Luego de hacer el split utilizando todas las variables independientes, podemos comparar cuál es la que me permite predecir mejor si la persona es hombre o mujer:"
   ]
  },
  {
   "cell_type": "markdown",
   "metadata": {},
   "source": [
    "<p align=\"center\">\n",
    "  <img  src=\"img/Split_Peso.png\">\n",
    "  <img  src=\"img/Split_estatura.png\">\n",
    "  <img  src=\"img/Split_PC.png\">\n",
    "</p>"
   ]
  },
  {
   "cell_type": "markdown",
   "metadata": {},
   "source": [
    "1. **Peso**: los nodos hijos son casi tan heterogéneos como la población total. Es decir esta partición no está aumentando de forma considerable las probabilidades de mejorar la predicción.\n",
    "\n",
    "2. **Estatura**: logra cierto grado de homogeneidad en los nodos hijos, con lo cual estamos en mejores condiciones de predecir el sexo de una persona luego de haber contestado a la pregunta si la persona mide más de 180 cm comparado a cómo estaba inicialmente antes de contestar dicha pregunta. \n",
    "\n",
    "3. **Pelo Corto**: igual al segundo, pero logrando incluso mayor homogeneidad en los nodos hijos. Probabilidad aumenta de 50% por adivinar el sexo a 80% por contestar la pregunta si tiene pelo corto.\n",
    "\n",
    "Observamos entonces que: \n",
    "1. Particionando a la población según los distintos atributos, puede aumentar la precisión en la clasificación. \n",
    "2. Dicha precisión va a depender del atributo que selecionemos para realizar la partición, siendo el mejor atributo para particionar aquel que logra que los nodos hijos sean lo más homogéneos (puros) posibles.  \n"
   ]
  },
  {
   "cell_type": "markdown",
   "metadata": {},
   "source": [
    "### 🤔 ¿Cómo seleccionar la mejor partición?\n",
    "Buscamos que las particiones (splits) generen nodos hijos con la menor impureza posible (o dicho de otra forma, la mayor pureza posible). Existen distintos métodos para evaluar la efectividad de las particiones:\n",
    "- Índice de Gini\n",
    "- Test Chi-cuadrado\n",
    "- Entropía / Ganancia de información \n",
    "- Reducción de Varianza\n",
    "\n",
    "La selección de criterios de decisión dependerá de si los árboles son de clasificación o regresión"
   ]
  },
  {
   "cell_type": "markdown",
   "metadata": {},
   "source": [
    "| |Regresión  | Clasificación  | \n",
    "|:--|:--|:--|\n",
    "|Variable dependiente|**Continua**|**Categórica**|  \n",
    "|Criterio de Partición| **Reducción de Varianza**|**Inpureza de Gini** (solo particiones binarias)<br>**Chi-Cuadrado** para particiones de orden mayor a 2<br>**Entropía**|\n",
    "| Valores de los nodos terminales |**Media** de las observaciones en esa región | **Moda** de las observaciones del train set en esa región| "
   ]
  },
  {
   "cell_type": "markdown",
   "metadata": {},
   "source": [
    "### **Criterio de partición: Gini**\n",
    "\n",
    "El índice de Gini es una medida de **impureza** que se utiliza para decidir qué atributo es el más adecuado para dividir los datos en un nodo de un árbol de decisión.\n",
    "\n",
    "#### 🧐 ¿Qué busca el índice de Gini?\n",
    "\n",
    "- Minimizar la probabilidad de clasificar incorrectamente una muestra seleccionada aleatoriamente.\n",
    "- Medir la pureza del nodo, es decir, cuán mezcladas están las clases presentes.\n",
    "- En cada nodo, el árbol realiza una única división binaria (es decir, genera dos ramas).\n",
    "> ⚠️ Esto no significa que no se pueda usar en problemas multi-clase. \n",
    ">\n",
    "> El índice de Gini es completamente aplicable a múltiples clases, simplemente se evalúa la impureza considerando todas las clases presentes en el nodo.\n",
    "\n",
    "#### Índice de Gini en un nodo\n",
    "\n",
    "La pureza de un nodo $t$ se calcula como:\n",
    "\n",
    "$$\n",
    "Gini(t) = \\sum_{j=1}^{n} [p(j|t))]^{2} = p_{1}^{2}+p_{2}^{2}+...+p_{n}^{2}\n",
    "$$ \n",
    "\n",
    "donde:\n",
    "- $p(j|t)$ es la proporción de elementos de la clase $j$ en el nodo $t$.\n",
    "- $n$ es el número total de clases.\n",
    "\n",
    "#### Impureza de Gini\n",
    "\n",
    "La impureza de Gini se define como:\n",
    "\n",
    "$$\n",
    "Impureza\\,de\\,Gini(t) = 1 - Gini(t)\n",
    "$$\n",
    "\n",
    "- Esta fórmula permite evaluar cuán mezclado está un nodo: valores cercanos a 0 indican un nodo puro, y valores cercanos a 1 indican mayor impureza.\n",
    "\n",
    "\n",
    "#### 📐 Cálculo de la impureza después de una partición\n",
    "\n",
    "\n",
    "Cuando un nodo padre se divide en $k$ nodos hijos, la impureza de la partición se calcula como el promedio ponderado de las impurezas de los nodos hijos:\n",
    "$$\n",
    "Impureza\\,de\\,Gini_{split} = \\frac{1}{n}\\sum_{i=1}^{k}n_{i}\\cdot impureza\\,de\\,Gini(i)\n",
    "$$\n",
    "donde:\n",
    "- $n_i$ es la cantidad de elementos en el nodo hijo $i$\n",
    "- $n$ es la suma total de elementos de todos los nodos hijos.\n",
    "\n",
    "#### ✅ ¿Cómo se elige al mejor feature para dividir?\n",
    "1. Se calcula la impureza de Gini para cada posible partición según cada feature.\n",
    "2. Se elige el atributo cuya división produce la impureza de Gini total más baja.\n",
    "3. El proceso se repite recursivamente para cada nuevo nodo hijo."
   ]
  },
  {
   "cell_type": "markdown",
   "metadata": {},
   "source": [
    "🔙 **Volviendo a nuestro ejemplo**\n",
    "\n",
    "Hagamos los cálculos para determinar la impureza de Gini para cada partición posible."
   ]
  },
  {
   "cell_type": "code",
   "execution_count": 8,
   "metadata": {},
   "outputs": [
    {
     "name": "stdout",
     "output_type": "stream",
     "text": [
      "\n",
      "----------------\n",
      "feature 1: PESO\n",
      "----------------\n",
      "\n"
     ]
    },
    {
     "data": {
      "text/html": [
       "<div>\n",
       "<style scoped>\n",
       "    .dataframe tbody tr th:only-of-type {\n",
       "        vertical-align: middle;\n",
       "    }\n",
       "\n",
       "    .dataframe tbody tr th {\n",
       "        vertical-align: top;\n",
       "    }\n",
       "\n",
       "    .dataframe thead th {\n",
       "        text-align: right;\n",
       "    }\n",
       "</style>\n",
       "<table border=\"1\" class=\"dataframe\">\n",
       "  <thead>\n",
       "    <tr style=\"text-align: right;\">\n",
       "      <th></th>\n",
       "      <th>Impureza Gini</th>\n",
       "    </tr>\n",
       "  </thead>\n",
       "  <tbody>\n",
       "    <tr>\n",
       "      <th>False</th>\n",
       "      <td>0.489796</td>\n",
       "    </tr>\n",
       "    <tr>\n",
       "      <th>True</th>\n",
       "      <td>0.444444</td>\n",
       "    </tr>\n",
       "  </tbody>\n",
       "</table>\n",
       "</div>"
      ],
      "text/plain": [
       "       Impureza Gini\n",
       "False       0.489796\n",
       "True        0.444444"
      ]
     },
     "metadata": {},
     "output_type": "display_data"
    },
    {
     "name": "stdout",
     "output_type": "stream",
     "text": [
      "Gini split: 0.48\n"
     ]
    }
   ],
   "source": [
    "print(\"\"\"\n",
    "----------------\n",
    "feature 1: PESO\n",
    "----------------\n",
    "\"\"\")\n",
    "\n",
    "# definimos una nueva columna que tenga la probabilidad al cuadrado.\n",
    "df_peso['p2'] = df_peso['p']**2\n",
    "\n",
    "# siguiendo la formula de Gini, calculamos la impureza de Gini para cada nodo hijo \n",
    "imp_gini_false = 1 - df_peso.loc[False,'p2'].sum()\n",
    "imp_gini_true  = 1 - df_peso.loc[True,'p2'].sum()\n",
    "\n",
    "# creamos un dataframe con los valores de las impurezas de Gini recién calculadas para cada nodo hijo.\n",
    "df_gini = pd.DataFrame(index=[False,True], columns=['Impureza Gini'], data=[imp_gini_false,imp_gini_true])\n",
    "display(df_gini)\n",
    "\n",
    "# finalmente calculamos el Gini de la partición utilizando el atributo PESO, \n",
    "# como el promedio ponderado de las impurezas de Gini de los nodos hijos\n",
    "Gini_split = 1/20 * ((6+8)*imp_gini_false + (4+2)*imp_gini_true)\n",
    "\n",
    "print(\"Gini split: %.2f\" % Gini_split)"
   ]
  },
  {
   "cell_type": "code",
   "execution_count": 9,
   "metadata": {},
   "outputs": [
    {
     "name": "stdout",
     "output_type": "stream",
     "text": [
      "\n",
      "--------------------\n",
      "feature 2: ESTATURA\n",
      "--------------------\n",
      "\n"
     ]
    },
    {
     "data": {
      "text/html": [
       "<div>\n",
       "<style scoped>\n",
       "    .dataframe tbody tr th:only-of-type {\n",
       "        vertical-align: middle;\n",
       "    }\n",
       "\n",
       "    .dataframe tbody tr th {\n",
       "        vertical-align: top;\n",
       "    }\n",
       "\n",
       "    .dataframe thead th {\n",
       "        text-align: right;\n",
       "    }\n",
       "</style>\n",
       "<table border=\"1\" class=\"dataframe\">\n",
       "  <thead>\n",
       "    <tr style=\"text-align: right;\">\n",
       "      <th></th>\n",
       "      <th>Impureza Gini</th>\n",
       "    </tr>\n",
       "  </thead>\n",
       "  <tbody>\n",
       "    <tr>\n",
       "      <th>False</th>\n",
       "      <td>0.444444</td>\n",
       "    </tr>\n",
       "    <tr>\n",
       "      <th>True</th>\n",
       "      <td>0.375000</td>\n",
       "    </tr>\n",
       "  </tbody>\n",
       "</table>\n",
       "</div>"
      ],
      "text/plain": [
       "       Impureza Gini\n",
       "False       0.444444\n",
       "True        0.375000"
      ]
     },
     "metadata": {},
     "output_type": "display_data"
    },
    {
     "name": "stdout",
     "output_type": "stream",
     "text": [
      "Gini split: 0.42\n"
     ]
    }
   ],
   "source": [
    "print(\"\"\"\n",
    "--------------------\n",
    "feature 2: ESTATURA\n",
    "--------------------\n",
    "\"\"\")\n",
    "\n",
    "# definimos una nueva columna que tenga la probabilidad al cuadrado.\n",
    "df_estatura['p2'] = df_estatura['p']**2\n",
    "\n",
    "# siguiendo la formula de Gini, calculamos la impureza de Gini para cada nodo hijo \n",
    "imp_gini_false = 1 - df_estatura.loc[False,'p2'].sum()\n",
    "imp_gini_true  = 1 - df_estatura.loc[True,'p2'].sum()\n",
    "\n",
    "# creamos un dataframe con los valores de las impurezas de Gini recién calculadas para cada nodo hijo.\n",
    "df_gini = pd.DataFrame(index = [False,True],columns=['Impureza Gini'], data=[imp_gini_false,imp_gini_true])\n",
    "display(df_gini)\n",
    "\n",
    "# finalmente calculamos el Gini de la partición utilizando el atributo ESTATURA, \n",
    "# como el promedio ponderado de las impurezas de Gini de los nodos hijos\n",
    "Gini_split = 1/20 * ((6+8)*imp_gini_false + (4+2)*imp_gini_true)\n",
    "\n",
    "print(\"Gini split: %.2f\" % Gini_split)"
   ]
  },
  {
   "cell_type": "code",
   "execution_count": 10,
   "metadata": {},
   "outputs": [
    {
     "name": "stdout",
     "output_type": "stream",
     "text": [
      "\n",
      "----------------------\n",
      "feature 3: PELO CORTO\n",
      "----------------------\n",
      "\n"
     ]
    },
    {
     "data": {
      "text/html": [
       "<div>\n",
       "<style scoped>\n",
       "    .dataframe tbody tr th:only-of-type {\n",
       "        vertical-align: middle;\n",
       "    }\n",
       "\n",
       "    .dataframe tbody tr th {\n",
       "        vertical-align: top;\n",
       "    }\n",
       "\n",
       "    .dataframe thead th {\n",
       "        text-align: right;\n",
       "    }\n",
       "</style>\n",
       "<table border=\"1\" class=\"dataframe\">\n",
       "  <thead>\n",
       "    <tr style=\"text-align: right;\">\n",
       "      <th></th>\n",
       "      <th>Impureza Gini</th>\n",
       "    </tr>\n",
       "  </thead>\n",
       "  <tbody>\n",
       "    <tr>\n",
       "      <th>False</th>\n",
       "      <td>0.32</td>\n",
       "    </tr>\n",
       "    <tr>\n",
       "      <th>True</th>\n",
       "      <td>0.32</td>\n",
       "    </tr>\n",
       "  </tbody>\n",
       "</table>\n",
       "</div>"
      ],
      "text/plain": [
       "       Impureza Gini\n",
       "False           0.32\n",
       "True            0.32"
      ]
     },
     "metadata": {},
     "output_type": "display_data"
    },
    {
     "name": "stdout",
     "output_type": "stream",
     "text": [
      "Gini split: 0.32\n"
     ]
    }
   ],
   "source": [
    "print(\"\"\"\n",
    "----------------------\n",
    "feature 3: PELO CORTO\n",
    "----------------------\n",
    "\"\"\")\n",
    "\n",
    "# definimos una nueva columna que tenga la probabilidad al cuadrado.\n",
    "df_pc['p2'] = df_pc['p']**2\n",
    "\n",
    "# siguiendo la formula de Gini, calculamos la impureza de Gini para cada nodo hijo \n",
    "imp_gini_false = 1 - df_pc.loc[False,'p2'].sum()\n",
    "imp_gini_true  = 1 - df_pc.loc[True,'p2'].sum()\n",
    "\n",
    "# creamos un dataframe con los valores de las impurezas de Gini recién calculadas para cada nodo hijo.\n",
    "df_gini = pd.DataFrame(index = [False,True],columns=['Impureza Gini'], data=[imp_gini_false,imp_gini_true])\n",
    "display(df_gini)\n",
    "\n",
    "# finalmente calculamos el Gini de la partición utilizando el atributo PELO CORTO, \n",
    "# como el promedio ponderado de las impurezas de Gini de los nodos hijos\n",
    "Gini_split = 1/20 * ((6+8)*imp_gini_false + (4+2)*imp_gini_true)\n",
    "\n",
    "print(\"Gini split: %.2f\" % Gini_split)"
   ]
  },
  {
   "cell_type": "markdown",
   "metadata": {},
   "source": [
    "|  | Impureza de Gini |\n",
    "|--------------------|:----------------:|\n",
    "| Peso > 80 kg: | 0,48 |\n",
    "| Estatura > 180 cm: | 0,42 |\n",
    "| Pelo Corto: | 0,32 |\n",
    "  \n",
    "🏆 El atributo que genera la mejor partición es **Pelo Corto**. \n",
    "\n",
    "➡️ Llegamos a la misma conclusión a la que habíamos arribado anteriormente en forma intuitiva. "
   ]
  },
  {
   "cell_type": "markdown",
   "metadata": {},
   "source": [
    "### **Criterio de partición: Information Gain**\n",
    "\n",
    "La Ganancia de Información es otro criterio utilizado en modelos de clasificación para decidir qué atributo usar al dividir un nodo. Se basa en la idea de **cuánta incertidumbre se reduce** al realizar una partición.\n",
    "\n",
    "#### 🧐 ¿Qué mide la ganancia de información?\n",
    "\n",
    "- Mide la cantidad de información ganada al dividir un nodo según un atributo.\n",
    "- Utiliza como base la Entropía, una medida tomada de la Teoría de la Información.\n",
    "- El objetivo es encontrar la partición que más reduzca la entropía (es decir, que nos acerque a nodos puros).\n",
    "\n",
    "#### ¿Qué es la Entropía?\n",
    "\n",
    "La entropía mide el grado de desorganización o incertidumbre en un sistema. En árboles de decisión, nos dice cuán mezcladas están las clases en un nodo.\n",
    "\n",
    "$$\n",
    "Entropia(t) = -\\sum_{i=1}^n p{_{i}}log{_{2}}(p{_{i}}) = -p{_{1}}log{_{2}}(p{_{1}}) -p{_{2}}log{_{2}}(p{_{2}}) - ... -p{_{n}}log{_{2}}(p{_{n}}) \n",
    "$$\n",
    "\n",
    "donde:\n",
    "- $p_i$ es la proporción de elementos de la clase $i$ en el nodo $t$.\n",
    "- $n$ es el número total de clases.\n",
    "\n",
    "📌 Interpretación:\n",
    "- Si el nodo tiene una sola clase (puro), la entropía es 0.\n",
    "- Si las clases están equilibradas, la entropía es máxima (máxima incertidumbre).\n",
    "\n",
    "\n",
    "#### 📐 Cálculo de la Ganancia de Información\n",
    "\n",
    "Una vez que tenemos la entropía del nodo padre y de los nodos hijos tras la partición, podemos calcular la Ganancia de Información:\n",
    "\n",
    "\n",
    "$$\n",
    "Ganancia\\ de\\ Informacion = Entropia{_{nodo\\ padre}} - \\sum_{i=1}^k ({\\frac{n_i}{n} \\dot \\ Entropia(i)})\n",
    "$$\n",
    "\n",
    "donde:\n",
    "- $n_i$ es la cantidad de muestras en el nodo hijo $i$.\n",
    "- $n$ es el total de muestras del nodo padre.\n",
    "- $Entropia(i)$ es la entropía del nodo hijo $i$.\n",
    "- $k$ es el número de nodos hijos.\n",
    "\n",
    "#### ✅ ¿Cómo se elige al mejor feature para dividir?\n",
    "\n",
    "1. Se calcula la Entropía del nodo padre.\n",
    "2. Se calcula la Entropía ponderada de los nodos hijos para cada posible partición.\n",
    "3. Se calcula la Ganancia de Información restando la entropía ponderada de la entropía del nodo padre.\n",
    "4. Se selecciona la feature que produzca la mayor ganancia de información.\n",
    "5. Se repite recursivamente en cada nuevo nodo del árbol.\n",
    "\n",
    "> ➡️ Cuanto mayor sea la ganancia de información, mejor es la partición.\n",
    "\n"
   ]
  },
  {
   "cell_type": "markdown",
   "metadata": {},
   "source": [
    "🔙 **Volviendo a nuestro ejemplo**\n",
    "\n",
    "Hagamos los cálculos para determinar la Ganancia de Información para cada partición posible!"
   ]
  },
  {
   "cell_type": "code",
   "execution_count": 28,
   "metadata": {},
   "outputs": [
    {
     "data": {
      "text/plain": [
       "0.969"
      ]
     },
     "execution_count": 28,
     "metadata": {},
     "output_type": "execute_result"
    }
   ],
   "source": [
    "((14/20)*0.99 + ((6/20)*0.92))"
   ]
  },
  {
   "cell_type": "markdown",
   "metadata": {},
   "source": [
    "<p align=\"center\">\n",
    "  <img  src=\"img/peso_h.png\">\n",
    "  <img  src=\"img/peso_h_t.png\">\n",
    "</p>"
   ]
  },
  {
   "cell_type": "markdown",
   "metadata": {},
   "source": [
    "<p align=\"center\">\n",
    "  <img  src=\"img/estatura_h.png\">\n",
    "  <img  src=\"img/estatura_h_t.png\">\n",
    "</p>"
   ]
  },
  {
   "cell_type": "markdown",
   "metadata": {},
   "source": [
    "<p align=\"center\">\n",
    "  <img  src=\"img/pelo_h.png\">\n",
    "  <img  src=\"img/pelo_h_t.png\">\n",
    "</p>"
   ]
  },
  {
   "cell_type": "markdown",
   "metadata": {},
   "source": [
    "|  | Ganancia de información |\n",
    "|--------------------|:----------------:|\n",
    "| Peso > 80 kg: | 0,03 |\n",
    "| Estatura > 180 cm: | 0,11 |\n",
    "| Pelo Corto: | 0,28 |\n",
    "  \n",
    "\n",
    "🏆 El atributo que genera la mejor partición es **Pelo Corto**. \n",
    "\n",
    "➡️ Llegamos a la misma conclusión a la que habíamos arribado anteriormente con la impureza de Gini y en forma intuitiva. "
   ]
  },
  {
   "cell_type": "markdown",
   "metadata": {},
   "source": [
    "## 3. Optimizando Performance de los Árboles de Decisión\n",
    "### ✂️ Poda de árboles o Tree Pruning\n",
    "\n",
    "Como mencionamos anteriormente, los algoritmos de árboles de decisión tienden a sobreajustar, especialmente cuando el árbol crece demasiado y se adapta a todos los detalles del conjunto de entrenamiento.\n",
    "\n",
    "A fin de minimizar el sobreajuste y también reducir la complejidad de los árboles de decisión se suele aplicar una técnica conocida como **poda** o **pruning**. \n",
    "\n",
    "#### 🌿 ¿Qué es la poda?\n",
    "\n",
    "La poda consiste en reducir el tamaño del árbol, **eliminando nodos** que no aportan valor significativo a la predicción o **que representan ruido**.\n",
    "\n",
    "Esto ayuda a:\n",
    "\n",
    "- Mejorar la capacidad de generalización del modelo.\n",
    "- Reducir la complejidad y el tiempo de entrenamiento.\n",
    "- Evitar decisiones demasiado específicas del conjunto de entrenamiento.\n",
    "\n",
    "#### ✏️ Principales criterios de poda (o corte)\n",
    "\n",
    "Existen varios parámetros de control que se pueden ajustar para limitar el crecimiento del árbol:\n",
    "\n",
    "- **`max_depth`**:  \n",
    "  Limita la **profundidad máxima** del árbol, es decir, la cantidad de niveles desde la raíz hasta una hoja.  \n",
    "  > Cuanto menor sea este valor, más simple y general será el árbol.\n",
    "\n",
    "  <p align=\"center\">\n",
    "    <img  src=\"img/max_depth.webp\">\n",
    "  </p>\n",
    "\n",
    "- **`min_samples_leaf`**:  \n",
    "  Establece el **número mínimo de muestras requerido en cada hoja**.  \n",
    "  > Evita que se creen hojas con muy pocos datos, que suelen representar ruido.\n",
    "\n",
    "  <p align=\"center\">\n",
    "    <img  src=\"img/min_samples_leaf.webp\">\n",
    "  </p>\n",
    "\n",
    "- **`min_samples_split`**:  \n",
    "  Define el **número mínimo de muestras necesario para dividir un nodo**.  \n",
    "  > Si un nodo tiene menos muestras que este valor, no se divide más.\n",
    "\n",
    "  <p align=\"center\">\n",
    "    <img  src=\"img/min_samples_split.webp\">\n",
    "  </p>\n",
    "  "
   ]
  },
  {
   "cell_type": "markdown",
   "metadata": {},
   "source": [
    "## 4. Implementación de un Árbol de Decisión"
   ]
  },
  {
   "cell_type": "markdown",
   "metadata": {},
   "source": [
    "- Vamos a crear una clase `DecisionTree`. \n",
    "- Para esta implementación, usaremos la Entropía como criterio de división. La función `find_best_split` se basará en buscar las divisiones con menor entropía. Tendremos un approach \"greedy\" para simplificar el código.\n",
    "- También, creamos la clase `TreeNode` donde guardamos la información de los splits y la relación con los nodos de la derecha e izquierda.\n",
    "- Finalmente, la función `create_tree` es una función recursiva que crea el árbol y eventualmente frena si se cumplen los criterios para frenar. Los criterios de parada implementados fueron:\n",
    "    * Profundidad máxima del árbol (`max_depth`)\n",
    "    * Número mínimo de muestras requeridas en cada hoja después de hacer la división (`min_samples_leaf`)\n",
    "    * Valor mínimo de ganancia de información (`min_information_gain`)\n",
    "\n",
    "- Desarrollaremos un método `train` y `predict` para entrenar y predecir un valor de salida categórico respectivamente.\n",
    "    * Train: Solo toma los sets de entrenamiento y comienza el proceso recursivo de `create_tree`, guardando el primer nodo del árbol (root)\n",
    "    * Predict: Se calcula la probabilidad de que una muestra corresponda a cualquier clase. Cada hoja tiene probabilidades constantes para cada etiqueta, y esas probabilidades se aprenden en la fase de entrenamiento. Para hacer una nueva predicción, vamos a tomar la data no etiquetada y comenzar desde el nodo raíz y va a seguir el camino que cumple. Esto se hace usando un bucle while que frena cuando no hay otro nodo más (llega al nodo hoja). Una vez que predice las probabilidades, la función predict retorna la clase más probable."
   ]
  },
  {
   "cell_type": "markdown",
   "metadata": {},
   "source": [
    "#### Probamos funcionamiento sobre Dataset \"Iris\"\n",
    "\n",
    "- El conjunto de datos contiene 50 muestras de cada una de tres especies de Iris (Iris setosa, Iris virginica e Iris versicolor). \n",
    "- Se midieron cuatro rasgos de cada muestra: el largo y ancho del sépalo y pétalo, en centímetros. "
   ]
  },
  {
   "cell_type": "markdown",
   "metadata": {},
   "source": [
    "<p align=\"center\">\n",
    "    <img  src=\"img/iris.png\">\n",
    "</p>"
   ]
  },
  {
   "cell_type": "code",
   "execution_count": 11,
   "metadata": {},
   "outputs": [],
   "source": [
    "from sklearn import datasets\n",
    "\n",
    "iris = datasets.load_iris()\n",
    "X = np.array(iris.data)\n",
    "Y = np.array(iris.target)"
   ]
  },
  {
   "cell_type": "code",
   "execution_count": 12,
   "metadata": {},
   "outputs": [
    {
     "name": "stdout",
     "output_type": "stream",
     "text": [
      "Train Shape: (112, 4)\n",
      "Test Shape: (38, 4)\n"
     ]
    }
   ],
   "source": [
    "from sklearn.model_selection import train_test_split\n",
    "\n",
    "X_train, X_test, Y_train, Y_test = train_test_split(X,Y, test_size = 0.25, random_state = 0)\n",
    "print(\"Train Shape:\", X_train.shape)\n",
    "print(\"Test Shape:\", X_test.shape)"
   ]
  },
  {
   "cell_type": "markdown",
   "metadata": {},
   "source": [
    "Entrenamos con 75% de la data"
   ]
  },
  {
   "cell_type": "code",
   "execution_count": 13,
   "metadata": {},
   "outputs": [],
   "source": [
    "from decision_tree import DecisionTree\n",
    "\n",
    "dt = DecisionTree(max_depth=3, min_samples_leaf= 1, min_information_gain=0.4)\n",
    "dt.train(X_train, Y_train)"
   ]
  },
  {
   "cell_type": "code",
   "execution_count": 14,
   "metadata": {},
   "outputs": [
    {
     "data": {
      "image/png": "[encoded data removed]",
      "text/plain": [
       "<Figure size 1200x600 with 1 Axes>"
      ]
     },
     "metadata": {},
     "output_type": "display_data"
    }
   ],
   "source": [
    "dt.plot_decision_tree(iris.feature_names, fig_size=(12,6))"
   ]
  },
  {
   "cell_type": "code",
   "execution_count": 15,
   "metadata": {},
   "outputs": [
    {
     "name": "stdout",
     "output_type": "stream",
     "text": [
      "                                → 🍃 \u001b[1mLEAF\u001b[0m | Label Counts = 0.0->36 | Pred Probs = [1. 0. 0.]\n",
      "                → ❓ \u001b[1mNODE\u001b[0m | IG = 0.6731015728685515 | Split IF X[3] < 0.525 then LEFT else RIGHT\n",
      "                                                → 🍃 \u001b[1mLEAF\u001b[0m | Label Counts = 0.0->1 | Pred Probs = [1. 0. 0.]\n",
      "                                → ❓ \u001b[1mNODE\u001b[0m | IG = 0.41381685030363374 | Split IF X[3] < 1.0 then LEFT else RIGHT\n",
      "                                                → 🍃 \u001b[1mLEAF\u001b[0m | Label Counts = 1.0->11 | Pred Probs = [0. 1. 0.]\n",
      "→ ❓ \u001b[1mNODE\u001b[0m | IG = 0.7095311377468411 | Split IF X[3] < 1.3 then LEFT else RIGHT\n",
      "                                → 🍃 \u001b[1mLEAF\u001b[0m | Label Counts = 1.0->23, 2.0->6 | Pred Probs = [0.         0.79310345 0.20689655]\n",
      "                → ❓ \u001b[1mNODE\u001b[0m | IG = 0.6088858430669675 | Split IF X[2] < 5.1 then LEFT else RIGHT\n",
      "                                → 🍃 \u001b[1mLEAF\u001b[0m | Label Counts = 2.0->35 | Pred Probs = [0. 0. 1.]\n"
     ]
    }
   ],
   "source": [
    "dt.print_tree()"
   ]
  },
  {
   "cell_type": "code",
   "execution_count": 16,
   "metadata": {},
   "outputs": [
    {
     "data": {
      "image/png": "[encoded data removed]",
      "text/plain": [
       "<Figure size 1000x600 with 1 Axes>"
      ]
     },
     "metadata": {},
     "output_type": "display_data"
    }
   ],
   "source": [
    "dt.plot_feature_importance(iris.feature_names)"
   ]
  },
  {
   "cell_type": "code",
   "execution_count": 17,
   "metadata": {},
   "outputs": [
    {
     "name": "stdout",
     "output_type": "stream",
     "text": [
      "\n",
      "----------------------\n",
      "   Train Performance\n",
      "----------------------\n",
      "\n",
      "True Predictions: 106 / 112\n",
      "Accuracy: 0.9464285714285714\n",
      "Precision (macro): 0.9500000000000001\n",
      "Recall (macro): 0.9512195121951219\n",
      "F1 Score (macro): 0.9466571834992887\n"
     ]
    }
   ],
   "source": [
    "train_preds = dt.predict(X_set=X_train)\n",
    "\n",
    "print(\"\"\"\n",
    "----------------------\n",
    "   Train Performance\n",
    "----------------------\n",
    "\"\"\")\n",
    "\n",
    "true_preds = train_preds == Y_train\n",
    "accuracy = np.sum(true_preds) / len(Y_train)\n",
    "print(\"True Predictions:\", np.sum(true_preds), \"/\", len(Y_train))\n",
    "print(\"Accuracy:\", accuracy)\n",
    "\n",
    "classes = np.unique(Y_train)\n",
    "precision_list = []\n",
    "recall_list = []\n",
    "f1_list = []\n",
    "\n",
    "for cls in classes:\n",
    "    TP = np.sum((train_preds == cls) & (Y_train == cls))\n",
    "    FP = np.sum((train_preds == cls) & (Y_train != cls))\n",
    "    FN = np.sum((train_preds != cls) & (Y_train == cls))\n",
    "    \n",
    "    precision = TP / (TP + FP) if (TP + FP) > 0 else 0\n",
    "    recall = TP / (TP + FN) if (TP + FN) > 0 else 0\n",
    "    f1 = 2 * precision * recall / (precision + recall) if (precision + recall) > 0 else 0\n",
    "\n",
    "    precision_list.append(precision)\n",
    "    recall_list.append(recall)\n",
    "    f1_list.append(f1)\n",
    "\n",
    "# Promedios macro\n",
    "precision_macro = np.mean(precision_list)\n",
    "recall_macro = np.mean(recall_list)\n",
    "f1_macro = np.mean(f1_list)\n",
    "\n",
    "print(\"Precision (macro):\", precision_macro)\n",
    "print(\"Recall (macro):\", recall_macro)\n",
    "print(\"F1 Score (macro):\", f1_macro)"
   ]
  },
  {
   "cell_type": "code",
   "execution_count": 18,
   "metadata": {},
   "outputs": [
    {
     "name": "stdout",
     "output_type": "stream",
     "text": [
      "\n",
      "----------------------\n",
      "   Test Performance\n",
      "----------------------\n",
      "\n",
      "True Predictions: 34 / 38\n",
      "Accuracy: 0.8947368421052632\n",
      "Precision (macro): 0.8968253968253969\n",
      "Recall (macro): 0.8680555555555555\n",
      "F1 Score (macro): 0.8774509803921569\n"
     ]
    }
   ],
   "source": [
    "test_preds = dt.predict(X_set=X_test)\n",
    "\n",
    "print(\"\"\"\n",
    "----------------------\n",
    "   Test Performance\n",
    "----------------------\n",
    "\"\"\")\n",
    "\n",
    "true_preds_test = test_preds == Y_test\n",
    "accuracy_test = np.sum(true_preds_test) / len(Y_test)\n",
    "print(\"True Predictions:\", np.sum(true_preds_test), \"/\", len(Y_test))\n",
    "print(\"Accuracy:\", accuracy_test)\n",
    "\n",
    "classes = np.unique(Y_test)\n",
    "precision_list_test = []\n",
    "recall_list_test = []\n",
    "f1_list_test = []\n",
    "\n",
    "for cls in classes:\n",
    "    TP = np.sum((test_preds == cls) & (Y_test == cls))\n",
    "    FP = np.sum((test_preds == cls) & (Y_test != cls))\n",
    "    FN = np.sum((test_preds != cls) & (Y_test == cls))\n",
    "    \n",
    "    precision = TP / (TP + FP) if (TP + FP) > 0 else 0\n",
    "    recall = TP / (TP + FN) if (TP + FN) > 0 else 0\n",
    "    f1 = 2 * precision * recall / (precision + recall) if (precision + recall) > 0 else 0\n",
    "\n",
    "    precision_list_test.append(precision)\n",
    "    recall_list_test.append(recall)\n",
    "    f1_list_test.append(f1)\n",
    "\n",
    "# Promedios macro\n",
    "precision_macro_test = np.mean(precision_list_test)\n",
    "recall_macro_test = np.mean(recall_list_test)\n",
    "f1_macro_test = np.mean(f1_list_test)\n",
    "\n",
    "print(\"Precision (macro):\", precision_macro_test)\n",
    "print(\"Recall (macro):\", recall_macro_test)\n",
    "print(\"F1 Score (macro):\", f1_macro_test)"
   ]
  },
  {
   "cell_type": "code",
   "execution_count": 19,
   "metadata": {},
   "outputs": [
    {
     "data": {
      "image/png": "[encoded data removed]",
      "text/plain": [
       "<Figure size 1200x500 with 4 Axes>"
      ]
     },
     "metadata": {},
     "output_type": "display_data"
    }
   ],
   "source": [
    "from sklearn.metrics import confusion_matrix\n",
    "import matplotlib.pyplot as plt\n",
    "import seaborn as sns\n",
    "\n",
    "train_cm = confusion_matrix(Y_train, train_preds)\n",
    "test_cm = confusion_matrix(Y_test, test_preds)\n",
    "\n",
    "fig, axes = plt.subplots(1, 2, figsize=(12, 5))\n",
    "sns.heatmap(train_cm, annot=True, fmt='d', cmap='Blues', ax=axes[0])\n",
    "axes[0].set_title(\"Matriz de Confusión - Entrenamiento\")\n",
    "axes[0].set_xlabel(\"Predicción\")\n",
    "axes[0].set_ylabel(\"Valor Real\")\n",
    "\n",
    "sns.heatmap(test_cm, annot=True, fmt='d', cmap='Greens', ax=axes[1])\n",
    "axes[1].set_title(\"Matriz de Confusión - Test\")\n",
    "axes[1].set_xlabel(\"Predicción\")\n",
    "axes[1].set_ylabel(\"Valor Real\")\n",
    "\n",
    "plt.tight_layout()\n",
    "plt.show()"
   ]
  },
  {
   "cell_type": "markdown",
   "metadata": {},
   "source": [
    "## 5. Aprendizaje por Ensamble\n",
    "\n",
    "Los modelos de ensamble permiten **reducir la varianza** inherente de los árboles de decisión individuales, lo cual se traduce en mejores resultados de precisión en muchas tareas de clasificación.\n",
    "\n",
    "> ⚠️ Sin embargo, esta mejora en el rendimiento suele venir acompañada de una pérdida en la interpretabilidad: \n",
    ">\n",
    "> Los modelos de ensamble son mucho más complejos y menos transparentes que un árbol de decisión simple.\n",
    "\n",
    "### ❓ ¿En qué consiste el aprendizaje por ensamble?\n",
    "\n",
    "La idea general del aprendizaje por ensamble se basa en los siguientes pasos:\n",
    "\n",
    "1. Entrenar múltiples modelos sobre el mismo dataset.\n",
    "2. Permitir que cada modelo individual realice sus propias predicciones.\n",
    "3. Construir un meta-modelo que combine o agregue las predicciones individuales.\n",
    "4. Utilizar este meta-modelo para obtener una predicción final más robusta que cualquiera de las predicciones individuales.\n",
    "\n",
    "> Si un modelo individual falla en un escenario particular, los demás modelos pueden compensar su error.\n",
    ">\n",
    "> 👍 Gracias a esto, la predicción agregada se vuelve más estable y precisa.\n",
    "\n",
    "<p align=\"center\">\n",
    "  <img  src=\"img/ensamble_01.png\" alt=\"bootstrap sampling\">\n",
    "</p>\n",
    "\n",
    "\n",
    "En un ensamble es posible utilizar modelos distintos entre sí, aunque en muchos casos se opta por usar varios árboles de decisión con configuraciones diversas.\n",
    "\n",
    "#### 🔍 Nos enfocaremos en tres enfoques clásicos de ensamble basados en árboles:\n",
    "\n",
    "1. **Bagging**\n",
    "2. **Random Forest**\n",
    "3. Boosting\n"
   ]
  },
  {
   "cell_type": "markdown",
   "metadata": {},
   "source": [
    "### **1. Bagging (Bootstrap Aggregating)**\n",
    "\n",
    "El término **Bagging** proviene de la técnica **Bootstrap Aggregation**. Para entender cómo funciona, primero veamos qué es **Bootstrap**:\n",
    "\n",
    "\n",
    "\n",
    "#### ¿Qué es el método **Bootstrap**?\n",
    "\n",
    "El **Bootstrap** consiste en generar, a partir de un dataset original, múltiples nuevos datasets mediante <span style=\"color:blue\">**muestreo con reemplazo**</span>.  \n",
    "Cada uno de estos nuevos conjuntos tiene la **misma cantidad de observaciones** que el original, pero puede contener **observaciones repetidas**.\n",
    "\n",
    "<p align=\"center\">\n",
    "  <img src=\"img/bootstrap_01.png\" alt=\"bootstrap sampling\">\n",
    "</p>\n",
    "\n",
    "\n",
    "#### ¿Qué hace **Bagging**?\n",
    "\n",
    "Bagging entrena **N árboles de decisión distintos**, cada uno sobre uno de estos datasets generados por Bootstrap.  \n",
    "Cada modelo es, por tanto, **ligeramente diferente** en sus decisiones, y se combinan para formar un **meta-modelo más robusto**.\n",
    "\n",
    "<p align=\"center\">\n",
    "  <img src=\"img/bagging_02.png\" alt=\"bagging ensemble\">\n",
    "</p>\n",
    "\n",
    "#### ¿Y por qué **Aggregation**?\n",
    "\n",
    "La segunda parte del nombre, \"aggregation\", hace referencia a que **las predicciones de todos los modelos** entrenados **se agregan para producir la salida final** del sistema:\n",
    "\n",
    "- **Clasificación**: se aplica **votación por mayoría**.\n",
    "- **Regresión**: se calcula el **promedio** de las predicciones de cada modelo.\n",
    "\n",
    "### ¿Por qué funciona Bagging?\n",
    "\n",
    "Al no aplicar **poda** a los árboles individuales, se permite que cada uno tenga **bajo sesgo pero alta varianza**.  \n",
    "Luego, al combinarlos, el ensamble reduce esa varianza.\n",
    "\n",
    "Si la varianza de un árbol individual es $S^2$, entonces la varianza esperada del modelo de Bagging es aproximadamente:  $\\frac{S^2}{N}^*$\n",
    "\n",
    "$^*$ _En la práctica la varianza es algo mayor ya que en Bagging los modelos no son completamente independientes, al estar entrenados sobre datos derivados del mismo conjunto original._"
   ]
  },
  {
   "cell_type": "markdown",
   "metadata": {},
   "source": [
    "### 🌲🌲🌲 **Random Forest**\n",
    "\n",
    "Random Forest parte de la misma idea que Bagging, pero agrega una mejora clave para **descorrelacionar los árboles**.\n",
    "\n",
    "### 🔍 ¿Por qué es necesaria una mejora?\n",
    "\n",
    "- En Bagging, los árboles se entrenan con diferentes muestras de datos, pero **usan todas las variables independientes (features) disponibles**.\n",
    "- Esto genera árboles **altamente correlacionados**, especialmente si algunas variables dominan la predicción.\n",
    "\n",
    "### ¿Qué hace Random Forest?\n",
    "\n",
    "Random Forest agrega un paso más:  \n",
    "**durante cada división interna del árbol, se selecciona un subconjunto aleatorio de <span style=\"color:blue\">features (sin reemplazo)</span>**.\n",
    "\n",
    "Esto implica que:\n",
    "- Cada árbol ve un subconjunto diferente de datos **y** de features.\n",
    "- Se reduce significativamente la correlación entre árboles → **mejora la generalización**.\n",
    "\n",
    "<p align=\"center\">\n",
    "  <img src=\"img/random_forest_01.png\" alt=\"random forest esquema\">\n",
    "</p>\n",
    "\n",
    "### ⚙️ ¿Cuántas features $M$ seleccionar?\n",
    "\n",
    "Dado $P$ features totales, se elige un número $M < P$ de predictores para evaluar en cada división:\n",
    "\n",
    "- Para **regresión**:  \n",
    "  $$M = \\frac{P}{3}$$\n",
    "\n",
    "- Para **clasificación**:  \n",
    "  $$ M = \\sqrt{P} \\quad \\text{o} \\quad M = \\log_2(P)$$\n",
    "\n",
    "> Si los predictores están muy correlacionados, se puede usar un valor **menor** de $M$.\n",
    "\n",
    "\n",
    "### 🎯 Predicción final del ensamble:\n",
    "La predicción se hace exactamente como en Bagging:\n",
    "\n",
    "- **Clasificación**: se aplica **votación por mayoría**.\n",
    "- **Regresión**: se calcula el **promedio** de las predicciones."
   ]
  },
  {
   "cell_type": "markdown",
   "metadata": {},
   "source": [
    "🧠 Entonces...\n",
    "\n",
    "- Bagging = Bootstrap sobre las observaciones y usa todas las features en cada split.\n",
    "\n",
    "- Random Forest = Bootstrap + selección aleatoria de features en cada split."
   ]
  },
  {
   "cell_type": "markdown",
   "metadata": {},
   "source": [
    "## 6. Implementación de Random Forest"
   ]
  },
  {
   "cell_type": "markdown",
   "metadata": {},
   "source": [
    "¿Qué hiperparámetros podríamos implementar?\n",
    "- Número de árboles de decisión (`n_estimators`)\n",
    "- Número de features a considerar cuando se hace un split en cada nodo de cada árbol (`max_features`)\n",
    "- Tamaño del conjunto de datos bootstrap (`bootstrap_max_samples`)\n",
    "- Hiperparámetros del árbol de decisión (`min_samples_leaf`, `min_information_gain`, `max_depth`, `criterion`)"
   ]
  },
  {
   "cell_type": "markdown",
   "metadata": {},
   "source": [
    "¿Que funciones deberíamos implementar?\n",
    "- Función para crear las muestras bootstrap para cada modelo base del RF\n",
    "- Función de `train` que basicamente cree una lista que contenga todos los modelos base entrenados.\n",
    "- Función de `predict` que considere a todos los modelos base para retornar la probabilidad predicha del modelo de RF."
   ]
  }
 ],
 "metadata": {
  "kernelspec": {
   "display_name": ".venv",
   "language": "python",
   "name": "python3"
  },
  "language_info": {
   "codemirror_mode": {
    "name": "ipython",
    "version": 3
   },
   "file_extension": ".py",
   "mimetype": "text/x-python",
   "name": "python",
   "nbconvert_exporter": "python",
   "pygments_lexer": "ipython3",
   "version": "3.12.3"
  }
 },
 "nbformat": 4,
 "nbformat_minor": 2
}
