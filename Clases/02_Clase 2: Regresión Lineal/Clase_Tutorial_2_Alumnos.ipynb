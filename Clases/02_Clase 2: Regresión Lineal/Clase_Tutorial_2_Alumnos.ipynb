{
 "cells": [
  {
   "cell_type": "code",
   "execution_count": 1,
   "id": "38240fbd",
   "metadata": {},
   "outputs": [],
   "source": [
    "# Estas lineas evitan la necesidad de reiniciar manualmente el kernel o recargar módulos importados cada vez que realizas un cambio en el código\n",
    "%load_ext autoreload\n",
    "%autoreload 2"
   ]
  },
  {
   "cell_type": "markdown",
   "id": "0021a72a",
   "metadata": {},
   "source": [
    "# Clase Tutorial 2: Introducción y Regresión Lineal\n",
    "\n",
    "* El objetivo principal de esta clase es ponernos al día con las herramientas básicas de manejo de arrays y de ploteo de gráficos que vamos a utilizar para estudiar el desarrollo de modelos de aprendizaje automático. \n",
    "\n",
    "* Dentro de las muchas herramientas, sobresalen las bibliotecas:\n",
    "    * [Numpy](https://numpy.org/): para representación y operación algebraica de datos numéricos y\n",
    "    * [Matplotlib](https://matplotlib.org/): para confección de gráficos.\n",
    "    \n",
    "* Para dar un primer ejemplo de su utilización, vamos a plantear un problema de regresión simple, el cual vamos a revisitar en clases teóricas y prácticas subsiguientes. "
   ]
  },
  {
   "cell_type": "markdown",
   "id": "074b5532",
   "metadata": {},
   "source": [
    "## ⚙️ Herramientas de Software\n",
    "\n",
    "#### 1. Python como lenguaje de programación\n",
    "Python es el lenguaje de programación que utilizaremos en este curso. Es ampliamente usado en ciencia de datos, machine learning, y muchas otras áreas debido a su simplicidad y versatilidad. \n",
    "\n",
    "#### 2. IDEs como herramienta principal de desarrollo de código\n",
    "Para escribir y desarrollar nuestro código, utilizaremos diferentes entornos de desarrollo integrados (IDEs). Algunas de las opciones más comunes son:\n",
    "\n",
    "- **Spyder**: Este IDE es nativo de Anaconda y está diseñado específicamente para científicos de datos. Ofrece herramientas potentes y un entorno amigable para escribir y probar nuestro código.\n",
    "- **VSCode**: Desarrollado por Microsoft, es uno de los editores de código más populares debido a su flexibilidad y la gran cantidad de extensiones disponibles. Es altamente personalizable y adecuado para una amplia variedad de lenguajes de programación, incluido Python.\n",
    "- **vim, emacs, y otros editores de texto**: Estos son editores de texto muy poderosos que algunos programadores prefieren por su eficiencia y capacidad de personalización. Sin embargo, tienen una curva de aprendizaje más pronunciada.\n",
    "\n",
    "#### 3. Intérpretes interactivos\n",
    "- **IPython**: Es un intérprete interactivo para Python que ofrece características avanzadas como el autocompletado, el resaltado de sintaxis y herramientas de depuración. Es especialmente útil para experimentar y probar pequeñas partes de código rápidamente. IPython es el núcleo del proyecto Jupyter, que permite crear y compartir documentos que contienen código en vivo, ecuaciones, visualizaciones y texto narrativo. \n",
    "\n",
    "#### 4. Gestores de paquetes\n",
    "Para manejar las bibliotecas y dependencias que necesitaremos en nuestros proyectos, utilizaremos gestores de paquetes:\n",
    "\n",
    "- **pip**: Es el gestor de paquetes estándar de Python. Nos permite instalar y gestionar bibliotecas que no están incluidas en la distribución estándar de Python.\n",
    "- **conda**: Es un gestor de paquetes y entornos que forma parte de Anaconda. Además de manejar paquetes de Python, también puede gestionar bibliotecas de otros lenguajes, lo que lo hace muy versátil.\n",
    "\n",
    "#### 5. Environments\n",
    "La gestión de entornos es crucial para mantener nuestros proyectos organizados y evitar conflictos entre diferentes versiones de bibliotecas. Los entornos virtuales permiten crear entornos de ejecución aislados para cada proyecto, asegurando que las dependencias de un proyecto no interfieran con las de otro.\n",
    "\n",
    "#### 🤔 Entonces... ¿Qué es [Anaconda](https://www.anaconda.com/download) y por qué recomendamos utilizarlo?\n",
    "\n",
    "**Anaconda** es una distribución de Python y R para ciencia de datos y aprendizaje automático que simplifica la gestión de paquetes y entornos. Incluye más de 1,500 paquetes de código abierto, así como el gestor de paquetes `conda`.\n",
    "\n",
    "Anaconda viene con Python preinstalado y muchas de las bibliotecas más comunes ya están incluidas. Esto ahorra mucho tiempo y esfuerzo en la configuración inicial.\n",
    "\n",
    "Con `conda`, podés crear y gestionar entornos virtuales fácilmente, lo que es crucial para evitar conflictos entre proyectos."
   ]
  },
  {
   "cell_type": "markdown",
   "id": "024d51a4",
   "metadata": {},
   "source": [
    "## 📊 Rutinas para generación de datos\n",
    "\n",
    "Cada vez que sumemos un concepto nuevo nos va a interesar ponerlo a prueba sobre algún dataset. Para estas pruebas de concepto, nos interesa poder generar datos que cumplan con dos requisitos básicos:\n",
    "\n",
    "   - Poder controlar/conocer el <span style=\"color: purple;\">principio</span> según el cual se generan.\n",
    "   - Asegurarnos la <span style=\"color: purple;\">repetitibilidad</span> de la generación.\n",
    "\n",
    "\n",
    "\n",
    "\n",
    "Para ello, la libreria NumPy nos permite trabajar con un [objeto generador](https://numpy.org/doc/stable/reference/random/legacy.html#numpy.random.RandomState) que nos brinda varias rutinas. Para poder asegurarnos la repetibilidad de la generación definimos un parámetro <span style=\"color: purple;\">seed</span>, el cual define la inicialización de los generadores aleatorios que funcionan por detras de este objeto. Es común utilizar el número <span style=\"color: purple;\">42</span>, pero les dejamos a ustedes averiguar el porqué ([Medium article](https://medium.com/geekculture/the-story-behind-random-seed-42-in-machine-learning-b838c4ac290a))."
   ]
  },
  {
   "cell_type": "code",
   "execution_count": 2,
   "id": "484f5af3",
   "metadata": {},
   "outputs": [],
   "source": [
    "import numpy as np"
   ]
  },
  {
   "cell_type": "code",
   "execution_count": 3,
   "id": "f9f723e4",
   "metadata": {},
   "outputs": [],
   "source": [
    "generator = np.random.RandomState(seed=42)"
   ]
  },
  {
   "cell_type": "code",
   "execution_count": 4,
   "id": "1a7a7e3f",
   "metadata": {},
   "outputs": [
    {
     "data": {
      "text/plain": [
       "array([ 0.49671415, -0.1382643 ,  0.64768854,  1.52302986])"
      ]
     },
     "execution_count": 4,
     "metadata": {},
     "output_type": "execute_result"
    }
   ],
   "source": [
    "generator.standard_normal(size=4)"
   ]
  },
  {
   "cell_type": "markdown",
   "id": "32b007d9",
   "metadata": {},
   "source": [
    "#### ¿Que significa que sea \"repetible\"? \n",
    "➡️ Si vuelvo a generar 4 valores, debería obtener los mismos 4, ¿no?"
   ]
  },
  {
   "cell_type": "code",
   "execution_count": 5,
   "id": "7642ccdc",
   "metadata": {},
   "outputs": [
    {
     "data": {
      "text/plain": [
       "array([-0.23415337, -0.23413696,  1.57921282,  0.76743473])"
      ]
     },
     "execution_count": 5,
     "metadata": {},
     "output_type": "execute_result"
    }
   ],
   "source": [
    "generator.standard_normal(size=4)"
   ]
  },
  {
   "cell_type": "markdown",
   "id": "75737d9a",
   "metadata": {},
   "source": [
    "➡️ <span style=\"color: red;\">¡No!</span> La semilla asegura que el generador produzca la misma <span style=\"color: purple;\">secuencia</span> de números cada vez que se ejecute.\n",
    "Si querés que el resultado sea el mismo en diferentes celdas, debes asegurarte de que la semilla sea establecida antes de cada uso del generador. Por ejemplo:"
   ]
  },
  {
   "cell_type": "code",
   "execution_count": 6,
   "id": "192baf1f",
   "metadata": {},
   "outputs": [
    {
     "data": {
      "text/plain": [
       "array([ 0.49671415, -0.1382643 ,  0.64768854,  1.52302986])"
      ]
     },
     "execution_count": 6,
     "metadata": {},
     "output_type": "execute_result"
    }
   ],
   "source": [
    "generator = np.random.RandomState(seed=42)\n",
    "generator.standard_normal(size=4)"
   ]
  },
  {
   "cell_type": "markdown",
   "id": "75ab0db5",
   "metadata": {},
   "source": [
    "Tenemos mas rutinas, y podemos pasarle mas parámetros. Por ejemplo, para una distribución uniforme, podemos especificar los limites inferior y superior:"
   ]
  },
  {
   "cell_type": "code",
   "execution_count": 7,
   "id": "da8d35a1",
   "metadata": {},
   "outputs": [
    {
     "data": {
      "text/plain": [
       "array([1.5601864 , 1.5599452 , 0.58083612, 8.66176146, 6.01115012,\n",
       "       7.08072578, 0.20584494, 9.69909852, 8.32442641, 2.12339111,\n",
       "       1.81824967, 1.8340451 , 3.04242243, 5.24756432, 4.31945019])"
      ]
     },
     "execution_count": 7,
     "metadata": {},
     "output_type": "execute_result"
    }
   ],
   "source": [
    "generator.uniform(low=0, high=10, size=15)"
   ]
  },
  {
   "cell_type": "markdown",
   "id": "c7677246",
   "metadata": {},
   "source": [
    "## ∿ Regresión - Curva senoidal\n",
    "\n",
    "Para revisar las herramientas de codigo, vamos a desarrollar un ejemplo de regresión simple.\n",
    "Como se trata de aprendizaje supervisado, matemáticamente podemos generalizar al problema como la búsqueda de una función $h$ que nos permita pasar de un conjunto de valores $X$ (datos de entrada) a otro conjunto de valores $Y$(valores objetivos o datos de salida eperados). \n",
    "\n",
    "$$h:X \\rightarrow Y$$\n",
    "\n",
    "En la vida real nunca sabemos cual es la mejor función $h$, es decir, la función que mejor generaliza la relación entre los conjuntos $X$ e $Y$. Para este ejemplo, nosotros vamos a controlar cual es esta función ideal, a la cual vamos a llamar $f$, y vamos a hacer que consista en una función senoidal:\n",
    "\n",
    "$$f(x)=sin(2 \\pi x)$$\n",
    "\n",
    "Para mayor facilidad, vamos a acotar el dominio de X al intervalo $[0,1]$, y tomar $N$ observaciones. Para el conjunto Y, vamos a calcular el valor de nuestra función ideal $f$ para estos $N$ valores, y vamos a sumarles ruido gaussiano. De esta manera imitamos la presencia de ruido en las muestras que encontramos cuando trabajamos con datasets reales.  "
   ]
  },
  {
   "cell_type": "code",
   "execution_count": 8,
   "id": "31e39e26",
   "metadata": {},
   "outputs": [],
   "source": [
    "def ground_truth_fn(x):\n",
    "    return np.sin(2*np.pi*x)"
   ]
  },
  {
   "cell_type": "code",
   "execution_count": 9,
   "id": "981a82a1",
   "metadata": {},
   "outputs": [],
   "source": [
    "N = 10\n",
    "noise = 0.1\n",
    "X_interval = (0,1)\n",
    "X = generator.uniform(*X_interval, size=N)"
   ]
  },
  {
   "cell_type": "code",
   "execution_count": 10,
   "id": "50266d40",
   "metadata": {},
   "outputs": [],
   "source": [
    "Y_true = ground_truth_fn(X)\n",
    "Y = Y_true + noise*generator.standard_normal(Y_true.shape)"
   ]
  },
  {
   "cell_type": "markdown",
   "id": "4af778c4",
   "metadata": {},
   "source": [
    "Como vamos a querer repetir este proceso varias veces, podemos definir una función que resuelva esta tarea:"
   ]
  },
  {
   "cell_type": "code",
   "execution_count": 11,
   "id": "ad773b43",
   "metadata": {},
   "outputs": [],
   "source": [
    "from utils import get_data"
   ]
  },
  {
   "cell_type": "code",
   "execution_count": 12,
   "id": "281a6906",
   "metadata": {},
   "outputs": [],
   "source": [
    "X, Y, Y_true = get_data(gt_fn=ground_truth_fn)"
   ]
  },
  {
   "cell_type": "markdown",
   "id": "4c40f2a1",
   "metadata": {},
   "source": [
    "### 📈 Visualizemos\n",
    "\n",
    "Para comenzar a visualizar estas curvas y puntos, vamos a utilizar la biblioteca *Matplotlib*. La misma es un estándar dentro de este campo, y nos va a permitir visualizar datos de muchos dominios, en distintas dimensiones y formatos. \n",
    "\n",
    "Se puede utilizar a través de dos interfaces principales, la API de pyplot y la API orientada a objetos. La primera opción es mas sencilla de aprender a utilizar, pero a su vez es mas limitada. La segunda opción nos permite liberar toda la capacidad de la libreria para personalizar y controlar los graficos generados. Si les interesa saber más sobre este tema, les dejo [este blog](https://matplotlib.org/matplotblog/posts/pyplot-vs-object-oriented-interface/).\n",
    "\n",
    "Lo común es comenzar utilizando la API de pyplot, como vamos a hacer en estos ejemplos, pero luego internalizar la API orientada a objetos. Veamos como podemos graficar esta función $f$ y la muestras $X$ tomadas con esta herramienta:"
   ]
  },
  {
   "cell_type": "code",
   "execution_count": 13,
   "id": "d4085b9f",
   "metadata": {},
   "outputs": [],
   "source": [
    "import matplotlib.pyplot as plt"
   ]
  },
  {
   "cell_type": "code",
   "execution_count": 14,
   "id": "7ee9cb5c",
   "metadata": {},
   "outputs": [
    {
     "data": {
      "image/png": "[encoded data removed]",
      "text/plain": [
       "<Figure size 432x288 with 1 Axes>"
      ]
     },
     "metadata": {
      "needs_background": "light"
     },
     "output_type": "display_data"
    }
   ],
   "source": [
    "x_true_plot = np.linspace(0,1,100, endpoint=True)\n",
    "y_true_plot = ground_truth_fn(x_true_plot)\n",
    "plt.plot(x_true_plot, y_true_plot)\n",
    "plt.show()"
   ]
  },
  {
   "cell_type": "markdown",
   "id": "2c31188e",
   "metadata": {},
   "source": [
    "Esta es la manera mas sencilla y directa de utilizar Matplotlib, pero tenemos que ir un poco mas en profundidad. \n",
    "\n",
    "La visualización de datos es una cuestión crucial tanto como para el desarrollo de sistemas, como para la documentación y divulgación de resultados. Es por eso que pretendemos que con el pasar de las clases desarrollemos un criterio de buenas practicas de graficación, en donde deberemos considerar cuales son los elementos con los que debe contar un gráfico para poder ser interpretado correctamente. \n",
    "\n",
    "Lo primero es comprender que información necesitamos sumar a un gráfico y porqué. Luego, revisando los apuntes propuestos por la cátedra, revisando la documentación oficial, mediante busquedas en internet o consultando con los docentes (en ese orden preferentemente) van a poder modificar los graficos según su conveniencia. Por ahora, sumemos algunas cosas básicas para seguir con el ejemplo, utilizando esta misma API.  "
   ]
  },
  {
   "cell_type": "code",
   "execution_count": 15,
   "id": "9f0386d8",
   "metadata": {},
   "outputs": [
    {
     "data": {
      "image/png": "[encoded data removed]",
      "text/plain": [
       "<Figure size 576x360 with 1 Axes>"
      ]
     },
     "metadata": {
      "needs_background": "light"
     },
     "output_type": "display_data"
    }
   ],
   "source": [
    "plt.figure(figsize=(8,5))\n",
    "plt.plot(x_true_plot, y_true_plot, label='$f(x) = sin(2 \\pi x)$', color='green')\n",
    "plt.scatter(X, Y, marker='o', color='blue', label='Samples',)\n",
    "plt.legend()\n",
    "plt.show()"
   ]
  },
  {
   "cell_type": "markdown",
   "id": "4756af13",
   "metadata": {},
   "source": [
    "Entonces, comenzamos a buscar funciones que nos sirvan para predecir $Y$ a partir de $X$. \n",
    "\n",
    "El primer aproximamiento naturalmente puede ser un polinomio de orden $M$:\n",
    "\n",
    "$$h(x, w) = w_{0} + w_{1}x + w_{2}x^{2}+ ... + w_{M-1}x^{M-1} = \\sum_{j=0}^{M-1}w_{j}x^{j}$$\n"
   ]
  },
  {
   "cell_type": "markdown",
   "id": "06f8eb17",
   "metadata": {},
   "source": [
    "#### 🤔 Si es un modelo <span style=\"color: purple;\">lineal</span>, ¿porqué vemos coeficientes elevados a potencias eventualmente mayores que 1?\n",
    "\n",
    "\n",
    "* Cuando decimos que es un modelo lineal, nos referimos a que el modelo es <span style=\"color: purple;\">lineal en relación a los parámetros ajustables del modelo</span>.\n",
    "\n",
    "* Ahora necesitamos determinar los valores de los coeficientes $w_{j}$, quienes definen el comportamiento de la función $h$. \n",
    "\n",
    "* Anteriormente dijimos que queriamos encontrar una buena función $h$, y que por \"buena\" entendemos que es buena estimando los valores de $Y$ a partir de $X$. \n",
    "\n",
    "* Entonces, para medir \"que tan buena\" es esta función necesito definir una manera de medir que tan bien estima estos valores. Para ello utilizamos una <span style=\"color: purple;\">función de error</span>, que podemos definir a nuestra conveniencia. \n",
    "\n",
    "* Una opción usual es utilizar la suma cuadrática de las diferencias entre las predicciones $\\hat{Y}$ y los valores objetivos $Y$:\n",
    "\n",
    "\n",
    "$$E(W) = \\frac{1}{2} \\sum_{j=1}^{N}[h(x_{j}, w)-y_{j}]^{2} = \\frac{1}{2} \\sum_{n=1}^{N}[\\hat{y}_{j}-y_{j}]^{2} $$"
   ]
  },
  {
   "cell_type": "code",
   "execution_count": 16,
   "id": "179d03e1",
   "metadata": {},
   "outputs": [],
   "source": [
    "def err_fn(y_true, y_pred):\n",
    "    return 0.5*np.sum((y_true-y_pred)**2)"
   ]
  },
  {
   "cell_type": "markdown",
   "id": "ee224e9f",
   "metadata": {},
   "source": [
    "Entonces, resolver este problema es equivalente a <span style=\"color: purple;\">minimizar</span> esta función, es decir, correr un proceso de optimización en donde encuentre el conjunto de parámetros $W$ que minimizen $E(W)$. \n",
    "\n",
    "Como la función de error es cuadrática respecto a los coeficientes $W$, sus derivadas seran lineales con respecto a $W$, entonces la minimización de la función de error tiene una <span style=\"color: purple;\">única solución</span> $W^{*}$.\n",
    "\n",
    "Como este modelo es simple, podemos utilizar las ecuaciones algebraicas clasicas de cuadrados minimos para resolver el problema de optimización. Mas adelante vamos a ver otra metodología mas general."
   ]
  },
  {
   "cell_type": "code",
   "execution_count": 17,
   "id": "508dc582",
   "metadata": {},
   "outputs": [],
   "source": [
    "M = 2 # orden del polinomio (define cuantos w tengo)"
   ]
  },
  {
   "cell_type": "code",
   "execution_count": 18,
   "id": "63dac6fa",
   "metadata": {},
   "outputs": [],
   "source": [
    "from utils import get_best_coef"
   ]
  },
  {
   "cell_type": "code",
   "execution_count": 19,
   "id": "82f2bad5",
   "metadata": {},
   "outputs": [
    {
     "name": "stdout",
     "output_type": "stream",
     "text": [
      "Polinomio grado 2: 0.73315716 - 1.79549735·x\n",
      "ϕ: \n",
      "[[1.         0.37454012]\n",
      " [1.         0.95071431]\n",
      " [1.         0.73199394]\n",
      " [1.         0.59865848]\n",
      " [1.         0.15601864]\n",
      " [1.         0.15599452]\n",
      " [1.         0.05808361]\n",
      " [1.         0.86617615]\n",
      " [1.         0.60111501]\n",
      " [1.         0.70807258]]\n",
      "W:\n",
      " [ 0.73315716 -1.79549735]\n"
     ]
    }
   ],
   "source": [
    "w = get_best_coef(X, Y, M)\n",
    "poly = np.polynomial.polynomial.Polynomial(w)"
   ]
  },
  {
   "cell_type": "code",
   "execution_count": 20,
   "id": "d7e5b3e4",
   "metadata": {},
   "outputs": [],
   "source": [
    "y_pred_plot = poly(x_true_plot)"
   ]
  },
  {
   "cell_type": "code",
   "execution_count": 21,
   "id": "cc0b72a0",
   "metadata": {},
   "outputs": [
    {
     "data": {
      "image/png": "[encoded data removed]",
      "text/plain": [
       "<Figure size 576x360 with 1 Axes>"
      ]
     },
     "metadata": {
      "needs_background": "light"
     },
     "output_type": "display_data"
    }
   ],
   "source": [
    "plt.figure(figsize=(8,5))\n",
    "plt.title(f'{N} muestras')\n",
    "plt.plot(x_true_plot, y_true_plot, label='$f(x) = sin(2 \\pi x)$', color='green')\n",
    "plt.plot(x_true_plot, y_pred_plot, label=f'Polinomio grado {M}', color='red')\n",
    "plt.scatter(X, Y, marker='o', color='blue', label='Samples',)\n",
    "plt.legend()\n",
    "plt.ylim(-1.2,1.2)\n",
    "plt.show()"
   ]
  },
  {
   "cell_type": "markdown",
   "id": "20b10242",
   "metadata": {},
   "source": [
    "<div class=\"alert alert-block alert-info\">\n",
    "💻 <b>Ejercicio [overfitting-underfitting] </b> \n",
    "\n",
    "Generar una secuencia de gráficos para distintos grados de polinomios, desde M=1 hasta M = 10, para el mismo ejemplo de 10 muestras.\n",
    "</div>"
   ]
  },
  {
   "cell_type": "code",
   "execution_count": 22,
   "id": "c27016e6",
   "metadata": {},
   "outputs": [],
   "source": [
    "from utils import model_predict\n",
    "\n",
    "# CODE HERE"
   ]
  },
  {
   "cell_type": "markdown",
   "id": "53a51501",
   "metadata": {},
   "source": [
    "Entonces, como nuestro objetivo final es siempre la <span style=\"color: purple;\">generalización</span> del modelo, podemos considerar un nuevo conjunto de datos que NO se utilizan para elegir el modelo (determinar el valor de los parámetros $W$) sino que se reservan únicamente para evaluar el rendimiento del modelo en datos no vistos previamente.\n",
    "\n",
    "Para cada grado $M$ del polinomio, podemos calcular el error tanto en los datos de entrenamiento como en los datos de prueba o evaluación.\n",
    "\n",
    "Suele ser conveniente utilizar la versión cuadrática media del error definida anteriormente (RMSE, Root Mean Squared Error), ya que, al estar normalizada, permite comparar distintos tamaños de conjuntos de datos. Además, la raíz cuadrada nos devuelve el error en las mismas unidades y escala que el valor que busca estimar el modelo. Para un caso de magnitudes reales, este error es más interpretable."
   ]
  },
  {
   "cell_type": "code",
   "execution_count": 23,
   "id": "bdc4b196",
   "metadata": {},
   "outputs": [],
   "source": [
    "def rms_err(y_true, y_pred):\n",
    "    assert len(y_true) == len(y_pred)\n",
    "    N = len(y_true)\n",
    "    e_w = err_fn(y_true, y_pred)\n",
    "    return np.sqrt((2*e_w)/(N))"
   ]
  },
  {
   "cell_type": "markdown",
   "id": "368bcaba",
   "metadata": {},
   "source": [
    "Creamos data de testeo:"
   ]
  },
  {
   "cell_type": "code",
   "execution_count": 24,
   "id": "b365868a",
   "metadata": {},
   "outputs": [],
   "source": [
    "X, Y, Y_true = get_data(N=10, gt_fn=ground_truth_fn)\n",
    "X_test, Y_test, Y_true_test = get_data(N=100, gt_fn=ground_truth_fn)"
   ]
  },
  {
   "cell_type": "code",
   "execution_count": 25,
   "id": "eb1f8829",
   "metadata": {},
   "outputs": [
    {
     "data": {
      "image/png": "[encoded data removed]",
      "text/plain": [
       "<Figure size 864x576 with 1 Axes>"
      ]
     },
     "metadata": {
      "needs_background": "light"
     },
     "output_type": "display_data"
    }
   ],
   "source": [
    "plt.figure(figsize=(12,8))\n",
    "plt.title(f'{N} muestras')\n",
    "plt.plot(x_true_plot, y_true_plot, label='$f(x) = sin(2 \\pi x)$', color='green')\n",
    "plt.scatter(X, Y, marker='o', color='blue', label='Train Samples',)\n",
    "plt.scatter(X_test, Y_test, marker='x', color='red', label='Test Samples',)\n",
    "plt.legend()\n",
    "plt.ylim(-1.2,1.2)\n",
    "plt.show()"
   ]
  },
  {
   "cell_type": "markdown",
   "id": "cdd3c97c",
   "metadata": {},
   "source": [
    "<div class=\"alert alert-block alert-info\">\n",
    "💻 <b>Ejercicio [training vs test error] </b> \n",
    "\n",
    "Para estos conjuntos de entrenamiento y de testeo, fitear el modelo con distintos grados M desde 1 hasta 10, y graficar el error en entrenamiento y en testeo.\n",
    "</div>"
   ]
  },
  {
   "cell_type": "code",
   "execution_count": 26,
   "id": "c602940d",
   "metadata": {},
   "outputs": [],
   "source": [
    "# CODE HERE"
   ]
  },
  {
   "cell_type": "markdown",
   "id": "0f663b6c",
   "metadata": {},
   "source": [
    "De lo anterior podemos concluir que luego de un cierto punto, sumar mas términos en el polinomio no me permite lograr una mejor generalización, sino que genera  <span style=\"color: purple;\">overfitting</span>. \n",
    "\n",
    "En este punto, como sabemos que los datos se generan siguiendo una función senoidal, podriamos esperar que el modelo que mejor generalize sobre estos datos sea el que mas se asimile a una función senoidal."
   ]
  },
  {
   "cell_type": "markdown",
   "id": "e781b591",
   "metadata": {},
   "source": [
    "Entonces según la intuición, el siguiente paso es intentar ajustar los mismos datos utilizando una **función de base sinusoidal**. Esto significa que en lugar de emplear potencias de $x$ como base (es decir, $1, x, x^2, \\dots$), utilizaremos la función seno para construir la matriz de diseño."
   ]
  },
  {
   "cell_type": "markdown",
   "id": "c74473a0",
   "metadata": {},
   "source": [
    "<div class=\"alert alert-block alert-info\">\n",
    "💻 <b>Ejercicio [regresión con función base sinusoidal]</b> \n",
    "\n",
    "Implementar una regresión no lineal usando la función seno como base y analicen cómo cambia el ajuste comparado con la regresión polinomial.\n",
    "\n",
    "</div>"
   ]
  },
  {
   "cell_type": "code",
   "execution_count": 27,
   "id": "689ab178",
   "metadata": {},
   "outputs": [],
   "source": [
    "# CODE HERE"
   ]
  },
  {
   "cell_type": "markdown",
   "id": "39480529",
   "metadata": {},
   "source": [
    "## 📝 Conclusiones\n",
    "- Un modelo de regresión lineal con mucha complejidad sobre pocos datos genera overfitting.\n",
    "- Aumentar la cantidad de datos para un mismo modelo mejora la condición de overfitting.\n",
    "- La necesidad de setear la complejidad del modelo o el número de parámetros (no son siempre sinónimos directos) respecto a la cantidad de datos no parece algo deseable, y es un problema típico de este tipo de estimación por minimos cuadrados.\n",
    "- La inferencia bayesiana soluciona este clase de problemas de overfitting por sobre-complejidad del modelo."
   ]
  },
  {
   "cell_type": "markdown",
   "id": "1f314ca1",
   "metadata": {},
   "source": [
    "### ❓ Algunas preguntas\n",
    "   - ¿Cómo escala este modelo con los datos?\n",
    "   - ¿Cómo escala este modelo con la cantidad de parámetros?"
   ]
  }
 ],
 "metadata": {
  "kernelspec": {
   "display_name": "Python 3",
   "language": "python",
   "name": "python3"
  },
  "language_info": {
   "codemirror_mode": {
    "name": "ipython",
    "version": 3
   },
   "file_extension": ".py",
   "mimetype": "text/x-python",
   "name": "python",
   "nbconvert_exporter": "python",
   "pygments_lexer": "ipython3",
   "version": "3.8.10"
  }
 },
 "nbformat": 4,
 "nbformat_minor": 5
}
