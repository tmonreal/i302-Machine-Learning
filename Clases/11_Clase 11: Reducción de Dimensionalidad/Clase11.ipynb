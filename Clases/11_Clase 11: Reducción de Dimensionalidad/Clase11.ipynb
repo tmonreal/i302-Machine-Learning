{
 "cells": [
  {
   "cell_type": "markdown",
   "metadata": {},
   "source": [
    "# Clase Tutorial 11: Reducción de dimensionalidad"
   ]
  },
  {
   "cell_type": "markdown",
   "metadata": {},
   "source": [
    "- El objetivo de esta clase es introducir el método de reducción de dimensionalidad no lineal t-Distributed Stochastic Neighbor Embedding (t-SNE).\n",
    "\n",
    "- Es una técnica ampliamente utilizada en la visualización de datos de alta dimensión y en el análisis exploratorio."
   ]
  },
  {
   "cell_type": "markdown",
   "metadata": {},
   "source": [
    "## Manifold Learning\n",
    "\n",
    "- En muchos conjuntos de datos de alta dimensión, hay una estructura de baja dimensión subyacente.\n",
    "\n",
    "- Esta estructura se supone que es un *manifold* o *variedad curva*, lo que da lugar al problema de \"manifold learning\" o \"reducción de dimensionalidad no lineal\".\n",
    "\n",
    "- Usamos métodos no paramétricos, es decir que no aprendemos un modelo genérico, sino que calculamos una representación (embedding) para cada punto en el conjunto de entrenamiento.\n",
    "  \n",
    "- Estos métodos <span style=\"color: indianred;\">no generalizan bien a datos nuevos</span>, pero <span style=\"color: darkseagreen;\">son más flexibles y fáciles de ajustar</span>.\n",
    "\n",
    "- Util para aprendizaje no supervisado, visualización de datos, y como paso de preprocesamiento para aprendizaje supervisado.\n"
   ]
  },
  {
   "cell_type": "markdown",
   "metadata": {},
   "source": [
    "### 🤔 ¿Qué es un \"manifold\"?\n",
    "\n",
    "- Un *manifold* es un espacio topológico que es *localmente euclidiano*. Esto significa que en cada punto se parece a un espacio plano, aunque en general pueda ser curvo.\n",
    "\n",
    "- Ejemplo típico: la superficie de la Tierra\n",
    "    - Aunque es curva en 3D, en cada punto la Tierra parece plana (como un mapa local en 2D).\n",
    "\n",
    "    <img style=\"display: block; margin-left: auto; margin-right: auto;\" src=\"/home/linar/Desktop/ML/Clases/i302/Clases/11_Clase 11: Reducción de Dimensionalidad/img/globe.png\">\n",
    "\n",
    "- Formalmente, un manifold $X$ de $d$ dimensiones, es un espacio donde cada punto $x \\in X$ tiene un vecindario topológicamente equivalente a un espacio euclidiano de $d$ dimensiones. \n",
    "    - A este espacio en cada punto se le llama __espacio tangente__ y se denota como $T_x = T_xX$.\n",
    "\n",
    "    <img style=\"display: block; margin-left: auto; margin-right: auto;\" src=\"/home/linar/Desktop/ML/Clases/i302/Clases/11_Clase 11: Reducción de Dimensionalidad/img/tangent_space.png\">\n"
   ]
  },
  {
   "cell_type": "markdown",
   "metadata": {},
   "source": [
    "### Enfoques del Manifold Learning\n",
    "\n",
    "- Existen diversos algoritmos, cada uno con diferentes suposiciones sobre la naturaleza del manifold y distintas características computacionales.\n",
    "\n",
    "- Se pueden categorizar de la siguiente forma:\n",
    "\n",
    "    <img style=\"display: block; margin-left: auto; margin-right: auto;\" src=\"/home/linar/Desktop/ML/Clases/i302/Clases/11_Clase 11: Reducción de Dimensionalidad/img/table201.png\">\n",
    "\n",
    "- Los métodos \"no paramétricos\" aprenden una representación (embedding) de baja dimensión $z_i$ para cada punto de datos $x_i$, sin aprender una función de mapeo que permita aplicar el modelo a puntos nuevos."
   ]
  },
  {
   "cell_type": "markdown",
   "metadata": {},
   "source": [
    "## Motivación\n",
    "\n",
    "- La mayoría de los datasets exhiben relaciones no lineales entre las features, y los puntos de datos se encuentran en un espacio de alta dimensionalidad.\n",
    "\n",
    "- Por lo tanto, buscamos una representación de baja dimensionalidad de estos datos de alta dimensionalidad que preserve la relación entre diferentes puntos en el espacio original para visualizar los datos y explorar su estructura inherente, como los clusters.\n",
    "\n",
    "- Sin embargo, muchos métodos de reducción de dimensionalidad lineales, como PCA, y algoritmos clásicos de manifold embedding, como Isomap, no logran este objetivo.\n",
    "\n",
    "🚀 <span style=\"color: indianred;\">Objetivo: proyectar los datos de alta dimensionalidad a 2D/3D mientras preservamos las relaciones entre los puntos de datos (es decir, puntos similares permanecen similares y puntos distintos permanecen distintos).</span>"
   ]
  },
  {
   "cell_type": "markdown",
   "metadata": {},
   "source": [
    "## Stochastic Neighbor Embedding (SNE)\n",
    "\n",
    "- Los métodos anteriores de reducción de dimensionalidad no lineal asignan un punto de datos en el espacio de alta dimensionalidad a una posición fija en el espacio de baja dimensionalidad.\n",
    "    - En general, esto no logra capturar correctamente algunos puntos ambiguos que podrían pertenecer a varios vecindarios locales.\n",
    "\n",
    "- SNE busca capturar mejor la identidad de los vecindarios al considerar la probabilidad de que un punto sea vecino de todos los demás puntos.\n",
    "\n",
    "- Formalmente, define:\n",
    "\n",
    "    - Una __matriz de similitud__ de $n \\times n$, denominada $P$, __en el espacio de alta dimensionalidad__, cuyos elementos son:\n",
    "\n",
    "    $$\n",
    "    p_{j|i} = \\frac{\\exp\\left(-\\frac{||x_i - x_j||^2}{2\\sigma_i^2}\\right)}{\\sum_{k \\neq i} \\exp\\left(-\\frac{||x_i - x_k||^2}{2\\sigma_i^2}\\right)}\n",
    "    $$ \n",
    "    donde $\\sigma_i^2$ es la varianza de la distribución gaussiana centrada en $x_i$.\n",
    "    \n",
    "    - Y una __matriz de similitud__ $Q$ de $n \\times n$ __en el espacio de baja dimensionalidad__, donde las entradas son:\n",
    "\n",
    "    $$\n",
    "    q_{j|i} = \\frac{\\exp(-||y_i - y_j||^2)}{\\sum_{k \\neq i} \\exp(-||y_i - y_k||^2)}\n",
    "    $$"
   ]
  },
  {
   "cell_type": "markdown",
   "metadata": {},
   "source": [
    "- A partir de la definición de $P$, notamos que <span style=\"color: indianred;\">SNE se enfoca en la estructura local</span>.\n",
    "\n",
    "    - Es decir que los puntos más lejanos resultan en valores $p_{ij}$ menores, mientras que los puntos cercanos generan valores $p_{ij}$ mayores.\n",
    "\n",
    "<img style=\"display: block; margin-left: auto; margin-right: auto;\" src=\"/home/linar/Desktop/ML/Clases/i302/Clases/11_Clase 11: Reducción de Dimensionalidad/img/t-sne-visual-explanation.webp\">"
   ]
  },
  {
   "cell_type": "markdown",
   "metadata": {},
   "source": [
    "#### Función de costo"
   ]
  },
  {
   "cell_type": "markdown",
   "metadata": {},
   "source": [
    "- Si los puntos del mapa $y_i$ y $y_j$ modelan correctamente la similitud entre los puntos de datos de alta dimensionalidad $x_i$ y $x_j$, las probabilidades condicionales $p_{j|i}$ y $q_{j|i}$ serán iguales.\n",
    "\n",
    "- <span style=\"color: indianred;\">Objetivo de SNE:</span> encontrar una representación de datos en baja dimensionalidad que minimice la diferencia entre $p_{j|i}$ y $q_{j|i}$. \n",
    "\n",
    "    - Una medida natural de la fidelidad con la que $q_{j|i}$ modela $p_{j|i}$ es la divergencia de Kullback-Leibler. \n",
    "\n",
    "    - SNE minimiza la suma de las divergencias de Kullback-Leibler sobre todos los puntos de datos utilizando un método de descenso por gradiente."
   ]
  },
  {
   "cell_type": "markdown",
   "metadata": {},
   "source": [
    "$$\n",
    "C = \\sum_i KL(P_i || Q_i) = \\sum_i \\sum_j p_{j|i} \\log\\left(\\frac{p_{j|i}}{q_{j|i}}\\right)\n",
    "$$\n",
    "\n",
    "- donde:\n",
    "    - $P_i$: distribución de probabilidad condicional sobre todos los demás puntos de datos dado el punto de datos $x_i$\n",
    "    - $Q_i$: distribución de probabilidad condicional sobre todos los demás puntos en el mapa dado el punto en el mapa $y_i$."
   ]
  },
  {
   "cell_type": "markdown",
   "metadata": {},
   "source": [
    "- La minimización de la función de costo se realiza usando el método de <span style=\"color: indianred;\">gradiente descendiente</span>. El gradiente resultante es:\n",
    "\n",
    "  $$\n",
    "  \\frac{dC}{dy_i} = 2 \\sum_j (y_i - y_j)(p_{j|i} - q_{j|i} + p_{i|j} - q_{i|j})\n",
    "  $$"
   ]
  },
  {
   "cell_type": "markdown",
   "metadata": {},
   "source": [
    "#### Perplexity\n",
    "\n",
    "- Para elegir el valor adecuado de $\\sigma_i^2$, SNE realiza una <span style=\"color: indianred;\">búsqueda binaria para encontrar el valor</span> de $\\sigma_i$ que haga que la entropía de la distribución sobre los vecinos sea igual a $\\log(k)$.\n",
    "\n",
    "- $k$ es el hiperparámetro de <span style=\"color: indianred;\">**perplexity**</span>: el número efectivo de vecinos locales. La perplexity se define como:\n",
    "\n",
    "    $$\n",
    "    k = 2^{H(P_i)}\n",
    "    $$\n",
    "\n",
    "    donde $H(P_i)$ es la entropía de $P_i$ medida en bits:\n",
    "\n",
    "    $$\n",
    "    H(P_i) = -\\sum_j p_{j|i} \\log_2 p_{j|i}\n",
    "    $$\n",
    "\n",
    "De esta forma:\n",
    "\n",
    "- Para datos más densos, se debería elegir una *perplexity* $k$ mayor.\n",
    "    - Esto resultaría en un valor de $\\sigma_i^2$ menor y en un tamaño de vecindario más pequeño. \n",
    "\n",
    "- Además, dado que se utiliza el kernel gaussiano, la probabilidad de ser vecino disminuye abruptamente para cualquier punto $x_j$ que esté fuera del vecindario de un punto $x_i$ (y el vecindario se determina justamente mediante $\\sigma_i^2$)."
   ]
  },
  {
   "cell_type": "markdown",
   "metadata": {},
   "source": [
    "#### Crowding Problem\n",
    "\n",
    "- Aunque SNE preserva las relaciones locales, sufre del \"crowding problem\". \n",
    "\n",
    "- El área del mapa 2D disponible para ubicar puntos de datos moderadamente distantes no será lo suficientemente grande en comparación con el área disponible para ubicar puntos cercanos.\n",
    "\n",
    "- Intuitivamente, hay menos espacio en una dimensión inferior para acomodar puntos de datos moderadamente distantes que originalmente estaban en una dimensión superior. \n",
    "\n",
    "- Como resultado, los grupos globalmente distintos en el espacio de alta dimensionalidad tienden a acercarse entre sí y, muchas veces, no pueden distinguirse unos de otros en una representación 2D o 3D."
   ]
  },
  {
   "cell_type": "markdown",
   "metadata": {},
   "source": [
    "## t-Distributed Stochastic Neighbor Embedding (t-SNE)\n",
    "\n",
    "- Para abordar el crowding problem y hacer que SNE sea más robusto a los outliers, se introdujo t-SNE. \n",
    "- t-SNE presenta dos cambios principales: \n",
    "\n",
    "    1) Una versión simetrica de la función de costo de SNE con gradientes más simples y \n",
    "    2) El uso de una distribución *t*-Student en lugar de una gaussiana para calcular la similitud en el espacio de baja dimensionalidad, lo que ayuda a aliviar el crowding problem."
   ]
  },
  {
   "cell_type": "markdown",
   "metadata": {},
   "source": [
    "### 1. Nueva versión de la función de costo\n",
    "\n",
    "- En SNE, $p_{ij}$ no es necesariamente igual a $p_{ji}$, ya que $\\sigma_{ij}$ no tiene por qué ser igual a $\\sigma_{ji}$. \n",
    "\n",
    "- Esto hace que SNE sea susceptible a outliers, ya que un valor atípico $x_i$ tendría un valor de $p_{ji}$ muy chico para todos los demás puntos → su ubicación en el espacio embebido se vuelve irrelevante. \n",
    "\n",
    "- Para contrarrestar esto, en t-SNE se redefine $p_{ij}$ como:\n",
    "\n",
    "$$\n",
    "p_{ij} = \\frac{p_{j|i} + p_{i|j}}{2n}\n",
    "$$\n",
    "\n",
    "- Así, para todos los puntos de datos $x_i$, se asegura que $\\sum_j p_{ij} > \\frac{1}{2n}$. \n",
    "\n",
    "- Como resultado, cada $x_i$ contribuye de manera significativa a la función de costo, lo que también proporciona un gradiente más simple."
   ]
  },
  {
   "cell_type": "markdown",
   "metadata": {},
   "source": [
    "### 2. Nueva distribución para definir $Q$\n",
    "\n",
    "- En el espacio de alta dimensionalidad, convertimos las distancias en probabilidades usando una distribución gaussiana. \n",
    "\n",
    "- En el mapa de baja dimensionalidad, podemos usar una distribución de probabilidad con colas mucho más largas que una gaussiana para convertir las distancias en probabilidades. \n",
    "\n",
    "- Esto permite que una distancia moderada en el espacio de alta dimensionalidad se modele fielmente mediante una distancia mucho mayor en el mapa.\n",
    "\n",
    "- t-SNE utiliza la distribución *t* de Student en lugar de la distribución gaussiana para definir $Q$:\n",
    "\n",
    "$$\n",
    "q_{ij} = \\frac{(1 + ||y_i - y_j||^2)^{-1}}{\\sum_{k \\neq l}(1 + ||y_k - y_l||^2)^{-1}}\n",
    "$$\n",
    "\n",
    "- La función de costo de t-SNE se define como:\n",
    "\n",
    "$$\n",
    "C = \\sum_{i} KL(P_i || Q_i) = \\sum_{i=1}^{n} \\sum_{j=1}^{n} p_{ij} \\log \\frac{p_{ij}}{q_{ij}}\n",
    "$$\n",
    "\n",
    "- Esto disminuye el crowding problem, asegurando que las relaciones de proximidad en alta dimensionalidad se conserven en el espacio embebido de menor dimensionalidad."
   ]
  },
  {
   "cell_type": "markdown",
   "metadata": {},
   "source": [
    "<img style=\"display: block; margin-left: auto; margin-right: auto;\" src=\"/home/linar/Desktop/ML/Clases/i302/Clases/11_Clase 11: Reducción de Dimensionalidad/img/tstudent.png\">\n",
    "\n",
    "- La distribución de t-Student tiene colas más largas que una gaussiana → puntos lejanos en alta dimensionalidad se representan como lejanos también en el espacio reducido.\n",
    "\n",
    "- Con la gaussiana, la separación es más dificil de capturar porque la probabilidad de vecinos cae rápidamente, lo que empuja los puntos moderadamente distantes a estar más cerca de lo deseado."
   ]
  },
  {
   "cell_type": "markdown",
   "metadata": {},
   "source": [
    "- El gradiente de la función de costo es:\n",
    "\n",
    "    $$\n",
    "    \\frac{dC}{dy_i} = 4 \\sum_{j=1, j \\neq i}^{n} (p_{ij} - q_{ij})(1 + ||y_i - y_j||^2)^{-1} (y_i - y_j)\n",
    "    $$\n",
    "\n",
    "    $$\n",
    "    = 4 \\sum_{j=1, j \\neq i}^{n} (p_{ij} - q_{ij}) q_{ij} Z (y_i - y_j)\n",
    "    $$\n",
    "\n",
    "    $$\n",
    "    = 4 \\left(\\sum_{j \\neq i} p_{ij} q_{ij} Z (y_i - y_j) - \\sum_{j \\neq i} q_{ij}^2 Z (y_i - y_j)\\right)\n",
    "    $$\n",
    "\n",
    "    $$\n",
    "    = 4 (\\text{Atracción} + \\text{Repulsión})\n",
    "    $$\n",
    "\n",
    "    donde $Z = \\sum_{l,s=1, l \\neq s}^{n} (1 + ||y_l - y_s||^2)^{-1}$. \n",
    "\n",
    "    Pueden encontrar la derivación completa en el apéndice A del [paper de t-SNE](https://www.jmlr.org/papers/volume9/vandermaaten08a/vandermaaten08a.pdf)."
   ]
  },
  {
   "attachments": {
    "image-2.png": {
     "image/png": "[encoded data removed]"
    },
    "image.png": {
     "image/png": "[encoded data removed]"
    }
   },
   "cell_type": "markdown",
   "metadata": {},
   "source": [
    "![image.png](attachment:image.png)![image-2.png](attachment:image-2.png)\n",
    "\n",
    "- SNE: \n",
    "    - Enfatiza mantener juntos los puntos cercanos en el espacio de baja dimensión, pero tiene una capacidad limitada para separar puntos que son moderadamente lejanos en el espacio de alta dimensión. \n",
    "\n",
    "- t-SNE:\n",
    "    - Diferencia clave: presencia de valores negativos en el gradiente (en tonos azules).\n",
    "    - Esto representa una _fuerza de repulsión_ adicional que actúa en puntos moderadamente lejanos, facilitando que los puntos más alejados en alta dimensión también se separen en la baja dimensión. "
   ]
  },
  {
   "cell_type": "markdown",
   "metadata": {},
   "source": [
    "### Métodos de optimización para t-SNE\n",
    "\n",
    "- En el paper se presenta en primer lugar un procedimiento relativamente simple de descenso de gradiente para optimizar la función de costo de t-SNE. \n",
    "\n",
    "- Este utiliza un término de momentum $\\alpha$ para reducir la cantidad de iteraciones necesarias, y funciona mejor si el término de momentum es chico hasta que los puntos en el mapa estén moderadamente bien organizados. \n",
    "\n",
    "- Pueden encontrar el pseudocódigo de este algoritmo simple como \"Algoritmo 1\" en el [paper de t-SNE](https://www.jmlr.org/papers/volume9/vandermaaten08a/vandermaaten08a.pdf). \n",
    "\n",
    "- Este algoritmo simple puede acelerarse utilizando un esquema de tasa de aprendizaje adaptativo que incremente gradualmente el learning rate en las direcciones donde el gradiente es estable."
   ]
  },
  {
   "cell_type": "markdown",
   "metadata": {},
   "source": [
    "Hay dos trucos para mejorar aún más el algoritmo:\n",
    "\n",
    "1. **Compresión temprana**: \n",
    "    - Consiste en forzar a los puntos del mapa a mantenerse cerca unos de otros al comienzo de la optimización. \n",
    "\n",
    "    - Cuando las distancias entre los puntos del mapa son pequeñas, es más fácil que los clusters se muevan entre sí.\n",
    "\n",
    "    - Esto facilita explorar el espacio de posibles organizaciones globales de los datos. \n",
    "\n",
    "    - Se implementa agregando una **penalización L2** a la función de costo, proporcional a la suma de las distancias al cuadrado de los puntos del mapa respecto al origen. \n",
    "\n",
    "    - La magnitud de este término de penalización y la iteración en la que se elimina se configuran manualmente, pero el comportamiento es bastante robusto frente a variaciones en estos dos parámetros adicionales de optimización.\n",
    "\n",
    "2. **Exageración temprana**: \n",
    "    - Consiste en multiplicar todos los valores de $p_{ij}$ por un número mayor (por ejemplo, 4), en las etapas iniciales de la optimización. \n",
    "\n",
    "    - Los valores $p_{ij}$ representan qué tan similares son dos puntos en el espacio de datos original. Al exagerarlos, estamos \"enfatizando\" o \"haciendo más grandes\" las similitudes entre los puntos más cercanos, lo cual le dice al algoritmo que preste más atención a esos puntos cercanos entre sí.\n",
    "    \n",
    "    - Los valores de $q_{ij}$ representan distancias entre puntos en el espacio de baja dimensión. Estos valores siempre suman 1, así que cuando hacemos grandes los $p_{ij}$, los $q_{ij}$ tienden a quedarse chicos y no logran igualar a los $p_{ij}$.\n",
    "    \n",
    "    - Como los $q_{ij}$ no logran igualar a los $p_{ij}$, el algoritmo se esfuerza más en emparejar los valores más grandes de $p_{ij}$, lo cual hace que los puntos muy similares se agrupen de forma compacta y bien separada de otros grupos en el mapa.\n",
    "    \n",
    "    - Al final, la exageración temprana ayuda a crear clusters bien definidos, es decir, grupos de puntos similares que están bien separados entre sí. \n",
    "    \n",
    "    - Esto deja mucho espacio vacío entre los grupos, permitiendo que estos clusters se reorganicen de manera más fácil durante la optimización, para encontrar una estructura global clara en el mapa final."
   ]
  },
  {
   "cell_type": "markdown",
   "metadata": {},
   "source": [
    "### Limitaciones de t-SNE\n",
    "\n",
    "[Fuente](https://distill.pub/2016/misread-tsne/): Wattenberg, et al., \"How to Use t-SNE Effectively\", Distill, 2016. http://doi.org/10.23915/distill.00"
   ]
  },
  {
   "cell_type": "markdown",
   "metadata": {},
   "source": [
    "<span style=\"color: indianred;\">**1. Elección de Perplexity**\n",
    "\n",
    "- El hiperparámetro de perplejidad debe elegirse cuidadosamente y puede requerir tener cierto conocimiento general sobre los datos. \n",
    "\n",
    "- Cambiar la perplejidad puede generar visualizaciones muy diferentes que resaltan distintas estructuras en los datos:\n",
    "\n",
    "<img style=\"display: block; margin-left: auto; margin-right: auto;\" src=\"/home/linar/Desktop/ML/Clases/i302/Clases/11_Clase 11: Reducción de Dimensionalidad/img/perplexity.png\">"
   ]
  },
  {
   "cell_type": "markdown",
   "metadata": {},
   "source": [
    "<span style=\"color: indianred;\">**2. Tamaños de clusters no tienen sentido**\n",
    "- Las coordenadas después del embedding no tienen un sentido inherente y solo pueden ser utilizados para visualización.\n",
    "- No podemos ver tamaños relativos de clusters en un t-SNE plot.\n",
    "- El tamaño de los clusters después de hacer los embeddings no necesariamente tienen relación con como eran en el espacio original:\n",
    "\n",
    "<img style=\"display: block; margin-left: auto; margin-right: auto;\" src=\"/home/linar/Desktop/ML/Clases/i302/Clases/11_Clase 11: Reducción de Dimensionalidad/img/cluster_size.png\">"
   ]
  },
  {
   "cell_type": "markdown",
   "metadata": {},
   "source": [
    "<span style=\"color: indianred;\">**3. Distancias _entre_ clusters no tienen sentido**\n",
    "\n",
    "- Dado que t-SNE se enfoca en la estructura local, la estructura global solo se preserva a veces. \n",
    "- Por esto, la interpretación de la relación entre clústeres no se puede obtener solo a partir del embedding de t-SNE.\n",
    "- Los siguientes diagramas muestran tres distribuciones gaussianas de 50 puntos cada una, donde un par está 5 veces más alejado que otro par.\n",
    "\n",
    "    <img style=\"display: block; margin-left: auto; margin-right: auto;\" src=\"/home/linar/Desktop/ML/Clases/i302/Clases/11_Clase 11: Reducción de Dimensionalidad/img/distance_1.png\">\n",
    "\n",
    "\n",
    "    - Con una perplexidad de 50, el diagrama proporciona una buena percepción de la geometría global. \n",
    "    - Con valores de perplexidad más bajos, los clústeres parecen equidistantes. \n",
    "    - Cuando la perplexidad es 100, vemos la geometría global bien, pero uno de los clústeres aparece, falsamente, mucho más pequeño que los otros. \n",
    "    \n",
    "🤔 Dado que la perplexidad de 50 nos dio una buena representación en este ejemplo, __¿podemos siempre establecer la perplexidad en 50 si queremos ver la geometría global?__\n",
    "\n",
    "    Respuesta: 🚫 No 🚫 \n",
    "\n",
    "- Si agregamos más puntos a cada clúster, la perplexidad debe aumentar para compensar. \n",
    "- Ahora vemos los diagramas de t-SNE para tres clústeres gaussianos con 200 puntos cada uno. \n",
    "- En este caso, ninguno de los valores de perplexidad probados ofrece un buen resultado:\n",
    "\n",
    "<img style=\"display: block; margin-left: auto; margin-right: auto;\" src=\"/home/linar/Desktop/ML/Clases/i302/Clases/11_Clase 11: Reducción de Dimensionalidad/img/distance_2.png\">\n",
    "\n",
    "- Claramente es una mala noticia que ver la geometría global requiera hacer un fine-tuning de la perplexidad. \n",
    "- Los datos del mundo real probablemente tendrían múltiples clústeres con diferentes cantidades de elementos. Puede que no haya un solo valor de perplexidad que capture las distancias en todos los clústeres, y lamentablemente, la perplexidad es un parámetro global."
   ]
  },
  {
   "cell_type": "markdown",
   "metadata": {},
   "source": [
    "<span style=\"color: indianred;\">**4. El ruido aleatorio... no siempre se ve aleatorio**\n",
    "\n",
    "- La típica trampa es pensar que vemos patrones en lo que enrealidad solo son datos aleatorios.\n",
    "- Los siguientes diagramas muestran datos genuinamente aleatorios, 500 puntos extraídos de una distribución gaussiana unitaria en 100 dimensiones. La imagen de la izquierda es una proyección en las dos primeras coordenadas:\n",
    "\n",
    "    <img style=\"display: block; margin-left: auto; margin-right: auto;\" src=\"/home/linar/Desktop/ML/Clases/i302/Clases/11_Clase 11: Reducción de Dimensionalidad/img/noise.png\">\n",
    "\n",
    "    - El gráfico con una perplexidad de 2 parece mostrar clústeres dramáticos. \n",
    "    - Si estuvieramos ajustando la perplexidad para resaltar la estructura en los datos, podríamos pensar que dimos en el clavo... pero sabemos que no es así.\n",
    "\n",
    "- Si miramos los ejemplos anteriores, los valores bajos de perplexidad suelen conducir a este tipo de distribución! \n",
    "    - Reconocer estos agrupamientos como ruido aleatorio es una parte importante de la interpretación de los gráficos de t-SNE.\n"
   ]
  },
  {
   "cell_type": "markdown",
   "metadata": {},
   "source": [
    "<span style=\"color: indianred;\">**5. Diferentes inicializaciones pueden ofrecer diferentes resultados**\n",
    "\n",
    "- t-SNE tiene una función de costo que no es convexa. Esto quiere decir que múltiples reinicios con diferentes semillas terminarán en mínimos locales de la divergencia KL. \n",
    "\n",
    "En otras palabras, diferentes inicializaciones pueden generar embeddings diferentes:\n",
    "\n",
    "<img style=\"display: block; margin-left: auto; margin-right: auto;\" src=\"/home/linar/Desktop/ML/Clases/i302/Clases/11_Clase 11: Reducción de Dimensionalidad/img/results_2.png\">\n",
    "\n",
    "- Sin embargo, 5 ejecuciones con una perplexidad de 50 dan resultados que, son visualmente idénticos (sin considerar diferencias causadas por rotaciones, reflexiones, o transformaciones que no alteran la esencia de los datos):\n",
    "\n",
    "<img style=\"display: block; margin-left: auto; margin-right: auto;\" src=\"/home/linar/Desktop/ML/Clases/i302/Clases/11_Clase 11: Reducción de Dimensionalidad/img/results_50.png\">\n",
    "\n",
    "- Evidentemente, algunos problemas son más fáciles de optimizar que otros. Por lo tanto, a veces es útil probar diferentes semillas y seleccionar el embedding con la menor divergencia KL."
   ]
  },
  {
   "cell_type": "markdown",
   "metadata": {},
   "source": [
    "<span style=\"color: indianred;\">**6. Computacionalmente costoso**\n",
    "\n",
    "- t-SNE es computacionalmente costoso y puede tardar varias horas en conjuntos de datos con millones de muestras, mientras que PCA puede completarse en segundos o minutos.\n",
    "- $O(N^2)$ (Demostrar 😉!)"
   ]
  },
  {
   "cell_type": "markdown",
   "metadata": {},
   "source": [
    "## UMAP\n",
    "\n",
    "- Se han propuesto varias extensiones de t-SNE que intentan mejorar su velocidad, la calidad del espacio de embedding o la capacidad de hacer un embedding en más de 2 dimensiones. \n",
    "\n",
    "- Una extensión reciente popular se llama UMAP (que significa “Uniform Manifold Approximation and Projection”). \n",
    "\n",
    "- A un alto nivel, es similar a t-SNE, pero tiende a preservar mejor la estructura global y es mucho más rápido. \n",
    "\n",
    "- Esto facilita probar múltiples valores de los hiperparámetros. Para un tutorial interactivo sobre UMAP y una comparación con t-SNE, consultar el [siguiente link](https://pair-code.github.io/understanding-umap/)"
   ]
  },
  {
   "cell_type": "markdown",
   "metadata": {},
   "source": [
    "## Conclusión\n",
    "\n",
    "- t-SNE se volvió muy popular por motivos claros: es increíblemente flexible y suele encontrar estructuras donde otros algoritmos de reducción de dimensionalidad no pueden. \n",
    "\n",
    "- Sin embargo, esa misma flexibilidad lo hace complicado de interpretar. \n",
    "\n",
    "- No dejen que la \"magia\" oculta de t-SNE los aleje de usar la técnica. Es posible estudiar cómo se comporta t-SNE en casos simples para desarrollar una intuición sobre lo que está sucediendo.\n",
    "\n",
    "- Se recomienda utilizar otro método de reducción de dimensionalidad (por ejemplo, PCA) para reducir el número de dimensiones a una cantidad razonable si el número de características es muy alto. Esto ayudará a suprimir algo de ruido y acelerará el cálculo de las distancias por pares entre las muestras."
   ]
  }
 ],
 "metadata": {
  "kernelspec": {
   "display_name": "i302",
   "language": "python",
   "name": "python3"
  },
  "language_info": {
   "codemirror_mode": {
    "name": "ipython",
    "version": 3
   },
   "file_extension": ".py",
   "mimetype": "text/x-python",
   "name": "python",
   "nbconvert_exporter": "python",
   "pygments_lexer": "ipython3",
   "version": "3.10.12"
  }
 },
 "nbformat": 4,
 "nbformat_minor": 2
}
