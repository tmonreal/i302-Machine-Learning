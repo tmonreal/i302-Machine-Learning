{
 "cells": [
  {
   "cell_type": "code",
   "execution_count": 10,
   "metadata": {},
   "outputs": [],
   "source": [
    "import numpy as np\n",
    "\n",
    "def manhattan(x1, x2, y1, y2):\n",
    "    return np.abs(x2-x1) + np.abs(y2-y1)\n",
    "\n",
    "def euclidean(x1, x2, y1, y2):\n",
    "    return np.sqrt(((x2-x1)**2 )+ ((y2-y1)**2))"
   ]
  },
  {
   "cell_type": "code",
   "execution_count": 94,
   "metadata": {},
   "outputs": [
    {
     "name": "stdout",
     "output_type": "stream",
     "text": [
      "PUNTO (-4, 6)\n",
      "Distancias Manhattan:\n",
      "Punto A: 0\n",
      "Punto B:9\n",
      "Cluster más cercano: A\n",
      "PUNTO (-4, 5)\n",
      "Distancias Manhattan:\n",
      "Punto A: 1\n",
      "Punto B:8\n",
      "Cluster más cercano: A\n",
      "PUNTO (-4, 3)\n",
      "Distancias Manhattan:\n",
      "Punto A: 3\n",
      "Punto B:10\n",
      "Cluster más cercano: A\n",
      "PUNTO (-1, 3)\n",
      "Distancias Manhattan:\n",
      "Punto A: 6\n",
      "Punto B:7\n",
      "Cluster más cercano: A\n",
      "PUNTO (0, 0)\n",
      "Distancias Manhattan:\n",
      "Punto A: 10\n",
      "Punto B:9\n",
      "Cluster más cercano: B\n",
      "PUNTO (1, 0)\n",
      "Distancias Manhattan:\n",
      "Punto A: 11\n",
      "Punto B:8\n",
      "Cluster más cercano: B\n",
      "PUNTO (2, 1)\n",
      "Distancias Manhattan:\n",
      "Punto A: 11\n",
      "Punto B:6\n",
      "Cluster más cercano: B\n",
      "PUNTO (2, 3)\n",
      "Distancias Manhattan:\n",
      "Punto A: 9\n",
      "Punto B:4\n",
      "Cluster más cercano: B\n",
      "PUNTO (2, 5)\n",
      "Distancias Manhattan:\n",
      "Punto A: 7\n",
      "Punto B:2\n",
      "Cluster más cercano: B\n",
      "PUNTO (3, 5)\n",
      "Distancias Manhattan:\n",
      "Punto A: 8\n",
      "Punto B:1\n",
      "Cluster más cercano: B\n",
      "PUNTO (4, 5)\n",
      "Distancias Manhattan:\n",
      "Punto A: 9\n",
      "Punto B:0\n",
      "Cluster más cercano: B\n"
     ]
    }
   ],
   "source": [
    "A = (-4,6)\n",
    "B = (4, 5)\n",
    "\n",
    "puntos = [(-4,6), (-4, 5), (-4, 3), (-1, 3), (0, 0),\n",
    "    (1, 0), (2, 1), (2, 3), (2, 5), (3, 5), (4, 5)]\n",
    "\n",
    "for p in puntos:\n",
    "    # Distancias al punto A\n",
    "    man_a = manhattan(A[0], p[0], A[1], p[1])\n",
    "    euc_a = euclidean(A[0], p[0], A[1], p[1])\n",
    "\n",
    "    # Distancias al punto B\n",
    "    man_b = manhattan(B[0], p[0], B[1], p[1])\n",
    "    euc_b = euclidean(B[0], p[0], B[1], p[1])\n",
    "\n",
    "    man_cluster = \"A\" if man_a < man_b else \"B\"\n",
    "    euc_cluster = \"A\" if euc_a < euc_b else \"B\"\n",
    "    print(f\"PUNTO {p}\")\n",
    "    print(f\"Distancias Manhattan:\\nPunto A: {man_a}\\nPunto B:{man_b}\\nCluster más cercano: {man_cluster}\")\n",
    "    #print(f\"Distancias Euclideanas:\\nPunto A: {euc_a}\\nPunto B:{euc_b}\\nCluster más cercano: {euc_cluster}\\n\")\n",
    "    #if euc_cluster == man_cluster: \n",
    "    #    print(\"Misma asignación con las dos distancias\\n\\n\")\n",
    "    #else: print(\"Asignación diferente \\n\\n\")"
   ]
  },
  {
   "cell_type": "code",
   "execution_count": 69,
   "metadata": {},
   "outputs": [
    {
     "data": {
      "text/plain": [
       "3.25"
      ]
     },
     "execution_count": 69,
     "metadata": {},
     "output_type": "execute_result"
    }
   ],
   "source": [
    "13/4"
   ]
  },
  {
   "cell_type": "code",
   "execution_count": 68,
   "metadata": {},
   "outputs": [
    {
     "data": {
      "text/plain": [
       "4.25"
      ]
     },
     "execution_count": 68,
     "metadata": {},
     "output_type": "execute_result"
    }
   ],
   "source": [
    "(6+5+3+3)/4"
   ]
  },
  {
   "cell_type": "markdown",
   "metadata": {},
   "source": [
    "Ejercicio Parcial"
   ]
  },
  {
   "cell_type": "markdown",
   "metadata": {},
   "source": [
    "Con DISTANCIA EUCLIDEA\n",
    "\n",
    "* Centroide del Cluster 1 (Rojo): (−3.25,3.75)\n",
    "* Centroide del Cluster 2 (Azul): (2.0,2.71)\n"
   ]
  },
  {
   "cell_type": "code",
   "execution_count": 5,
   "metadata": {},
   "outputs": [
    {
     "name": "stderr",
     "output_type": "stream",
     "text": [
      "/home/linar/.local/lib/python3.8/site-packages/sklearn/cluster/_kmeans.py:1416: FutureWarning: The default value of `n_init` will change from 10 to 'auto' in 1.4. Set the value of `n_init` explicitly to suppress the warning\n",
      "  super()._check_params_vs_input(X, default_n_init=10)\n"
     ]
    },
    {
     "data": {
      "image/png": "[encoded data removed]",
      "text/plain": [
       "<Figure size 720x504 with 1 Axes>"
      ]
     },
     "metadata": {
      "needs_background": "light"
     },
     "output_type": "display_data"
    },
    {
     "name": "stdout",
     "output_type": "stream",
     "text": [
      "[[ 1.625       2.75      ]\n",
      " [-4.          4.66666667]]\n"
     ]
    }
   ],
   "source": [
    "import numpy as np\n",
    "import matplotlib.pyplot as plt\n",
    "from sklearn.cluster import KMeans\n",
    "\n",
    "# Definir el conjunto de datos\n",
    "data = np.array([\n",
    "    [-4, 6], [-4, 5], [-4, 3], [-1, 3], [0, 0],\n",
    "    [1, 0], [2, 1], [2, 3], [2, 5], [3, 5], [4, 5]\n",
    "])\n",
    "\n",
    "# Aplicar k-means con k=2\n",
    "kmeans = KMeans(n_clusters=2, random_state=42)\n",
    "kmeans.fit(data)\n",
    "clusters = kmeans.predict(data)\n",
    "centroids = kmeans.cluster_centers_\n",
    "\n",
    "# Dibujar los clusters y los centroides\n",
    "plt.figure(figsize=(10, 7))\n",
    "\n",
    "# Colores para cada cluster\n",
    "colors = ['red', 'blue']\n",
    "for i in range(2):\n",
    "    plt.scatter(data[clusters == i][:, 0], data[clusters == i][:, 1], \n",
    "                s=100, c=colors[i], label=f'Cluster {i+1}')\n",
    "\n",
    "# Dibujar los centroides\n",
    "plt.scatter(centroids[:, 0], centroids[:, 1], s=300, c='yellow', label='Centroides', marker='X')\n",
    "\n",
    "# Etiquetas y leyenda\n",
    "plt.title('Clusters resultantes de k-means con k=2')\n",
    "plt.xlabel('Eje X')\n",
    "plt.ylabel('Eje Y')\n",
    "plt.legend()\n",
    "plt.grid(True)\n",
    "\n",
    "# Mostrar el gráfico\n",
    "plt.show()\n",
    "print(centroids)"
   ]
  },
  {
   "cell_type": "code",
   "execution_count": 20,
   "metadata": {},
   "outputs": [
    {
     "name": "stdout",
     "output_type": "stream",
     "text": [
      "Manual centroids after first iteration: [1.625 2.75 ] [-4.          4.66666667]\n"
     ]
    }
   ],
   "source": [
    "import numpy as np\n",
    "\n",
    "# Initial centroids\n",
    "centroid_1 = np.array([2, 3])\n",
    "centroid_2 = np.array([-4, 5])\n",
    "\n",
    "# Distance calculation function\n",
    "def euclidean_distance(a, b):\n",
    "    return np.sqrt(np.sum((a - b) ** 2))\n",
    "\n",
    "# Assign points to the closest centroid\n",
    "clusters_manual = []\n",
    "for point in data:\n",
    "    distance_to_c1 = euclidean_distance(point, centroid_1)\n",
    "    distance_to_c2 = euclidean_distance(point, centroid_2)\n",
    "    if distance_to_c1 < distance_to_c2:\n",
    "        clusters_manual.append(0)  # Cluster 1\n",
    "    else:\n",
    "        clusters_manual.append(1)  # Cluster 2\n",
    "\n",
    "# Convert to numpy array\n",
    "clusters_manual = np.array(clusters_manual)\n",
    "\n",
    "# Recalculate centroids\n",
    "new_centroid_1 = np.mean(data[clusters_manual == 0], axis=0)\n",
    "new_centroid_2 = np.mean(data[clusters_manual == 1], axis=0)\n",
    "\n",
    "print(\"Manual centroids after first iteration:\", new_centroid_1, new_centroid_2)"
   ]
  },
  {
   "cell_type": "code",
   "execution_count": 18,
   "metadata": {},
   "outputs": [
    {
     "name": "stdout",
     "output_type": "stream",
     "text": [
      "Manual centroids after first iteration: [-4.          4.66666667] [1.625 2.75 ]\n",
      "Centroids using sklearn KMeans: [[ 1.625       2.75      ]\n",
      " [-4.          4.66666667]]\n"
     ]
    },
    {
     "name": "stderr",
     "output_type": "stream",
     "text": [
      "/home/linar/.local/lib/python3.8/site-packages/sklearn/cluster/_kmeans.py:1416: FutureWarning: The default value of `n_init` will change from 10 to 'auto' in 1.4. Set the value of `n_init` explicitly to suppress the warning\n",
      "  super()._check_params_vs_input(X, default_n_init=10)\n"
     ]
    }
   ],
   "source": [
    "import numpy as np\n",
    "import matplotlib.pyplot as plt\n",
    "from sklearn.cluster import KMeans\n",
    "\n",
    "# Definir el conjunto de datos\n",
    "data = np.array([\n",
    "    [-4, 6], [-4, 5], [-4, 3], [-1, 3], [0, 0],\n",
    "    [1, 0], [2, 1], [2, 3], [2, 5], [3, 5], [4, 5]\n",
    "])\n",
    "\n",
    "# Initial centroids\n",
    "centroid_1 = np.array([-4, 5])\n",
    "centroid_2 = np.array([2, 3])\n",
    "\n",
    "# Distance calculation function\n",
    "def euclidean_distance(a, b):\n",
    "    return np.sqrt(np.sum((a - b) ** 2))\n",
    "\n",
    "# Assign points to the closest centroid\n",
    "clusters_manual = []\n",
    "for point in data:\n",
    "    distance_to_c1 = euclidean_distance(point, centroid_1)\n",
    "    distance_to_c2 = euclidean_distance(point, centroid_2)\n",
    "    if distance_to_c1 < distance_to_c2:\n",
    "        clusters_manual.append(0)  # Cluster 1\n",
    "    else:\n",
    "        clusters_manual.append(1)  # Cluster 2\n",
    "\n",
    "# Convert to numpy array\n",
    "clusters_manual = np.array(clusters_manual)\n",
    "\n",
    "# Recalculate centroids\n",
    "new_centroid_1 = np.mean(data[clusters_manual == 0], axis=0)\n",
    "new_centroid_2 = np.mean(data[clusters_manual == 1], axis=0)\n",
    "\n",
    "print(\"Manual centroids after first iteration:\", new_centroid_1, new_centroid_2)\n",
    "\n",
    "# Aplicar k-means con k=2\n",
    "kmeans = KMeans(n_clusters=2, random_state=42)\n",
    "kmeans.fit(data)\n",
    "clusters = kmeans.predict(data)\n",
    "centroids = kmeans.cluster_centers_\n",
    "\n",
    "print(\"Centroids using sklearn KMeans:\", centroids)\n"
   ]
  },
  {
   "cell_type": "code",
   "execution_count": 18,
   "metadata": {},
   "outputs": [
    {
     "name": "stdout",
     "output_type": "stream",
     "text": [
      "Centroids using sklearn KMeans with specified initial centroids: [[-4.          4.66666667]\n",
      " [ 1.625       2.75      ]]\n"
     ]
    },
    {
     "name": "stderr",
     "output_type": "stream",
     "text": [
      "/home/linar/.local/lib/python3.8/site-packages/sklearn/cluster/_kmeans.py:1416: RuntimeWarning: Explicit initial center position passed: performing only one init in KMeans instead of n_init=10.\n",
      "  super()._check_params_vs_input(X, default_n_init=10)\n"
     ]
    }
   ],
   "source": [
    "import numpy as np\n",
    "from sklearn.cluster import KMeans\n",
    "\n",
    "# Definir el conjunto de datos\n",
    "data = np.array([\n",
    "    [-4, 6], [-4, 5], [-4, 3], [-1, 3], [0, 0],\n",
    "    [1, 0], [2, 1], [2, 3], [2, 5], [3, 5], [4, 5]\n",
    "])\n",
    "\n",
    "# Initial centroids\n",
    "initial_centroids = np.array([[-4, 5], [2, 3]])\n",
    "\n",
    "# Aplicar k-means con k=2 con centroides iniciales específicos\n",
    "kmeans = KMeans(n_clusters=2, init=initial_centroids, n_init=10, random_state=42)\n",
    "kmeans.fit(data)\n",
    "clusters = kmeans.predict(data)\n",
    "centroids = kmeans.cluster_centers_\n",
    "\n",
    "print(\"Centroids using sklearn KMeans with specified initial centroids:\", centroids)\n"
   ]
  },
  {
   "cell_type": "markdown",
   "metadata": {},
   "source": [
    "# CON DISTANCIA EUCLIDEA"
   ]
  },
  {
   "cell_type": "code",
   "execution_count": 105,
   "metadata": {},
   "outputs": [
    {
     "name": "stdout",
     "output_type": "stream",
     "text": [
      "Centroids using sklearn KMeans with specified initial centroids: [[-4.          4.66666667]\n",
      " [ 1.625       2.75      ]]\n"
     ]
    },
    {
     "data": {
      "image/png": "[encoded data removed]",
      "text/plain": [
       "<Figure size 720x504 with 1 Axes>"
      ]
     },
     "metadata": {
      "needs_background": "light"
     },
     "output_type": "display_data"
    }
   ],
   "source": [
    "import numpy as np\n",
    "import matplotlib.pyplot as plt\n",
    "from sklearn.cluster import KMeans\n",
    "\n",
    "# Definir el conjunto de datos\n",
    "data = np.array([\n",
    "    [-4, 6], [-4, 5], [-4, 3], [-1, 3], [0, 0],\n",
    "    [1, 0], [2, 1], [2, 3], [2, 5], [3, 5], [4, 5]\n",
    "])\n",
    "\n",
    "# Initial centroids\n",
    "initial_centroids = np.array([[-4, 3],[2, 3]])\n",
    "\n",
    "# Aplicar k-means con k=2 con centroides iniciales específicos\n",
    "kmeans = KMeans(n_clusters=2, init=initial_centroids, n_init=1, random_state=42)\n",
    "kmeans.fit(data)\n",
    "clusters = kmeans.predict(data)\n",
    "centroids = kmeans.cluster_centers_\n",
    "\n",
    "print(\"Centroids using sklearn KMeans with specified initial centroids:\", centroids)\n",
    "\n",
    "# Dibujar los clusters y los centroides\n",
    "plt.figure(figsize=(10, 7))\n",
    "\n",
    "# Colores para cada cluster\n",
    "colors = ['red', 'blue']\n",
    "for i in range(2):\n",
    "    plt.scatter(data[clusters == i][:, 0], data[clusters == i][:, 1], \n",
    "                s=100, c=colors[i], label=f'Cluster {i+1}')\n",
    "\n",
    "# Dibujar los centroides\n",
    "plt.scatter(centroids[:, 0], centroids[:, 1], s=300, c='yellow', label='Centroides', marker='X')\n",
    "\n",
    "# Etiquetas y leyenda\n",
    "plt.title('Clusters resultantes de k-means con k=2')\n",
    "plt.xlabel('Eje X')\n",
    "plt.ylabel('Eje Y')\n",
    "plt.legend()\n",
    "plt.grid(True)\n",
    "\n",
    "# Mostrar el gráfico\n",
    "plt.show()\n"
   ]
  },
  {
   "cell_type": "code",
   "execution_count": 104,
   "metadata": {},
   "outputs": [
    {
     "data": {
      "text/plain": [
       "14"
      ]
     },
     "execution_count": 104,
     "metadata": {},
     "output_type": "execute_result"
    }
   ],
   "source": [
    "0+1+2+2+2+3+4"
   ]
  },
  {
   "cell_type": "code",
   "execution_count": 101,
   "metadata": {},
   "outputs": [
    {
     "data": {
      "text/plain": [
       "-3.25"
      ]
     },
     "execution_count": 101,
     "metadata": {},
     "output_type": "execute_result"
    }
   ],
   "source": [
    "(-1-4-4-4)/4"
   ]
  },
  {
   "cell_type": "markdown",
   "metadata": {},
   "source": [
    "# CON DISTANCIA MANHATTAN\n"
   ]
  },
  {
   "cell_type": "code",
   "execution_count": 88,
   "metadata": {},
   "outputs": [
    {
     "data": {
      "image/png": "[encoded data removed]",
      "text/plain": [
       "<Figure size 720x504 with 1 Axes>"
      ]
     },
     "metadata": {
      "needs_background": "light"
     },
     "output_type": "display_data"
    },
    {
     "data": {
      "text/plain": [
       "array([[-4.        ,  4.66666667],\n",
       "       [ 1.625     ,  2.75      ]])"
      ]
     },
     "execution_count": 88,
     "metadata": {},
     "output_type": "execute_result"
    }
   ],
   "source": [
    "import numpy as np\n",
    "import matplotlib.pyplot as plt\n",
    "from scipy.spatial.distance import cdist\n",
    "\n",
    "# Definir el conjunto de datos\n",
    "data = np.array([\n",
    "    [-4, 6], [-4, 5], [-4, 3], [-1, 3], [0, 0],\n",
    "    [1, 0], [2, 1], [2, 3], [2, 5], [3, 5], [4, 5]\n",
    "])\n",
    "\n",
    "# Definir la distancia Manhattan\n",
    "def manhattan_distance(a, b):\n",
    "    return np.abs(a - b).sum(axis=1)\n",
    "\n",
    "# K-means con distancia Manhattan\n",
    "def kmeans_manhattan(data, k, max_iter=100):\n",
    "    # Inicialización aleatoria de los centroides\n",
    "    centroids = np.array([[-4, 6], [4, 5]])\n",
    "    \n",
    "    for _ in range(max_iter):\n",
    "        # Calcular distancias usando distancia Manhattan\n",
    "        distances = np.array([manhattan_distance(data, centroid) for centroid in centroids]).T\n",
    "        \n",
    "        # Asignar cada punto al centroide más cercano\n",
    "        clusters = np.argmin(distances, axis=1)\n",
    "        \n",
    "        # Calcular nuevos centroides\n",
    "        new_centroids = np.array([data[clusters == i].mean(axis=0) for i in range(k)])\n",
    "        \n",
    "        # Verificar la convergencia\n",
    "        if np.all(centroids == new_centroids):\n",
    "            break\n",
    "        \n",
    "        centroids = new_centroids\n",
    "    \n",
    "    return clusters, centroids\n",
    "\n",
    "# Aplicar k-means con distancia Manhattan\n",
    "clusters_manhattan, centroids_manhattan = kmeans_manhattan(data, 2)\n",
    "\n",
    "# Dibujar los clusters y los centroides\n",
    "plt.figure(figsize=(10, 7))\n",
    "\n",
    "# Colores para cada cluster\n",
    "colors = ['red', 'blue']\n",
    "for i in range(2):\n",
    "    plt.scatter(data[clusters_manhattan == i][:, 0], data[clusters_manhattan == i][:, 1], \n",
    "                s=100, c=colors[i], label=f'Cluster {i+1}')\n",
    "\n",
    "# Dibujar los centroides\n",
    "plt.scatter(centroids_manhattan[:, 0], centroids_manhattan[:, 1], s=300, c='yellow', label='Centroides', marker='X')\n",
    "\n",
    "# Etiquetas y leyenda\n",
    "plt.title('Clusters resultantes de k-means con k=2 (distancia Manhattan)')\n",
    "plt.xlabel('Eje X')\n",
    "plt.ylabel('Eje Y')\n",
    "plt.legend()\n",
    "plt.grid(True)\n",
    "\n",
    "# Mostrar el gráfico\n",
    "plt.show()\n",
    "\n",
    "# Imprimir los valores de los centroides finales\n",
    "centroids_manhattan\n"
   ]
  },
  {
   "cell_type": "code",
   "execution_count": 92,
   "metadata": {},
   "outputs": [
    {
     "data": {
      "text/plain": [
       "2.7142857142857144"
      ]
     },
     "execution_count": 92,
     "metadata": {},
     "output_type": "execute_result"
    }
   ],
   "source": [
    "(0+0+1+3+5+5+5)/7"
   ]
  },
  {
   "cell_type": "code",
   "execution_count": null,
   "metadata": {},
   "outputs": [],
   "source": []
  }
 ],
 "metadata": {
  "kernelspec": {
   "display_name": "i302",
   "language": "python",
   "name": "python3"
  },
  "language_info": {
   "codemirror_mode": {
    "name": "ipython",
    "version": 3
   },
   "file_extension": ".py",
   "mimetype": "text/x-python",
   "name": "python",
   "nbconvert_exporter": "python",
   "pygments_lexer": "ipython3",
   "version": "3.8.10"
  }
 },
 "nbformat": 4,
 "nbformat_minor": 2
}
