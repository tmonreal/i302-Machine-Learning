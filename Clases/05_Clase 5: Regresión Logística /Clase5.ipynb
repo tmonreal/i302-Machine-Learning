{
 "cells": [
  {
   "cell_type": "code",
   "execution_count": 1,
   "metadata": {},
   "outputs": [],
   "source": [
    "%load_ext autoreload\n",
    "%autoreload 2"
   ]
  },
  {
   "cell_type": "markdown",
   "metadata": {},
   "source": [
    "# Clase Tutorial 5: Regresión Logística"
   ]
  },
  {
   "cell_type": "markdown",
   "metadata": {},
   "source": [
    "## Introducción"
   ]
  },
  {
   "cell_type": "markdown",
   "metadata": {},
   "source": [
    "- Hasta ahora nos estuvimos concentrando en entrenar modelos que permitieran generar una predicción numérica para una observación nueva a partir de un conjunto de variables que la caracterizaban. \n",
    "\n",
    "> __Ejemplo__: predecir el precio de una SUV en función de sus características. En este caso, la variable objetivo (target) es el valor numérico en dólares del precio de la SUV, y las variables explicativas son la cantidad de km recorridos, el motor, el color, la transmición, etc. \n",
    "\n",
    "- Para resolver esta tarea, ya vimos varios modelos de regresión y varias estrategias para validarlos y mejorarlos (por ejemplo, feature engineering y regularización). \n",
    "\n",
    "- ¿Qué es lo que tenían en común todos estos modelos? \n",
    "    - **La variable ojetivo siempre era numérica**.\n",
    "\n",
    "- Sin embargo, existen algunos problemas en los que el objetivo es poder predecir el valor de una **variable categórica**.\n",
    "\n",
    "- Esto implica que hay que redifinir (un poco) el problema.\n",
    "\n",
    "- Objetivo (a grandes rasgos) sigue siendo el mismo: búsqueda de una función $h$ que nos permita pasar de un conjunto de valores $X$ (datos de entrada) a otro conjunto de valores $Y$ (valores objetivos).\n",
    "$$ h: X \\rightarrow Y$$\n",
    "\n",
    "- Diferencia: el resultado de la predicción no puede tomar cualquier valor, sino que **está acotado a un número finito de valores posibles**. Este tipo de problemas son de <span style=\"color: hotpink;\">**clasificación**</span>."
   ]
  },
  {
   "cell_type": "markdown",
   "metadata": {},
   "source": [
    "<div class=\"alert alert-block alert-info\" style=\"background-color: #d0e8f2; border-color: #d0e8f2; color: #000;\">\n",
    "\n",
    "<b>Ejemplo:</b>  Tenemos una serie de artículos de un diario y debemos saber si los mismos pertenecen a la sección de Economía, Deportes o Sociedad. \n",
    "\n",
    "<img src=\"/home/linar/Desktop/ML/Clases/i302/Clases/05_Clase 5: Regresión Logística /images/diario.jpg\" alt=\"image\" style=\"display: block; margin: 0 auto; max-width: 100%; height: auto;\">\n",
    "\n",
    "- Features: Título y Texto del artículo.\n",
    "- Target: Sección del diario (Economía (E), Deportes (D) o Sociedad (S))\n",
    "</div>\n",
    "\n",
    "\n",
    ">  🤔 ¿Porqué decimos que este es un problema de **clasificación**? \n",
    ">- Porque la variable objetivo solamente puede tomar 3 valores.\n",
    ">\n",
    "> 🤔 ¿Cuál es el objetivo de este modelo a entrenar?\n",
    ">- Estimar la probabilidad P de que el artículo leído pertenezca a cada sección.\n",
    ">- Si tenemos 100 artículos de Economía (E), 100 de Deportes (D) y 100 de Sociedad (S) y sacamos uno al azar, tendremos:\n",
    ">    - $P(\\text{sección=E}) = \\frac{1}{3}$\n",
    ">    - $P(\\text{sección=D}) = \\frac{1}{3}$\n",
    ">    - $P(\\text{sección=S}) = \\frac{1}{3}$ \n",
    ">        - No es muy útil.\n",
    ">\n",
    ">- Pero... si después de elegir el artículo al azar, leemos el título y dice \"Copa Libertadores\", sabemos que las probabilidades serán muy diferentes. \n",
    ">- ¿Que cambió? Ahora tenemos más información para hacer la clasificación ya que está <b>condicionada</b>. \n",
    ">- Sería esperable que el modelo genere algo del estilo: $P(\\text{sección=D}|\\text{título=``Copa Libertadores\"}) = 0.99$"
   ]
  },
  {
   "cell_type": "markdown",
   "metadata": {},
   "source": [
    "**Generalizando**\n",
    "\n",
    "- A partir del ejemplo anterior, podemos escribir al problema de clasificación como el cálculo de una probabilidad condicional:\n",
    "\n",
    "$$P(y_{i}=clase_{j}|x_{i}=X) = ¿?$$\n",
    "\n",
    "- Es decir: _¿Cuál es la probabilidad de que la observación $i$ pertenezca a la clase $j$, sabiendo el valor de sus features $x$?_"
   ]
  },
  {
   "cell_type": "markdown",
   "metadata": {},
   "source": [
    "### 🤔 ¿Podemos resolver este problema con una regresión lineal?\n",
    "\n",
    "Recordemos brevemente que la regresión lineal es un modelo que permite estimar un valor numérico a partir de una combinación lineal del valor de las features:\n",
    "$$\\hat{y_{i}}=w_{0}+w_{1}·x_{i1}+w_{2}·x_{i2}+\\dots+w_{M}·x_{iM}$$\n",
    "Donde los $w$ se estiman ($w^*$) a partir del set de entrenamiento.\n",
    "\n",
    "- Intentemos usar esta fórmula para hacer el cálculo de probabilidad que mencionamos anteriormente. \n",
    "\n",
    "- Supongamos que debemos entrenar un clasificador binario que permita identificar si una obsevación pertenece a la clase \"0\" o a la clase \"1\". \n",
    "    - Es decir, intentaremos estimar $P(y=1|x)$ con la siguiente fórmula:\n",
    "$$ P(y=1|x) = w_{0}+w_{1}·x_{i1}$$"
   ]
  },
  {
   "cell_type": "code",
   "execution_count": 2,
   "metadata": {},
   "outputs": [],
   "source": [
    "import numpy as np\n",
    "\n",
    "# Creamos n datos de prueba\n",
    "n = 20\n",
    "np.random.seed(0)\n",
    "x = np.linspace(-5,5,n) + np.random.rand(n)\n",
    "x = x.reshape(-1,1)\n",
    "# Asignamos una clase (0 o 1)\n",
    "y = np.zeros(n)\n",
    "for i in range(n):\n",
    "    y[i] = np.random.choice([0,1], size=1, p=[np.exp(-i/n), 1-np.exp(-i/n)])"
   ]
  },
  {
   "cell_type": "code",
   "execution_count": 3,
   "metadata": {},
   "outputs": [
    {
     "data": {
      "image/png": "[encoded data removed]",
      "text/plain": [
       "<Figure size 432x288 with 1 Axes>"
      ]
     },
     "metadata": {
      "needs_background": "light"
     },
     "output_type": "display_data"
    }
   ],
   "source": [
    "import matplotlib.pyplot as plt\n",
    "\n",
    "plt.scatter(x,y,c=y, cmap='rainbow')\n",
    "plt.xlabel('x')\n",
    "plt.ylabel('Clase')\n",
    "plt.yticks([0,1]);"
   ]
  },
  {
   "cell_type": "markdown",
   "metadata": {},
   "source": [
    "¿Qué podemos deducir a partir de este gráfico?\n",
    "- ↑ valor de x, ↑ probable que la observación pertenezca a la clase 1.\n",
    "- ↓ valor de x, ↓ probable que la observación pertenezca a la clase 1.\n",
    "- Rango intermedio: clase no está claramente definida.\n",
    "\n",
    "Intentemos plasmar eso utilizando una regresión lineal:"
   ]
  },
  {
   "cell_type": "code",
   "execution_count": 4,
   "metadata": {},
   "outputs": [],
   "source": [
    "from models import LinearRegression\n",
    "\n",
    "# Instanciamos un objeto de la clase creada\n",
    "linear_regression = LinearRegression(degree=1)\n",
    "\n",
    "# Ajustamos el modelo a nuestros datos\n",
    "linear_regression.fit(x, y)"
   ]
  },
  {
   "cell_type": "code",
   "execution_count": 5,
   "metadata": {},
   "outputs": [
    {
     "name": "stdout",
     "output_type": "stream",
     "text": [
      "ŷ(x) = 0.332 + 0.116 * x^1\n"
     ]
    }
   ],
   "source": [
    "print(linear_regression)"
   ]
  },
  {
   "cell_type": "markdown",
   "metadata": {},
   "source": [
    "Generamos las predicciones para nuestros datos y graficamos:"
   ]
  },
  {
   "cell_type": "code",
   "execution_count": 6,
   "metadata": {},
   "outputs": [
    {
     "name": "stdout",
     "output_type": "stream",
     "text": [
      "Predictions: [-0.18501458 -0.1044949  -0.05638363 -0.00193186  0.0451562   0.13216954\n",
      "  0.16913545  0.28311065  0.3526471   0.34638104  0.45502048  0.48564851\n",
      "  0.55137919  0.65412153  0.61596578  0.67901635  0.73241837  0.88803318\n",
      "  0.94288216  1.01473945]\n"
     ]
    }
   ],
   "source": [
    "predictions = linear_regression.predict(x)\n",
    "print(f\"Predictions: {predictions}\")"
   ]
  },
  {
   "cell_type": "code",
   "execution_count": 7,
   "metadata": {},
   "outputs": [
    {
     "data": {
      "image/png": "[encoded data removed]",
      "text/plain": [
       "<Figure size 432x288 with 1 Axes>"
      ]
     },
     "metadata": {
      "needs_background": "light"
     },
     "output_type": "display_data"
    }
   ],
   "source": [
    "plt.scatter(x,y,c=y, cmap='rainbow')\n",
    "plt.xlabel('x')\n",
    "plt.ylabel('Clase')\n",
    "plt.yticks([0,1])\n",
    "plt.plot(np.sort(x), predictions);"
   ]
  },
  {
   "cell_type": "markdown",
   "metadata": {},
   "source": [
    "#### 🤔 ¿Qué opinan sobre este modelo?"
   ]
  },
  {
   "cell_type": "markdown",
   "metadata": {},
   "source": [
    "⏸️ Detengámonos un momento a pensar sobre lo que acabamos de hacer:\n",
    "\n",
    "1. Partimos de un dataset que presentaba un problema de clasificación binaria ($y$ puede valer 0 o 1 para cada observación). \n",
    "2. Visualizando los datos, vimos que aquellas observaciones con $y=1$ tenían valores de $x$ más grandes y las observaciones con $y=0$ tenían valores de $x$ más pequeños. \n",
    "3. Luego entrenamos una regresión lineal para intentar reflejar este comportamiento y eso fue lo que obtuvimos.\n",
    "\n",
    "Pero acá hay algo raro... miren las predicciones que realizó el modelo. ¿Tienen sentido?\n",
    "\n",
    "- Sabemos que la probabilidad debe estar acotada en el rango [0, 1], es decir que no pueden existir probabilidades negativas ni mayores que 1.\n",
    "- Sabemos que la suma de todas las probabilidades para cada clase posible debe ser 1. \n",
    "    - Si hay 0.25 de probabilidad de que $y=0$, entonces $P(y=1) = 1-0.25=0.75$.\n",
    "\n",
    "> 🤔 **¿Esto se cumple en los casos anteriores?**\n",
    ">\n",
    "> La respuesta es no y se debe a que la **regresión lineal** simple tiene como resultado una recta que _no está acotada_. Puede tomar cualquier valor y esto __no nos sirve para estimar una probabilidad__. Lo mismo aplica para una regresión lineal múltiple con varias features. \n",
    "\n"
   ]
  },
  {
   "cell_type": "markdown",
   "metadata": {},
   "source": [
    "#### 💭 Conclusión\n",
    "\n",
    "La conclusión de esta pequeña prueba, es que una regresión lineal no sirve para resolver problemas de clasificación, en los que el objetivo es obtener una estimación de probabilidades condicionales a los features de cada observación."
   ]
  },
  {
   "cell_type": "markdown",
   "metadata": {},
   "source": [
    "## Regresión Logística"
   ]
  },
  {
   "cell_type": "markdown",
   "metadata": {},
   "source": [
    "No todo está perdido. Hay algo que podemos hacer para subsanar los problemas que mencionamos recién.\n",
    "\n",
    "#### Funcion sigmoide\n",
    "Pensemos momentáneamente en la __función sigmoidea__:\n",
    "$$\n",
    "\\sigma(z) = \\frac{1}{1+e^{-z}}\n",
    "$$"
   ]
  },
  {
   "cell_type": "code",
   "execution_count": 26,
   "metadata": {},
   "outputs": [
    {
     "data": {
      "text/plain": [
       "Text(0, 0.5, 'sigmoide(z)')"
      ]
     },
     "execution_count": 26,
     "metadata": {},
     "output_type": "execute_result"
    },
    {
     "data": {
      "image/png": "[encoded data removed]",
      "text/plain": [
       "<Figure size 432x288 with 1 Axes>"
      ]
     },
     "metadata": {
      "needs_background": "light"
     },
     "output_type": "display_data"
    }
   ],
   "source": [
    "z = np.linspace(-10,10,50)\n",
    "s = 1 / (1 + np.exp(-z))\n",
    "plt.plot(z, s)\n",
    "plt.xlabel('z')\n",
    "plt.ylabel('sigmoide(z)')"
   ]
  },
  {
   "cell_type": "markdown",
   "metadata": {},
   "source": [
    "- Vemos que esta función sigue cumpliendo con lo esperado para nuestro problema:\n",
    "    - Se tienen valores más grandes para valores más grandes de z\n",
    "    - Se tienen valores más chicos para valores más chicos de z\n",
    "    - Se tienen valores \"intermedios\" para valores \"intermedios\" de z\n",
    "\n",
    "- Ventaja de la función sigmoidea:\n",
    "    - Está acotada en el rango (0,1). No importa cuánto valga z, $\\sigma(z)$ siempre será mayor que 0 y menor que 1.\n",
    "\n",
    "🤔 Pero... quedan algunas cosas por resolver antes de poder usar esta función para estimar probabilidades:\n",
    "- La función sigmoidea recibe una variable $z$ que es única y nosotros sabemos que nuestros features $x$ pueden ser varios (es decir que $x$ es un <i>vector</i> $\\bar{x}$). ¿Como lo resolvemos?\n",
    "    - Ya sabemos obtener un valor numérico a partir de un conjunto de features utilizando la regresión lineal.\n",
    "    $$\n",
    "    z = w_{0}+w_{1}·x_{i1}+w_{2}·x_{i2}+\\dots+w_{M}·x_{iM} \n",
    "    $$\n",
    "    - Dicho valor no está acotado entre 0 y 1, pero la función sigmoidea sí.\n",
    "    $$\n",
    "    \\sigma(z) = \\frac{1}{1+e^{-z}} \n",
    "    $$\n",
    "    - Si calculamos la función sigmoidea del valor obtenido con la regresión lineal, obtendremos un número entre 0 y 1 que podemos usar para estimar probabilidades.\n",
    "\n",
    "    $$\n",
    "    P(y_{i}=1|x=X) = \\frac{1}{1+e^{-(w_{0}+w_{1}·x_{i1}+w_{2}·x_{i2}+\\dots+w_{M}·x_{iM})}}\n",
    "    $$\n",
    "\n",
    " Ésto es lo que se conoce como **regresión logística**."
   ]
  },
  {
   "cell_type": "markdown",
   "metadata": {},
   "source": [
    "### Función de costo\n",
    "\n",
    "#### Intuición\n",
    "\n",
    "Recordemos que la estimación de los coeficientes en la regresión lineal minimiza el error cuadrático medio (MSE).\n",
    "\n",
    "> 🤔 **¿Los coeficientes de la regresión logística tienen el mismo objetivo?**\n",
    "> \n",
    "> La respuesta es no. En el caso de los clasificadores, se utilizan otras métricas y con el siguiente ejemplo veremos por qué:\n",
    "> - Al estimar el precio de una SUV obtuvimos un valor de USD 20.000, cuando su valor real era USD 21.000. El error fue de 21.000 - 20.000 = USD 1.000.\n",
    "> - Al clasificar un artículo obtuvimos la categoría \"economía\",  cuando su etiqueta real era \"sociedad\". \n",
    ">    - ¿Cómo cuantificamos el error? Sólo sabemos que la predicción fue incorrecta.\n",
    "\n",
    "En los casos de clasificación debemos pensar nuevas formas de evaluar los modelos y hacernos la pregunta: \n",
    "\n",
    "🤔 **¿Qué esperamos de un buen clasificador?** \n",
    "\n",
    "- Que nos de valores de $P(y=1|x=X)$ muy cercanos a 1 para todas las observaciones donde $y=1$ y muy cercanos a 0 para todas las observaciones donde $y=0$. Esto puede expresarse con la siguiente expresión matemática:\n",
    "\n",
    "\n",
    "$$\n",
    "J = \\prod_{i:y_i=1}P(y=1|x=X) · \\prod_{i:y_i=0}(1-P(y=1|x=X))\n",
    "$$\n",
    "\n",
    "La primer productoria hace referencia a los casos donde $y=1$ por lo que esperamos tener probabilidades cercanas a 1 y la segunda productoria hace referencia a los casos donde $y=0$ por lo que esperamos probabilidades cercanas a 0. \n",
    "\n",
    "A esta expresión se la conoce como <b>verosimilitud</b> o <b>likelihood</b> y es lo que trataremos de maximizar. Podemos reescribir la fórmula anterior como:\n",
    "$$\n",
    "J = \\prod_{i=1}^{m} P(y_i=1|x_i=X)^{y_i} · (1-P(y_i=1|x_i=X))^{1-y_i}\n",
    "$$\n",
    "$$\n",
    "log(J) = log(\\prod_{i=1}^{m} P(y_i=1|x_i=X)^{y_i} · (1-P(y_i=1|x_i=X))^{1-y_i})\n",
    "$$\n",
    "$$\n",
    "\\boxed{LL = \\sum_{i=1}^{m} y_i·log(P(y_i=1|x_i=X))+(1-y_i)·log((1-P(y_i=1|x_i=X)))}\n",
    "$$\n",
    "A esta última expresión se la conoce como <b>log-likelihood</b>, que es el logaritmo de la verosimilitud.<br>\n"
   ]
  },
  {
   "cell_type": "markdown",
   "metadata": {},
   "source": [
    "Analicemos los posibles casos con los que nos podemos encontrar y veamos cómo quedan los términos de la sumatoria:\n",
    "- <u>Caso y = 1:</u>\n",
    "    - Reemplazamos $y_i = 1$ en la fórmula de LL y analizamos una sola muestra (sin la sumatoria) $$LL = 1·log(P(y_i=1|x_i=X))+(1-1)·log(1-P(y_i=1|x_i=X))$$ $$LL = log(P(y_i=1|x_i=X))$$\n",
    "    - Dado que $y_i = 1$, uno esperaría que $P(y_i=1|x_i=X)$ sea muy cercano a 1. \n",
    "    - ✅ Por lo tanto, $log(P(y_i=1|x_i=X))$ sería $log(\\sim1)$, que es muy cercano a 0.\n",
    "    - ❌ Si el clasificador fuese malo y generara $P(y_i=1|x_i=X)$ cercanas a 0, quedaría $log(\\sim0)$, que tiende a $-\\infty$.\n",
    "\n",
    "- <u>Caso y = 0:</u>\n",
    "    - Reemplazamos $y_i = 0$ en la fórmula de LL y repitamos el análisis: $$LL = 0·log(P(y_i=1|x_i=X))+(1-0)·log(1-P(y_i=1|x_i=X))$$ $$LL = log(1-P(y_i=1|x_i=X))$$\n",
    "\n",
    "    - Dado que $y_i = 0$, uno esperaría que $P(y_i=1|x_i=X)$ sea muy cercano a 0.\n",
    "    - ✅ Por lo tanto, $log(1-P(y_i=1|x_i=X))$ sería $log(1-\\sim0)$, que es muy cercano a 0.\n",
    "    - ❌ Si el clasificador fuese malo y generara $P(y_i=1|x_i=X)$ cercanas a 1, quedaría $log(1-\\sim1)$, que tiende a $-\\infty$.\n",
    "\n",
    "En resumen:\n",
    "- 👍 Si el clasificador predice probabilidades cercanas al caso real, se suman valores cercanos a 0.\n",
    "- 👎 Si el clasificador predice lo contrario al caso real, se suman valores muy grandes con signo negativo.\n",
    "\n",
    "Veamos esta intuición graficamente:\n",
    "\n"
   ]
  },
  {
   "cell_type": "code",
   "execution_count": 27,
   "metadata": {},
   "outputs": [
    {
     "data": {
      "image/png": "[encoded data removed]",
      "text/plain": [
       "<Figure size 864x432 with 2 Axes>"
      ]
     },
     "metadata": {
      "needs_background": "light"
     },
     "output_type": "display_data"
    }
   ],
   "source": [
    "x_plot = np.linspace(0.01, 0.99, 500) \n",
    "\n",
    "cost_h = -np.log(x_plot)\n",
    "cost_1_minus_h = -np.log(1 - x_plot)\n",
    "\n",
    "plt.figure(figsize=(12, 6))\n",
    "plt.subplot(1, 2, 1)\n",
    "plt.plot(x_plot, cost_h, label='log(ŷ)')\n",
    "plt.title('Clase real es 1 (y=1)')\n",
    "plt.xlabel('ŷ')\n",
    "plt.ylabel('log(ŷ)')\n",
    "plt.xlim(0, 1)\n",
    "plt.grid(True)\n",
    "plt.legend()\n",
    "\n",
    "plt.subplot(1, 2, 2)\n",
    "plt.plot(x_plot, cost_1_minus_h, label='log(1 - h(x))', color='orange')\n",
    "plt.title('Clase real es 0 (y=0)')\n",
    "plt.xlabel('ŷ')\n",
    "plt.ylabel('log(1 - ŷ)')\n",
    "plt.xlim(0, 1) \n",
    "plt.grid(True)\n",
    "plt.legend()\n",
    "\n",
    "plt.tight_layout()\n",
    "plt.show()"
   ]
  },
  {
   "cell_type": "markdown",
   "metadata": {},
   "source": [
    "### Estimación de los coeficientes\n",
    "- Recordemos que el objetivo de la regresión logística es poder estimar\n",
    "$$\n",
    "P(y_{i}=1|x=X) = \\frac{1}{1+e^{-(w_{0}+w_{1}·x_{i1}+w_{2}·x_{i2}+\\dots+w_{M}·x_{iM})}}\n",
    "$$\n",
    "- Esto implica que, al igual que en la regresión lineal, _debemos encontrar los valores de los $w$ que ajusten mejor a los datos._\n",
    "\n",
    "- En lugar de maximizar la log-likelihood, solemos minimizar el **negative log-likelihood (NLL)**, ya que la minimización es más conveniente para los algoritmos de optimización. El **NLL** se define como:\n",
    "\n",
    "$$\n",
    "NLL = -LL = -\\sum_{i=1}^{N} \\left( y_i \\cdot \\log(P(y_i=1|x_i=X)) + (1-y_i) \\cdot \\log(1-P(y_i=1|x_i=X)) \\right)\n",
    "$$\n",
    "\n",
    "El NLL también se conoce como log loss o **Binary Cross Entropy** (BCE):\n",
    "\n",
    "$$\n",
    "BCE = -\\sum_{i=1}^{N} \\left( y_i \\cdot \\log(\\hat{y_i}) + (1-y_i) \\cdot \\log(1-\\hat{y_i}) \\right)\n",
    "$$\n",
    "\n",
    "- Este es el valor que tratamos de **minimizar** para ajustar los coeficientes del modelo en la regresión logística.\n",
    "\n",
    "- Los coeficientes $w$ se encuentran utilizando __algoritmos de optimización numérica__, ya que la naturaleza no lineal de la función sigmoide impide obtener una solución analítica directa. Los optimizadores como el Gradiente Descendente son los más utilizados para este tipo de problemas."
   ]
  },
  {
   "cell_type": "markdown",
   "metadata": {},
   "source": [
    "#### ¿Qué es el gradiente descendente?\n",
    "\n",
    "- Es un algoritmo iterativo que ajusta los coeficientes del modelo para minimizar una función de costo. \n",
    "\n",
    "- En cada iteración, el algoritmo calcula la derivada parcial de la función de costo con respecto a cada coeficiente $w$, y ajusta los valores de $w$ en la dirección opuesta al gradiente, ya que el gradiente apunta hacia el máximo de la función, y nosotros queremos minimizarla.\n",
    "\n",
    "<div style=\"text-align: center;\">\n",
    "<img src=\"/home/linar/Desktop/ML/Clases/i302/Clases/05_Clase 5: Regresión Logística /images/gradient_descent.gif\" alt=\"image\" width=\"400\"/> </div>\n",
    "\n",
    "- En el caso de la regresión logística, la función de costo que minimizamos es el NLL. El gradiente de la función de costo respecto a los coeficientes $w$ es:\n",
    "\n",
    "$$\n",
    "\\frac{\\partial NLL}{\\partial w_j} = \\frac{1}{N} \\sum_{i=1}^{N} \\left( \\hat{y}_i - y_i \\right) \\cdot x_{ij}\n",
    "$$\n",
    "\n",
    "Donde:\n",
    "- $\\hat{y}_i = P(y_i=1|x_i) $ es la probabilidad predicha de la clase 1 para la entrada $ i $.\n",
    "- $ y_i $ es la verdadera etiqueta (0 o 1) para la entrada $ i $.\n",
    "- $ x_{ij} $ es la $j$-ésima característica de la entrada $ i $.\n",
    "\n",
    "**Proceso**\n",
    "1. **Inicialización de coeficientes:** Al principio, se suelen inicializar todos los coeficientes $w$ en 0 (o valores pequeños aleatorios).\n",
    "   \n",
    "2. **Calcular las predicciones:** En cada iteración, se calculan las probabilidades predichas usando la fórmula de la regresión logística:\n",
    "   \n",
    "   $$\n",
    "   \\hat{y}_i = \\frac{1}{1 + e^{-(w_0 + w_1 x_{i1} + \\dots + w_n x_{iM})}}\n",
    "   $$\n",
    "\n",
    "3. **Actualizar los coeficientes:** Se calcula el gradiente de la función de costo respecto a cada $w_j$ y se actualizan los coeficientes usando la siguiente regla:\n",
    "   \n",
    "   $$\n",
    "   w_j := w_j - \\alpha \\cdot \\frac{\\partial NLL}{\\partial w_j}\n",
    "   $$\n",
    "\n",
    "   Donde $\\alpha$ es la **tasa de aprendizaje**, que controla el tamaño del paso en cada iteración.\n",
    "\n",
    "4. **Repetir:** Este proceso se repite hasta que los coeficientes convergen a valores que minimizan la función de costo, o hasta que se alcanza un número máximo de iteraciones."
   ]
  },
  {
   "cell_type": "markdown",
   "metadata": {},
   "source": [
    "### Umbral de decisión\n",
    "\n",
    "- Una vez que ajustamos los coeficientes $w$ y obtenemos la probabilidad $P(y=1|x=X)$, necesitamos tomar una decisión: ¿en qué punto determinamos que una observación pertenece a la clase 1 o a la clase 0?\n",
    "\n",
    "- Dado que la regresión logística devuelve probabilidades entre 0 y 1, debemos elegir un **umbral** o **threshold**. \n",
    "\n",
    "- El valor más común es 0.5, lo que significa que si $P(y=1|x=X) \\geq 0.5$, clasificamos la observación como $y=1$, y si $P(y=1|x=X) < 0.5$, clasificamos como $y=0$.\n",
    "\n",
    "- La elección del umbral tiene un impacto importante en el rendimiento del modelo. \n",
    "    - Si elegimos un umbral más alto (por ejemplo, 0.7), seremos más estrictos al clasificar una observación como $y=1$, lo que puede reducir los **falsos positivos** pero aumentar los **falsos negativos**. \n",
    "    - Si el umbral es más bajo (por ejemplo, 0.3), el modelo será más permisivo, lo que puede aumentar los **falsos positivos** pero reducir los **falsos negativos**.\n",
    "\n",
    "- El umbral ideal puede variar según el problema específico y los costos asociados a los distintos tipos de errores (falsos positivos y falsos negativos). Por ejemplo, en un diagnóstico médico, podríamos querer un umbral bajo para minimizar los falsos negativos y asegurarnos de detectar todos los casos positivos.\n"
   ]
  },
  {
   "cell_type": "markdown",
   "metadata": {},
   "source": [
    "## 💻 Implementación en Python"
   ]
  },
  {
   "cell_type": "markdown",
   "metadata": {},
   "source": [
    "Probamos con el mismo dataset con el que hicimos la regresión lineal:"
   ]
  },
  {
   "cell_type": "code",
   "execution_count": 10,
   "metadata": {},
   "outputs": [],
   "source": [
    "from models import LogisticRegression\n",
    "\n",
    "# Instanciamos un objeto de esa clase\n",
    "logistic_regression = LogisticRegression()\n",
    "\n",
    "# Ajustamos esta instancia con los datos de entrenamiento\n",
    "logistic_regression.fit(x, y)"
   ]
  },
  {
   "cell_type": "markdown",
   "metadata": {},
   "source": [
    "Una vez que tenemos el modelo entrenado, podemos utilizarlo para hacer predicciones:"
   ]
  },
  {
   "cell_type": "code",
   "execution_count": 11,
   "metadata": {},
   "outputs": [
    {
     "data": {
      "text/plain": [
       "array([[1, 0],\n",
       "       [1, 0],\n",
       "       [1, 0],\n",
       "       [1, 0],\n",
       "       [1, 0],\n",
       "       [1, 0],\n",
       "       [1, 0],\n",
       "       [1, 0],\n",
       "       [1, 0],\n",
       "       [1, 0],\n",
       "       [1, 0],\n",
       "       [0, 1],\n",
       "       [0, 1],\n",
       "       [0, 1],\n",
       "       [0, 1],\n",
       "       [0, 1],\n",
       "       [0, 1],\n",
       "       [0, 1],\n",
       "       [0, 1],\n",
       "       [0, 1]])"
      ]
     },
     "execution_count": 11,
     "metadata": {},
     "output_type": "execute_result"
    }
   ],
   "source": [
    "logistic_regression.predict(x)"
   ]
  },
  {
   "cell_type": "markdown",
   "metadata": {},
   "source": [
    "- Observamos que las predicciones obtenidas son __las clases de pertenencia de cada observación__ según el modelo. \n",
    "\n",
    "- Pero si estábamos hablando de estimar probabilidades, ¿por qué el modelo genera etiquetas y no estima probabilidades? \n",
    "    - La realidad es que el modelo hace ambas cosas:\n",
    "    1. Estima las probabilidades de pertenecer a cada clase: método `.predict_proba()`\n",
    "    2. Compara esas probabilidades con un umbral: método `.predict()`"
   ]
  },
  {
   "cell_type": "code",
   "execution_count": 12,
   "metadata": {},
   "outputs": [
    {
     "data": {
      "text/plain": [
       "array([[0.98399301, 0.01600699],\n",
       "       [0.97362869, 0.02637131],\n",
       "       [0.96456985, 0.03543015],\n",
       "       [0.95070296, 0.04929704],\n",
       "       [0.93469686, 0.06530314],\n",
       "       [0.89189304, 0.10810696],\n",
       "       [0.86716964, 0.13283036],\n",
       "       [0.76032931, 0.23967069],\n",
       "       [0.67132635, 0.32867365],\n",
       "       [0.68002049, 0.31997951],\n",
       "       [0.51648783, 0.48351217],\n",
       "       [0.46805421, 0.53194579],\n",
       "       [0.36722143, 0.63277857],\n",
       "       [0.23241823, 0.76758177],\n",
       "       [0.27825994, 0.72174006],\n",
       "       [0.20548852, 0.79451148],\n",
       "       [0.15571379, 0.84428621],\n",
       "       [0.06441626, 0.93558374],\n",
       "       [0.04639309, 0.95360691],\n",
       "       [0.02994205, 0.97005795]])"
      ]
     },
     "execution_count": 12,
     "metadata": {},
     "output_type": "execute_result"
    }
   ],
   "source": [
    "logistic_regression.predict_proba(x)"
   ]
  },
  {
   "cell_type": "markdown",
   "metadata": {},
   "source": [
    "Vemos que el output de `.predict_proba(x)` es un `ndarray` de forma (`n_obsevaciones`, `n_clases`). Como en este ejemplo tenemos 20 observaciones y 2 clases posibles (0 o 1), tenemos:"
   ]
  },
  {
   "cell_type": "code",
   "execution_count": 13,
   "metadata": {},
   "outputs": [
    {
     "data": {
      "text/plain": [
       "(20, 2)"
      ]
     },
     "execution_count": 13,
     "metadata": {},
     "output_type": "execute_result"
    }
   ],
   "source": [
    "logistic_regression.predict_proba(x).shape"
   ]
  },
  {
   "cell_type": "markdown",
   "metadata": {},
   "source": [
    "Donde la columna 0 es la probabilidad de pertenencia a la clase 0 y la columna 1 es la probabilidad de pertenencia a la clase 1.\n",
    "\n",
    "**🤔 ¿Cuánto debe valer la suma de cada fila?** \n",
    "\n",
    "Verifiquemos:"
   ]
  },
  {
   "cell_type": "code",
   "execution_count": 14,
   "metadata": {},
   "outputs": [
    {
     "data": {
      "text/plain": [
       "array([1., 1., 1., 1., 1., 1., 1., 1., 1., 1., 1., 1., 1., 1., 1., 1., 1.,\n",
       "       1., 1., 1.])"
      ]
     },
     "execution_count": 14,
     "metadata": {},
     "output_type": "execute_result"
    }
   ],
   "source": [
    "logistic_regression.predict_proba(x).sum(axis=1)"
   ]
  },
  {
   "cell_type": "markdown",
   "metadata": {},
   "source": [
    "Si nos quedamos sólamente con la columna 1, podremos hacer la comparación que mencionamos recién:"
   ]
  },
  {
   "cell_type": "code",
   "execution_count": 15,
   "metadata": {},
   "outputs": [
    {
     "data": {
      "text/plain": [
       "array([False, False, False, False, False, False, False, False, False,\n",
       "       False, False,  True,  True,  True,  True,  True,  True,  True,\n",
       "        True,  True])"
      ]
     },
     "execution_count": 15,
     "metadata": {},
     "output_type": "execute_result"
    }
   ],
   "source": [
    "# Nos quedamos sólamente con la columna 1\n",
    "prob_1 = logistic_regression.predict_proba(x)[:,1]\n",
    "# Comparamos con 0.5\n",
    "prob_1 >= 0.5"
   ]
  },
  {
   "cell_type": "markdown",
   "metadata": {},
   "source": [
    "Una vez que ya tenemos las etiquetas puestas por el modelo ($\\hat{y}$) debemos comparar esas predicciones con los valores reales ($y$)."
   ]
  },
  {
   "cell_type": "code",
   "execution_count": 16,
   "metadata": {},
   "outputs": [
    {
     "name": "stdout",
     "output_type": "stream",
     "text": [
      "¿y e y_pred son iguales? False\n"
     ]
    }
   ],
   "source": [
    "y_pred = logistic_regression.predict(x)\n",
    "comparison = np.array_equal(y, y_pred)\n",
    "\n",
    "print(f\"¿y e y_pred son iguales? {comparison}\")"
   ]
  },
  {
   "cell_type": "markdown",
   "metadata": {},
   "source": [
    "Entonces no todos los puntos fueron clasificados correctamente. Para medir que tan bien esta funcionando el clasificador, podemos usar métricas de performance:"
   ]
  },
  {
   "cell_type": "markdown",
   "metadata": {},
   "source": [
    "$$\\text{Accuracy} = \\frac{TP + TN}{TP + FP + FN + TN}$$\n",
    "\n",
    "La **Accuracy** mide la proporción de predicciones correctas sobre el total de predicciones.\n"
   ]
  },
  {
   "cell_type": "code",
   "execution_count": 17,
   "metadata": {},
   "outputs": [
    {
     "name": "stdout",
     "output_type": "stream",
     "text": [
      "Accuracy = 0.85\n"
     ]
    }
   ],
   "source": [
    "def accuracy_score(y_true, y_pred):\n",
    "    y_true = np.asarray(y_true)\n",
    "    y_pred = np.asarray(y_pred)\n",
    "    \n",
    "    y_pred_classes = np.argmax(y_pred, axis=1)\n",
    "    correct_predictions = np.sum(y_true == y_pred_classes)\n",
    "    return round(correct_predictions / len(y_true),3)\n",
    "\n",
    "print(f\"Accuracy = {accuracy_score(y,y_pred)}\")"
   ]
  },
  {
   "cell_type": "markdown",
   "metadata": {},
   "source": [
    "$$ \\text{Precision} = \\frac{TP}{TP + FP}$$\n",
    "\n",
    "La **Precision** mide la proporción de verdaderos positivos sobre el total de predicciones positivas.\n"
   ]
  },
  {
   "cell_type": "code",
   "execution_count": 18,
   "metadata": {},
   "outputs": [
    {
     "name": "stdout",
     "output_type": "stream",
     "text": [
      "Precision = 0.778\n"
     ]
    }
   ],
   "source": [
    "def precision_score(y_true, y_pred):\n",
    "    y_true = np.asarray(y_true)\n",
    "    y_pred = np.asarray(y_pred)\n",
    "    \n",
    "    y_pred_classes = np.argmax(y_pred, axis=1)\n",
    "    \n",
    "    tp = np.sum((y_true == 1) & (y_pred_classes == 1))\n",
    "    fp = np.sum((y_true == 0) & (y_pred_classes == 1))\n",
    "    return round(tp / (tp + fp),3) if (tp + fp) > 0 else 0\n",
    "\n",
    "print(f\"Precision = {precision_score(y,y_pred)}\")"
   ]
  },
  {
   "cell_type": "markdown",
   "metadata": {},
   "source": [
    "$$\\text{Recall} = \\frac{TP}{TP + FN}$$\n",
    "\n",
    "El **Recall** mide la proporción de verdaderos positivos sobre el total de casos realmente positivos.\n"
   ]
  },
  {
   "cell_type": "code",
   "execution_count": 19,
   "metadata": {},
   "outputs": [
    {
     "name": "stdout",
     "output_type": "stream",
     "text": [
      "Recall = 0.875\n"
     ]
    }
   ],
   "source": [
    "def recall_score(y_true, y_pred):\n",
    "    y_true = np.asarray(y_true)\n",
    "    y_pred = np.asarray(y_pred)\n",
    "    \n",
    "    y_pred_classes = np.argmax(y_pred, axis=1)\n",
    "    \n",
    "    tp = np.sum((y_true == 1) & (y_pred_classes == 1))\n",
    "    fn = np.sum((y_true == 1) & (y_pred_classes == 0))\n",
    "    return round(tp / (tp + fn),3) if (tp + fn) > 0 else 0\n",
    "\n",
    "print(f\"Recall = {recall_score(y,y_pred)}\")"
   ]
  },
  {
   "cell_type": "markdown",
   "metadata": {},
   "source": [
    "$$\\text{F1 Score} = 2 \\cdot \\frac{\\text{Precision} \\cdot \\text{Recall}}{\\text{Precision} + \\text{Recall}}$$\n",
    "\n",
    "El **F1 Score** es la media armónica de la precisión y el recall, y proporciona una medida única que combina ambos.\n"
   ]
  },
  {
   "cell_type": "code",
   "execution_count": 20,
   "metadata": {},
   "outputs": [
    {
     "name": "stdout",
     "output_type": "stream",
     "text": [
      "F1 = 0.82\n"
     ]
    }
   ],
   "source": [
    "def f1_score(y_true, y_pred):\n",
    "    precision = precision_score(y_true, y_pred)\n",
    "    recall = recall_score(y_true, y_pred)\n",
    "    return round(2 * (precision * recall) / (precision + recall),2) if (precision + recall) > 0 else 0\n",
    "\n",
    "print(f\"F1 = {f1_score(y,y_pred)}\")"
   ]
  },
  {
   "cell_type": "markdown",
   "metadata": {},
   "source": [
    "**Matriz de confusión**"
   ]
  },
  {
   "cell_type": "code",
   "execution_count": 21,
   "metadata": {},
   "outputs": [
    {
     "data": {
      "image/png": "[encoded data removed]",
      "text/plain": [
       "<Figure size 576x432 with 2 Axes>"
      ]
     },
     "metadata": {
      "needs_background": "light"
     },
     "output_type": "display_data"
    }
   ],
   "source": [
    "import seaborn as sns\n",
    "\n",
    "def confusion_matrix(y_true, y_pred):\n",
    "    \"\"\"\n",
    "    Calcula la matriz de confusión.\n",
    "    y_true: Vector de etiquetas verdaderas\n",
    "    y_pred: Matriz de probabilidades predichas\n",
    "    \"\"\"\n",
    "    y_true = np.asarray(y_true)\n",
    "    y_pred = np.asarray(y_pred)\n",
    "    \n",
    "    y_pred_classes = np.argmax(y_pred, axis=1)\n",
    "    \n",
    "    tp = np.sum((y_true == 1) & (y_pred_classes == 1))\n",
    "    fp = np.sum((y_true == 0) & (y_pred_classes == 1))\n",
    "    fn = np.sum((y_true == 1) & (y_pred_classes == 0))\n",
    "    tn = np.sum((y_true == 0) & (y_pred_classes == 0))\n",
    "    return np.array([[tp, fp], [fn, tn]])\n",
    "\n",
    "def plot_confusion_matrix(conf_matrix, class_names):\n",
    "    \"\"\"\n",
    "    Plotea la matriz de confusión utilizando seaborn y matplotlib.\n",
    "    conf_matrix: Matriz de confusión\n",
    "    class_names: Lista con los nombres de las clases\n",
    "    \"\"\"\n",
    "    plt.figure(figsize=(8, 6))\n",
    "    sns.heatmap(conf_matrix, annot=True, fmt='d', cmap='Blues', \n",
    "                xticklabels=class_names, yticklabels=class_names)\n",
    "    plt.xlabel('Predicción')\n",
    "    plt.ylabel('Real')\n",
    "    plt.title('Matriz de Confusión')\n",
    "    plt.show()\n",
    "\n",
    "plot_confusion_matrix(confusion_matrix(y, y_pred), [\"1\", \"0\"])"
   ]
  },
  {
   "cell_type": "code",
   "execution_count": 28,
   "metadata": {},
   "outputs": [
    {
     "data": {
      "image/png": "[encoded data removed]",
      "text/plain": [
       "<Figure size 432x288 with 1 Axes>"
      ]
     },
     "metadata": {
      "needs_background": "light"
     },
     "output_type": "display_data"
    }
   ],
   "source": [
    "x_range = np.linspace(x.min(), x.max(), 300).reshape(-1, 1)\n",
    "probs = logistic_regression.predict_proba(x_range)\n",
    "\n",
    "plt.scatter(x, y, c=y, cmap='rainbow', edgecolor='k')\n",
    "plt.plot(x_range, probs[:, 1], 'k--')\n",
    "\n",
    "plt.xlabel('x')\n",
    "plt.ylabel('Probabilidad de Clase 1')\n",
    "plt.show()"
   ]
  }
 ],
 "metadata": {
  "kernelspec": {
   "display_name": "i302",
   "language": "python",
   "name": "python3"
  },
  "language_info": {
   "codemirror_mode": {
    "name": "ipython",
    "version": 3
   },
   "file_extension": ".py",
   "mimetype": "text/x-python",
   "name": "python",
   "nbconvert_exporter": "python",
   "pygments_lexer": "ipython3",
   "version": "3.8.10"
  }
 },
 "nbformat": 4,
 "nbformat_minor": 2
}
