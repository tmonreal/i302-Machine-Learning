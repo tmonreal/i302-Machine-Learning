{
 "cells": [
  {
   "cell_type": "code",
   "execution_count": null,
   "metadata": {},
   "outputs": [],
   "source": [
    "# initial setup\n",
    "try:\n",
    "    # settings colab:\n",
    "    import google.colab\n",
    "    \n",
    "except ModuleNotFoundError:    \n",
    "    # settings local:\n",
    "    %run \"../../../common/0_notebooks_base_setup.py\""
   ]
  },
  {
   "cell_type": "markdown",
   "metadata": {},
   "source": [
    "<img src=\"../../../common/logo_DH.svg\" align='left' width=50%/>"
   ]
  },
  {
   "cell_type": "markdown",
   "metadata": {},
   "source": [
    "# Regresión Logística\n",
    "## Tabla de Contenidos\n",
    "\n",
    "- [1. Introducción](#intro)\n",
    "- [2. Repaso de regresión lineal](#lineal)\n",
    "- [3. Repaso de probabilidad](#proba)\n",
    "- [4. Regresión logística](#logistica)\n",
    "    - [4.1. Regresión logística con Scikit-Learn](#sklearn)\n",
    "    - [4.2. Estimación de los coeficientes](#coef)\n",
    "    - [4.3. Umbral de decisión](#umbral)\n",
    "    - [4.4. Clasificación multiclase](#multiclase)\n",
    "- [5. Caso de uso](#caso)\n",
    "    - [5.1. Introducción al problema](#caso_intro)\n",
    "    - [5.2. Análisis y exploración del dataset](#caso_eda)\n",
    "    - [5.3. Manipulación de datos](#caso_dummies)\n",
    "    - [5.4. Ajuste del modelo](#caso_entrenamiento)\n",
    "    - [5.5. Statsmodels](#caso_stats)\n",
    "- [6. Documentación](#docs)"
   ]
  },
  {
   "cell_type": "markdown",
   "metadata": {},
   "source": [
    "<a id=\"intro\"></a>\n",
    "## Introducción\n",
    "Hasta ahora nos veníamos concentrando en entrenar, validad y mejorar modelos que permitieran generar una predicción para una observación a partir de un conjunto de variables que la caracterizaban.<br>\n",
    "<u>Ejemplo</u>: predecir el precio de una propiedad en función de las características de la misma. En este caso la variable objetivo (target) es el valor numérico en dólares o pesos del precio de la propiedad y las variables explicativas son la cantidad de ambientes, los metros cuadrados, el barrio, etc.<br>\n",
    "Para resolver esta tarea ya vimos algunos modelos como la regresión lineal y distintos tipos de estrategias para validarlos y mejorarlos, como por ejemplo feature engineering y regularización. \n",
    "<div id=\"caja9\" style=\"float:left;width: 100%;\">\n",
    "  <div style=\"float:left;width: 15%;\"><img src=\"../../../common/icons/para_seguir_pensando.png\" style=\"align:left\"/> </div>\n",
    "  <div style=\"float:left;width: 85%;\"><label><i>Para recordar: ¿Qué es y para qué se usa cada una?</i><br></label></div>\n",
    "Si bien todo lo visto hasta ahora tiene varias diferencias, ventajas y desventajas, siempre hay algo en común: <b>la variable objetivo es numérica</b>.<br>\n",
    "Como vimos la clase anterior, existen algunos problemas en los que el objetivo es poder predecir el valor de una <b>variable categórica</b>. Esto implica que tengamos que redifinir (un poco) el problema. El objetivo a grandes rasgos seguirá siendo el mismo: predicir una característica de una observación en función del resto de sus características (variables independientes --> variable objetivo/dependiente).La diferencia es que ahora el resultado de la predicción no puede tomar cualquier valor, sino que está acotado a un número finito de valores posibles. Este tipo de problemas son de <b>clasificación</b>.\n",
    "\n",
    "##### <u>Ejemplo práctico</u>\n",
    "Tenemos una serie de artículos de un diario y debemos saber si los mismos pertenecen a la sección de Economía, Deportes o Policiales. Sería muy fácil para una persona leer cada artículo y <i>clasificarlo</i> en función del texto, pero queremos automatizarlo con un modelo de aprendizaje automático. Planteemos el problema:\n",
    "- Features: el título y el texto del artículo.\n",
    "- Target: la sección del diario a la que pertenece.\n",
    "\n",
    "¿Qué es lo que hace que este sea un problema de clasificación? Simplemente el hecho de que la variable objetivo tenga 3 valores posibles: Economía (E), Deportes (D) o Sociedad (S) y ningún otro.<br>\n",
    "El objetivo del modelo que entrenemos, será <b>estimar la probabilidad P</b> de que el artículo leído pertenezca a cada sección.<br>\n",
    "Si tenemos 100 artículos de Economía (E), 100 de Deportes (D) y 100 de Sociedad (S) y sacamos uno al azar, tendremos\n",
    "$P(\\text{sección=E}) = \\frac{1}{3}$, \n",
    "$P(\\text{sección=D}) = \\frac{1}{3}$, \n",
    "$P(\\text{sección=S}) = \\frac{1}{3}$, lo cual no es muy útil. Pero si luego de elegir el artículo al azar, leemos el título que dice \"Copa Libertadores\", sabemos que las probabilidades serán muy diferentes. Lo que cambia, es que ahora tenemos más información para hacer la clasificación ya que está <b>condicionada</b>. Sería esperable que el modelo genere $P(\\text{sección=D}|\\text{título=\"Copa Libertadores\"}) = 0.99$\n",
    "#### Generalizando\n",
    "A partir del ejemplo anterior, podemos escribir todos los problemas de clasificación como el cálculo de una probabilidad condicional:\n",
    "$$P(y_{i}=clase_{j}|x_{i}=X) = ¿?$$\n",
    "<center>¿Cuál es la probabilidad de que la observación $i$ pertenezca a la clase $j$, sabiendo el valor de sus features $x$?</center>\n",
    "\n"
   ]
  },
  {
   "cell_type": "markdown",
   "metadata": {},
   "source": [
    "<a id=\"lineal\"></a>\n",
    "## Repaso de regresión lineal\n",
    "Recordemos brevemente la regresión lineal. Es un modelo que permite estimar un valor numérico a partir de una combinación lineal del valor de las features:\n",
    "$$\\hat{y_{i}}=\\beta_{0}+\\beta_{1}·x_{1}+\\beta_{1}·x_{1}+\\dots+\\beta_{p}·x_{p}$$\n",
    "Donde los $\\beta$ se estiman ($\\hat{\\beta}$) a partir del set de entreamiento. Si tenemos una única feature, la fórmula se reduce al caso de la regresión lineal <i>simple</i>:\n",
    "$$\\hat{y_{i}}=\\hat{\\beta_{0}}+\\hat{\\beta_{1}}·x_{1}$$\n",
    "Intentemos usar esta fórmula para hacer el cálculo de probabilidad que mencionamos anteriormente, utilizando como caso un ejemplo simple en el que hay que debemos entrenar un clasificador binario que permita identificar si una obsevación pertenece a la clase \"0\" o a la clase \"1\". Es decir que intentaremos estimar $P(y=1|x)$ con la siguiente fórmula:\n",
    "$$ P(y=1|x) = \\beta_{0}+\\beta_{1}·x_{1}$$"
   ]
  },
  {
   "cell_type": "code",
   "execution_count": 1,
   "metadata": {},
   "outputs": [],
   "source": [
    "#Importamos las bibliotecas que usaremos\n",
    "import numpy as np\n",
    "import matplotlib.pyplot as plt\n",
    "%matplotlib inline\n",
    "import seaborn as sns\n",
    "from sklearn.linear_model import LinearRegression"
   ]
  },
  {
   "cell_type": "markdown",
   "metadata": {},
   "source": [
    "Crearemos unos datos de prueba"
   ]
  },
  {
   "cell_type": "code",
   "execution_count": 2,
   "metadata": {},
   "outputs": [
    {
     "data": {
      "image/png": "[encoded data removed]",
      "text/plain": [
       "<Figure size 432x288 with 1 Axes>"
      ]
     },
     "metadata": {
      "needs_background": "light"
     },
     "output_type": "display_data"
    }
   ],
   "source": [
    "# Definimos la cantidad de datos que crearemos\n",
    "n = 20\n",
    "# Seteamos una semilla para obtener resultados repetibles\n",
    "np.random.seed(0)\n",
    "# Generamos las observaciones\n",
    "x = np.linspace(-5,5,n) + np.random.rand(n)\n",
    "x = x.reshape(-1,1)\n",
    "# Les asignamos una clase (0 o 1)\n",
    "y = np.zeros(n)\n",
    "for i in range(n):\n",
    "    y[i] = np.random.choice([0,1], size=1, p=[np.exp(-i/n), 1-np.exp(-i/n)])\n",
    "#Graficamos los datos\n",
    "plt.scatter(x,y,c=y, cmap='rainbow')\n",
    "plt.xlabel('x')\n",
    "plt.ylabel('clase')\n",
    "plt.yticks([0,1]);"
   ]
  },
  {
   "cell_type": "markdown",
   "metadata": {},
   "source": [
    "Supongamos que este es nuestro conjunto de datos, donde:\n",
    "- `x` es un `ndarray` y es la única feature\n",
    "- `y` es un `ndarray` que contiene la clase a la que pertenece cada observación\n",
    "\n",
    "Respondé las siguientes preguntas:\n",
    "- ¿Cuántas observaciones hay?\n",
    "- ¿Cuántas hay de cada clase?"
   ]
  },
  {
   "cell_type": "code",
   "execution_count": 3,
   "metadata": {},
   "outputs": [
    {
     "name": "stdout",
     "output_type": "stream",
     "text": [
      "20\n",
      "(array([0., 1.]), array([12,  8]))\n"
     ]
    }
   ],
   "source": [
    "#Solución\n",
    "print(len(x))\n",
    "print(np.unique(y, return_counts=True))"
   ]
  },
  {
   "cell_type": "markdown",
   "metadata": {},
   "source": [
    "A partir del gráfico podemos deducir que cuanto más grande sea el valor de x, más probable es que la observación pertenezca a la clase 1, cuando más chico sea el valor de x, menos probable es que la clase sea 1, y hay un rango intermedio de valores de x para los cuales la clase no está tan claramente definida. Intentemos plasmar eso utilizando una regresión lineal:"
   ]
  },
  {
   "cell_type": "code",
   "execution_count": 4,
   "metadata": {},
   "outputs": [
    {
     "name": "stdout",
     "output_type": "stream",
     "text": [
      "0.33239905882437815\n",
      "[0.11624173]\n"
     ]
    }
   ],
   "source": [
    "# Instanciamos un objeto de la clase LinearRegression\n",
    "linear_regression = LinearRegression()\n",
    "# Ajustamos el modelo\n",
    "linear_regression.fit(x, y)\n",
    "# Imprimimos los coeficientes\n",
    "print(linear_regression.intercept_)\n",
    "print(linear_regression.coef_)"
   ]
  },
  {
   "cell_type": "markdown",
   "metadata": {},
   "source": [
    "Esto significa que $\\hat{y}=0.332+ 0.116·x$. Grafiquemos esta recta superpuesta con los datos:"
   ]
  },
  {
   "cell_type": "code",
   "execution_count": 5,
   "metadata": {},
   "outputs": [
    {
     "data": {
      "image/png": "[encoded data removed]",
      "text/plain": [
       "<Figure size 432x288 with 1 Axes>"
      ]
     },
     "metadata": {
      "needs_background": "light"
     },
     "output_type": "display_data"
    }
   ],
   "source": [
    "#Graficamos los datos\n",
    "plt.scatter(x,y,c=y, cmap='rainbow')\n",
    "plt.xlabel('x')\n",
    "plt.ylabel('clase')\n",
    "plt.yticks([0,1])\n",
    "plt.plot(np.sort(x), linear_regression.predict(np.sort(x)));\n",
    "plt.legend([\"P(y=1)\"], fontsize=15);"
   ]
  },
  {
   "cell_type": "markdown",
   "metadata": {},
   "source": [
    "¡Excelente! Logramos obtener un modelo que se ajusta a lo esperado. Los valores de la recta reflejan la relación entre x y $P(y=1|x=X)$"
   ]
  },
  {
   "cell_type": "markdown",
   "metadata": {},
   "source": [
    "<b>PAUSA</b><br>\n",
    "Detengámonos un momento a pensar sobre lo que acabamos de hacer...<br>\n",
    "Partimos de un dataset que presentaba un problema de clasificación binaria, o sea que $y$ puede valer 0 o 1 para cada observación. Visualizando los datos, vimos que aquellas observaciones con $y=1$ tenían valores de $x$ más grandes y las observaciones con $y=0$ tenían valores de $x$ más pequeños. Luego entrenamos una regresión lineal para intentar reflejar este comportamiento y eso fue lo que obtuvimos.<br>\n",
    "Pero acá hay algo raro..."
   ]
  },
  {
   "cell_type": "code",
   "execution_count": 6,
   "metadata": {},
   "outputs": [],
   "source": [
    "# Usá el modelo entrenado para predecir la clase de 2 observaciones nuevas\n",
    "x_nuevas = np.array([[-4], [11]])"
   ]
  },
  {
   "cell_type": "code",
   "execution_count": 7,
   "metadata": {},
   "outputs": [
    {
     "name": "stdout",
     "output_type": "stream",
     "text": [
      "[-0.13256788  1.61105813]\n"
     ]
    }
   ],
   "source": [
    "# Solución\n",
    "print(linear_regression.predict(x_nuevas))"
   ]
  },
  {
   "cell_type": "markdown",
   "metadata": {},
   "source": [
    "<a id=\"proba\"></a>\n",
    "### Repaso de probabilidad\n",
    "Repasemos algunos conceptos claves de las probabilidades.<br>\n",
    "Para empezar, sabemos que la probabilidad debe estar acotada en el rango [0, 1], es decir que no pueden existir probabilidades negativas ni mayores que 1.<br>\n",
    "Por otro lado, sabemos que la suma de todas las probabilidades para cada clase posible debe ser 1. Si hay 0.25 de probabilidad de que $y=0$, entonces $P(y=1) = 1-0.25=0.75$"
   ]
  },
  {
   "cell_type": "markdown",
   "metadata": {},
   "source": [
    "¿Esto se cumple en los casos anteriores?"
   ]
  },
  {
   "cell_type": "markdown",
   "metadata": {},
   "source": [
    "La respuesta es <b>no</b> y se debe a que la regresión lineal simple tiene como resultado una recta que no está acotada. Puede tomar cualquier valor y esto no nos sirve para estimar una probabilidad. Lo mismo aplica para una regresión lineal múltiple con varias features. "
   ]
  },
  {
   "cell_type": "markdown",
   "metadata": {},
   "source": [
    "La conclusión de esta pequeña prueba, es que una regresión lineal no sirve para resolver problemas de clasificación, en los que el objetivo es obtener una estimación de probabilidades condicionales a los features de cada observación."
   ]
  },
  {
   "cell_type": "markdown",
   "metadata": {},
   "source": [
    "<a id=\"logistica\"></a>\n",
    "## Regresión Logística\n",
    "No todo está perdido. Hay algo que podemos hacer para subsanar los problemas que mencionamos recién.<br>\n",
    "Pensemos momentáneamente en la siguiente función:\n",
    "$$\n",
    "\\sigma(z) = \\frac{1}{1+e^{-z}}\n",
    "$$\n",
    "Esta función es conocida como <i>función sigmoidea</i> y nos será de gran utilidad en unos momentos."
   ]
  },
  {
   "cell_type": "code",
   "execution_count": 8,
   "metadata": {},
   "outputs": [
    {
     "data": {
      "text/plain": [
       "Text(0, 0.5, 'sigmoide(z)')"
      ]
     },
     "execution_count": 8,
     "metadata": {},
     "output_type": "execute_result"
    },
    {
     "data": {
      "image/png": "[encoded data removed]",
      "text/plain": [
       "<Figure size 432x288 with 1 Axes>"
      ]
     },
     "metadata": {
      "needs_background": "light"
     },
     "output_type": "display_data"
    }
   ],
   "source": [
    "# Ejercicio: graficá la función sigmoidea para valores de z entre -10 y 10\n",
    "z = np.linspace(-10,10,50)\n",
    "s = 1 / (1 + np.exp(-z))\n",
    "plt.plot(z, s)\n",
    "plt.xlabel('z')\n",
    "plt.ylabel('sigmoide(z)')"
   ]
  },
  {
   "cell_type": "code",
   "execution_count": 9,
   "metadata": {},
   "outputs": [
    {
     "data": {
      "text/plain": [
       "Text(0, 0.5, 'sigmoide(z)')"
      ]
     },
     "execution_count": 9,
     "metadata": {},
     "output_type": "execute_result"
    },
    {
     "data": {
      "image/png": "[encoded data removed]",
      "text/plain": [
       "<Figure size 432x288 with 1 Axes>"
      ]
     },
     "metadata": {
      "needs_background": "light"
     },
     "output_type": "display_data"
    }
   ],
   "source": [
    "# Ejercicio: graficá la función sigmoidea para valores de z entre -100 y 100\n",
    "z = np.linspace(-100,100,50)\n",
    "s = 1 / (1 + np.exp(-z))\n",
    "plt.plot(z, s)\n",
    "plt.xlabel('z')\n",
    "plt.ylabel('sigmoide(z)')"
   ]
  },
  {
   "cell_type": "markdown",
   "metadata": {},
   "source": [
    "Vemos que esta función sigue cumpliendo con lo esperado para nuestro problema:\n",
    "- Se tienen valores más grandes para valores más grandes de z\n",
    "- Se tienen valores más chicos para valores más chicos de z\n",
    "- Se tienen valores \"intermedios\" para valores \"intermedios\" de z\n",
    "\n",
    "Y suma una gran ventaja: <b>la función sigmoidea está acotada en el rango (0,1).</b> No importa cuánto valga z, $\\sigma(z)$ siempre será mayor que 0 y menor que 1. Ya empezamos a ver por qué esta función nos será de utilidad para estimar probabilidades.<br>\n",
    "Quedan algunas cosas por resolver antes de poder utilizar esta función para estimar probabilidades. Para empezar, la función sigmoidea recibe una variable $z$ que es única y nosotros sabemos que nuestros features $x$ pueden ser varios (es decir que $x$ es un <i>vector</i> $\\bar{x}$). Acá es donde entra la regresión en <b>regresión</b> logística:\n",
    "- Ya sabemos obtener un valor numérico a partir de un conjunto de features utilizando la regresión lineal\n",
    "- Dicho valor no está acotado entre 0 y 1, pero la función sigmoidea sí\n",
    "- Si calculamos la función sigmoidea del valor obtenido con la regresión lineal, obtendremos un número entre 0 y 1 que podemos usar para estimar probabilidades.\n",
    "\n",
    "Formalmente escrito:\n",
    "$$\n",
    "\\sigma(z) = \\frac{1}{1+e^{-z}} \\text{ está acotada en (0,1)}\n",
    "$$\n",
    "\n",
    "$$\n",
    "z = \\beta_{0}+\\beta_{1}·x_{1}+\\beta_{1}·x_{1}+\\dots+\\beta_{p}·x_{p} \n",
    "$$\n",
    "\n",
    "$$\n",
    "P(y_{i}=1|x=X) = \\frac{1}{1+e^{-(\\beta_{0}+\\beta_{1}·x_{1}+\\beta_{1}·x_{1}+\\dots+\\beta_{p}·x_{p})}}\n",
    "$$\n",
    "\n",
    "Prestemos atención a la última ecuación sin perder de vista nuestro objetivo: poder estimar la probabilidad $P(y=1|x=X)$.<br>\n",
    "Estamos utilizando los features $x$ para obtener un valor numérico $z$ que no está acotado. Luego estamos calculando la sigmoidea de $z$, $\\sigma(z)$ para poder interpretar ese valor como una probabilidad. Ésto es lo que se conoce como <b>regresión logística</b>\n",
    "\n",
    "<a id=\"sklearn\"></a>\n",
    "### Regresión logística con Scikit-Learn\n",
    "Scikit-Learn ya tiene implementada una clase de regresión logística con todos los métodos que ya conocemos (`.fit()`, `.predict()`) con algunos agregados que iremos viendo más adelante. Esto hace que la metodología de trabajo sea la misma de siempre:"
   ]
  },
  {
   "cell_type": "code",
   "execution_count": 10,
   "metadata": {},
   "outputs": [
    {
     "data": {
      "text/html": [
       "<style>#sk-container-id-1 {color: black;}#sk-container-id-1 pre{padding: 0;}#sk-container-id-1 div.sk-toggleable {background-color: white;}#sk-container-id-1 label.sk-toggleable__label {cursor: pointer;display: block;width: 100%;margin-bottom: 0;padding: 0.3em;box-sizing: border-box;text-align: center;}#sk-container-id-1 label.sk-toggleable__label-arrow:before {content: \"▸\";float: left;margin-right: 0.25em;color: #696969;}#sk-container-id-1 label.sk-toggleable__label-arrow:hover:before {color: black;}#sk-container-id-1 div.sk-estimator:hover label.sk-toggleable__label-arrow:before {color: black;}#sk-container-id-1 div.sk-toggleable__content {max-height: 0;max-width: 0;overflow: hidden;text-align: left;background-color: #f0f8ff;}#sk-container-id-1 div.sk-toggleable__content pre {margin: 0.2em;color: black;border-radius: 0.25em;background-color: #f0f8ff;}#sk-container-id-1 input.sk-toggleable__control:checked~div.sk-toggleable__content {max-height: 200px;max-width: 100%;overflow: auto;}#sk-container-id-1 input.sk-toggleable__control:checked~label.sk-toggleable__label-arrow:before {content: \"▾\";}#sk-container-id-1 div.sk-estimator input.sk-toggleable__control:checked~label.sk-toggleable__label {background-color: #d4ebff;}#sk-container-id-1 div.sk-label input.sk-toggleable__control:checked~label.sk-toggleable__label {background-color: #d4ebff;}#sk-container-id-1 input.sk-hidden--visually {border: 0;clip: rect(1px 1px 1px 1px);clip: rect(1px, 1px, 1px, 1px);height: 1px;margin: -1px;overflow: hidden;padding: 0;position: absolute;width: 1px;}#sk-container-id-1 div.sk-estimator {font-family: monospace;background-color: #f0f8ff;border: 1px dotted black;border-radius: 0.25em;box-sizing: border-box;margin-bottom: 0.5em;}#sk-container-id-1 div.sk-estimator:hover {background-color: #d4ebff;}#sk-container-id-1 div.sk-parallel-item::after {content: \"\";width: 100%;border-bottom: 1px solid gray;flex-grow: 1;}#sk-container-id-1 div.sk-label:hover label.sk-toggleable__label {background-color: #d4ebff;}#sk-container-id-1 div.sk-serial::before {content: \"\";position: absolute;border-left: 1px solid gray;box-sizing: border-box;top: 0;bottom: 0;left: 50%;z-index: 0;}#sk-container-id-1 div.sk-serial {display: flex;flex-direction: column;align-items: center;background-color: white;padding-right: 0.2em;padding-left: 0.2em;position: relative;}#sk-container-id-1 div.sk-item {position: relative;z-index: 1;}#sk-container-id-1 div.sk-parallel {display: flex;align-items: stretch;justify-content: center;background-color: white;position: relative;}#sk-container-id-1 div.sk-item::before, #sk-container-id-1 div.sk-parallel-item::before {content: \"\";position: absolute;border-left: 1px solid gray;box-sizing: border-box;top: 0;bottom: 0;left: 50%;z-index: -1;}#sk-container-id-1 div.sk-parallel-item {display: flex;flex-direction: column;z-index: 1;position: relative;background-color: white;}#sk-container-id-1 div.sk-parallel-item:first-child::after {align-self: flex-end;width: 50%;}#sk-container-id-1 div.sk-parallel-item:last-child::after {align-self: flex-start;width: 50%;}#sk-container-id-1 div.sk-parallel-item:only-child::after {width: 0;}#sk-container-id-1 div.sk-dashed-wrapped {border: 1px dashed gray;margin: 0 0.4em 0.5em 0.4em;box-sizing: border-box;padding-bottom: 0.4em;background-color: white;}#sk-container-id-1 div.sk-label label {font-family: monospace;font-weight: bold;display: inline-block;line-height: 1.2em;}#sk-container-id-1 div.sk-label-container {text-align: center;}#sk-container-id-1 div.sk-container {/* jupyter's `normalize.less` sets `[hidden] { display: none; }` but bootstrap.min.css set `[hidden] { display: none !important; }` so we also need the `!important` here to be able to override the default hidden behavior on the sphinx rendered scikit-learn.org. See: https://github.com/scikit-learn/scikit-learn/issues/21755 */display: inline-block !important;position: relative;}#sk-container-id-1 div.sk-text-repr-fallback {display: none;}</style><div id=\"sk-container-id-1\" class=\"sk-top-container\"><div class=\"sk-text-repr-fallback\"><pre>LogisticRegression()</pre><b>In a Jupyter environment, please rerun this cell to show the HTML representation or trust the notebook. <br />On GitHub, the HTML representation is unable to render, please try loading this page with nbviewer.org.</b></div><div class=\"sk-container\" hidden><div class=\"sk-item\"><div class=\"sk-estimator sk-toggleable\"><input class=\"sk-toggleable__control sk-hidden--visually\" id=\"sk-estimator-id-1\" type=\"checkbox\" checked><label for=\"sk-estimator-id-1\" class=\"sk-toggleable__label sk-toggleable__label-arrow\">LogisticRegression</label><div class=\"sk-toggleable__content\"><pre>LogisticRegression()</pre></div></div></div></div></div>"
      ],
      "text/plain": [
       "LogisticRegression()"
      ]
     },
     "execution_count": 10,
     "metadata": {},
     "output_type": "execute_result"
    }
   ],
   "source": [
    "# Importamos la clase\n",
    "from sklearn.linear_model import LogisticRegression\n",
    "# Instanciamos un objeto de esa clase\n",
    "logistic_regression = LogisticRegression()\n",
    "# Ajustamos esta instancia con los datos de entrenamiento\n",
    "logistic_regression.fit(x, y)"
   ]
  },
  {
   "cell_type": "markdown",
   "metadata": {},
   "source": [
    "Una vez que tenemos el modelo entrenado, podemos utilizarlo para hacer predicciones"
   ]
  },
  {
   "cell_type": "code",
   "execution_count": 11,
   "metadata": {},
   "outputs": [
    {
     "data": {
      "text/plain": [
       "array([0., 0., 0., 0., 0., 0., 0., 0., 0., 0., 0., 0., 1., 1., 1., 1., 1.,\n",
       "       1., 1., 1.])"
      ]
     },
     "execution_count": 11,
     "metadata": {},
     "output_type": "execute_result"
    }
   ],
   "source": [
    "logistic_regression.predict(x)"
   ]
  },
  {
   "cell_type": "markdown",
   "metadata": {},
   "source": [
    "Observamos que las predicciones obtenidas son <b>las clases de pertenencia de cada observación</b> según el modelo. Pero si estábamos hablando de estimar probabilidades, ¿por qué el modelo genera etiquetas y no estima probabilidades?<br>\n",
    "La realidad es que el modelo hace ambas cosas:\n",
    "- Estima las probabilidades de pertenecer a cada clase\n",
    "- Compara esas probabilidades con un umbral\n",
    "\n",
    "Si para una observación, $P(y=1|x=X)\\ge0.5 \\text{ entonces } \\hat{y}=1$ <br>\n",
    "Si para una observación, $P(y=1|x=X)<0.5 \\text{ entonces } \\hat{y}=0$<br>\n",
    "De esta manera se logra clasificar a las observaciones en función de las probabilidades de que pertenezca a una clase. Para visualizar estas probabilidades, debemos usar el método `.predict_proba()`."
   ]
  },
  {
   "cell_type": "code",
   "execution_count": 12,
   "metadata": {},
   "outputs": [
    {
     "data": {
      "text/plain": [
       "array([[0.992692  , 0.007308  ],\n",
       "       [0.98729308, 0.01270692],\n",
       "       [0.9823469 , 0.0176531 ],\n",
       "       [0.97445053, 0.02554947],\n",
       "       [0.96492524, 0.03507476],\n",
       "       [0.93766599, 0.06233401],\n",
       "       [0.92088437, 0.07911563],\n",
       "       [0.8407321 , 0.1592679 ],\n",
       "       [0.76517329, 0.23482671],\n",
       "       [0.77289439, 0.22710561],\n",
       "       [0.61562209, 0.38437791],\n",
       "       [0.56427134, 0.43572866],\n",
       "       [0.45078198, 0.54921802],\n",
       "       [0.28693461, 0.71306539],\n",
       "       [0.34398144, 0.65601856],\n",
       "       [0.25293221, 0.74706779],\n",
       "       [0.18945925, 0.81054075],\n",
       "       [0.07356639, 0.92643361],\n",
       "       [0.05148114, 0.94851886],\n",
       "       [0.03191578, 0.96808422]])"
      ]
     },
     "execution_count": 12,
     "metadata": {},
     "output_type": "execute_result"
    }
   ],
   "source": [
    "logistic_regression.predict_proba(x)"
   ]
  },
  {
   "cell_type": "markdown",
   "metadata": {},
   "source": [
    "Vemos que el output de `.predict_proba(x)` es un `ndarray` de forma (`n_obsevaciones`, `n_clases`). Como en este ejemplo tenemos 20 observaciones y 2 clases posibles (0 o 1), ocurre que"
   ]
  },
  {
   "cell_type": "code",
   "execution_count": 13,
   "metadata": {},
   "outputs": [
    {
     "data": {
      "text/plain": [
       "(20, 2)"
      ]
     },
     "execution_count": 13,
     "metadata": {},
     "output_type": "execute_result"
    }
   ],
   "source": [
    "logistic_regression.predict_proba(x).shape"
   ]
  },
  {
   "cell_type": "markdown",
   "metadata": {},
   "source": [
    "Donde la columna 0 es la probabilidad de pertenencia a la clase 0 y la columna 1 es la probabilidad de pertenencia a la clase 1.<br>\n",
    "Pregunta relámpago: ¿cuánto debe valer la suma de cada fila? Verificarlo con código."
   ]
  },
  {
   "cell_type": "code",
   "execution_count": 14,
   "metadata": {},
   "outputs": [
    {
     "data": {
      "text/plain": [
       "array([1., 1., 1., 1., 1., 1., 1., 1., 1., 1., 1., 1., 1., 1., 1., 1., 1.,\n",
       "       1., 1., 1.])"
      ]
     },
     "execution_count": 14,
     "metadata": {},
     "output_type": "execute_result"
    }
   ],
   "source": [
    "# Sumamos el valor de cada columna para cada fila\n",
    "logistic_regression.predict_proba(x).sum(axis=1)"
   ]
  },
  {
   "cell_type": "markdown",
   "metadata": {},
   "source": [
    "Si nos quedamos sólamente con la columna 1, podremos hacer la comparación que mencionamos recién:"
   ]
  },
  {
   "cell_type": "code",
   "execution_count": 15,
   "metadata": {},
   "outputs": [
    {
     "data": {
      "text/plain": [
       "array([False, False, False, False, False, False, False, False, False,\n",
       "       False, False, False,  True,  True,  True,  True,  True,  True,\n",
       "        True,  True])"
      ]
     },
     "execution_count": 15,
     "metadata": {},
     "output_type": "execute_result"
    }
   ],
   "source": [
    "# Nos quedamos sólamente con la columna 1\n",
    "prob_1 = logistic_regression.predict_proba(x)[:,1]\n",
    "# Comparamos con 0.5\n",
    "prob_1 >= 0.5"
   ]
  },
  {
   "cell_type": "code",
   "execution_count": 16,
   "metadata": {},
   "outputs": [
    {
     "data": {
      "text/plain": [
       "array([ True,  True,  True,  True,  True,  True,  True,  True,  True,\n",
       "        True,  True,  True,  True,  True,  True,  True,  True,  True,\n",
       "        True,  True])"
      ]
     },
     "execution_count": 16,
     "metadata": {},
     "output_type": "execute_result"
    }
   ],
   "source": [
    "# Comparamos con el método .predict()\n",
    "(prob_1 >= 0.5) == logistic_regression.predict(x)"
   ]
  },
  {
   "cell_type": "markdown",
   "metadata": {},
   "source": [
    "Vemos que es lo mismo para todos los casos obtener predicciones con el método `.predict()` que obtener la estimación de las probabilidades con `.predict_proba()` y luego compararlo con el valor de umbral 0.5.<br>\n",
    "En la práctica a veces es necesario modificar el valor de umbral por diversos motivos, por lo que no hay que perder de vista que los clasificadores en Scikit-Learn tienen el método `.predict_proba()` que nos permite jugar manualmente con el valor de umbral. Si no es necesario modificar este valor, utilizando `.predict()` obtendremos los mismo resultados que umbralizando con 0.5."
   ]
  },
  {
   "cell_type": "markdown",
   "metadata": {},
   "source": [
    "Una vez que ya tenemos las etiquetas puestas por el modelo (es decir $\\hat{y}$) debemos comparar esas predicciones con los valores reales ($y$)"
   ]
  },
  {
   "cell_type": "code",
   "execution_count": 17,
   "metadata": {},
   "outputs": [
    {
     "data": {
      "text/plain": [
       "array([ True,  True,  True,  True,  True,  True,  True, False,  True,\n",
       "        True,  True, False, False,  True, False,  True,  True,  True,\n",
       "        True,  True])"
      ]
     },
     "execution_count": 17,
     "metadata": {},
     "output_type": "execute_result"
    }
   ],
   "source": [
    "y_pred = logistic_regression.predict(x)\n",
    "y == y_pred"
   ]
  },
  {
   "cell_type": "markdown",
   "metadata": {},
   "source": [
    "<b>Ejercicio:</b> calcular el <i>accuracy</i> del modelo con este set de datos. Recordemos la fórmula:\n",
    "$$\n",
    "\\text{Accuracy} = \\frac{\\text{predicciones correctas}}{\\text{casos totales}}\n",
    "$$"
   ]
  },
  {
   "cell_type": "code",
   "execution_count": 18,
   "metadata": {},
   "outputs": [
    {
     "data": {
      "text/plain": [
       "0.8"
      ]
     },
     "execution_count": 18,
     "metadata": {},
     "output_type": "execute_result"
    }
   ],
   "source": [
    "# Usando numpy\n",
    "(y == y_pred).sum() / len(y)"
   ]
  },
  {
   "cell_type": "code",
   "execution_count": 19,
   "metadata": {},
   "outputs": [
    {
     "data": {
      "text/plain": [
       "0.8"
      ]
     },
     "execution_count": 19,
     "metadata": {},
     "output_type": "execute_result"
    }
   ],
   "source": [
    "# Usando Scikit-Learn\n",
    "from sklearn.metrics import accuracy_score\n",
    "accuracy_score(y, y_pred)"
   ]
  },
  {
   "cell_type": "markdown",
   "metadata": {},
   "source": [
    "<a id=\"coef\"></a>\n",
    "#### Estimación de los coeficientes\n",
    "Recordemos que el objetivo de la regresión logística es poder estimar\n",
    "$$\n",
    "P(y_{i}=1|x=X) = \\frac{1}{1+e^{-(\\beta_{0}+\\beta_{1}·x_{1}+\\beta_{1}·x_{1}+\\dots+\\beta_{p}·x_{p})}}\n",
    "$$\n",
    "Esto implica que, al igual que en la regresión lineal, debemos encontrar los valores de los $\\beta$ que ajusten mejor a los datos. En este caso, como tenemos un sólo feature ($x$), la ecuación se reduce a \n",
    "$$\n",
    "P(y_{i}=1|x=X) = \\frac{1}{1+e^{-(\\beta_{0}+\\beta_{1}·x)}}\n",
    "$$\n",
    "dónde deberemos hallar $\\hat{\\beta_{0}}$ y $\\hat{\\beta_{1}}$. Éstos coeficientes se encuentran en los atributos `.intercept_` y `.coef_` de la instancia del modelo entrenado."
   ]
  },
  {
   "cell_type": "code",
   "execution_count": 20,
   "metadata": {},
   "outputs": [
    {
     "data": {
      "text/plain": [
       "array([-1.3217316])"
      ]
     },
     "execution_count": 20,
     "metadata": {},
     "output_type": "execute_result"
    }
   ],
   "source": [
    "logistic_regression.intercept_"
   ]
  },
  {
   "cell_type": "code",
   "execution_count": 21,
   "metadata": {},
   "outputs": [
    {
     "data": {
      "text/plain": [
       "array([[0.80646344]])"
      ]
     },
     "execution_count": 21,
     "metadata": {},
     "output_type": "execute_result"
    }
   ],
   "source": [
    "logistic_regression.coef_"
   ]
  },
  {
   "cell_type": "markdown",
   "metadata": {},
   "source": [
    "¿Por qué estos valores no coinciden con los estimados por la regresión lineal?<br>\n",
    "Recordemos que la estimación de los coeficientes en la regresión lineal minimiza el error cuadrático medio (MSE).<br>\n",
    "¿Los coeficientes de la regresión logística tienen el mismo objetivo?<br>\n",
    "La respuesta es no. En el caso de los clasificadores se utilizan otras métricas y con el siguiente ejemplo veremos por qué:<br>\n",
    "- Al estimar el precio de una casa obtuvimos un valor de USD200.000, cuando su valor real era USD210.000. El error fue de 210.000 - 200.000 = USD10.000\n",
    "- Al clasificar una imágen con animales obtuvimos la categoría \"elefante\",  cuando su etiqueta real era \"jirafa\". ¿Cómo cuantificamos el error? Sólo sabemos que la predicción fue incorrecta.\n",
    "\n",
    "En los casos de clasificación debemos pensar nuevas formas de evaluar los modelos y hacernos la pregunta ¿qué esperamos de un buen clasificador?. La respuesta es bastante simple: un buen clasificador nos dará $P(y=1|x=X)$ muy cercanos a 1 para todas las observaciones donde $y=1$ y muy cercanos a cero para todas las observaciones donde $y=0$. Esto puede expresarse con la siguiente expresión matemática:\n",
    "$$\n",
    "L = \\prod_{i:y_i=1}P(y=1|x=X) · \\prod_{i:y_i=0}(1-P(y=1|x=X))\n",
    "$$\n",
    "La primer productoria hace referencia a los casos donde $y=1$ por lo que esperamos tener probabilidades cercanas a 1 y la segunda productoria hace referencia a los casos donde $y=0$ por lo que esperamos probabilidades cercanas a 0. A esta expresión se la conoce como <b>verosimilitud</b> o <b>likelihood</b> y es lo que trataremos de maximizar.<br>\n",
    "Si manipulamos un poco la fórmula anterior, la podemos reescribir de la siguiente manera:\n",
    "$$\n",
    "L = \\prod_{i=1}^{m} P(y_i=1|x_i=X)^{y_i} · (1-P(y_i=1|x_i=X))^{1-y_i}\n",
    "$$\n",
    "$$\n",
    "log(L) = log(\\prod_{i=1}^{m} P(y_i=1|x_i=X)^{y_i} · (1-P(y_i=1|x_i=X))^{1-y_i})\n",
    "$$\n",
    "$$\n",
    "LL = \\sum_{i=1}^{m} y_i·log(P(y_i=1|x_i=X))+(1-y_i)·log((1-P(y_i=1|x_i=X)))\n",
    "$$\n",
    "A esta última expresión se la conoce como <b>log-likelihood</b>, que es el logaritmo de la verosimilitud.<br>\n",
    "Analicemos los posibles casos con los que nos podemos encontrar y veamos cómo quedan los términos de la sumatoria:\n",
    "- <u>y = 1</u>\n",
    "\n",
    "Reemplacemos $y_i = 1$ en la fórmula de LL y analicemos un sólo caso (sin la sumatoria)\n",
    "$$\n",
    "1·log(P(y_i=1|x_i=X))+(1-1)·log((1-P(y_i=1|x_i=X)))\n",
    "$$\n",
    "\n",
    "$$\n",
    "1·log(P(y_i=1|x_i=X))+{(0)·log((1-P(y_i=1|x_i=X)))}\n",
    "$$\n",
    "\n",
    "$$\n",
    "log(P(y_i=1|x_i=X))\n",
    "$$\n",
    "\n",
    "Dado que $y_i = 1$, uno esperaría que $P(y_i=1|x_i=X)$ sea muy cercano a 1, por lo que $log(P(y_i=1|x_i=X))$ sería $log(\\sim1)$, que es muy cercano a 0. <br>\n",
    "Si el clasificador es malo y genera $P(y_i=1|x_i=X)$ cercanas a 0, $log(P(y_i=1|x_i=X))$ sería $log(\\sim0)$, que tiende a $-\\infty$.\n",
    "\n",
    "- <u>y = 0</u>\n",
    "\n",
    "Reemplacemos $y_i = 0$ en la fórmula de LL y repitamos el análisis\n",
    "$$\n",
    "0·log(P(y_i=1|x_i=X))+(1-0)·log((1-P(y_i=1|x_i=X)))\n",
    "$$\n",
    "\n",
    "$$\n",
    "0·log(P(y_i=1|x_i=X))+{(1)·log((1-P(y_i=1|x_i=X)))}\n",
    "$$\n",
    "\n",
    "$$\n",
    "log((1-P(y_i=1|x_i=X)))\n",
    "$$\n",
    "\n",
    "Dado que $y_i = 0$, uno esperaría que $P(y_i=1|x_i=X)$ sea muy cercano a 0, por lo que $log((1-P(y_i=1|x_i=X)))$ sería $log(1-\\sim0)$, que es muy cercano a 0. <br>\n",
    "Si el clasificador es malo y genera $P(y_i=1|x_i=X)$ cercanas a 1, $log((1-P(y_i=1|x_i=X)))$ sería $log(1-\\sim1)$, que tiende a $-\\infty$.\n",
    "<br>\n",
    "En resumen:\n",
    "- si el clasificador predice probabilidades cercanas al caso real, se suman valores cercanos a 0\n",
    "- si el clasificador predice lo contrario al caso real, se suman valores muy grandes con signo negativo\n",
    "\n",
    "El problema que Scikit-Learn resuelve por nosotros, es <b>encontrar los $\\beta$ que maximicen la verosimilitud</b>, acercando las predicciones a los valores reales de las observaciones. Este proceso es conocido como MLE, o Maximum Likelihood Estimation.\n",
    "\n",
    "<br>\n",
    "<b>NOTA IMPORTANTE</b><br>\n",
    "Al igual que en la regresión lineal, la función de costo puede ser modificada para reducir el sobreajuste agregando un término de regularización. Scikit-Learn hace esto por defecto con el hiperparámetro C. Para valores más grandes de C, menor grado de regularización y viceversa.\n",
    "\n"
   ]
  },
  {
   "cell_type": "markdown",
   "metadata": {},
   "source": [
    "<a id=\"umbral\"></a>\n",
    "### Umbral de decisión\n",
    "Como mencionamos anteriormente, el modelo genera una probabilidad de pertenencia a cada clase (un número real entre 0 y 1) que luego es comparada con un umbral de decisión, generalmente 0.5, para etiquetar cada observación con una clase. Veamos qué implicancias tiene esto:"
   ]
  },
  {
   "cell_type": "code",
   "execution_count": 22,
   "metadata": {},
   "outputs": [
    {
     "ename": "TypeError",
     "evalue": "scatterplot() takes from 0 to 1 positional arguments but 2 positional arguments (and 1 keyword-only argument) were given",
     "output_type": "error",
     "traceback": [
      "\u001b[0;31m---------------------------------------------------------------------------\u001b[0m",
      "\u001b[0;31mTypeError\u001b[0m                                 Traceback (most recent call last)",
      "\u001b[0;32m<ipython-input-22-de1dd15694cb>\u001b[0m in \u001b[0;36m<module>\u001b[0;34m\u001b[0m\n\u001b[1;32m      6\u001b[0m \u001b[0my\u001b[0m \u001b[0;34m=\u001b[0m \u001b[0;34m(\u001b[0m\u001b[0mx1\u001b[0m\u001b[0;34m-\u001b[0m\u001b[0mx2\u001b[0m \u001b[0;34m>\u001b[0m\u001b[0;36m0\u001b[0m\u001b[0;34m)\u001b[0m\u001b[0;34m.\u001b[0m\u001b[0mastype\u001b[0m\u001b[0;34m(\u001b[0m\u001b[0mint\u001b[0m\u001b[0;34m)\u001b[0m\u001b[0;34m\u001b[0m\u001b[0;34m\u001b[0m\u001b[0m\n\u001b[1;32m      7\u001b[0m \u001b[0mplt\u001b[0m\u001b[0;34m.\u001b[0m\u001b[0mfigure\u001b[0m\u001b[0;34m(\u001b[0m\u001b[0mfigsize\u001b[0m\u001b[0;34m=\u001b[0m\u001b[0;34m(\u001b[0m\u001b[0;36m10\u001b[0m\u001b[0;34m,\u001b[0m\u001b[0;36m8\u001b[0m\u001b[0;34m)\u001b[0m\u001b[0;34m)\u001b[0m\u001b[0;34m\u001b[0m\u001b[0;34m\u001b[0m\u001b[0m\n\u001b[0;32m----> 8\u001b[0;31m \u001b[0msns\u001b[0m\u001b[0;34m.\u001b[0m\u001b[0mscatterplot\u001b[0m\u001b[0;34m(\u001b[0m\u001b[0mx1\u001b[0m\u001b[0;34m,\u001b[0m\u001b[0mx2\u001b[0m\u001b[0;34m,\u001b[0m \u001b[0mhue\u001b[0m\u001b[0;34m=\u001b[0m\u001b[0my\u001b[0m\u001b[0;34m,\u001b[0m \u001b[0ms\u001b[0m\u001b[0;34m=\u001b[0m\u001b[0;36m100\u001b[0m\u001b[0;34m)\u001b[0m\u001b[0;34m\u001b[0m\u001b[0;34m\u001b[0m\u001b[0m\n\u001b[0m\u001b[1;32m      9\u001b[0m \u001b[0mplt\u001b[0m\u001b[0;34m.\u001b[0m\u001b[0mlegend\u001b[0m\u001b[0;34m(\u001b[0m\u001b[0;34m[\u001b[0m\u001b[0;34m'Clase 1'\u001b[0m\u001b[0;34m,\u001b[0m \u001b[0;34m'Clase 0'\u001b[0m\u001b[0;34m]\u001b[0m\u001b[0;34m,\u001b[0m \u001b[0mloc\u001b[0m\u001b[0;34m=\u001b[0m\u001b[0;34m'upper left'\u001b[0m\u001b[0;34m)\u001b[0m\u001b[0;34m\u001b[0m\u001b[0;34m\u001b[0m\u001b[0m\n\u001b[1;32m     10\u001b[0m \u001b[0mplt\u001b[0m\u001b[0;34m.\u001b[0m\u001b[0mxlabel\u001b[0m\u001b[0;34m(\u001b[0m\u001b[0;34m'x1'\u001b[0m\u001b[0;34m)\u001b[0m\u001b[0;34m\u001b[0m\u001b[0;34m\u001b[0m\u001b[0m\n",
      "\u001b[0;31mTypeError\u001b[0m: scatterplot() takes from 0 to 1 positional arguments but 2 positional arguments (and 1 keyword-only argument) were given"
     ]
    },
    {
     "data": {
      "text/plain": [
       "<Figure size 720x576 with 0 Axes>"
      ]
     },
     "metadata": {},
     "output_type": "display_data"
    }
   ],
   "source": [
    "# Generaremos 30 muestras con 2 features cada una y una clase de pertenencia\n",
    "n=30\n",
    "np.random.seed(1)\n",
    "x1 = np.random.rand(n)*10-5\n",
    "x2 = np.random.rand(n)*10-5\n",
    "y = (x1-x2 >0).astype(int)\n",
    "plt.figure(figsize=(10,8))\n",
    "sns.scatterplot(x=x1,y=x2, hue=y, s=100)\n",
    "plt.legend(['Clase 1', 'Clase 0'], loc='upper left')\n",
    "plt.xlabel('x1')\n",
    "plt.ylabel('x2');"
   ]
  },
  {
   "cell_type": "markdown",
   "metadata": {},
   "source": [
    "<b>Ejercicio:</b> ajustá un modelo de regresión logística al nuevo conjunto de datos e imprimí los coeficientes encontrados."
   ]
  },
  {
   "cell_type": "code",
   "execution_count": 23,
   "metadata": {},
   "outputs": [
    {
     "name": "stdout",
     "output_type": "stream",
     "text": [
      "[[ 1.33430065 -1.20506055]]\n",
      "[-0.05264685]\n"
     ]
    }
   ],
   "source": [
    "# Unificamos las features en un unico array\n",
    "x = np.array([x1,x2]).T\n",
    "# Ajustamos el modelo\n",
    "logistic_regression.fit(x, y)\n",
    "# Imprimimos los coeficientes\n",
    "print(logistic_regression.coef_)\n",
    "print(logistic_regression.intercept_)"
   ]
  },
  {
   "cell_type": "markdown",
   "metadata": {},
   "source": [
    "Obtuvimos un coeficiente para cada feature y uno para la ordenada al origen. Esto significa que las probabilidades se calcularán como\n",
    "$$\n",
    "P(y=1|x=X)=\\sigma(z)=\\sigma(\\beta_0+\\beta_1·x_1+\\beta_2·x_2)\n",
    "$$<br>\n",
    "$$\n",
    "P(y=1|x=X)=\\frac{1}{1+e^{-(\\beta_0+\\beta_1·x_1+\\beta_2·x_2)}}\n",
    "$$"
   ]
  },
  {
   "cell_type": "markdown",
   "metadata": {},
   "source": [
    "Y todas aquellas probabilidades que sean mayores a 0.5 serán etiquetadas como 1 y todas las que sean menores serán etiquetadas como 0. El umbral de decisión se ubica cuando $\\sigma(z)=0.5$ y, como se ve en el gráfico, esto ocurre para $z=0$. <i>Bonus: demostrarlo analíticamente</i>"
   ]
  },
  {
   "cell_type": "code",
   "execution_count": 24,
   "metadata": {},
   "outputs": [
    {
     "data": {
      "image/png": "[encoded data removed]",
      "text/plain": [
       "<Figure size 720x576 with 1 Axes>"
      ]
     },
     "metadata": {
      "needs_background": "light"
     },
     "output_type": "display_data"
    }
   ],
   "source": [
    "def sigmoid(x):\n",
    "    return (1 / (1 + np.exp(-x)))\n",
    "\n",
    "plt.figure(figsize=(10,8))\n",
    "plt.plot(np.linspace(-8,8,100), sigmoid(np.linspace(-8,8,100)), 'r');\n",
    "plt.ylabel('sigmoide(z)');\n",
    "plt.xlabel('z');\n",
    "plt.ylim([-0.2,1.2])\n",
    "plt.yticks([0,0.5,1])\n",
    "plt.xticks([0],['0'])\n",
    "plt.grid(color='k', linestyle='dashdot', linewidth=1)"
   ]
  },
  {
   "cell_type": "markdown",
   "metadata": {},
   "source": [
    "Recordando que $z = \\beta_0+\\beta_1·x_1+\\beta_2·x_2$, podemos hacer las siguientes operaciones:\n",
    "$$\n",
    "z = \\beta_0+\\beta_1·x_1+\\beta_2·x_2\n",
    "$$<br>\n",
    "$$\n",
    "0 = \\beta_0+\\beta_1·x_1+\\beta_2·x_2\n",
    "$$<br>\n",
    "$$\n",
    "\\frac{-\\beta_0-\\beta_1·x_1}{\\beta_2} = x_2\n",
    "$$<br>\n",
    "$$\n",
    "x_2 = - x_1 · \\frac{\\beta_1}{\\beta_2} - \\frac{\\beta_0}{\\beta_2}\n",
    "$$<br>\n",
    "La última expresión tiene la forma de una recta de $x_2$ en función de $x_1$. Si reemplazamos los coeficientes obtenidos y graficamos esa recta sobre el conjunto de datos, obtenemos:"
   ]
  },
  {
   "cell_type": "code",
   "execution_count": 24,
   "metadata": {},
   "outputs": [
    {
     "ename": "IndexError",
     "evalue": "index 1 is out of bounds for axis 0 with size 1",
     "output_type": "error",
     "traceback": [
      "\u001b[0;31m---------------------------------------------------------------------------\u001b[0m",
      "\u001b[0;31mIndexError\u001b[0m                                Traceback (most recent call last)",
      "\u001b[0;32m<ipython-input-24-5a79ba48c272>\u001b[0m in \u001b[0;36m<module>\u001b[0;34m\u001b[0m\n\u001b[1;32m      8\u001b[0m \u001b[0mbeta_0\u001b[0m \u001b[0;34m=\u001b[0m \u001b[0mlogistic_regression\u001b[0m\u001b[0;34m.\u001b[0m\u001b[0mintercept_\u001b[0m\u001b[0;34m[\u001b[0m\u001b[0;36m0\u001b[0m\u001b[0;34m]\u001b[0m\u001b[0;34m\u001b[0m\u001b[0;34m\u001b[0m\u001b[0m\n\u001b[1;32m      9\u001b[0m \u001b[0mbeta_1\u001b[0m \u001b[0;34m=\u001b[0m \u001b[0mlogistic_regression\u001b[0m\u001b[0;34m.\u001b[0m\u001b[0mcoef_\u001b[0m\u001b[0;34m[\u001b[0m\u001b[0;36m0\u001b[0m\u001b[0;34m]\u001b[0m\u001b[0;34m[\u001b[0m\u001b[0;36m0\u001b[0m\u001b[0;34m]\u001b[0m\u001b[0;34m\u001b[0m\u001b[0;34m\u001b[0m\u001b[0m\n\u001b[0;32m---> 10\u001b[0;31m \u001b[0mbeta_2\u001b[0m \u001b[0;34m=\u001b[0m \u001b[0mlogistic_regression\u001b[0m\u001b[0;34m.\u001b[0m\u001b[0mcoef_\u001b[0m\u001b[0;34m[\u001b[0m\u001b[0;36m0\u001b[0m\u001b[0;34m]\u001b[0m\u001b[0;34m[\u001b[0m\u001b[0;36m1\u001b[0m\u001b[0;34m]\u001b[0m\u001b[0;34m\u001b[0m\u001b[0;34m\u001b[0m\u001b[0m\n\u001b[0m\u001b[1;32m     11\u001b[0m \u001b[0meje_2\u001b[0m \u001b[0;34m=\u001b[0m \u001b[0;34m-\u001b[0m\u001b[0meje_1\u001b[0m\u001b[0;34m*\u001b[0m\u001b[0mbeta_1\u001b[0m\u001b[0;34m/\u001b[0m\u001b[0mbeta_2\u001b[0m \u001b[0;34m-\u001b[0m \u001b[0mbeta_0\u001b[0m\u001b[0;34m/\u001b[0m\u001b[0mbeta_2\u001b[0m\u001b[0;34m\u001b[0m\u001b[0;34m\u001b[0m\u001b[0m\n\u001b[1;32m     12\u001b[0m \u001b[0mplt\u001b[0m\u001b[0;34m.\u001b[0m\u001b[0mplot\u001b[0m\u001b[0;34m(\u001b[0m\u001b[0meje_1\u001b[0m\u001b[0;34m,\u001b[0m \u001b[0meje_2\u001b[0m\u001b[0;34m,\u001b[0m \u001b[0mc\u001b[0m\u001b[0;34m=\u001b[0m\u001b[0;34m'r'\u001b[0m\u001b[0;34m)\u001b[0m\u001b[0;34m;\u001b[0m\u001b[0;34m\u001b[0m\u001b[0;34m\u001b[0m\u001b[0m\n",
      "\u001b[0;31mIndexError\u001b[0m: index 1 is out of bounds for axis 0 with size 1"
     ]
    },
    {
     "data": {
      "image/png": "[encoded data removed]",
      "text/plain": [
       "<Figure size 720x576 with 1 Axes>"
      ]
     },
     "metadata": {
      "needs_background": "light"
     },
     "output_type": "display_data"
    }
   ],
   "source": [
    "# Graficamos los datos\n",
    "plt.figure(figsize=(10,8))\n",
    "sns.scatterplot(x=x1,y=x2, hue=y, s=100)\n",
    "plt.xlabel('x1')\n",
    "plt.ylabel('x2');\n",
    "# Graficamos la recta\n",
    "eje_1 = np.linspace(-5,5, 10)\n",
    "beta_0 = logistic_regression.intercept_[0]\n",
    "beta_1 = logistic_regression.coef_[0][0]\n",
    "beta_2 = logistic_regression.coef_[0][1]\n",
    "eje_2 = -eje_1*beta_1/beta_2 - beta_0/beta_2\n",
    "plt.plot(eje_1, eje_2, c='r');\n",
    "plt.legend(['umbral', 'Clase 1', 'Clase 0'], loc='upper left');"
   ]
  },
  {
   "cell_type": "markdown",
   "metadata": {},
   "source": [
    "Observamos que la recta obtenida es la que mejor separa las dos clases.\n",
    "\n",
    "<a id=\"multiclase\"></a>\n",
    "### Clasificación multiclase\n",
    "Hasta ahora estuvimos analizando un caso en el que los datos tenían sólo dos etiquetas posibles. \"Azul\" vs \"naranja\", \"violeta\" vs \"rojo\", 0 vs 1. Esto casos son de clasificación <b>binaria</b> y vimos cómo ajustar un modelo de regresión logística para resolver este problema y cómo interpretar los resultados del ajuste. Existe un gran abanico de problemas de clasificación en los que hay más de 2 formas posibles de etiquetar las observaciones y estos son llamados problemas de <b>clasificación multiclase</b>.<br>\n",
    "Supongamos que tenemos una imágen y queremos clasificar si hay un animal en ella. Estamos ante un caso de clasificación <b>binaria</b>, ya que sólo hay 2 posibilidades: hay animal, o no hay animal. Si lo que deseamos es saber qué animal hay en la foto, es un caso de clasificación <b>multiclase</b> ya que existen varias etiquetas que le podemos asignar a la foto (\"perro\", \"gato\", \"elefante\", etc. o \"sin animal\"). También puede ocurrir que en la imagen haya más de un animal y estos casos son denominados <b>multietiqueta</b>, ya que a cada observación le puede tocar más de una etiqueta.<br>\n",
    "Las implementaciones de Scikit-Learn vienen preparadas para trabajar de manera nativa con problemas multiclase y en el caso de la regresión logística el problema se encara de una manera muy simple. Si tenemos 4 etiquetas posibles, digamos \"rojo\" \"celeste\", \"verde\" y \"violeta\", podemos plantear 4 problemas binarios por separado:\n",
    "- ¿es \"rojo\"?\n",
    "- ¿es \"azul\"?\n",
    "- ¿es \"verde\"?\n",
    "- ¿es \"violeta\"?\n",
    "\n",
    "Generalizando, un problema multiclase con N etiquetas, podemos plantearlo como N problemas binarios. Veamos un ejemplo:"
   ]
  },
  {
   "cell_type": "code",
   "execution_count": 25,
   "metadata": {},
   "outputs": [
    {
     "data": {
      "image/png": "[encoded data removed]",
      "text/plain": [
       "<Figure size 576x576 with 1 Axes>"
      ]
     },
     "metadata": {
      "needs_background": "light"
     },
     "output_type": "display_data"
    }
   ],
   "source": [
    "# Generamos un dataset de pruebas\n",
    "from sklearn.datasets import make_classification\n",
    "X, y = make_classification(n_samples=100, # generamos 100 muestras\n",
    "                           n_features=2, n_redundant=0, # con 2 features explicativas\n",
    "                           n_classes=4, # que pueden pertenecer a 4 clases distintas\n",
    "                           n_clusters_per_class=1, # donde cada clase comprende un cluster\n",
    "                           random_state=1) # y fijamos una semilla para obtener resultados repetibles\n",
    "# Visualizamos los datos\n",
    "plt.figure(figsize=(8,8))\n",
    "sns.scatterplot(x=X[:,0], y=X[:,1], hue=y, palette='rainbow')\n",
    "plt.xlabel('x1')\n",
    "plt.ylabel('x2');"
   ]
  },
  {
   "cell_type": "markdown",
   "metadata": {},
   "source": [
    "Utilicemos la implementación de Scikit-Learn para resolver el problema"
   ]
  },
  {
   "cell_type": "code",
   "execution_count": 26,
   "metadata": {},
   "outputs": [
    {
     "data": {
      "text/html": [
       "<style>#sk-container-id-2 {color: black;}#sk-container-id-2 pre{padding: 0;}#sk-container-id-2 div.sk-toggleable {background-color: white;}#sk-container-id-2 label.sk-toggleable__label {cursor: pointer;display: block;width: 100%;margin-bottom: 0;padding: 0.3em;box-sizing: border-box;text-align: center;}#sk-container-id-2 label.sk-toggleable__label-arrow:before {content: \"▸\";float: left;margin-right: 0.25em;color: #696969;}#sk-container-id-2 label.sk-toggleable__label-arrow:hover:before {color: black;}#sk-container-id-2 div.sk-estimator:hover label.sk-toggleable__label-arrow:before {color: black;}#sk-container-id-2 div.sk-toggleable__content {max-height: 0;max-width: 0;overflow: hidden;text-align: left;background-color: #f0f8ff;}#sk-container-id-2 div.sk-toggleable__content pre {margin: 0.2em;color: black;border-radius: 0.25em;background-color: #f0f8ff;}#sk-container-id-2 input.sk-toggleable__control:checked~div.sk-toggleable__content {max-height: 200px;max-width: 100%;overflow: auto;}#sk-container-id-2 input.sk-toggleable__control:checked~label.sk-toggleable__label-arrow:before {content: \"▾\";}#sk-container-id-2 div.sk-estimator input.sk-toggleable__control:checked~label.sk-toggleable__label {background-color: #d4ebff;}#sk-container-id-2 div.sk-label input.sk-toggleable__control:checked~label.sk-toggleable__label {background-color: #d4ebff;}#sk-container-id-2 input.sk-hidden--visually {border: 0;clip: rect(1px 1px 1px 1px);clip: rect(1px, 1px, 1px, 1px);height: 1px;margin: -1px;overflow: hidden;padding: 0;position: absolute;width: 1px;}#sk-container-id-2 div.sk-estimator {font-family: monospace;background-color: #f0f8ff;border: 1px dotted black;border-radius: 0.25em;box-sizing: border-box;margin-bottom: 0.5em;}#sk-container-id-2 div.sk-estimator:hover {background-color: #d4ebff;}#sk-container-id-2 div.sk-parallel-item::after {content: \"\";width: 100%;border-bottom: 1px solid gray;flex-grow: 1;}#sk-container-id-2 div.sk-label:hover label.sk-toggleable__label {background-color: #d4ebff;}#sk-container-id-2 div.sk-serial::before {content: \"\";position: absolute;border-left: 1px solid gray;box-sizing: border-box;top: 0;bottom: 0;left: 50%;z-index: 0;}#sk-container-id-2 div.sk-serial {display: flex;flex-direction: column;align-items: center;background-color: white;padding-right: 0.2em;padding-left: 0.2em;position: relative;}#sk-container-id-2 div.sk-item {position: relative;z-index: 1;}#sk-container-id-2 div.sk-parallel {display: flex;align-items: stretch;justify-content: center;background-color: white;position: relative;}#sk-container-id-2 div.sk-item::before, #sk-container-id-2 div.sk-parallel-item::before {content: \"\";position: absolute;border-left: 1px solid gray;box-sizing: border-box;top: 0;bottom: 0;left: 50%;z-index: -1;}#sk-container-id-2 div.sk-parallel-item {display: flex;flex-direction: column;z-index: 1;position: relative;background-color: white;}#sk-container-id-2 div.sk-parallel-item:first-child::after {align-self: flex-end;width: 50%;}#sk-container-id-2 div.sk-parallel-item:last-child::after {align-self: flex-start;width: 50%;}#sk-container-id-2 div.sk-parallel-item:only-child::after {width: 0;}#sk-container-id-2 div.sk-dashed-wrapped {border: 1px dashed gray;margin: 0 0.4em 0.5em 0.4em;box-sizing: border-box;padding-bottom: 0.4em;background-color: white;}#sk-container-id-2 div.sk-label label {font-family: monospace;font-weight: bold;display: inline-block;line-height: 1.2em;}#sk-container-id-2 div.sk-label-container {text-align: center;}#sk-container-id-2 div.sk-container {/* jupyter's `normalize.less` sets `[hidden] { display: none; }` but bootstrap.min.css set `[hidden] { display: none !important; }` so we also need the `!important` here to be able to override the default hidden behavior on the sphinx rendered scikit-learn.org. See: https://github.com/scikit-learn/scikit-learn/issues/21755 */display: inline-block !important;position: relative;}#sk-container-id-2 div.sk-text-repr-fallback {display: none;}</style><div id=\"sk-container-id-2\" class=\"sk-top-container\"><div class=\"sk-text-repr-fallback\"><pre>LogisticRegression()</pre><b>In a Jupyter environment, please rerun this cell to show the HTML representation or trust the notebook. <br />On GitHub, the HTML representation is unable to render, please try loading this page with nbviewer.org.</b></div><div class=\"sk-container\" hidden><div class=\"sk-item\"><div class=\"sk-estimator sk-toggleable\"><input class=\"sk-toggleable__control sk-hidden--visually\" id=\"sk-estimator-id-2\" type=\"checkbox\" checked><label for=\"sk-estimator-id-2\" class=\"sk-toggleable__label sk-toggleable__label-arrow\">LogisticRegression</label><div class=\"sk-toggleable__content\"><pre>LogisticRegression()</pre></div></div></div></div></div>"
      ],
      "text/plain": [
       "LogisticRegression()"
      ]
     },
     "execution_count": 26,
     "metadata": {},
     "output_type": "execute_result"
    }
   ],
   "source": [
    "logistic_regression.fit(X,y)"
   ]
  },
  {
   "cell_type": "markdown",
   "metadata": {},
   "source": [
    "En función de los valores encontrados en `y`, el objeto `logistic_regression` determina automáticamente la cantidad de clases posibles y genera las etiquetas correspondientes."
   ]
  },
  {
   "cell_type": "code",
   "execution_count": 27,
   "metadata": {},
   "outputs": [
    {
     "data": {
      "text/plain": [
       "array([1, 1, 0, 0, 2, 3, 1, 1, 0, 3, 2, 2, 3, 0, 2, 3, 2, 3, 2, 0, 0, 2,\n",
       "       0, 1, 0, 2, 0, 2, 0, 0, 1, 2, 2, 3, 2, 0, 0, 0, 3, 1, 3, 2, 0, 3,\n",
       "       1, 1, 0, 3, 2, 1, 2, 0, 1, 0, 2, 0, 0, 1, 1, 3, 1, 2, 1, 1, 2, 3,\n",
       "       3, 3, 2, 0, 2, 2, 1, 1, 1, 1, 2, 0, 3, 1, 1, 1, 2, 3, 1, 0, 3, 3,\n",
       "       3, 0, 0, 1, 1, 2, 3, 1, 2, 2, 3, 0])"
      ]
     },
     "execution_count": 27,
     "metadata": {},
     "output_type": "execute_result"
    }
   ],
   "source": [
    "logistic_regression.predict(X)"
   ]
  },
  {
   "cell_type": "markdown",
   "metadata": {},
   "source": [
    "Antes de ejecutar las siguientes celdas, ¿qué resultado esperás obtener?"
   ]
  },
  {
   "cell_type": "code",
   "execution_count": 28,
   "metadata": {},
   "outputs": [
    {
     "data": {
      "text/plain": [
       "array([[6.85276647e-03, 7.92622427e-01, 9.83521544e-04, 1.99541285e-01],\n",
       "       [3.74068757e-03, 6.58302544e-01, 1.09998765e-03, 3.36856780e-01],\n",
       "       [9.13103510e-01, 6.90269448e-02, 1.48700350e-02, 2.99951004e-03],\n",
       "       [8.78508641e-01, 1.04807943e-01, 1.27544765e-02, 3.92893879e-03],\n",
       "       [3.05213248e-01, 2.99844193e-03, 6.68916673e-01, 2.28716374e-02],\n",
       "       [1.44827771e-03, 1.53866053e-02, 3.77191444e-02, 9.45445973e-01],\n",
       "       [3.70522990e-02, 8.83830178e-01, 1.72047859e-03, 7.73970444e-02],\n",
       "       [1.73673599e-03, 7.38541445e-01, 3.74370090e-04, 2.59347449e-01],\n",
       "       [8.82392171e-01, 2.48068615e-02, 8.56119165e-02, 7.18905136e-03],\n",
       "       [1.06567463e-02, 5.38509699e-03, 3.98595755e-01, 5.85362401e-01],\n",
       "       [1.35744577e-01, 9.61176174e-04, 8.41504097e-01, 2.17901496e-02],\n",
       "       [3.81623257e-02, 2.22095470e-03, 8.05215932e-01, 1.54400788e-01],\n",
       "       [2.14846339e-03, 2.76396058e-02, 3.17888212e-02, 9.38423110e-01],\n",
       "       [6.25877751e-01, 3.01997376e-03, 3.64908997e-01, 6.19327737e-03],\n",
       "       [4.45017846e-03, 1.45164663e-04, 8.89856053e-01, 1.05548604e-01],\n",
       "       [8.56926168e-04, 1.13171088e-02, 3.08789709e-02, 9.56946994e-01],\n",
       "       [1.92793657e-01, 3.36582528e-02, 5.13545543e-01, 2.60002547e-01],\n",
       "       [3.75629114e-03, 3.32011943e-02, 4.44620722e-02, 9.18580442e-01],\n",
       "       [5.99769269e-03, 2.01436018e-04, 8.86609528e-01, 1.07191343e-01],\n",
       "       [9.40264782e-01, 2.92464475e-02, 2.79869209e-02, 2.50184932e-03],\n",
       "       [8.43050408e-01, 3.83934860e-03, 1.50762366e-01, 2.34787748e-03],\n",
       "       [6.30129055e-03, 5.51016101e-04, 7.67391586e-01, 2.25756107e-01],\n",
       "       [5.97861940e-01, 6.69298817e-03, 3.81201992e-01, 1.42430798e-02],\n",
       "       [2.83577433e-02, 8.90131885e-01, 1.37647717e-03, 8.01338949e-02],\n",
       "       [9.15597315e-01, 6.94792320e-02, 1.24213476e-02, 2.50210538e-03],\n",
       "       [1.70683587e-02, 1.13769997e-03, 8.03132129e-01, 1.78661812e-01],\n",
       "       [9.17967385e-01, 6.64477643e-02, 1.30636715e-02, 2.52117947e-03],\n",
       "       [4.22145472e-05, 2.48789914e-06, 8.10807959e-01, 1.89147339e-01],\n",
       "       [8.39485169e-01, 1.17547375e-02, 1.42430971e-01, 6.32912305e-03],\n",
       "       [9.14064462e-01, 7.17218055e-02, 1.17708203e-02, 2.44291218e-03],\n",
       "       [1.54184287e-02, 8.71733561e-01, 1.09606617e-03, 1.11751944e-01],\n",
       "       [4.35397420e-02, 1.03610974e-03, 8.82180539e-01, 7.32436096e-02],\n",
       "       [2.04690836e-02, 2.67842036e-04, 9.33944804e-01, 4.53182705e-02],\n",
       "       [5.67763569e-04, 1.64431168e-03, 1.12651032e-01, 8.85136893e-01],\n",
       "       [1.27359851e-03, 1.01127920e-04, 7.79676924e-01, 2.18948350e-01],\n",
       "       [5.01308560e-01, 2.06641735e-03, 4.89356001e-01, 7.26902170e-03],\n",
       "       [9.02099135e-01, 2.46245658e-02, 6.77776097e-02, 5.49868973e-03],\n",
       "       [8.94422428e-01, 4.89430505e-02, 4.90723310e-02, 7.56219089e-03],\n",
       "       [3.64469947e-04, 1.17039889e-01, 1.52614426e-03, 8.81069497e-01],\n",
       "       [1.29583477e-02, 9.30711773e-01, 4.46904587e-04, 5.58829744e-02],\n",
       "       [1.52675781e-03, 4.78476481e-02, 1.39836933e-02, 9.36641901e-01],\n",
       "       [3.04051197e-01, 1.63490058e-03, 6.81049511e-01, 1.32643913e-02],\n",
       "       [8.71041963e-01, 1.22919620e-01, 4.47154138e-03, 1.56687549e-03],\n",
       "       [4.37758153e-03, 1.51300455e-01, 1.17268261e-02, 8.32595137e-01],\n",
       "       [5.84942674e-03, 7.23520756e-01, 1.23418134e-03, 2.69395636e-01],\n",
       "       [6.36709681e-02, 8.75306156e-01, 2.20591888e-03, 5.88169572e-02],\n",
       "       [9.10116358e-01, 4.16236087e-02, 4.27169173e-02, 5.54311575e-03],\n",
       "       [9.21100745e-04, 1.55853964e-01, 2.67639000e-03, 8.40548545e-01],\n",
       "       [5.57882174e-03, 8.49887955e-05, 9.39873863e-01, 5.44623260e-02],\n",
       "       [2.08334094e-01, 7.72348716e-01, 2.24908012e-03, 1.70681098e-02],\n",
       "       [1.56431989e-03, 1.81442445e-04, 7.14553294e-01, 2.83700944e-01],\n",
       "       [5.27506578e-01, 2.42918859e-03, 4.62467078e-01, 7.59715502e-03],\n",
       "       [4.61253895e-02, 8.66815340e-01, 2.34748298e-03, 8.47117870e-02],\n",
       "       [8.67652885e-01, 2.13744643e-02, 1.03265833e-01, 7.70681746e-03],\n",
       "       [1.88168154e-02, 3.13021507e-04, 9.24606651e-01, 5.62635118e-02],\n",
       "       [8.91677876e-01, 9.55705375e-02, 9.98762949e-03, 2.76395717e-03],\n",
       "       [8.56549051e-01, 1.37957151e-01, 3.93731437e-03, 1.55648381e-03],\n",
       "       [8.35847801e-02, 8.62802905e-01, 2.51456969e-03, 5.10977447e-02],\n",
       "       [1.34399567e-02, 8.40630994e-01, 1.28071016e-03, 1.44648339e-01],\n",
       "       [1.33584917e-03, 6.13163514e-02, 9.75331475e-03, 9.27594485e-01],\n",
       "       [5.78934410e-02, 8.79867158e-01, 2.05387308e-03, 6.01855279e-02],\n",
       "       [4.73916480e-01, 2.42314956e-03, 5.14289833e-01, 9.37053778e-03],\n",
       "       [8.59529269e-02, 5.01873409e-01, 2.99823894e-02, 3.82191275e-01],\n",
       "       [2.61140606e-02, 8.81070086e-01, 1.46118691e-03, 9.13546663e-02],\n",
       "       [4.85744519e-03, 5.18816087e-05, 9.55207711e-01, 3.98829625e-02],\n",
       "       [2.01577720e-03, 3.76283420e-03, 1.63337242e-01, 8.30884147e-01],\n",
       "       [5.12158941e-04, 9.04743442e-03, 2.36125053e-02, 9.66827901e-01],\n",
       "       [1.75748049e-03, 2.70725465e-02, 2.69993810e-02, 9.44170592e-01],\n",
       "       [2.26763660e-01, 2.85380692e-03, 7.38223483e-01, 3.21590506e-02],\n",
       "       [6.25215684e-01, 5.06330503e-03, 3.59815364e-01, 9.90564669e-03],\n",
       "       [6.08600290e-02, 1.22218954e-03, 8.76400250e-01, 6.15175318e-02],\n",
       "       [2.06347438e-01, 4.83084067e-04, 7.86030730e-01, 7.13874793e-03],\n",
       "       [2.11180051e-02, 8.36094028e-01, 1.91511905e-03, 1.40872848e-01],\n",
       "       [3.64200599e-02, 8.69897458e-01, 2.02506699e-03, 9.16574152e-02],\n",
       "       [9.75429981e-02, 8.66447383e-01, 1.95020842e-03, 3.40594105e-02],\n",
       "       [1.69979158e-02, 8.44524522e-01, 1.50688951e-03, 1.36970672e-01],\n",
       "       [2.36208307e-03, 5.70056817e-05, 9.14280618e-01, 8.33002933e-02],\n",
       "       [8.76043160e-01, 1.15532787e-01, 6.32450883e-03, 2.09954346e-03],\n",
       "       [9.38964518e-04, 5.51568439e-03, 6.29681499e-02, 9.30577201e-01],\n",
       "       [5.01782475e-02, 9.05567307e-01, 1.26118951e-03, 4.29932555e-02],\n",
       "       [3.26151229e-02, 8.51455215e-01, 2.29569488e-03, 1.13633967e-01],\n",
       "       [1.87973270e-02, 8.86208964e-01, 1.09724147e-03, 9.38964676e-02],\n",
       "       [4.95207465e-02, 2.14817478e-03, 8.28394822e-01, 1.19936257e-01],\n",
       "       [5.08104491e-05, 9.85571424e-03, 2.56190204e-03, 9.87531573e-01],\n",
       "       [6.89481475e-02, 8.75572209e-01, 2.15955627e-03, 5.33200876e-02],\n",
       "       [8.37510751e-01, 1.55800204e-01, 4.59885661e-03, 2.09018913e-03],\n",
       "       [1.38411926e-02, 1.07440800e-01, 4.70137738e-02, 8.31704234e-01],\n",
       "       [1.20481349e-03, 2.06951674e-02, 2.44456921e-02, 9.53654327e-01],\n",
       "       [2.55234392e-05, 1.65389381e-03, 6.85099223e-03, 9.91469591e-01],\n",
       "       [8.65353534e-01, 9.89165185e-03, 1.20354430e-01, 4.40038411e-03],\n",
       "       [9.25320871e-01, 4.50480814e-02, 2.60908517e-02, 3.54019567e-03],\n",
       "       [5.92152228e-02, 8.48454217e-01, 3.17884203e-03, 8.91517178e-02],\n",
       "       [4.37172760e-03, 6.10734698e-01, 1.54562703e-03, 3.83347947e-01],\n",
       "       [2.74120662e-03, 4.93119839e-04, 6.27950502e-01, 3.68815171e-01],\n",
       "       [2.46867945e-04, 4.77188003e-01, 1.77252517e-04, 5.22387876e-01],\n",
       "       [2.44147812e-02, 8.90465962e-01, 1.25024720e-03, 8.38690099e-02],\n",
       "       [5.20660476e-03, 1.41856050e-04, 9.04344259e-01, 9.03072802e-02],\n",
       "       [2.34352287e-01, 1.29413823e-03, 7.49248387e-01, 1.51051871e-02],\n",
       "       [3.79082742e-03, 9.81994357e-02, 1.60643323e-02, 8.81945405e-01],\n",
       "       [8.31757933e-01, 9.96803671e-03, 1.52406333e-01, 5.86769717e-03]])"
      ]
     },
     "execution_count": 28,
     "metadata": {},
     "output_type": "execute_result"
    }
   ],
   "source": [
    "logistic_regression.predict_proba(X)"
   ]
  },
  {
   "cell_type": "code",
   "execution_count": 29,
   "metadata": {},
   "outputs": [
    {
     "data": {
      "text/plain": [
       "array([1., 1., 1., 1., 1., 1., 1., 1., 1., 1., 1., 1., 1., 1., 1., 1., 1.,\n",
       "       1., 1., 1., 1., 1., 1., 1., 1., 1., 1., 1., 1., 1., 1., 1., 1., 1.,\n",
       "       1., 1., 1., 1., 1., 1., 1., 1., 1., 1., 1., 1., 1., 1., 1., 1., 1.,\n",
       "       1., 1., 1., 1., 1., 1., 1., 1., 1., 1., 1., 1., 1., 1., 1., 1., 1.,\n",
       "       1., 1., 1., 1., 1., 1., 1., 1., 1., 1., 1., 1., 1., 1., 1., 1., 1.,\n",
       "       1., 1., 1., 1., 1., 1., 1., 1., 1., 1., 1., 1., 1., 1., 1.])"
      ]
     },
     "execution_count": 29,
     "metadata": {},
     "output_type": "execute_result"
    }
   ],
   "source": [
    "logistic_regression.predict_proba(X).sum(axis=1)"
   ]
  },
  {
   "cell_type": "markdown",
   "metadata": {},
   "source": [
    "¿Y qué pasa con los coeficientes e interceptos de este modelo? "
   ]
  },
  {
   "cell_type": "code",
   "execution_count": 30,
   "metadata": {},
   "outputs": [
    {
     "data": {
      "text/plain": [
       "array([[-1.78941563, -1.38801683],\n",
       "       [ 1.71620033, -1.72828824],\n",
       "       [-1.60435865,  1.67575704],\n",
       "       [ 1.67757395,  1.44054803]])"
      ]
     },
     "execution_count": 30,
     "metadata": {},
     "output_type": "execute_result"
    }
   ],
   "source": [
    "logistic_regression.coef_"
   ]
  },
  {
   "cell_type": "code",
   "execution_count": 31,
   "metadata": {},
   "outputs": [
    {
     "data": {
      "text/plain": [
       "array([-0.30905279, -0.38379093, -0.08387118,  0.7767149 ])"
      ]
     },
     "execution_count": 31,
     "metadata": {},
     "output_type": "execute_result"
    }
   ],
   "source": [
    "logistic_regression.intercept_"
   ]
  },
  {
   "cell_type": "markdown",
   "metadata": {},
   "source": [
    "Cada una de las 4 clases tiene sus propios coeficientes e interceptos. Generalizando:\n",
    "- `.coef_` tendrá forma (N_clases, N_features)\n",
    "- `.intercept_` tendrá forma (N_clases,)"
   ]
  },
  {
   "cell_type": "markdown",
   "metadata": {},
   "source": [
    "En estos casos, en lugar de comparar las probabilidades (`.predict_proba`) con un valor de umbral, la etiqueta elegida será la mayor de todas las probabilidades para esa observación."
   ]
  },
  {
   "cell_type": "code",
   "execution_count": 32,
   "metadata": {},
   "outputs": [
    {
     "data": {
      "text/plain": [
       "array([1, 1, 0, 0, 2, 3, 1, 1, 0, 3, 2, 2, 3, 0, 2, 3, 2, 3, 2, 0, 0, 2,\n",
       "       0, 1, 0, 2, 0, 2, 0, 0, 1, 2, 2, 3, 2, 0, 0, 0, 3, 1, 3, 2, 0, 3,\n",
       "       1, 1, 0, 3, 2, 1, 2, 0, 1, 0, 2, 0, 0, 1, 1, 3, 1, 2, 1, 1, 2, 3,\n",
       "       3, 3, 2, 0, 2, 2, 1, 1, 1, 1, 2, 0, 3, 1, 1, 1, 2, 3, 1, 0, 3, 3,\n",
       "       3, 0, 0, 1, 1, 2, 3, 1, 2, 2, 3, 0])"
      ]
     },
     "execution_count": 32,
     "metadata": {},
     "output_type": "execute_result"
    }
   ],
   "source": [
    "logistic_regression.predict_proba(X).argmax(axis=1)"
   ]
  },
  {
   "cell_type": "code",
   "execution_count": 33,
   "metadata": {},
   "outputs": [
    {
     "data": {
      "text/plain": [
       "True"
      ]
     },
     "execution_count": 33,
     "metadata": {},
     "output_type": "execute_result"
    }
   ],
   "source": [
    "all(logistic_regression.predict(X) == logistic_regression.predict_proba(X).argmax(axis=1))"
   ]
  },
  {
   "cell_type": "markdown",
   "metadata": {},
   "source": [
    "<a id=\"caso\"></a>\n",
    "## Caso de uso\n",
    "Ahora veremos un ejemplo práctico en el que usaremos la regresión logística para clasificar admisiones de estudiantes a distintas universidades.\n",
    "\n",
    "<a id=\"caso_intro\"></a>\n",
    "### Introducción al problema\n",
    "Estamos interesados en entender cómo influyen algunas variables en las probabilidades de admisión de alumnos a distintas universidades. Las variables con las que trabajaremos son las siguientes:\n",
    "- GRE: graduate record exam\n",
    "- GPA: grade point average\n",
    "- Prestigio de la institución de proveniencia\n",
    "\n",
    "Contamos con un dataset de 400 pedidos de ingreso a 10 universidades distintas en la que cada pedido está etiquetado como 1 (admitido) o 0 (no admitido).\n",
    "\n",
    "<a id=\"caso_eda\"></a>\n",
    "### Análisis y exploración del dataset"
   ]
  },
  {
   "cell_type": "code",
   "execution_count": 34,
   "metadata": {},
   "outputs": [],
   "source": [
    "import pandas as pd"
   ]
  },
  {
   "cell_type": "code",
   "execution_count": 35,
   "metadata": {},
   "outputs": [
    {
     "data": {
      "text/html": [
       "<div>\n",
       "<style scoped>\n",
       "    .dataframe tbody tr th:only-of-type {\n",
       "        vertical-align: middle;\n",
       "    }\n",
       "\n",
       "    .dataframe tbody tr th {\n",
       "        vertical-align: top;\n",
       "    }\n",
       "\n",
       "    .dataframe thead th {\n",
       "        text-align: right;\n",
       "    }\n",
       "</style>\n",
       "<table border=\"1\" class=\"dataframe\">\n",
       "  <thead>\n",
       "    <tr style=\"text-align: right;\">\n",
       "      <th></th>\n",
       "      <th>admit</th>\n",
       "      <th>gre</th>\n",
       "      <th>gpa</th>\n",
       "      <th>prestige</th>\n",
       "    </tr>\n",
       "  </thead>\n",
       "  <tbody>\n",
       "    <tr>\n",
       "      <th>0</th>\n",
       "      <td>0</td>\n",
       "      <td>380</td>\n",
       "      <td>3.61</td>\n",
       "      <td>3</td>\n",
       "    </tr>\n",
       "    <tr>\n",
       "      <th>1</th>\n",
       "      <td>1</td>\n",
       "      <td>660</td>\n",
       "      <td>3.67</td>\n",
       "      <td>3</td>\n",
       "    </tr>\n",
       "    <tr>\n",
       "      <th>2</th>\n",
       "      <td>1</td>\n",
       "      <td>800</td>\n",
       "      <td>4.00</td>\n",
       "      <td>1</td>\n",
       "    </tr>\n",
       "    <tr>\n",
       "      <th>3</th>\n",
       "      <td>1</td>\n",
       "      <td>640</td>\n",
       "      <td>3.19</td>\n",
       "      <td>4</td>\n",
       "    </tr>\n",
       "    <tr>\n",
       "      <th>4</th>\n",
       "      <td>0</td>\n",
       "      <td>520</td>\n",
       "      <td>2.93</td>\n",
       "      <td>4</td>\n",
       "    </tr>\n",
       "  </tbody>\n",
       "</table>\n",
       "</div>"
      ],
      "text/plain": [
       "   admit  gre   gpa  prestige\n",
       "0      0  380  3.61         3\n",
       "1      1  660  3.67         3\n",
       "2      1  800  4.00         1\n",
       "3      1  640  3.19         4\n",
       "4      0  520  2.93         4"
      ]
     },
     "execution_count": 35,
     "metadata": {},
     "output_type": "execute_result"
    }
   ],
   "source": [
    "df = pd.read_csv('../Data/binary.csv')\n",
    "df.head()"
   ]
  },
  {
   "cell_type": "markdown",
   "metadata": {},
   "source": [
    "Observamos las 3 variables cuya influencia deseamos analizar y la variable objetivo (admit). Valores más altos de `gre` y `gpa` indican mejores resultados, mientras que los valores más bajos de `prestige` indican mayor prestigio de la institución de procedencia."
   ]
  },
  {
   "cell_type": "code",
   "execution_count": 36,
   "metadata": {},
   "outputs": [
    {
     "data": {
      "text/plain": [
       "admit\n",
       "0    0.6825\n",
       "1    0.3175\n",
       "Name: proportion, dtype: float64"
      ]
     },
     "execution_count": 36,
     "metadata": {},
     "output_type": "execute_result"
    }
   ],
   "source": [
    "# Balance del dataset\n",
    "df['admit'].value_counts(normalize=True)"
   ]
  },
  {
   "cell_type": "markdown",
   "metadata": {},
   "source": [
    "El 31% de los estudiantes son admitidos. Veamos un poco más en detalle cómo se distribuyen"
   ]
  },
  {
   "cell_type": "code",
   "execution_count": 37,
   "metadata": {},
   "outputs": [
    {
     "data": {
      "text/plain": [
       "<seaborn.axisgrid.PairGrid at 0x7f0329ba5d90>"
      ]
     },
     "execution_count": 37,
     "metadata": {},
     "output_type": "execute_result"
    },
    {
     "data": {
      "image/png": "[encoded data removed]",
      "text/plain": [
       "<Figure size 582.375x540 with 12 Axes>"
      ]
     },
     "metadata": {
      "needs_background": "light"
     },
     "output_type": "display_data"
    }
   ],
   "source": [
    "sns.pairplot(df, hue='admit')"
   ]
  },
  {
   "cell_type": "markdown",
   "metadata": {},
   "source": [
    "Veamos cómo se distribuyen las observaciones en el plano gpa-gre para los distintos niveles de prestigio."
   ]
  },
  {
   "cell_type": "code",
   "execution_count": 38,
   "metadata": {},
   "outputs": [
    {
     "data": {
      "image/png": "[encoded data removed]",
      "text/plain": [
       "<Figure size 906.375x216 with 4 Axes>"
      ]
     },
     "metadata": {
      "needs_background": "light"
     },
     "output_type": "display_data"
    }
   ],
   "source": [
    "g = sns.FacetGrid(df, col=\"prestige\", hue=\"admit\")\n",
    "g.map(plt.scatter, \"gpa\", \"gre\", alpha=.7)\n",
    "g.add_legend();"
   ]
  },
  {
   "cell_type": "markdown",
   "metadata": {},
   "source": [
    "Para ver de forma un poco más clara, podemos hacer histogramas agrupando según el valor de admit. "
   ]
  },
  {
   "cell_type": "code",
   "execution_count": 39,
   "metadata": {},
   "outputs": [
    {
     "name": "stderr",
     "output_type": "stream",
     "text": [
      "<ipython-input-39-0bcad50f66a3>:2: UserWarning: When passing multiple axes, sharex and sharey are ignored. These settings must be specified when creating axes.\n",
      "  axes_ = df.boxplot(by='admit',ax=ax_new,return_type='axes',whis=[5,95]);\n"
     ]
    },
    {
     "data": {
      "image/png": "[encoded data removed]",
      "text/plain": [
       "<Figure size 1152x360 with 3 Axes>"
      ]
     },
     "metadata": {
      "needs_background": "light"
     },
     "output_type": "display_data"
    }
   ],
   "source": [
    "fig, ax_new = plt.subplots(1,3, sharey=False,figsize=(16,5))\n",
    "axes_ = df.boxplot(by='admit',ax=ax_new,return_type='axes',whis=[5,95]);\n",
    "for ax,col in zip(axes_,['gpa','gre','prestige']):\n",
    "    ax.set_ylim(df[col].min()/1.1,df[col].max()*1.1)"
   ]
  },
  {
   "cell_type": "markdown",
   "metadata": {},
   "source": [
    "Podemos ver que hay ligeras modificaciones en la mediana que podrían predecir el valor de admit."
   ]
  },
  {
   "cell_type": "markdown",
   "metadata": {},
   "source": [
    "<a id=\"caso_dummies\"></a>\n",
    "### Manipulación de datos\n",
    "Al igual que ocurre con la regresión lineal, en la regresión logística necesitamos trabajar con variables numéricas. Es por esto que debemos transformar las variables categóricas en variables dummy.<br>\n",
    "En este caso la única variable categórica que tenemos es el prestigio de la institución de proveniencia, que está expresada en forma numérica. A mayor prestigio, más bajo el número. Si esta variable ya es numérica, ¿debemos transformarla en dummies?<br>\n",
    "Recordemos que la regresión logística realiza una combinación lineal de las features. Esto implica que un GPA de 3, contribuye el doble que un GPA de 1.5 (de ahí lo lineal). ¿Podemos afirmar que una institución con prestigio 2 es el doble de prestigiosa que una con prestigio 4? La realidad es que no podemos asumir que el prestigio viene dado en una escala lineal y por lo tanto no podemos tratar la variable como numérica y debemos crear dummies para cada nivel de prestigio."
   ]
  },
  {
   "cell_type": "code",
   "execution_count": 40,
   "metadata": {},
   "outputs": [
    {
     "data": {
      "text/html": [
       "<div>\n",
       "<style scoped>\n",
       "    .dataframe tbody tr th:only-of-type {\n",
       "        vertical-align: middle;\n",
       "    }\n",
       "\n",
       "    .dataframe tbody tr th {\n",
       "        vertical-align: top;\n",
       "    }\n",
       "\n",
       "    .dataframe thead th {\n",
       "        text-align: right;\n",
       "    }\n",
       "</style>\n",
       "<table border=\"1\" class=\"dataframe\">\n",
       "  <thead>\n",
       "    <tr style=\"text-align: right;\">\n",
       "      <th></th>\n",
       "      <th>prestige_2</th>\n",
       "      <th>prestige_3</th>\n",
       "      <th>prestige_4</th>\n",
       "    </tr>\n",
       "  </thead>\n",
       "  <tbody>\n",
       "    <tr>\n",
       "      <th>0</th>\n",
       "      <td>False</td>\n",
       "      <td>True</td>\n",
       "      <td>False</td>\n",
       "    </tr>\n",
       "    <tr>\n",
       "      <th>1</th>\n",
       "      <td>False</td>\n",
       "      <td>True</td>\n",
       "      <td>False</td>\n",
       "    </tr>\n",
       "    <tr>\n",
       "      <th>2</th>\n",
       "      <td>False</td>\n",
       "      <td>False</td>\n",
       "      <td>False</td>\n",
       "    </tr>\n",
       "    <tr>\n",
       "      <th>3</th>\n",
       "      <td>False</td>\n",
       "      <td>False</td>\n",
       "      <td>True</td>\n",
       "    </tr>\n",
       "    <tr>\n",
       "      <th>4</th>\n",
       "      <td>False</td>\n",
       "      <td>False</td>\n",
       "      <td>True</td>\n",
       "    </tr>\n",
       "  </tbody>\n",
       "</table>\n",
       "</div>"
      ],
      "text/plain": [
       "   prestige_2  prestige_3  prestige_4\n",
       "0       False        True       False\n",
       "1       False        True       False\n",
       "2       False       False       False\n",
       "3       False       False        True\n",
       "4       False       False        True"
      ]
     },
     "execution_count": 40,
     "metadata": {},
     "output_type": "execute_result"
    }
   ],
   "source": [
    "# Creamos dummies para prestige\n",
    "dummies_prestige = pd.get_dummies(df['prestige'], drop_first=True, prefix='prestige')\n",
    "dummies_prestige.head()"
   ]
  },
  {
   "cell_type": "code",
   "execution_count": 41,
   "metadata": {},
   "outputs": [
    {
     "data": {
      "text/html": [
       "<div>\n",
       "<style scoped>\n",
       "    .dataframe tbody tr th:only-of-type {\n",
       "        vertical-align: middle;\n",
       "    }\n",
       "\n",
       "    .dataframe tbody tr th {\n",
       "        vertical-align: top;\n",
       "    }\n",
       "\n",
       "    .dataframe thead th {\n",
       "        text-align: right;\n",
       "    }\n",
       "</style>\n",
       "<table border=\"1\" class=\"dataframe\">\n",
       "  <thead>\n",
       "    <tr style=\"text-align: right;\">\n",
       "      <th></th>\n",
       "      <th>admit</th>\n",
       "      <th>gre</th>\n",
       "      <th>gpa</th>\n",
       "      <th>prestige</th>\n",
       "      <th>prestige_2</th>\n",
       "      <th>prestige_3</th>\n",
       "      <th>prestige_4</th>\n",
       "    </tr>\n",
       "  </thead>\n",
       "  <tbody>\n",
       "    <tr>\n",
       "      <th>0</th>\n",
       "      <td>0</td>\n",
       "      <td>380</td>\n",
       "      <td>3.61</td>\n",
       "      <td>3</td>\n",
       "      <td>False</td>\n",
       "      <td>True</td>\n",
       "      <td>False</td>\n",
       "    </tr>\n",
       "    <tr>\n",
       "      <th>1</th>\n",
       "      <td>1</td>\n",
       "      <td>660</td>\n",
       "      <td>3.67</td>\n",
       "      <td>3</td>\n",
       "      <td>False</td>\n",
       "      <td>True</td>\n",
       "      <td>False</td>\n",
       "    </tr>\n",
       "    <tr>\n",
       "      <th>2</th>\n",
       "      <td>1</td>\n",
       "      <td>800</td>\n",
       "      <td>4.00</td>\n",
       "      <td>1</td>\n",
       "      <td>False</td>\n",
       "      <td>False</td>\n",
       "      <td>False</td>\n",
       "    </tr>\n",
       "    <tr>\n",
       "      <th>3</th>\n",
       "      <td>1</td>\n",
       "      <td>640</td>\n",
       "      <td>3.19</td>\n",
       "      <td>4</td>\n",
       "      <td>False</td>\n",
       "      <td>False</td>\n",
       "      <td>True</td>\n",
       "    </tr>\n",
       "    <tr>\n",
       "      <th>4</th>\n",
       "      <td>0</td>\n",
       "      <td>520</td>\n",
       "      <td>2.93</td>\n",
       "      <td>4</td>\n",
       "      <td>False</td>\n",
       "      <td>False</td>\n",
       "      <td>True</td>\n",
       "    </tr>\n",
       "  </tbody>\n",
       "</table>\n",
       "</div>"
      ],
      "text/plain": [
       "   admit  gre   gpa  prestige  prestige_2  prestige_3  prestige_4\n",
       "0      0  380  3.61         3       False        True       False\n",
       "1      1  660  3.67         3       False        True       False\n",
       "2      1  800  4.00         1       False       False       False\n",
       "3      1  640  3.19         4       False       False        True\n",
       "4      0  520  2.93         4       False       False        True"
      ]
     },
     "execution_count": 41,
     "metadata": {},
     "output_type": "execute_result"
    }
   ],
   "source": [
    "# Unimos los dataframes\n",
    "df = pd.concat([df, dummies_prestige], axis=1)\n",
    "df.head()"
   ]
  },
  {
   "cell_type": "markdown",
   "metadata": {},
   "source": [
    "Ya podemos armar la matriz de features y el vector objetivo"
   ]
  },
  {
   "cell_type": "code",
   "execution_count": 42,
   "metadata": {},
   "outputs": [],
   "source": [
    "X = df[['gre','gpa','prestige_2','prestige_3','prestige_4']]\n",
    "y = df[\"admit\"]"
   ]
  },
  {
   "cell_type": "markdown",
   "metadata": {},
   "source": [
    "Y separar los datos en train y test"
   ]
  },
  {
   "cell_type": "code",
   "execution_count": 43,
   "metadata": {},
   "outputs": [],
   "source": [
    "from sklearn.model_selection import train_test_split"
   ]
  },
  {
   "cell_type": "code",
   "execution_count": 44,
   "metadata": {},
   "outputs": [],
   "source": [
    "X_train, X_test, y_train, y_test = train_test_split(X,y, stratify=y, random_state=12)"
   ]
  },
  {
   "cell_type": "markdown",
   "metadata": {},
   "source": [
    "<a id=\"caso_entrenamiento\"></a>\n",
    "### Ajuste del modelo\n",
    "Recordemos que la implementación de la regresión logística de Scikit-Learn aplica regularización por defecto con el hiperparámetro C, por lo que será importante estandarizar los datos antes de fitear el modelo."
   ]
  },
  {
   "cell_type": "code",
   "execution_count": 45,
   "metadata": {
    "scrolled": true
   },
   "outputs": [],
   "source": [
    "# Utilizamos sklearn para estandarizar la matriz de Features\n",
    "from sklearn.preprocessing import StandardScaler\n",
    "scaler = StandardScaler()\n",
    "X_train_scaled = scaler.fit_transform(X_train)"
   ]
  },
  {
   "cell_type": "code",
   "execution_count": 46,
   "metadata": {},
   "outputs": [
    {
     "name": "stdout",
     "output_type": "stream",
     "text": [
      "[[ 0.19831922  0.22734852 -0.27467064 -0.48400602 -0.50951716]]\n",
      "[-0.8259228]\n"
     ]
    }
   ],
   "source": [
    "# Ajustamos el modelo\n",
    "logistic_regression.fit(X_train_scaled, y_train)\n",
    "# Y visualizamos los coeficientes\n",
    "print(logistic_regression.coef_)\n",
    "print(logistic_regression.intercept_)"
   ]
  },
  {
   "cell_type": "code",
   "execution_count": 47,
   "metadata": {},
   "outputs": [],
   "source": [
    "# Hacemos predicciones con el modelo entrenado\n",
    "y_train_pred = logistic_regression.predict(X_train_scaled)\n",
    "y_test_pred = logistic_regression.predict(scaler.transform(X_test)) # Notar que debemos escalar los datos de testeo antes de realizar predicciones"
   ]
  },
  {
   "cell_type": "code",
   "execution_count": 48,
   "metadata": {},
   "outputs": [
    {
     "data": {
      "image/png": "[encoded data removed]",
      "text/plain": [
       "<Figure size 432x288 with 2 Axes>"
      ]
     },
     "metadata": {
      "needs_background": "light"
     },
     "output_type": "display_data"
    }
   ],
   "source": [
    "# Elaboramos la matriz de confusión\n",
    "from sklearn.metrics import confusion_matrix\n",
    "confusion_matrix(y_test, y_test_pred)\n",
    "sns.heatmap(confusion_matrix(y_test, y_test_pred), annot=True)\n",
    "plt.ylabel('Verdaderos')\n",
    "plt.xlabel('Predichos');"
   ]
  },
  {
   "cell_type": "code",
   "execution_count": 49,
   "metadata": {},
   "outputs": [
    {
     "data": {
      "text/plain": [
       "0.72"
      ]
     },
     "execution_count": 49,
     "metadata": {},
     "output_type": "execute_result"
    }
   ],
   "source": [
    "# Calculemos el accuracy\n",
    "from sklearn.metrics import accuracy_score\n",
    "accuracy_score(y_test, y_test_pred)"
   ]
  },
  {
   "cell_type": "markdown",
   "metadata": {},
   "source": [
    "<a id=\"caso_stats\"></a>\n",
    "### Uso de `statsmodels`\n",
    "Recordemos que Scikit-Learn es sólo una de las tantas bibliotecas que ofrecen implementaciones de modelos de aprendizaje automático. `statsmodels` es otra de ellas que ofrece un enfoque más estadístico. En esta sección utilizaremos las implementaciones de `statsmodels` para la regresión logística y repetiremos el análisis."
   ]
  },
  {
   "cell_type": "code",
   "execution_count": 51,
   "metadata": {},
   "outputs": [
    {
     "name": "stdout",
     "output_type": "stream",
     "text": [
      "Collecting statsmodels\n",
      "  Downloading statsmodels-0.14.1-cp38-cp38-manylinux_2_17_x86_64.manylinux2014_x86_64.whl (10.9 MB)\n",
      "\u001b[K     |████████████████████████████████| 10.9 MB 4.1 MB/s eta 0:00:01\n",
      "\u001b[?25hRequirement already satisfied: numpy<2,>=1.18 in /home/linar/.local/lib/python3.8/site-packages (from statsmodels) (1.24.4)\n",
      "Requirement already satisfied: pandas!=2.1.0,>=1.0 in /home/linar/.local/lib/python3.8/site-packages (from statsmodels) (2.0.3)\n",
      "Requirement already satisfied: packaging>=21.3 in /home/linar/.local/lib/python3.8/site-packages (from statsmodels) (24.1)\n",
      "Requirement already satisfied: scipy!=1.9.2,>=1.4 in /home/linar/.local/lib/python3.8/site-packages (from statsmodels) (1.10.1)\n",
      "Collecting patsy>=0.5.4\n",
      "  Downloading patsy-0.5.6-py2.py3-none-any.whl (233 kB)\n",
      "\u001b[K     |████████████████████████████████| 233 kB 5.7 MB/s eta 0:00:01\n",
      "\u001b[?25hRequirement already satisfied: pytz>=2020.1 in /home/linar/.local/lib/python3.8/site-packages (from pandas!=2.1.0,>=1.0->statsmodels) (2023.3.post1)\n",
      "Requirement already satisfied: python-dateutil>=2.8.2 in /home/linar/.local/lib/python3.8/site-packages (from pandas!=2.1.0,>=1.0->statsmodels) (2.8.2)\n",
      "Requirement already satisfied: tzdata>=2022.1 in /home/linar/.local/lib/python3.8/site-packages (from pandas!=2.1.0,>=1.0->statsmodels) (2023.3)\n",
      "Requirement already satisfied: six in /usr/lib/python3/dist-packages (from patsy>=0.5.4->statsmodels) (1.14.0)\n",
      "Installing collected packages: patsy, statsmodels\n",
      "Successfully installed patsy-0.5.6 statsmodels-0.14.1\n",
      "Note: you may need to restart the kernel to use updated packages.\n"
     ]
    }
   ],
   "source": [
    "pip install statsmodels"
   ]
  },
  {
   "cell_type": "code",
   "execution_count": 52,
   "metadata": {},
   "outputs": [],
   "source": [
    "import statsmodels.api as sm"
   ]
  },
  {
   "cell_type": "markdown",
   "metadata": {},
   "source": [
    "`statsmodels` pide que explicitemos si el modelo debe estimar un término independiente $\\beta_0$ o no."
   ]
  },
  {
   "cell_type": "code",
   "execution_count": 53,
   "metadata": {},
   "outputs": [],
   "source": [
    "X_train_stats = sm.add_constant(X_train_scaled)"
   ]
  },
  {
   "cell_type": "code",
   "execution_count": 54,
   "metadata": {},
   "outputs": [
    {
     "name": "stdout",
     "output_type": "stream",
     "text": [
      "Optimization terminated successfully.\n",
      "         Current function value: 0.588205\n",
      "         Iterations 5\n",
      "                         Results: Logit\n",
      "=================================================================\n",
      "Model:              Logit            Method:           MLE       \n",
      "Dependent Variable: admit            Pseudo R-squared: 0.058     \n",
      "Date:               2024-08-29 16:51 AIC:              364.9233  \n",
      "No. Observations:   300              BIC:              387.1460  \n",
      "Df Model:           5                Log-Likelihood:   -176.46   \n",
      "Df Residuals:       294              LL-Null:          -187.30   \n",
      "Converged:          1.0000           LLR p-value:      0.00060342\n",
      "No. Iterations:     5.0000           Scale:            1.0000    \n",
      "-------------------------------------------------------------------\n",
      "           Coef.    Std.Err.      z      P>|z|     [0.025    0.975]\n",
      "-------------------------------------------------------------------\n",
      "const     -0.8291     0.1315   -6.3046   0.0000   -1.0869   -0.5714\n",
      "x1         0.2004     0.1405    1.4270   0.1536   -0.0749    0.4758\n",
      "x2         0.2300     0.1401    1.6424   0.1005   -0.0445    0.5045\n",
      "x3        -0.3004     0.1738   -1.7289   0.0838   -0.6409    0.0401\n",
      "x4        -0.5123     0.1767   -2.8999   0.0037   -0.8585   -0.1660\n",
      "x5        -0.5368     0.1763   -3.0448   0.0023   -0.8824   -0.1913\n",
      "=================================================================\n",
      "\n"
     ]
    }
   ],
   "source": [
    "# Instanciamos la clase\n",
    "logit = sm.Logit(y_train, X_train_stats)\n",
    "# Fiteamos el modelo\n",
    "result = logit.fit()\n",
    "# Imprimimos el resumen\n",
    "print(result.summary2())"
   ]
  },
  {
   "cell_type": "markdown",
   "metadata": {},
   "source": [
    "Mirando el summary obtenido, ¿qué podemos decir sobre los coeficientes $\\beta_1$, $\\beta_2$ y $\\beta_3$?"
   ]
  },
  {
   "cell_type": "code",
   "execution_count": 55,
   "metadata": {},
   "outputs": [
    {
     "data": {
      "image/png": "[encoded data removed]",
      "text/plain": [
       "<Figure size 432x288 with 2 Axes>"
      ]
     },
     "metadata": {
      "needs_background": "light"
     },
     "output_type": "display_data"
    }
   ],
   "source": [
    "#Hagamos predicciones\n",
    "X_test_stats = sm.add_constant(scaler.transform(X_test))\n",
    "# Obtenemos las probabilidades y las comparamos con 0.5 \n",
    "y_pred_stats = result.predict(X_test_stats) > 0.5\n",
    "# Generamos la matriz de confusión\n",
    "sns.heatmap(confusion_matrix(y_test, y_pred_stats), annot=True)\n",
    "plt.ylabel('Verdaderos')\n",
    "plt.xlabel('Predichos');"
   ]
  },
  {
   "cell_type": "code",
   "execution_count": 56,
   "metadata": {
    "scrolled": true
   },
   "outputs": [
    {
     "data": {
      "text/plain": [
       "0.72"
      ]
     },
     "execution_count": 56,
     "metadata": {},
     "output_type": "execute_result"
    }
   ],
   "source": [
    "# Calculamos el accuracy\n",
    "accuracy_score(y_test, y_pred_stats)"
   ]
  },
  {
   "cell_type": "markdown",
   "metadata": {},
   "source": [
    "<a id=\"docs\"></a>\n",
    "### Documentación\n",
    "- [Regresión logística con Scikit-Learn](https://scikit-learn.org/stable/modules/generated/sklearn.linear_model.LogisticRegression.html)\n",
    "- [Regresión logística con Statsmodels](https://www.statsmodels.org/stable/generated/statsmodels.discrete.discrete_model.Logit.html#statsmodels.discrete.discrete_model.Logit)"
   ]
  },
  {
   "cell_type": "code",
   "execution_count": 57,
   "metadata": {},
   "outputs": [
    {
     "data": {
      "text/plain": [
       "array([0, 1])"
      ]
     },
     "execution_count": 57,
     "metadata": {},
     "output_type": "execute_result"
    }
   ],
   "source": [
    "logistic_regression.classes_"
   ]
  }
 ],
 "metadata": {
  "kernelspec": {
   "display_name": "Python 3",
   "language": "python",
   "name": "python3"
  },
  "language_info": {
   "codemirror_mode": {
    "name": "ipython",
    "version": 3
   },
   "file_extension": ".py",
   "mimetype": "text/x-python",
   "name": "python",
   "nbconvert_exporter": "python",
   "pygments_lexer": "ipython3",
   "version": "3.8.10"
  }
 },
 "nbformat": 4,
 "nbformat_minor": 4
}
