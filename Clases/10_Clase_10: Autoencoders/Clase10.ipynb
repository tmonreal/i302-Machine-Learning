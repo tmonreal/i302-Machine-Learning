{
 "cells": [
  {
   "cell_type": "markdown",
   "id": "e77dda79",
   "metadata": {},
   "source": [
    "Variational Autoencoder (VAE) es un modelo generativo.\n",
    "- Esto significa que estamos intentando modelar como **generamos** los datos (es decir, aprender la distribución de los mismos), no solo como mapeamos $x \\rightarrow y$, como haciamos en aprendizaje supervisado.\n",
    "- Entonces, nos preguntamos: _¿Como pueden haberse generado estos datos $x$ en la vida real?_\n",
    "- Respuesta: De una variable latente $z$ que captura la estructura no observada, y de un proceso condicional $x∼p_θ(x∣z)$. "
   ]
  },
  {
   "cell_type": "markdown",
   "id": "ab3f9fd3",
   "metadata": {},
   "source": [
    "**Modelo de Variable Latente**\n",
    "\n",
    "Forma probabilistica estándar de cualquier modelo probabilistico de variable latente:\n",
    "\n",
    "$$ p_θ(z,x) = p_θ(z)p_θ(x|z)$$\n",
    "\n",
    "Donde:\n",
    "- $z$: variable latente (factores no observados).\n",
    "    - Ejemplo: para una oración podría ser: tematica (deportes, politica, ...), sentimiento (positivo, neutral, negativo), estilo (formal, casual), etc\n",
    "\n",
    "- $p_θ(z)$: prior sobre las variables latentes (en general, distribución normal estándar)\n",
    " \n",
    "- $p_θ(x|z)$: decoder que mapea del espacio latente al espacio de datos\n",
    "\n",
    "- $p_θ(z,x)$: probabilidad conjunta sobre las variables latentes y observadas.\n",
    "\n",
    "¿Por qué empezamos modelando desde acá?\n",
    "- VAE quiere modelar $p(x)$ (la distribución de los datos) usando variables latentes. Esto quiere decir:\n",
    "\n",
    "$$ p_θ(x) = \\int p_θ(z,x)dz = \\int p_θ(z)p_θ(x|z)dz $$\n",
    "\n",
    "- Es decir:\n",
    "1. Primero generás un latente $z$ desde una distribución conocida, como $N(0,I)$\n",
    "2. Luego generás un dato $x$ a partir de ese $z$.\n",
    "\n",
    "👉 Pero en la realidad solo observás $x$, no $z$. Entonces, si querés saber qué tan probable es un dato $x$ según tu modelo, tenés que sumar (integrar) sobre todos los posibles valores que pudo haber tenido $z$.\n",
    "\n",
    "- Pero... esa integral es intractable, por eso usamos una aproximación: el ELBO.\n"
   ]
  },
  {
   "cell_type": "markdown",
   "id": "bc7e3d3f",
   "metadata": {},
   "source": [
    "Entonces volvamos al inicio:\n",
    "\n",
    "$$ p_θ(z,x) = p_θ(z)p_θ(x|z) $$\n",
    "\n",
    "- Dijimos que $p_θ(z)$ suele ser una Gaussiana.\n",
    "- $p_θ(x|z)$ (_“Dado un valor z en el espacio latente, ¿cómo se ve un dato x?”_) suele ser el producto de distribuciones de la familia exponencial.\n",
    "    - _¿Porque producto de distribuciones?_ Porque normalmente suponemos que las componentes de x son independientes entre sí dado z. Entonces podemos escribir: $p_θ(x|z) = \\prod_{i=1}^D p_θ(x_i|z)$. Simplifica el calculo\n",
    "    - _¿Porque esas distribuciones?_\n",
    "        - Si los datos son binarios (ej: pixel blanco o negro) usamos $x_i ∈ {0,1} ⇒ p_θ(x_i∣z)=Bernoulli(μ_i(z))$. Entonces: $p_θ(x|z) = \\prod_{i=1}^D Bernoulli(x_i; \\mu_i(z))$. Entonces la red nos da los $μ_i(z) ∈(0,1)$, o sea, las probabilidades de que cada píxel sea 1.\n",
    "        \n",
    "        - Si los datos son continuos (como imágenes en escala de grises normalizadas o audio): $x_i ∈ \\R ⇒ p_θ(x_i∣z)=\\mathcal{N}(x_i;μ_i(z), \\sigma²)$. En general se asume varianza fija: $p_θ(x|z) = \\prod_{i=1}^D \\mathcal{N}(x_i;μ_i(z), \\sigma²)$. Entonces la red nos devuelve los $μ_i(z)$ y opcionalmente los $\\sigma_i²$\n",
    "\n",
    "    - _¿Porque tiene sentido hacerlo asi?_\n",
    "        - Desde el punto de vista probabilístico, necesitamos una función de densidad para evaluar la probabilidad del dato x dado un z.\n",
    "        - Desde el punto de vista computacional, multiplicar distribuciones independientes simplifica el logaritmo.\n",
    "        - Desde el punto de vista del aprendizaje, nos permite definir la función de pérdida (log-likelihood) y derivarla para actualizar los pesos de la red."
   ]
  },
  {
   "cell_type": "markdown",
   "id": "d87359a4",
   "metadata": {},
   "source": []
  }
 ],
 "metadata": {
  "language_info": {
   "name": "python"
  }
 },
 "nbformat": 4,
 "nbformat_minor": 5
}
