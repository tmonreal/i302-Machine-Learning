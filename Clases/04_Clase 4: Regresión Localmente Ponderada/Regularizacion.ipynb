{
 "cells": [
  {
   "cell_type": "markdown",
   "metadata": {},
   "source": [
    "# 2. Regresión Lineal Regularizada"
   ]
  },
  {
   "cell_type": "markdown",
   "metadata": {},
   "source": [
    "## ¿Por qué regularizar?\n",
    "\n",
    "- La mejor forma de entender la regresión regularizada es viendo cómo y por qué se aplica a los mínimos cuadrados ordinarios (OLS).\n",
    "- En mínimos cuadrados, el objetivo es encontrar el hiperplano (por ejemplo, una línea recta en 2d) que **minimice la suma de los errores al cuadrado** $SSE = \\sum (y_i - \\hat{y_i})^2$\n",
    "- Esto significa identificar el hiperplano que minimiza las líneas grises en el gráfico, que representan la distancia vertical entre los valores observados y los valores predichos."
   ]
  },
  {
   "cell_type": "code",
   "execution_count": null,
   "metadata": {},
   "outputs": [],
   "source": [
    "import matplotlib.pyplot as plt\n",
    "import numpy as np\n",
    "\n",
    "# Generamos datos\n",
    "np.random.seed(42)\n",
    "Gr_Liv_Area = np.random.uniform(900, 3000, 500)\n",
    "Sale_Price = 50000 + 100 * Gr_Liv_Area + np.random.normal(0, 50000, 500)\n",
    "\n",
    "# Ajusto regresipon lineal\n",
    "coeffs = np.polyfit(Gr_Liv_Area, Sale_Price, 1)\n",
    "regression_line = np.poly1d(coeffs)\n",
    "\n",
    "plt.figure(figsize=(10, 5))\n",
    "plt.scatter(Gr_Liv_Area, Sale_Price, color='red', label=\"Datos reales\")\n",
    "plt.plot(sorted(Gr_Liv_Area), regression_line(sorted(Gr_Liv_Area)), color='blue', linewidth=2, label=\"Regresión lineal\")\n",
    "for x, y in zip(Gr_Liv_Area, Sale_Price):\n",
    "    plt.plot([x, x], [y, regression_line(x)], color='gray', linewidth=0.8)\n",
    "\n",
    "plt.xlabel(\"Gr_Liv_Area\")\n",
    "plt.ylabel(\"Sale_Price\")\n",
    "plt.title(\"Regresión Lineal de Precios de Venta\")\n",
    "plt.grid(True, linestyle='--', alpha=0.6)\n",
    "plt.legend()\n",
    "plt.show()"
   ]
  },
  {
   "cell_type": "markdown",
   "metadata": {},
   "source": [
    "- Recordemos entonces que la función objetivo a minimizar es:\n",
    "\n",
    "$$ \\min \\left(  \\sum_{i=1}^{n}(y_{i}-\\hat{y}_{i}(x_i, w))^{2}  \\right)$$"
   ]
  },
  {
   "cell_type": "markdown",
   "metadata": {},
   "source": [
    "- Esta función objetivo funciona bien cuando los datos cumplen con ciertos supuestos clave:  \n",
    "  1. **Relación lineal** entre las variables.  \n",
    "  2. **Más observaciones ($n$) que características ($p$)** → es decir, $n>p$.  \n",
    "  3. **Poca o ninguna multicolinealidad** entre las variables explicativas.\n",
    "\n",
    "- Muchos datasets reales (ej: data mining o estudios genómicos) tienen muchas más features que muestras.\n",
    "- A medida que $p$ crece, es más probable que violemos algunos supuestos $\\rightarrow$ requiere considerar enfoques alternativos.\n",
    "\n",
    "### ¿Qué problemas trae un gran número de features?\n",
    "\n",
    "👎 Menos interpretabilidad: Cuantas más variables, más difícil es entender el modelo.\n",
    "\n",
    "👎 Infinitas soluciones: Cuando $p>n$, hay infinitas soluciones para el problema de OLS.\n",
    "\n",
    "- Para abordar esto, aplicamos el principio de _\"bet on sparsity\"_ (Hastie, Tibshirani y Wainwright, 2015):\n",
    "    - Asumimos que solo un subconjunto pequeño de características tiene el mayor impacto.\n",
    "\n",
    "### Selección de Features\n",
    "\n",
    "####  <font color=purple>1. Hard Thresholding</font>\n",
    "Selecciona o elimina completamente una feature. Métodos clásicos incluyen:\n",
    "\n",
    "1. <font color=purple>Selección hacia adelante (Forward Selection)</font>: \n",
    "Se empieza con un modelo vacío y se van agregando features una por una, eligiendo la que más mejora el ajuste del modelo.\n",
    "\n",
    "2. <font color=purple>Eliminación hacia atrás</font>: \n",
    "Se empieza con todas las features y se van eliminando una por una, descartando las menos relevantes.\n",
    "\n",
    "<div style=\"text-align: center;\">\n",
    "<img src=\"img/forward-stepwise-algorithm.png\" alt=\"Forward Stepwise Algorithm\" width=\"370\">    \n",
    "<img src=\"img/backward-stepwise-algorithm.png\" alt=\"Forward Stepwise Algorithm\" width=\"390\">\n",
    "</div>\n",
    "\n",
    "<font color=red>Desventajas:</font>\n",
    "- Computacionalmente costoso, sobre todo con muchas variables.\n",
    "- No escala bien en conjuntos de datos grandes.\n",
    "- Decisión binaria extrema → una característica está 100% dentro o 100% fuera, sin considerar que puede tener un efecto menor pero relevante.\n",
    "\n",
    "#### <font color=purple>2. Soft Thresholding</font>\n",
    "\n",
    "No elimina variables abruptamente, sino que reduce gradualmente sus coeficientes, permitiendo que algunas características pierdan importancia sin ser descartadas de inmediato. \n",
    "\n",
    "En algunos casos, esto lleva a que el coeficiente se vuelva exactamente cero, eliminando la variable de manera más natural y optimizada.\n",
    "    \n",
    "<font color=purple>Regularización</font>: \n",
    "- Objetivo: Restringir el tamaño total de los coeficientes para reducir su magnitud y fluctuación.\n",
    "- Trade-off: Se reduce la varianza, pero el modelo deja de ser insesgado."
   ]
  },
  {
   "cell_type": "markdown",
   "metadata": {},
   "source": [
    "- La función objetivo de un modelo de regresión regularizada agrega un término de penalización P:\n",
    "$$ \\min \\left( SSE + P  \\right)$$\n",
    "- Este parámetro de penalización restringe el tamaño de los coeficientes:\n",
    "    - Los coeficientes solo pueden aumentar si hay una reducción proporcional en el error SSE."
   ]
  },
  {
   "cell_type": "markdown",
   "metadata": {},
   "source": [
    "- Este concepto se extiende a otros modelos de la familia de Modelos Lineales Generalizados (como Regresión logística o Regresión de Poisson). \n",
    "- Obviamente, cada modelo tiene una función de pérdida diferente, pero el parámetro de penalización funciona igual → restringe los coeficientes a menos que haya una reducción equivalente en la función de pérdida."
   ]
  },
  {
   "cell_type": "markdown",
   "metadata": {},
   "source": [
    "Existen tres métodos de penalización comunes: \n",
    "1. **Ridge**: Penaliza los coeficientes, pero los mantiene pequeños sin hacerlos cero.\n",
    "2. **LASSO**: Puede reducir algunos coeficientes a exactamente cero, eliminando variables irrelevantes.\n",
    "3. **Elastic Net** (ENET): Combinación de Ridge y Lasso, útil cuando hay muchas variables correlacionadas."
   ]
  },
  {
   "cell_type": "markdown",
   "metadata": {},
   "source": [
    "### Regresión Ridge\n",
    "- Controla los coeficientes estimados agregando un término de penalización: $\\lambda $ a la función objetivo:"
   ]
  },
  {
   "cell_type": "markdown",
   "metadata": {},
   "source": [
    "fuente: https://bradleyboehmke.github.io/HOML/regularized-regression.html#ref-hastie2015statistical"
   ]
  },
  {
   "cell_type": "markdown",
   "metadata": {},
   "source": []
  }
 ],
 "metadata": {
  "language_info": {
   "name": "python"
  }
 },
 "nbformat": 4,
 "nbformat_minor": 2
}
