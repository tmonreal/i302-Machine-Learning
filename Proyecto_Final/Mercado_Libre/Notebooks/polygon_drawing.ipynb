{
 "cells": [
  {
   "cell_type": "code",
   "execution_count": 1,
   "metadata": {},
   "outputs": [],
   "source": [
    "import geopandas as gpd\n",
    "\n",
    "# Attempt to read the file using pyogrio as the engine\n",
    "geo_df = gpd.read_file('/home/linar/Desktop/ML/Clases/i302/Proyecto_Final/Mercado_Libre/Data/base_meli_ing_art1.geojson', engine='pyogrio')\n"
   ]
  },
  {
   "cell_type": "code",
   "execution_count": 3,
   "metadata": {},
   "outputs": [
    {
     "name": "stdout",
     "output_type": "stream",
     "text": [
      "  MesListing  ITE_BASE_CURRENT_PRICE  ITE_SITE_CURRENT_PRICE  Dolar  STotalM2  \\\n",
      "0 2022-08-01               1226.5517            170000.00000    0.0      51.0   \n",
      "1 2022-09-01               1155.9116            170000.00000    0.0      51.0   \n",
      "2 2022-08-01                800.0000            110879.95720    1.0      75.0   \n",
      "3 2022-08-01               1200.0000            166319.93580    1.0     240.0   \n",
      "4 2022-09-01               1200.0000            171456.00439    1.0     240.0   \n",
      "\n",
      "   SConstrM2  Dormitorios  Banos  Ambientes  Antiguedad  ...  Lobby  \\\n",
      "0       45.0          1.0    1.0        2.0        16.0  ...    0.0   \n",
      "1       45.0          1.0    1.0        2.0        16.0  ...    0.0   \n",
      "2       70.0          2.0    1.0        3.0         0.0  ...    0.0   \n",
      "3      240.0          3.0    3.0        5.0        42.0  ...    0.0   \n",
      "4      240.0          3.0    3.0        5.0        42.0  ...    0.0   \n",
      "\n",
      "   LocalesComerciales  SistContraIncendios  CanchaTennis  AreaCine  n  CABA  \\\n",
      "0                 0.0                  0.0           0.0       0.0  1   1.0   \n",
      "1                 0.0                  0.0           0.0       0.0  1   1.0   \n",
      "2                 0.0                  0.0           0.0       0.0  1   1.0   \n",
      "3                 0.0                  0.0           0.0       0.0  1   1.0   \n",
      "4                 0.0                  0.0           0.0       0.0  1   1.0   \n",
      "\n",
      "   TIPO_PROPIEDAD  OPERACION  \\\n",
      "0    Departamento   Alquiler   \n",
      "1    Departamento   Alquiler   \n",
      "2    Departamento   Alquiler   \n",
      "3    Departamento   Alquiler   \n",
      "4    Departamento   Alquiler   \n",
      "\n",
      "                                            geometry  \n",
      "0  POLYGON ((1045557.620 5874737.669, 1045757.620...  \n",
      "1  POLYGON ((1045557.620 5874737.669, 1045757.620...  \n",
      "2  POLYGON ((896957.620 6134937.669, 897157.620 6...  \n",
      "3  POLYGON ((931557.620 6137937.669, 931757.620 6...  \n",
      "4  POLYGON ((931557.620 6137937.669, 931757.620 6...  \n",
      "\n",
      "[5 rows x 42 columns]\n"
     ]
    }
   ],
   "source": [
    "import geopandas as gpd\n",
    "\n",
    "# Cargar el archivo GeoJSON\n",
    "geo_df = gpd.read_file('/home/linar/Desktop/ML/Clases/i302/Proyecto_Final/Mercado_Libre/Data/base_meli_ing_art1.geojson', engine='pyogrio')\n",
    "\n",
    "# Mostrar las primeras filas\n",
    "print(geo_df.head())"
   ]
  },
  {
   "cell_type": "code",
   "execution_count": 4,
   "metadata": {},
   "outputs": [],
   "source": [
    "import geopandas as gpd\n",
    "import folium\n",
    "\n",
    "# Cargar los datos geoespaciales desde un archivo GeoJSON\n",
    "gdf = gpd.read_file('/home/linar/Desktop/ML/Clases/i302/Proyecto_Final/Mercado_Libre/Data/base_meli_ing_art1.geojson', engine='pyogrio')\n",
    "\n",
    "# Transformar el CRS (Sistema de Referencia de Coordenadas) si es necesario\n",
    "# Para AMBA, podrías usar el EPSG:4326 que es el sistema de coordenadas geográficas (WGS84)\n",
    "gdf = gdf.to_crs(epsg=4326)\n",
    "\n",
    "# Crear un mapa centrado en AMBA\n",
    "m = folium.Map(location=[-34.6083, -58.3712], zoom_start=12)  # Coordenadas de Buenos Aires\n",
    "\n",
    "# Dibujar los polígonos sobre el mapa\n",
    "for _, row in gdf.iterrows():\n",
    "    sim_geo = gpd.GeoSeries(row['geometry']).simplify(tolerance=0.001)  # Para simplificar si son polígonos complejos\n",
    "    geo_json = sim_geo.to_json()\n",
    "    folium.GeoJson(data=geo_json, style_function=lambda x: {'fillColor': 'blue', 'color': 'blue', 'weight': 2}).add_to(m)\n",
    "\n",
    "# Mostrar el mapa\n",
    "m.save('mapa_amba.html')"
   ]
  }
 ],
 "metadata": {
  "kernelspec": {
   "display_name": "i302",
   "language": "python",
   "name": "python3"
  },
  "language_info": {
   "codemirror_mode": {
    "name": "ipython",
    "version": 3
   },
   "file_extension": ".py",
   "mimetype": "text/x-python",
   "name": "python",
   "nbconvert_exporter": "python",
   "pygments_lexer": "ipython3",
   "version": "3.8.10"
  }
 },
 "nbformat": 4,
 "nbformat_minor": 2
}
