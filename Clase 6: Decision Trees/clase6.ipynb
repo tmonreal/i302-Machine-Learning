{
 "cells": [
  {
   "cell_type": "markdown",
   "metadata": {},
   "source": [
    "# Clase Tutorial 6: Decision Trees 🌳"
   ]
  },
  {
   "cell_type": "markdown",
   "metadata": {},
   "source": [
    "## 1. Introducción"
   ]
  },
  {
   "cell_type": "markdown",
   "metadata": {},
   "source": [
    "Los algoritmos de Árboles de Decisión pertenecen al tipo de algoritmos de aprendizaje supervisado, y si bien pueden ser utilizados para regresiones, son principalmente utilizados en problemas de clasificación.  \n",
    "  \n",
    "Existen varios tipos de árboles de decisión:\n",
    "\n",
    "- Árboles de decisión simples:  \n",
    "    - **Árboles de clasificación:** realizan predicciones sobre una variable **categórica**. \n",
    "    - **Árboles de regresión:** realizan predicciones sobre una variable **contínua**.\n",
    "    \n",
    "    \n",
    "- Árboles de decisión basados en técnicas de Ensamble:\n",
    "    - **Bagging**. \n",
    "    - **Random Forest**.  \n",
    "    - **Boosting**.  \n",
    "        - **Gradient Boosting**.\n",
    "        - **ADA Boost**.  \n",
    "        - **XG Boost**.  "
   ]
  },
  {
   "cell_type": "markdown",
   "metadata": {},
   "source": [
    "### Árboles de Decisión Simples"
   ]
  },
  {
   "cell_type": "markdown",
   "metadata": {},
   "source": [
    "A este tipo de árboles simples se lo suele llamar **CART** (**C**lassification and **R**egression **T**rees) o bien **ACR** (**Á**rboles de **C**lasificación y **R**egresión).\n",
    "  \n",
    "A continuación veremos un ejemplo simple de la utilización de árboles de decisión para definir a partir del peso y la altura si una persona adulta es de sexo masculino o femenino.\n",
    "\n",
    "<img style=\"float: center;\" src=\"img/Ejemplo_CART.png\">\n",
    "\n",
    "Como podemos observar, un árbol de decisión no es más que un conjunto de reglas:\n",
    "* `If Altura > 180 cm Then Hombre`\n",
    "* `If Altura <= 180 cm AND Peso > 80 kg Then Hombre`\n",
    "* `If Altura <= 180 cm AND Peso <= 80 kg Then Mujer`\n",
    "\n",
    "Por supuesto existen mujeres que miden más de 1,80m o mujeres que pesen más de 80 kg, pero es importante recordar que los modelos predictivos no buscan ser infalibles sino que buscan poder predecir o clasificar con un determinado grado de precisión que sea aceptable para el uso que se le quiere dar.\n",
    "\n",
    "La tarea de los algoritmos de CART es justamente definir a partir de los datos de entrada cuál atributo es conveniente utilizar en cada nodo del árbol, y cuál es el punto de corte óptimo en dicho nodo para realizar las particiones de forma tal de lograr obtener el árbol de clasificación con la mayor precisión posible.\n"
   ]
  },
  {
   "cell_type": "markdown",
   "metadata": {},
   "source": [
    "### Ventajas y Desventajas de los Árboles de Decisión"
   ]
  },
  {
   "cell_type": "markdown",
   "metadata": {},
   "source": [
    "#### 👍 Ventajas\n",
    "- Son fáciles de interpretar, y pueden ser representados gráficamente.\n",
    "- Pueden capturar patrones no lineales.\n",
    "- Pueden manejar datos numéricos y categóricos. Pueden manejar variables categóricas sin necesidad de implementar one hot encoding.\n",
    "- Requieren menos preparación de los datos. No es necesario normalizar el dataset (entrenamiento no está basado en GD y hay pocos parámetros a optimizar)."
   ]
  },
  {
   "cell_type": "markdown",
   "metadata": {},
   "source": [
    "#### 👎 Desventajas\n",
    "- No son robustos ya que son muy sensibles a los cambios en el dataset. Un pequeño cambio del dataset, puede generar un árbol completamente distinto.\n",
    "- Tienen tendencia a sobreajuste (overfitting).\n",
    "- La precisión suele disminuir para variables continuas.\n",
    "- Existen otros modelos que presentan mayor precisión.\n",
    "- Los árboles de decisión suelen verse muy afectados por datasets que no estén balanceados.\n",
    "- El óptimo global no está garantizado: dado que en cada paso se busca maximizar la ganancia de información, esta metodología no necesariamente puede garantizar el resultado óptimo global."
   ]
  },
  {
   "cell_type": "markdown",
   "metadata": {},
   "source": [
    "## 2. Marco Teórico"
   ]
  },
  {
   "cell_type": "markdown",
   "metadata": {},
   "source": [
    "Un árbol de decisión tiene la siguiente apariencia:\n",
    "\n",
    "<img style=\"float: center;\" src=\"img/Arboles-de-decision-001.png\">  \n",
    "\n",
    "  \n",
    "Un árbol de decisión es una estructura similar a un diagrama de flujo, es por eso que los árboles de decisión son fáciles de entender e interpretar. Los árboles están compuestos por las siguientes partes:\n",
    "- Cada **Nodo de decisión** representa una característica (o atributo), \n",
    "- Cada **Rama** representa una regla de decisión. \n",
    "- Cada **nodo Hoja** representa el resultado.\n",
    "- Al nodo superior en un árbol de decisión se lo conoce como el **nodo raíz**.\n",
    "- Al nodo del cual se desprenden otros nodos se lo llama **nodo padre** y a los nodos que se desprenden del nodo padre se los llama **nodos hijo**\n",
    "- Cada rama que no sea un nodo hoja se la puede considerar como un **sub-árbol**."
   ]
  },
  {
   "cell_type": "markdown",
   "metadata": {},
   "source": [
    "### 🤔 ¿Cómo funcionan los algoritmos de árboles de decisión?\n",
    "La idea básica detrás de cualquier algoritmo de árbol de decisión es ir particionando la población inicial en poblaciones más chicas que no se solapen y que sean más homogéneas que la población inicial a fin de que aumenten las posibilidades de predecir la variable objetivo.\n",
    "\n",
    "Los algoritmos CART realizan ésto, mediante los siguientes pasos: \n",
    "\n",
    "1. **Seleccionar la mejor Partición**: de todos los features, seleccionar cuál es aquél que divide la población en segmentos más pequeños y homogéneos (o puros) posibles. \n",
    "2. **Particionar**: Crear un nodo de decisión con ese atributo y dividir la población generando nuevos nodos hijos. \n",
    "3. Repetir el proceso para cada nodo hijo de manera recursiva hasta que ocurra cualquiera de las siguientes condiciones:\n",
    "    * Todos los nodos hijos sean puros\n",
    "    * No queden más atributos para particionar (si el nodo hoja no es puro, para predecir se utiliza la moda del nodo en el caso de variables categóricas y la media en el caso de variables numéricas)  \n",
    "    * Se aplique un método de corte preestablecido (por ejemplo indicando la profundidad máxima del árbol)\n",
    "\n",
    "Utilizando el ejemplo anterior del árbol de decisión que clasifica si una persona adulta es mujer u hombre, vamos a ver con un dataset ficticio cómo son los pasos del algoritmo CART para seleccionar con qué features comenzar a particionar la población en cada nodo de manera que estas particiones sean lo más puras posible. Veremos también que el algoritmo se dice que es voraz o avaro (\"greedy\") en el sentido que en cada paso que da busca obtener la mejor partición posible en ese nodo, sin ser estas particiones necesariamente la mejores cuando uno mira el árbol en todo su conjunto."
   ]
  },
  {
   "cell_type": "code",
   "execution_count": 2,
   "metadata": {},
   "outputs": [],
   "source": [
    "%load_ext autoreload\n",
    "%autoreload 2\n",
    "import pandas as pd\n",
    "import numpy as np\n",
    "from IPython.display import Image"
   ]
  },
  {
   "cell_type": "code",
   "execution_count": 3,
   "metadata": {},
   "outputs": [
    {
     "data": {
      "text/html": [
       "<div>\n",
       "<style scoped>\n",
       "    .dataframe tbody tr th:only-of-type {\n",
       "        vertical-align: middle;\n",
       "    }\n",
       "\n",
       "    .dataframe tbody tr th {\n",
       "        vertical-align: top;\n",
       "    }\n",
       "\n",
       "    .dataframe thead th {\n",
       "        text-align: right;\n",
       "    }\n",
       "</style>\n",
       "<table border=\"1\" class=\"dataframe\">\n",
       "  <thead>\n",
       "    <tr style=\"text-align: right;\">\n",
       "      <th></th>\n",
       "      <th>Pelo corto</th>\n",
       "      <th>Peso</th>\n",
       "      <th>Estatura</th>\n",
       "      <th>Sexo</th>\n",
       "    </tr>\n",
       "  </thead>\n",
       "  <tbody>\n",
       "    <tr>\n",
       "      <th>0</th>\n",
       "      <td>False</td>\n",
       "      <td>78</td>\n",
       "      <td>181</td>\n",
       "      <td>M</td>\n",
       "    </tr>\n",
       "    <tr>\n",
       "      <th>1</th>\n",
       "      <td>True</td>\n",
       "      <td>82</td>\n",
       "      <td>182</td>\n",
       "      <td>M</td>\n",
       "    </tr>\n",
       "    <tr>\n",
       "      <th>2</th>\n",
       "      <td>False</td>\n",
       "      <td>75</td>\n",
       "      <td>162</td>\n",
       "      <td>M</td>\n",
       "    </tr>\n",
       "    <tr>\n",
       "      <th>3</th>\n",
       "      <td>False</td>\n",
       "      <td>65</td>\n",
       "      <td>167</td>\n",
       "      <td>M</td>\n",
       "    </tr>\n",
       "    <tr>\n",
       "      <th>4</th>\n",
       "      <td>False</td>\n",
       "      <td>85</td>\n",
       "      <td>182</td>\n",
       "      <td>H</td>\n",
       "    </tr>\n",
       "  </tbody>\n",
       "</table>\n",
       "</div>"
      ],
      "text/plain": [
       "   Pelo corto  Peso  Estatura Sexo\n",
       "0       False    78       181    M\n",
       "1        True    82       182    M\n",
       "2       False    75       162    M\n",
       "3       False    65       167    M\n",
       "4       False    85       182    H"
      ]
     },
     "metadata": {},
     "output_type": "display_data"
    },
    {
     "name": "stdout",
     "output_type": "stream",
     "text": [
      "\n"
     ]
    },
    {
     "data": {
      "text/html": [
       "<div>\n",
       "<style scoped>\n",
       "    .dataframe tbody tr th:only-of-type {\n",
       "        vertical-align: middle;\n",
       "    }\n",
       "\n",
       "    .dataframe tbody tr th {\n",
       "        vertical-align: top;\n",
       "    }\n",
       "\n",
       "    .dataframe thead th {\n",
       "        text-align: right;\n",
       "    }\n",
       "</style>\n",
       "<table border=\"1\" class=\"dataframe\">\n",
       "  <thead>\n",
       "    <tr style=\"text-align: right;\">\n",
       "      <th></th>\n",
       "      <th>dtypes</th>\n",
       "    </tr>\n",
       "  </thead>\n",
       "  <tbody>\n",
       "    <tr>\n",
       "      <th>Pelo corto</th>\n",
       "      <td>bool</td>\n",
       "    </tr>\n",
       "    <tr>\n",
       "      <th>Peso</th>\n",
       "      <td>int64</td>\n",
       "    </tr>\n",
       "    <tr>\n",
       "      <th>Estatura</th>\n",
       "      <td>int64</td>\n",
       "    </tr>\n",
       "    <tr>\n",
       "      <th>Sexo</th>\n",
       "      <td>object</td>\n",
       "    </tr>\n",
       "  </tbody>\n",
       "</table>\n",
       "</div>"
      ],
      "text/plain": [
       "            dtypes\n",
       "Pelo corto    bool\n",
       "Peso         int64\n",
       "Estatura     int64\n",
       "Sexo        object"
      ]
     },
     "execution_count": 3,
     "metadata": {},
     "output_type": "execute_result"
    }
   ],
   "source": [
    "df=pd.read_csv(\"Data/ejemploCART.csv\")\n",
    "display(df.head())\n",
    "print()\n",
    "pd.DataFrame(df.dtypes,columns=['dtypes'])"
   ]
  },
  {
   "cell_type": "code",
   "execution_count": 4,
   "metadata": {},
   "outputs": [
    {
     "data": {
      "text/html": [
       "<div>\n",
       "<style scoped>\n",
       "    .dataframe tbody tr th:only-of-type {\n",
       "        vertical-align: middle;\n",
       "    }\n",
       "\n",
       "    .dataframe tbody tr th {\n",
       "        vertical-align: top;\n",
       "    }\n",
       "\n",
       "    .dataframe thead th {\n",
       "        text-align: right;\n",
       "    }\n",
       "</style>\n",
       "<table border=\"1\" class=\"dataframe\">\n",
       "  <thead>\n",
       "    <tr style=\"text-align: right;\">\n",
       "      <th></th>\n",
       "      <th>Pelo corto</th>\n",
       "      <th>Peso</th>\n",
       "      <th>Estatura</th>\n",
       "      <th>Sexo</th>\n",
       "    </tr>\n",
       "  </thead>\n",
       "  <tbody>\n",
       "    <tr>\n",
       "      <th>0</th>\n",
       "      <td>False</td>\n",
       "      <td>False</td>\n",
       "      <td>True</td>\n",
       "      <td>M</td>\n",
       "    </tr>\n",
       "    <tr>\n",
       "      <th>1</th>\n",
       "      <td>True</td>\n",
       "      <td>True</td>\n",
       "      <td>True</td>\n",
       "      <td>M</td>\n",
       "    </tr>\n",
       "    <tr>\n",
       "      <th>2</th>\n",
       "      <td>False</td>\n",
       "      <td>False</td>\n",
       "      <td>False</td>\n",
       "      <td>M</td>\n",
       "    </tr>\n",
       "  </tbody>\n",
       "</table>\n",
       "</div>"
      ],
      "text/plain": [
       "   Pelo corto   Peso  Estatura Sexo\n",
       "0       False  False      True    M\n",
       "1        True   True      True    M\n",
       "2       False  False     False    M"
      ]
     },
     "metadata": {},
     "output_type": "display_data"
    },
    {
     "name": "stdout",
     "output_type": "stream",
     "text": [
      "\n"
     ]
    },
    {
     "data": {
      "text/html": [
       "<div>\n",
       "<style scoped>\n",
       "    .dataframe tbody tr th:only-of-type {\n",
       "        vertical-align: middle;\n",
       "    }\n",
       "\n",
       "    .dataframe tbody tr th {\n",
       "        vertical-align: top;\n",
       "    }\n",
       "\n",
       "    .dataframe thead th {\n",
       "        text-align: right;\n",
       "    }\n",
       "</style>\n",
       "<table border=\"1\" class=\"dataframe\">\n",
       "  <thead>\n",
       "    <tr style=\"text-align: right;\">\n",
       "      <th></th>\n",
       "      <th>dtypes</th>\n",
       "    </tr>\n",
       "  </thead>\n",
       "  <tbody>\n",
       "    <tr>\n",
       "      <th>Pelo corto</th>\n",
       "      <td>bool</td>\n",
       "    </tr>\n",
       "    <tr>\n",
       "      <th>Peso</th>\n",
       "      <td>bool</td>\n",
       "    </tr>\n",
       "    <tr>\n",
       "      <th>Estatura</th>\n",
       "      <td>bool</td>\n",
       "    </tr>\n",
       "    <tr>\n",
       "      <th>Sexo</th>\n",
       "      <td>category</td>\n",
       "    </tr>\n",
       "  </tbody>\n",
       "</table>\n",
       "</div>"
      ],
      "text/plain": [
       "              dtypes\n",
       "Pelo corto      bool\n",
       "Peso            bool\n",
       "Estatura        bool\n",
       "Sexo        category"
      ]
     },
     "execution_count": 4,
     "metadata": {},
     "output_type": "execute_result"
    }
   ],
   "source": [
    "# Trasformamos columnas continuas (Peso y Estatura) a variables categoricas.\n",
    "df[\"Peso\"]=df[\"Peso\"].apply(lambda x: x>80)\n",
    "df[\"Estatura\"]=df[\"Estatura\"].apply(lambda x: x>180)\n",
    "df['Sexo']= df.Sexo.astype('category') # Convertimos a categorical\n",
    "display(df.head(3))\n",
    "print()\n",
    "pd.DataFrame(df.dtypes,columns=['dtypes'])"
   ]
  },
  {
   "cell_type": "code",
   "execution_count": 5,
   "metadata": {},
   "outputs": [
    {
     "data": {
      "text/html": [
       "<div>\n",
       "<style scoped>\n",
       "    .dataframe tbody tr th:only-of-type {\n",
       "        vertical-align: middle;\n",
       "    }\n",
       "\n",
       "    .dataframe tbody tr th {\n",
       "        vertical-align: top;\n",
       "    }\n",
       "\n",
       "    .dataframe thead th {\n",
       "        text-align: right;\n",
       "    }\n",
       "</style>\n",
       "<table border=\"1\" class=\"dataframe\">\n",
       "  <thead>\n",
       "    <tr style=\"text-align: right;\">\n",
       "      <th></th>\n",
       "      <th>Pelo corto</th>\n",
       "      <th>Peso</th>\n",
       "      <th>Estatura</th>\n",
       "    </tr>\n",
       "    <tr>\n",
       "      <th>Sexo</th>\n",
       "      <th></th>\n",
       "      <th></th>\n",
       "      <th></th>\n",
       "    </tr>\n",
       "  </thead>\n",
       "  <tbody>\n",
       "    <tr>\n",
       "      <th>H</th>\n",
       "      <td>10</td>\n",
       "      <td>10</td>\n",
       "      <td>10</td>\n",
       "    </tr>\n",
       "    <tr>\n",
       "      <th>M</th>\n",
       "      <td>10</td>\n",
       "      <td>10</td>\n",
       "      <td>10</td>\n",
       "    </tr>\n",
       "  </tbody>\n",
       "</table>\n",
       "</div>"
      ],
      "text/plain": [
       "      Pelo corto  Peso  Estatura\n",
       "Sexo                            \n",
       "H             10    10        10\n",
       "M             10    10        10"
      ]
     },
     "execution_count": 5,
     "metadata": {},
     "output_type": "execute_result"
    }
   ],
   "source": [
    "df.groupby(['Sexo']).count()"
   ]
  },
  {
   "cell_type": "markdown",
   "metadata": {},
   "source": [
    "Vemos entonces que antes de hacer ninguna partición tenemos que la población total es de 20 personas, siendo:\n",
    "* 10 mujeres\n",
    "* 10 hombres  \n",
    "\n",
    "Por lo que si tratamos de predecir el sexo de una persona, tenemos un 50% de probabilidad de éxito.\n",
    "\n",
    "A continuación vamos a ver qué variable independiente (Pelo corto, Peso o Estatura) es la que logra particionar la población de una manera más homogenea, de manera que mejore nuestras probabilidades de predecir el sexo de la persona. "
   ]
  },
  {
   "cell_type": "markdown",
   "metadata": {},
   "source": [
    "**1. Paricionamos la población por el atributo de \"Peso\"**"
   ]
  },
  {
   "cell_type": "code",
   "execution_count": 6,
   "metadata": {},
   "outputs": [
    {
     "data": {
      "text/html": [
       "<div>\n",
       "<style scoped>\n",
       "    .dataframe tbody tr th:only-of-type {\n",
       "        vertical-align: middle;\n",
       "    }\n",
       "\n",
       "    .dataframe tbody tr th {\n",
       "        vertical-align: top;\n",
       "    }\n",
       "\n",
       "    .dataframe thead th {\n",
       "        text-align: right;\n",
       "    }\n",
       "</style>\n",
       "<table border=\"1\" class=\"dataframe\">\n",
       "  <thead>\n",
       "    <tr style=\"text-align: right;\">\n",
       "      <th></th>\n",
       "      <th></th>\n",
       "      <th>Count</th>\n",
       "      <th>p</th>\n",
       "    </tr>\n",
       "    <tr>\n",
       "      <th>Peso</th>\n",
       "      <th>Sexo</th>\n",
       "      <th></th>\n",
       "      <th></th>\n",
       "    </tr>\n",
       "  </thead>\n",
       "  <tbody>\n",
       "    <tr>\n",
       "      <th rowspan=\"2\" valign=\"top\">False</th>\n",
       "      <th>H</th>\n",
       "      <td>6</td>\n",
       "      <td>0.428571</td>\n",
       "    </tr>\n",
       "    <tr>\n",
       "      <th>M</th>\n",
       "      <td>8</td>\n",
       "      <td>0.571429</td>\n",
       "    </tr>\n",
       "    <tr>\n",
       "      <th rowspan=\"2\" valign=\"top\">True</th>\n",
       "      <th>H</th>\n",
       "      <td>4</td>\n",
       "      <td>0.666667</td>\n",
       "    </tr>\n",
       "    <tr>\n",
       "      <th>M</th>\n",
       "      <td>2</td>\n",
       "      <td>0.333333</td>\n",
       "    </tr>\n",
       "  </tbody>\n",
       "</table>\n",
       "</div>"
      ],
      "text/plain": [
       "            Count         p\n",
       "Peso  Sexo                 \n",
       "False H         6  0.428571\n",
       "      M         8  0.571429\n",
       "True  H         4  0.666667\n",
       "      M         2  0.333333"
      ]
     },
     "metadata": {},
     "output_type": "display_data"
    }
   ],
   "source": [
    "df_peso = df.groupby(['Peso','Sexo'])[['Sexo']].count()\n",
    "df_peso = df_peso.rename(columns = {'Sexo':'Count'})\n",
    "df_peso.loc[False,'p']= df_peso.loc[False,'Count'].values / df_peso.loc[False,'Count'].sum()\n",
    "df_peso.loc[True,'p']= df_peso.loc[True,'Count'].values / df_peso.loc[True,'Count'].sum()\n",
    "display(df_peso)"
   ]
  },
  {
   "cell_type": "markdown",
   "metadata": {},
   "source": [
    "**2. Particionamos la población por el atributo de \"Estatura\"**"
   ]
  },
  {
   "cell_type": "code",
   "execution_count": 7,
   "metadata": {},
   "outputs": [
    {
     "data": {
      "text/html": [
       "<div>\n",
       "<style scoped>\n",
       "    .dataframe tbody tr th:only-of-type {\n",
       "        vertical-align: middle;\n",
       "    }\n",
       "\n",
       "    .dataframe tbody tr th {\n",
       "        vertical-align: top;\n",
       "    }\n",
       "\n",
       "    .dataframe thead th {\n",
       "        text-align: right;\n",
       "    }\n",
       "</style>\n",
       "<table border=\"1\" class=\"dataframe\">\n",
       "  <thead>\n",
       "    <tr style=\"text-align: right;\">\n",
       "      <th></th>\n",
       "      <th></th>\n",
       "      <th>Count</th>\n",
       "      <th>p</th>\n",
       "    </tr>\n",
       "    <tr>\n",
       "      <th>Estatura</th>\n",
       "      <th>Sexo</th>\n",
       "      <th></th>\n",
       "      <th></th>\n",
       "    </tr>\n",
       "  </thead>\n",
       "  <tbody>\n",
       "    <tr>\n",
       "      <th rowspan=\"2\" valign=\"top\">False</th>\n",
       "      <th>H</th>\n",
       "      <td>4</td>\n",
       "      <td>0.333333</td>\n",
       "    </tr>\n",
       "    <tr>\n",
       "      <th>M</th>\n",
       "      <td>8</td>\n",
       "      <td>0.666667</td>\n",
       "    </tr>\n",
       "    <tr>\n",
       "      <th rowspan=\"2\" valign=\"top\">True</th>\n",
       "      <th>H</th>\n",
       "      <td>6</td>\n",
       "      <td>0.750000</td>\n",
       "    </tr>\n",
       "    <tr>\n",
       "      <th>M</th>\n",
       "      <td>2</td>\n",
       "      <td>0.250000</td>\n",
       "    </tr>\n",
       "  </tbody>\n",
       "</table>\n",
       "</div>"
      ],
      "text/plain": [
       "               Count         p\n",
       "Estatura Sexo                 \n",
       "False    H         4  0.333333\n",
       "         M         8  0.666667\n",
       "True     H         6  0.750000\n",
       "         M         2  0.250000"
      ]
     },
     "metadata": {},
     "output_type": "display_data"
    }
   ],
   "source": [
    "df_estatura = df.groupby(['Estatura','Sexo'])[['Sexo']].count()\n",
    "df_estatura = df_estatura.rename(columns = {'Sexo':'Count'})\n",
    "df_estatura.loc[False,'p']= df_estatura.loc[False,'Count'].values / df_estatura.loc[False,'Count'].sum()\n",
    "df_estatura.loc[True,'p']= df_estatura.loc[True,'Count'].values / df_estatura.loc[True,'Count'].sum()\n",
    "display(df_estatura)"
   ]
  },
  {
   "cell_type": "markdown",
   "metadata": {},
   "source": [
    "**3. Particionamos la población por el atributo de \"Pelo Corto\"**"
   ]
  },
  {
   "cell_type": "code",
   "execution_count": 8,
   "metadata": {},
   "outputs": [
    {
     "data": {
      "text/html": [
       "<div>\n",
       "<style scoped>\n",
       "    .dataframe tbody tr th:only-of-type {\n",
       "        vertical-align: middle;\n",
       "    }\n",
       "\n",
       "    .dataframe tbody tr th {\n",
       "        vertical-align: top;\n",
       "    }\n",
       "\n",
       "    .dataframe thead th {\n",
       "        text-align: right;\n",
       "    }\n",
       "</style>\n",
       "<table border=\"1\" class=\"dataframe\">\n",
       "  <thead>\n",
       "    <tr style=\"text-align: right;\">\n",
       "      <th></th>\n",
       "      <th></th>\n",
       "      <th>Count</th>\n",
       "      <th>p</th>\n",
       "    </tr>\n",
       "    <tr>\n",
       "      <th>Pelo corto</th>\n",
       "      <th>Sexo</th>\n",
       "      <th></th>\n",
       "      <th></th>\n",
       "    </tr>\n",
       "  </thead>\n",
       "  <tbody>\n",
       "    <tr>\n",
       "      <th rowspan=\"2\" valign=\"top\">False</th>\n",
       "      <th>H</th>\n",
       "      <td>2</td>\n",
       "      <td>0.2</td>\n",
       "    </tr>\n",
       "    <tr>\n",
       "      <th>M</th>\n",
       "      <td>8</td>\n",
       "      <td>0.8</td>\n",
       "    </tr>\n",
       "    <tr>\n",
       "      <th rowspan=\"2\" valign=\"top\">True</th>\n",
       "      <th>H</th>\n",
       "      <td>8</td>\n",
       "      <td>0.8</td>\n",
       "    </tr>\n",
       "    <tr>\n",
       "      <th>M</th>\n",
       "      <td>2</td>\n",
       "      <td>0.2</td>\n",
       "    </tr>\n",
       "  </tbody>\n",
       "</table>\n",
       "</div>"
      ],
      "text/plain": [
       "                 Count    p\n",
       "Pelo corto Sexo            \n",
       "False      H         2  0.2\n",
       "           M         8  0.8\n",
       "True       H         8  0.8\n",
       "           M         2  0.2"
      ]
     },
     "metadata": {},
     "output_type": "display_data"
    }
   ],
   "source": [
    "df_pc = df.groupby(['Pelo corto','Sexo'])[['Sexo']].count()\n",
    "df_pc = df_pc.rename(columns = {'Sexo':'Count'})\n",
    "df_pc.loc[False,'p']= df_pc.loc[False,'Count'].values / df_pc.loc[False,'Count'].sum()\n",
    "df_pc.loc[True,'p']= df_pc.loc[True,'Count'].values / df_pc.loc[True,'Count'].sum()\n",
    "display(df_pc)"
   ]
  },
  {
   "cell_type": "markdown",
   "metadata": {},
   "source": [
    "Luego de hacer el split utilizando todas las variables independientes, podemos comparar cuál es la que me permite predecir mejor si la persona es hombre o mujer:"
   ]
  },
  {
   "cell_type": "markdown",
   "metadata": {},
   "source": [
    "<img style=\"float: center;\" src=\"img/Split_Peso.png\"> <img style=\"float: center;\" src=\"img/Split_estatura.png\"> <img style=\"float: center;\" src=\"img/Split_PC.png\">"
   ]
  },
  {
   "cell_type": "markdown",
   "metadata": {},
   "source": [
    "1. Peso: los nodos hijos son casi tan heterogéneos como la población total. Es decir esta partición no está aumentando de forma considerable las probabilidades de mejorar la predicción.\n",
    "\n",
    "2. Estatura: logra cierto grado de homogeneidad en los nodos hijos, con lo cual estamos en mejores condiciones de predecir el sexo de una persona luego de haber contestado a la pregunta si la persona mide más de 180 cm comparado a cómo estaba inicialmente antes de contestar dicha pregunta. \n",
    "\n",
    "3. Pelo Corto: igual al segundo, pero logrando incluso mayor homogeneidad en los nodos hijos. Probabilidad aumenta de 50% por adivinar el sexo a 80% por contestar la pregunta si tiene pelo corto.\n",
    "\n",
    "Observamos entonces que particionando a la población según los distintos atributos, puede aumentar la precisión en la clasificación. Vemos también que dicha precisión va a depender del atributo que selecionemos para realizar la partición, siendo el mejor atributo para particionar aquel que logra que los nodos hijos sean lo más homogéneos (puros) posibles.  \n",
    "\n",
    "Por lo tanto, como se mencionó anteriormente, la tarea de los algoritmos de árboles de decisión es generar un árbol de decisión que permita predecir la variable dependiente de la siguiente manera:\n",
    "1. Determinando cuál es el atributo que mejor particiona la población \n",
    "2. Realizando la partición con dicho atributo\n",
    "3. Repitiendo el proceso recursivamente para cada nodo hijo\n",
    "\n",
    "Veremos a continuación cómo el algoritmo decide cuál es el mejor atributo para particionar en cada nodo."
   ]
  },
  {
   "cell_type": "markdown",
   "metadata": {},
   "source": [
    "### 🤔 ¿Cómo seleccionar la mejor partición?\n",
    "Buscamos que las particiones (splits) generen nodos hijos con la menor impureza posible (o dicho de otra forma, la mayor pureza posible). Existen distintos métodos para evaluar la efectividad de las particiones:\n",
    "- Índice de Gini\n",
    "- Test Chi-cuadrado\n",
    "- Entropía / Ganancia de información \n",
    "- Reducción de Varianza\n",
    "\n",
    "La selección de criterios de decisión dependerá de si los árboles son de clasificación o regresión"
   ]
  },
  {
   "cell_type": "markdown",
   "metadata": {},
   "source": [
    "| |Regresión  | Clasificación  | \n",
    "|:--|:--|:--|\n",
    "|Variable dependiente|**Continua**|**Categórica**|  \n",
    "|Criterio de Partición| **Reducción de Varianza**|**Inpureza de Gini** (solo particiones binarias)<br>**Chi-Cuadrado** para particiones de orden mayor a 2<br>**Entropía**|\n",
    "| Valores de los nodos terminales |la **media** de las observaciones en esa región | la **moda** de las observaciones del conjunto de entrenamiento que han “caído” en esa región| "
   ]
  },
  {
   "cell_type": "markdown",
   "metadata": {},
   "source": [
    "### Criterio de partición de Gini\n",
    "El índice de Gini se utiliza en algoritmos de árboles de Decisión de **clasificación**.\n",
    "\n",
    "Sólo funciona con variables objetivo (o variables dependientes) categóricas, y si bien solamente permite particiones binarias, puede ser utilizado en problemas de clasificación multi-clase. \n",
    "\n",
    "El índice de Gini se mide para cada nodo de decisión como la probabilidad $P(j|t)$, que es la probabilidad de pertenecer a la clase \"$j$\" estando en el nodo \"$t$\". En otras palabras, mide la pureza del nodo.\n",
    "\n",
    "$$\n",
    "\\begin{aligned}\n",
    "Gini(t) = \\sum_{j=1}^{n} [p(j|t))]^{2} = (p_{1}^{2}+p_{2}^{2}+...+p_{n}^{2})\n",
    "\\end{aligned}\n",
    "$$\n",
    "\n",
    "Por otro lado, la impureza de Gini la medimos de la siguiente manera:\n",
    "\n",
    "$$\n",
    "\\begin{aligned}\n",
    "Impureza\\,de\\,Gini(t) = 1 - Gini(t)\n",
    "\\end{aligned}\n",
    "$$\n",
    "\n",
    "Habiendo calculado la impureza de Gini para cada nodo hijo, podemos calcular el valor total de la impureza de Gini del nodo padre como el promedio ponderado de las impurezas de Gini para cada nodo hijo.\n",
    "\n",
    "$$\n",
    "\\begin{aligned}\n",
    "Impureza\\,de\\,Gini_{split} = \\frac{1}{n}\\sum_{i=1}^{k}n_{i}\\cdot impureza\\,de\\,Gini(i)\n",
    "\\end{aligned}\n",
    "$$\n",
    "\n",
    "Siendo $n_{i}$ la población de cada nodo hijo, y $n$ la población de la sumatoria de los nodos hijos.  \n",
    "\n",
    "Después de calcular el valor total de la impureza de Gini para el nodo padre para cada uno de los atributos, elegimos aquel atributo que tenga el valor de impureza de Gini más bajo (es decir, el que consigue que los nodos hijos sean lo más puros posibles). Ésto se repite recursivamente por cada nodo hijo.\n",
    "\n",
    "Hacemos los cálculos para determinar la impureza de Gini para cada partición posible."
   ]
  },
  {
   "cell_type": "code",
   "execution_count": 9,
   "metadata": {},
   "outputs": [
    {
     "name": "stdout",
     "output_type": "stream",
     "text": [
      "\n",
      "----------------\n",
      "atributo: PESO\n",
      "----------------\n",
      "\n",
      "\n"
     ]
    },
    {
     "data": {
      "text/html": [
       "<div>\n",
       "<style scoped>\n",
       "    .dataframe tbody tr th:only-of-type {\n",
       "        vertical-align: middle;\n",
       "    }\n",
       "\n",
       "    .dataframe tbody tr th {\n",
       "        vertical-align: top;\n",
       "    }\n",
       "\n",
       "    .dataframe thead th {\n",
       "        text-align: right;\n",
       "    }\n",
       "</style>\n",
       "<table border=\"1\" class=\"dataframe\">\n",
       "  <thead>\n",
       "    <tr style=\"text-align: right;\">\n",
       "      <th></th>\n",
       "      <th>Impureza Gini</th>\n",
       "    </tr>\n",
       "  </thead>\n",
       "  <tbody>\n",
       "    <tr>\n",
       "      <th>False</th>\n",
       "      <td>0.489796</td>\n",
       "    </tr>\n",
       "    <tr>\n",
       "      <th>True</th>\n",
       "      <td>0.444444</td>\n",
       "    </tr>\n",
       "  </tbody>\n",
       "</table>\n",
       "</div>"
      ],
      "text/plain": [
       "       Impureza Gini\n",
       "False       0.489796\n",
       "True        0.444444"
      ]
     },
     "metadata": {},
     "output_type": "display_data"
    },
    {
     "name": "stdout",
     "output_type": "stream",
     "text": [
      "\n",
      "Gini split:  0.4761904761904763\n",
      "\n"
     ]
    }
   ],
   "source": [
    "print(\"\"\"\n",
    "----------------\n",
    "atributo: PESO\n",
    "----------------\n",
    "\n",
    "\"\"\")\n",
    "# definimos una nueva columna que tenga la probabilidad al cuadrado.\n",
    "df_peso['p2'] = df_peso['p']**2\n",
    "\n",
    "# siguiendo la formula de Gini, calculamos la impureza de Gini para cada nodo hijo \n",
    "imp_gini_false = 1 - df_peso.loc[False,'p2'].sum()\n",
    "imp_gini_true  = 1 - df_peso.loc[True,'p2'].sum()\n",
    "\n",
    "# creamos un dataframe con los valores de las impurezas de Gini recién calculadas para cada nodo hijo.\n",
    "df_gini = pd.DataFrame(index = [False,True],columns=['Impureza Gini'], data=[imp_gini_false,imp_gini_true])\n",
    "display(df_gini)\n",
    "\n",
    "# finalmente calculamos el Gini de la partición utilizando el atributo PESO, \n",
    "# como el promedio ponderado de las impurezas de Gini de los nodos hijos\n",
    "Gini_split = 1/20 * ((6+8)*imp_gini_false + (4+2)*imp_gini_true)\n",
    "\n",
    "\n",
    "print(\"\\nGini split: \",Gini_split)\n",
    "print()"
   ]
  },
  {
   "cell_type": "code",
   "execution_count": 10,
   "metadata": {},
   "outputs": [
    {
     "name": "stdout",
     "output_type": "stream",
     "text": [
      "\n",
      "--------------------\n",
      "atributo: ESTATURA\n",
      "--------------------\n",
      "\n",
      "\n"
     ]
    },
    {
     "data": {
      "text/html": [
       "<div>\n",
       "<style scoped>\n",
       "    .dataframe tbody tr th:only-of-type {\n",
       "        vertical-align: middle;\n",
       "    }\n",
       "\n",
       "    .dataframe tbody tr th {\n",
       "        vertical-align: top;\n",
       "    }\n",
       "\n",
       "    .dataframe thead th {\n",
       "        text-align: right;\n",
       "    }\n",
       "</style>\n",
       "<table border=\"1\" class=\"dataframe\">\n",
       "  <thead>\n",
       "    <tr style=\"text-align: right;\">\n",
       "      <th></th>\n",
       "      <th>Impureza Gini</th>\n",
       "    </tr>\n",
       "  </thead>\n",
       "  <tbody>\n",
       "    <tr>\n",
       "      <th>False</th>\n",
       "      <td>0.444444</td>\n",
       "    </tr>\n",
       "    <tr>\n",
       "      <th>True</th>\n",
       "      <td>0.375000</td>\n",
       "    </tr>\n",
       "  </tbody>\n",
       "</table>\n",
       "</div>"
      ],
      "text/plain": [
       "       Impureza Gini\n",
       "False       0.444444\n",
       "True        0.375000"
      ]
     },
     "metadata": {},
     "output_type": "display_data"
    },
    {
     "name": "stdout",
     "output_type": "stream",
     "text": [
      "\n",
      "Gini split:  0.4236111111111111\n",
      "\n"
     ]
    }
   ],
   "source": [
    "print(\"\"\"\n",
    "--------------------\n",
    "atributo: ESTATURA\n",
    "--------------------\n",
    "\n",
    "\"\"\")\n",
    "# definimos una nueva columna que tenga la probabilidad al cuadrado.\n",
    "df_estatura['p2'] = df_estatura['p']**2\n",
    "\n",
    "# siguiendo la formula de Gini, calculamos la impureza de Gini para cada nodo hijo \n",
    "imp_gini_false = 1 - df_estatura.loc[False,'p2'].sum()\n",
    "imp_gini_true  = 1 - df_estatura.loc[True,'p2'].sum()\n",
    "\n",
    "# creamos un dataframe con los valores de las impurezas de Gini recién calculadas para cada nodo hijo.\n",
    "df_gini = pd.DataFrame(index = [False,True],columns=['Impureza Gini'], data=[imp_gini_false,imp_gini_true])\n",
    "display(df_gini)\n",
    "\n",
    "# finalmente calculamos el Gini de la partición utilizando el atributo ESTATURA, \n",
    "# como el promedio ponderado de las impurezas de Gini de los nodos hijos\n",
    "Gini_split = 1/20 * ((6+8)*imp_gini_false + (4+2)*imp_gini_true)\n",
    "\n",
    "print(\"\\nGini split: \",Gini_split)\n",
    "print()"
   ]
  },
  {
   "cell_type": "code",
   "execution_count": 11,
   "metadata": {},
   "outputs": [
    {
     "name": "stdout",
     "output_type": "stream",
     "text": [
      "\n",
      "----------------------\n",
      "atributo: PELO CORTO\n",
      "----------------------\n",
      "\n",
      "\n"
     ]
    },
    {
     "data": {
      "text/html": [
       "<div>\n",
       "<style scoped>\n",
       "    .dataframe tbody tr th:only-of-type {\n",
       "        vertical-align: middle;\n",
       "    }\n",
       "\n",
       "    .dataframe tbody tr th {\n",
       "        vertical-align: top;\n",
       "    }\n",
       "\n",
       "    .dataframe thead th {\n",
       "        text-align: right;\n",
       "    }\n",
       "</style>\n",
       "<table border=\"1\" class=\"dataframe\">\n",
       "  <thead>\n",
       "    <tr style=\"text-align: right;\">\n",
       "      <th></th>\n",
       "      <th>Impureza Gini</th>\n",
       "    </tr>\n",
       "  </thead>\n",
       "  <tbody>\n",
       "    <tr>\n",
       "      <th>False</th>\n",
       "      <td>0.32</td>\n",
       "    </tr>\n",
       "    <tr>\n",
       "      <th>True</th>\n",
       "      <td>0.32</td>\n",
       "    </tr>\n",
       "  </tbody>\n",
       "</table>\n",
       "</div>"
      ],
      "text/plain": [
       "       Impureza Gini\n",
       "False           0.32\n",
       "True            0.32"
      ]
     },
     "metadata": {},
     "output_type": "display_data"
    },
    {
     "name": "stdout",
     "output_type": "stream",
     "text": [
      "\n",
      "Gini split:  0.31999999999999984\n",
      "\n"
     ]
    }
   ],
   "source": [
    "print(\"\"\"\n",
    "----------------------\n",
    "atributo: PELO CORTO\n",
    "----------------------\n",
    "\n",
    "\"\"\")\n",
    "# definimos una nueva columna que tenga la probabilidad al cuadrado.\n",
    "df_pc['p2'] = df_pc['p']**2\n",
    "\n",
    "# siguiendo la formula de Gini, calculamos la impureza de Gini para cada nodo hijo \n",
    "imp_gini_false = 1 - df_pc.loc[False,'p2'].sum()\n",
    "imp_gini_true  = 1 - df_pc.loc[True,'p2'].sum()\n",
    "\n",
    "# creamos un dataframe con los valores de las impurezas de Gini recién calculadas para cada nodo hijo.\n",
    "df_gini = pd.DataFrame(index = [False,True],columns=['Impureza Gini'], data=[imp_gini_false,imp_gini_true])\n",
    "display(df_gini)\n",
    "\n",
    "# finalmente calculamos el Gini de la partición utilizando el atributo PELO CORTO, \n",
    "# como el promedio ponderado de las impurezas de Gini de los nodos hijos\n",
    "Gini_split = 1/20 * ((6+8)*imp_gini_false + (4+2)*imp_gini_true)\n",
    "\n",
    "print(\"\\nGini split: \",Gini_split)\n",
    "print()"
   ]
  },
  {
   "cell_type": "markdown",
   "metadata": {},
   "source": [
    "|  | Impureza de Gini |\n",
    "|--------------------|:----------------:|\n",
    "| Peso > 80 kg: | 0,48 |\n",
    "| Estatura > 180 cm: | 0,42 |\n",
    "| Pelo Corto: | 0,32 |\n",
    "  \n",
    "El atributo que genera la mejor partición es **Pelo Corto**. LLegamos a la misma conclusión a la que habíamos arribado anteriormente en forma intuitiva. "
   ]
  },
  {
   "cell_type": "markdown",
   "metadata": {},
   "source": [
    "### Ganancia de Información\n",
    "La ganancia de Información al igual que Gini es utilizada para modelos de clasificación. En este método se busca medir la ganancia de información que se obtiene luego de realizar una pregunta y para ésto utiliza una medición de Entropía. Como ya vimos, no es lo mismo realizar una pregunta basado en un atributo que basado en otro ya que dependiendo del atributo que seleccionamos para hacer la partición, tendremos mayor o menor ganancia de información. Para poder profundizar en este concepto, primero repasaremos sobre el concepto de Entropía.\n",
    "\n",
    "#### Entropía\n",
    "En teoría de la información se define Entropía como una forma de medir el grado de desorganización en un sistema. Es decir la Entropía busca medir qué tan parecidos o qué tan diferentes son los elementos de un sistema:\n",
    "- utilizando el valor mínimo de 0 para conjunto de elementos que son totalmente iguales, \n",
    "- utilizando el valor máximo de 1 para los conjuntos que poseen el mayor grado de desorden posible, \n",
    "- utilizando los valores entre 0 y 1 para aquellos sistemas que presenten un grado de desorden que esté entre los extremos recien mencionados.\n",
    "\n",
    "<img style=\"float: center;\" src=\"img/entropia2.png\">\n",
    "\n",
    "Matemáticamente ésto se representa con la siguiente fórmula:\n",
    "\n",
    "$$\n",
    "\\begin{aligned}\n",
    "Entropia = -p{_{1}}log{_{2}}(p{_{1}}) -p{_{2}}log{_{2}}(p{_{2}}) - ... -p{_{n}}log{_{2}}(p{_{n}}) = -\\sum p{_{n}}log{_{2}}(p{_{n}})\n",
    "\\end{aligned}\n",
    "$$\n",
    "\n",
    "donde:  $p_{i}$ es la proporción de elementos de la $clase_{i}$ en el nodo.\n",
    "\n",
    "Por otro lado, definimos a la Ganancia de Información como:\n",
    "\n",
    "$$\n",
    "\\begin{aligned}\n",
    "Ganancia\\ de\\ Informacion = Entropia{_{nodo\\ padre}} - Suma\\ ponderada\\ Entropia{_{nodos\\ hijos}}\n",
    "\\end{aligned}\n",
    "$$\n",
    "\n",
    "Con el marco teórico anterior, podemos entonces volver a analizar nuestro caso ejemplo."
   ]
  },
  {
   "cell_type": "markdown",
   "metadata": {},
   "source": [
    "<img style=\"float: center;\" src=\"img/peso_h.png\">\n",
    "<img style=\"float: center;\" src=\"img/peso_h_t.png\">\n",
    "<img style=\"float: center;\" src=\"img/estatura_h.png\">\n",
    "<img style=\"float: center;\" src=\"img/estatura_h_t.png\">\n",
    "<img style=\"float: center;\" src=\"img/pelo_h.png\">\n",
    "<img style=\"float: center;\" src=\"img/pelo_h_t.png\">"
   ]
  },
  {
   "cell_type": "markdown",
   "metadata": {},
   "source": [
    "El atributo que genera la mejor partición es **Pelo Corto**. LLegamos a la misma conclusión a la que habíamos arribado anteriormente con Gini y en forma intuitiva. "
   ]
  },
  {
   "cell_type": "markdown",
   "metadata": {},
   "source": [
    "## 3. Optimizando Performance de los Árboles de Decisión\n",
    "### ✂️ Poda de árboles o Tree Pruning\n",
    "Como mencionamos anteriormente, los algoritmos de árboles de decisión tienen una fuerte tendencia al sobreajuste. A fin de minimizar el sobreajuste y también reducir la complejidad de los árboles de decisión se suele aplicar la técnica de \"poda\". Esta técnica básicamente consiste en reducir el tamaño del árbol, ya sea mediante cualquiera de las siguientes **criterios de corte**:\n",
    "- Limitando la profundidad máxima del árbol (`max_depth`)\n",
    "- Limitando el número mínimo de muestras requeridas en cada hoja (`min_samples_leaf`)\n",
    "- Limitando el número mínimo de muestras necesarias para particionar (`min_samples_split`)"
   ]
  },
  {
   "cell_type": "markdown",
   "metadata": {},
   "source": [
    "## 4. Implementación de un Árbol de Decisión"
   ]
  },
  {
   "cell_type": "markdown",
   "metadata": {},
   "source": [
    "- Vamos a crear una clase `DecisionTree`. \n",
    "- Para esta implementación, usaremos la Entropía como criterio de división. La función `find_best_split` se basará en buscar las divisiones con menor entropía. Tendremos un approach \"greedy\" para simplificar el código.\n",
    "- También, creamos la clase `TreeNode` donde guardamos la información de los splits y la relación con los nodos de la derecha e izquierda.\n",
    "- Finalmente, la función `create_tree` es una función recursiva que crea el árbol y eventualmente frena si se cumplen los criterios para frenar. Los criterios de parada implementados fueron:\n",
    "    * Profundidad máxima del árbol (`max_depth`)\n",
    "    * Número mínimo de muestras requeridas en cada hoja después de hacer la división (`min_samples_leaf`)\n",
    "    * Valor mínimo de ganancia de información (`min_information_gain`)\n",
    "\n",
    "\n",
    "- Desarrollaremos un método `train` y `predict` para entrenar y predecir un valor de salida categórico respectivamente.\n",
    "    * Train: Solo toma los sets de entrenamiento y comienza el proceso recursivo de `create_tree`, guardando el primer nodo del árbol (root)\n",
    "    * Predict: Se calcula la probabilidad de que una muestra corresponda a cualquier clase. Cada hoja tiene probabilidades constantes para cada etiqueta, y esas probabilidades se aprenden en la fase de entrenamiento. Para hacer una nueva predicción, vamos a tomar la data no etiquetada y comenzar desde el nodo raíz y va a seguir el camino que cumple. Esto se hace usando un bucle while que frena cuando no hay otro nodo más (llega al nodo hoja). Una vez que predice las probabilidades, la función predict retorna la clase más probable."
   ]
  },
  {
   "cell_type": "markdown",
   "metadata": {},
   "source": [
    "#### Probamos funcionamiento sobre Dataset \"Iris\""
   ]
  },
  {
   "cell_type": "markdown",
   "metadata": {},
   "source": [
    "<img style=\"float: center;\" src=\"img/iris.png\">"
   ]
  },
  {
   "cell_type": "code",
   "execution_count": 4,
   "metadata": {},
   "outputs": [],
   "source": [
    "from sklearn import datasets\n",
    "\n",
    "iris = datasets.load_iris()\n",
    "X = np.array(iris.data)\n",
    "Y = np.array(iris.target)"
   ]
  },
  {
   "cell_type": "code",
   "execution_count": 5,
   "metadata": {},
   "outputs": [
    {
     "name": "stdout",
     "output_type": "stream",
     "text": [
      "Train Shape: (112, 4)\n",
      "Test Shape: (38, 4)\n"
     ]
    }
   ],
   "source": [
    "from sklearn.model_selection import train_test_split\n",
    "\n",
    "X_train, X_test, Y_train, Y_test = train_test_split(X,Y, test_size = 0.25, random_state = 0)\n",
    "print(\"Train Shape:\", X_train.shape)\n",
    "print(\"Test Shape:\", X_test.shape)"
   ]
  },
  {
   "cell_type": "markdown",
   "metadata": {},
   "source": [
    "Entrenamos con 75% de la data"
   ]
  },
  {
   "cell_type": "code",
   "execution_count": 13,
   "metadata": {},
   "outputs": [],
   "source": [
    "from decision_tree import DecisionTree\n",
    "\n",
    "dt = DecisionTree(max_depth=4, min_samples_leaf=1, min_information_gain=0.4)\n",
    "dt.train(X_train, Y_train)"
   ]
  },
  {
   "cell_type": "code",
   "execution_count": 14,
   "metadata": {},
   "outputs": [
    {
     "name": "stdout",
     "output_type": "stream",
     "text": [
      "                                → 🍃 \u001b[1mLEAF\u001b[0m | Label Counts = 0.0->36 | Pred Probs = [1. 0. 0.]\n",
      "                → ❓ \u001b[1mNODE\u001b[0m | IG = 0.6731015728685515 | Split IF X[3] < 0.525 then LEFT else RIGHT\n",
      "                                                → 🍃 \u001b[1mLEAF\u001b[0m | Label Counts = 0.0->1 | Pred Probs = [1. 0. 0.]\n",
      "                                → ❓ \u001b[1mNODE\u001b[0m | IG = 0.41381685030363374 | Split IF X[3] < 1.0 then LEFT else RIGHT\n",
      "                                                → 🍃 \u001b[1mLEAF\u001b[0m | Label Counts = 1.0->11 | Pred Probs = [0. 1. 0.]\n",
      "→ ❓ \u001b[1mNODE\u001b[0m | IG = 0.7095311377468411 | Split IF X[3] < 1.3 then LEFT else RIGHT\n",
      "                                → 🍃 \u001b[1mLEAF\u001b[0m | Label Counts = 1.0->23, 2.0->6 | Pred Probs = [0.         0.79310345 0.20689655]\n",
      "                → ❓ \u001b[1mNODE\u001b[0m | IG = 0.6088858430669675 | Split IF X[2] < 5.1 then LEFT else RIGHT\n",
      "                                → 🍃 \u001b[1mLEAF\u001b[0m | Label Counts = 2.0->35 | Pred Probs = [0. 0. 1.]\n"
     ]
    }
   ],
   "source": [
    "dt.print_tree()"
   ]
  },
  {
   "cell_type": "code",
   "execution_count": 20,
   "metadata": {},
   "outputs": [
    {
     "data": {
      "image/png": "[encoded data removed]",
      "text/plain": [
       "<Figure size 720x432 with 1 Axes>"
      ]
     },
     "metadata": {
      "needs_background": "light"
     },
     "output_type": "display_data"
    }
   ],
   "source": [
    "dt.plot_feature_importance(iris.feature_names)"
   ]
  },
  {
   "cell_type": "code",
   "execution_count": 18,
   "metadata": {},
   "outputs": [
    {
     "name": "stdout",
     "output_type": "stream",
     "text": [
      "\"\"\"\"\"\"\"\"\"\"\"\"\"\"\"\"\"\"\n",
      "Train Performance\n",
      "\"\"\"\"\"\"\"\"\"\"\"\"\"\"\"\"\"\"\n",
      "Train Size: 112\n",
      "True Predictions: 106\n",
      "Train Accuracy: 0.9464285714285714\n"
     ]
    }
   ],
   "source": [
    "train_preds = dt.predict(X_set=X_train)\n",
    "print('\"\"\"\"\"\"\"\"\"\"\"\"\"\"\"\"\"\"\\nTrain Performance\\n\"\"\"\"\"\"\"\"\"\"\"\"\"\"\"\"\"\"')\n",
    "print(\"Train Size:\", len(Y_train))\n",
    "print(\"True Predictions:\", sum(train_preds == Y_train))\n",
    "print(\"Train Accuracy:\", sum(train_preds == Y_train)/len(Y_train) )"
   ]
  },
  {
   "cell_type": "code",
   "execution_count": 19,
   "metadata": {},
   "outputs": [
    {
     "name": "stdout",
     "output_type": "stream",
     "text": [
      "\"\"\"\"\"\"\"\"\"\"\"\"\"\"\"\"\"\"\n",
      "Test Performance\n",
      "\"\"\"\"\"\"\"\"\"\"\"\"\"\"\"\"\"\"\n",
      "Test Size: 38\n",
      "True Predictions: 34\n",
      "Train Accuracy: 0.8947368421052632\n"
     ]
    }
   ],
   "source": [
    "test_preds = dt.predict(X_set=X_test)\n",
    "print('\"\"\"\"\"\"\"\"\"\"\"\"\"\"\"\"\"\"\\nTest Performance\\n\"\"\"\"\"\"\"\"\"\"\"\"\"\"\"\"\"\"')\n",
    "print(\"Test Size:\", len(Y_test))\n",
    "print(\"True Predictions:\", sum(test_preds == Y_test))\n",
    "print(\"Train Accuracy:\", sum(test_preds == Y_test)/len(Y_test) )"
   ]
  }
 ],
 "metadata": {
  "kernelspec": {
   "display_name": "i302",
   "language": "python",
   "name": "python3"
  },
  "language_info": {
   "codemirror_mode": {
    "name": "ipython",
    "version": 3
   },
   "file_extension": ".py",
   "mimetype": "text/x-python",
   "name": "python",
   "nbconvert_exporter": "python",
   "pygments_lexer": "ipython3",
   "version": "3.8.10"
  }
 },
 "nbformat": 4,
 "nbformat_minor": 2
}
