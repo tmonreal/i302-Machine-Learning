{
 "cells": [
  {
   "cell_type": "markdown",
   "metadata": {},
   "source": [
    "Creating dataset for TP2 - Regression based on dataset used for PF 1s2024"
   ]
  },
  {
   "cell_type": "code",
   "execution_count": 1,
   "metadata": {},
   "outputs": [],
   "source": [
    "import pandas as pd\n",
    "\n",
    "df = pd.read_csv(\"/home/linar/Desktop/ML/Clases/i302/TPs/TP2/Data/pf_suvs_i302_1s2024.csv\")"
   ]
  },
  {
   "cell_type": "code",
   "execution_count": 2,
   "metadata": {},
   "outputs": [
    {
     "data": {
      "text/html": [
       "<div>\n",
       "<style scoped>\n",
       "    .dataframe tbody tr th:only-of-type {\n",
       "        vertical-align: middle;\n",
       "    }\n",
       "\n",
       "    .dataframe tbody tr th {\n",
       "        vertical-align: top;\n",
       "    }\n",
       "\n",
       "    .dataframe thead th {\n",
       "        text-align: right;\n",
       "    }\n",
       "</style>\n",
       "<table border=\"1\" class=\"dataframe\">\n",
       "  <thead>\n",
       "    <tr style=\"text-align: right;\">\n",
       "      <th></th>\n",
       "      <th>Marca</th>\n",
       "      <th>Modelo</th>\n",
       "      <th>Año</th>\n",
       "      <th>Versión</th>\n",
       "      <th>Color</th>\n",
       "      <th>Tipo de combustible</th>\n",
       "      <th>Puertas</th>\n",
       "      <th>Transmisión</th>\n",
       "      <th>Motor</th>\n",
       "      <th>Tipo de carrocería</th>\n",
       "      <th>Kilómetros</th>\n",
       "      <th>Título</th>\n",
       "      <th>Precio</th>\n",
       "      <th>Moneda</th>\n",
       "      <th>Tipo de vendedor</th>\n",
       "      <th>Con cámara de retroceso</th>\n",
       "    </tr>\n",
       "  </thead>\n",
       "  <tbody>\n",
       "    <tr>\n",
       "      <th>0</th>\n",
       "      <td>Peugeot</td>\n",
       "      <td>2008</td>\n",
       "      <td>2022.0</td>\n",
       "      <td>1.6 Feline Tip am20</td>\n",
       "      <td>Blanco</td>\n",
       "      <td>Nafta</td>\n",
       "      <td>5.0</td>\n",
       "      <td>Automática</td>\n",
       "      <td>1.6</td>\n",
       "      <td>SUV</td>\n",
       "      <td>23000 km</td>\n",
       "      <td>Peugeot 2008 1.6 Feline Tip am20</td>\n",
       "      <td>22499999.0</td>\n",
       "      <td>$</td>\n",
       "      <td>tienda</td>\n",
       "      <td>NaN</td>\n",
       "    </tr>\n",
       "    <tr>\n",
       "      <th>1</th>\n",
       "      <td>Peugeot</td>\n",
       "      <td>2008</td>\n",
       "      <td>2021.0</td>\n",
       "      <td>1.6 Allure</td>\n",
       "      <td>Marrón</td>\n",
       "      <td>Nafta</td>\n",
       "      <td>5.0</td>\n",
       "      <td>Manual</td>\n",
       "      <td>1.6</td>\n",
       "      <td>SUV</td>\n",
       "      <td>17000 km</td>\n",
       "      <td>Peugeot 2008 1.6 Allure</td>\n",
       "      <td>21999999.0</td>\n",
       "      <td>$</td>\n",
       "      <td>tienda</td>\n",
       "      <td>NaN</td>\n",
       "    </tr>\n",
       "    <tr>\n",
       "      <th>2</th>\n",
       "      <td>Peugeot</td>\n",
       "      <td>2008</td>\n",
       "      <td>2021.0</td>\n",
       "      <td>1.6 Allure</td>\n",
       "      <td>Marrón</td>\n",
       "      <td>Nafta</td>\n",
       "      <td>5.0</td>\n",
       "      <td>Manual</td>\n",
       "      <td>1.6</td>\n",
       "      <td>SUV</td>\n",
       "      <td>17500 km</td>\n",
       "      <td>Peugeot 2008 1.6 Allure</td>\n",
       "      <td>20500000.0</td>\n",
       "      <td>$</td>\n",
       "      <td>tienda</td>\n",
       "      <td>NaN</td>\n",
       "    </tr>\n",
       "    <tr>\n",
       "      <th>3</th>\n",
       "      <td>Peugeot</td>\n",
       "      <td>2008</td>\n",
       "      <td>2018.0</td>\n",
       "      <td>1.6 Feline</td>\n",
       "      <td>Blanco</td>\n",
       "      <td>Nafta</td>\n",
       "      <td>5.0</td>\n",
       "      <td>Manual</td>\n",
       "      <td>1.6</td>\n",
       "      <td>SUV</td>\n",
       "      <td>123600 km</td>\n",
       "      <td>Peugeot 2008 1.6 Feline</td>\n",
       "      <td>15000000.0</td>\n",
       "      <td>$</td>\n",
       "      <td>tienda</td>\n",
       "      <td>NaN</td>\n",
       "    </tr>\n",
       "    <tr>\n",
       "      <th>4</th>\n",
       "      <td>Peugeot</td>\n",
       "      <td>2008</td>\n",
       "      <td>2016.0</td>\n",
       "      <td>1.6 Thp Sport</td>\n",
       "      <td>Gris</td>\n",
       "      <td>Nafta</td>\n",
       "      <td>5.0</td>\n",
       "      <td>Manual</td>\n",
       "      <td>1.6</td>\n",
       "      <td>SUV</td>\n",
       "      <td>43000 km</td>\n",
       "      <td>Peugeot 2008 1.6 Thp Sport</td>\n",
       "      <td>12500000.0</td>\n",
       "      <td>$</td>\n",
       "      <td>tienda</td>\n",
       "      <td>NaN</td>\n",
       "    </tr>\n",
       "  </tbody>\n",
       "</table>\n",
       "</div>"
      ],
      "text/plain": [
       "     Marca Modelo     Año              Versión   Color Tipo de combustible  \\\n",
       "0  Peugeot   2008  2022.0  1.6 Feline Tip am20  Blanco               Nafta   \n",
       "1  Peugeot   2008  2021.0           1.6 Allure  Marrón               Nafta   \n",
       "2  Peugeot   2008  2021.0           1.6 Allure  Marrón               Nafta   \n",
       "3  Peugeot   2008  2018.0           1.6 Feline  Blanco               Nafta   \n",
       "4  Peugeot   2008  2016.0        1.6 Thp Sport    Gris               Nafta   \n",
       "\n",
       "   Puertas Transmisión Motor Tipo de carrocería Kilómetros  \\\n",
       "0      5.0  Automática   1.6                SUV   23000 km   \n",
       "1      5.0      Manual   1.6                SUV   17000 km   \n",
       "2      5.0      Manual   1.6                SUV   17500 km   \n",
       "3      5.0      Manual   1.6                SUV  123600 km   \n",
       "4      5.0      Manual   1.6                SUV   43000 km   \n",
       "\n",
       "                             Título      Precio Moneda Tipo de vendedor  \\\n",
       "0  Peugeot 2008 1.6 Feline Tip am20  22499999.0      $           tienda   \n",
       "1           Peugeot 2008 1.6 Allure  21999999.0      $           tienda   \n",
       "2           Peugeot 2008 1.6 Allure  20500000.0      $           tienda   \n",
       "3           Peugeot 2008 1.6 Feline  15000000.0      $           tienda   \n",
       "4        Peugeot 2008 1.6 Thp Sport  12500000.0      $           tienda   \n",
       "\n",
       "  Con cámara de retroceso  \n",
       "0                     NaN  \n",
       "1                     NaN  \n",
       "2                     NaN  \n",
       "3                     NaN  \n",
       "4                     NaN  "
      ]
     },
     "execution_count": 2,
     "metadata": {},
     "output_type": "execute_result"
    }
   ],
   "source": [
    "df.head()"
   ]
  },
  {
   "cell_type": "code",
   "execution_count": 3,
   "metadata": {},
   "outputs": [],
   "source": [
    "df_toyota = df[df[\"Marca\"] == \"Toyota\"]"
   ]
  },
  {
   "cell_type": "code",
   "execution_count": 4,
   "metadata": {},
   "outputs": [
    {
     "data": {
      "text/html": [
       "<div>\n",
       "<style scoped>\n",
       "    .dataframe tbody tr th:only-of-type {\n",
       "        vertical-align: middle;\n",
       "    }\n",
       "\n",
       "    .dataframe tbody tr th {\n",
       "        vertical-align: top;\n",
       "    }\n",
       "\n",
       "    .dataframe thead th {\n",
       "        text-align: right;\n",
       "    }\n",
       "</style>\n",
       "<table border=\"1\" class=\"dataframe\">\n",
       "  <thead>\n",
       "    <tr style=\"text-align: right;\">\n",
       "      <th></th>\n",
       "      <th>Marca</th>\n",
       "      <th>Modelo</th>\n",
       "      <th>Año</th>\n",
       "      <th>Versión</th>\n",
       "      <th>Color</th>\n",
       "      <th>Tipo de combustible</th>\n",
       "      <th>Puertas</th>\n",
       "      <th>Transmisión</th>\n",
       "      <th>Motor</th>\n",
       "      <th>Tipo de carrocería</th>\n",
       "      <th>Kilómetros</th>\n",
       "      <th>Título</th>\n",
       "      <th>Precio</th>\n",
       "      <th>Moneda</th>\n",
       "      <th>Tipo de vendedor</th>\n",
       "      <th>Con cámara de retroceso</th>\n",
       "    </tr>\n",
       "  </thead>\n",
       "  <tbody>\n",
       "    <tr>\n",
       "      <th>895</th>\n",
       "      <td>Toyota</td>\n",
       "      <td>4Runner</td>\n",
       "      <td>1992.0</td>\n",
       "      <td>2.8 Sl D</td>\n",
       "      <td>Negro</td>\n",
       "      <td>Diésel</td>\n",
       "      <td>5.0</td>\n",
       "      <td>Manual</td>\n",
       "      <td>2.4</td>\n",
       "      <td>SUV</td>\n",
       "      <td>283000 km</td>\n",
       "      <td>Toyota 4Runner 2.8 Sl D</td>\n",
       "      <td>27500.0</td>\n",
       "      <td>U$S</td>\n",
       "      <td>concesionaria</td>\n",
       "      <td>NaN</td>\n",
       "    </tr>\n",
       "    <tr>\n",
       "      <th>896</th>\n",
       "      <td>Toyota</td>\n",
       "      <td>4Runner</td>\n",
       "      <td>1996.0</td>\n",
       "      <td>2.8 L D</td>\n",
       "      <td>Rojo</td>\n",
       "      <td>Diésel</td>\n",
       "      <td>5.0</td>\n",
       "      <td>Manual</td>\n",
       "      <td>2.4</td>\n",
       "      <td>SUV</td>\n",
       "      <td>340000 km</td>\n",
       "      <td>Toyota 4Runner 2.8 L D</td>\n",
       "      <td>19000.0</td>\n",
       "      <td>U$S</td>\n",
       "      <td>concesionaria</td>\n",
       "      <td>NaN</td>\n",
       "    </tr>\n",
       "    <tr>\n",
       "      <th>897</th>\n",
       "      <td>Toyota</td>\n",
       "      <td>4Runner</td>\n",
       "      <td>1997.0</td>\n",
       "      <td>2.8 L D</td>\n",
       "      <td>NaN</td>\n",
       "      <td>Diésel</td>\n",
       "      <td>5.0</td>\n",
       "      <td>Manual</td>\n",
       "      <td>2.4</td>\n",
       "      <td>SUV</td>\n",
       "      <td>370000 km</td>\n",
       "      <td>Toyota 4Runner 2.8 L D</td>\n",
       "      <td>10900.0</td>\n",
       "      <td>U$S</td>\n",
       "      <td>concesionaria</td>\n",
       "      <td>NaN</td>\n",
       "    </tr>\n",
       "    <tr>\n",
       "      <th>898</th>\n",
       "      <td>Toyota</td>\n",
       "      <td>4Runner</td>\n",
       "      <td>1994.0</td>\n",
       "      <td>2.8 L D</td>\n",
       "      <td>Rojo</td>\n",
       "      <td>Diésel</td>\n",
       "      <td>5.0</td>\n",
       "      <td>Manual</td>\n",
       "      <td>2.4</td>\n",
       "      <td>SUV</td>\n",
       "      <td>199000 km</td>\n",
       "      <td>Toyota 4Runner 2.8 L D</td>\n",
       "      <td>16500000.0</td>\n",
       "      <td>$</td>\n",
       "      <td>concesionaria</td>\n",
       "      <td>NaN</td>\n",
       "    </tr>\n",
       "    <tr>\n",
       "      <th>899</th>\n",
       "      <td>Toyota</td>\n",
       "      <td>4Runner</td>\n",
       "      <td>1996.0</td>\n",
       "      <td>2.8 L D</td>\n",
       "      <td>NaN</td>\n",
       "      <td>Diésel</td>\n",
       "      <td>5.0</td>\n",
       "      <td>Manual</td>\n",
       "      <td>2.4</td>\n",
       "      <td>SUV</td>\n",
       "      <td>420000 km</td>\n",
       "      <td>Toyota 4Runner 2.8 L D</td>\n",
       "      <td>12500.0</td>\n",
       "      <td>U$S</td>\n",
       "      <td>particular</td>\n",
       "      <td>NaN</td>\n",
       "    </tr>\n",
       "  </tbody>\n",
       "</table>\n",
       "</div>"
      ],
      "text/plain": [
       "      Marca   Modelo     Año   Versión  Color Tipo de combustible  Puertas  \\\n",
       "895  Toyota  4Runner  1992.0  2.8 Sl D  Negro              Diésel      5.0   \n",
       "896  Toyota  4Runner  1996.0   2.8 L D   Rojo              Diésel      5.0   \n",
       "897  Toyota  4Runner  1997.0   2.8 L D    NaN              Diésel      5.0   \n",
       "898  Toyota  4Runner  1994.0   2.8 L D   Rojo              Diésel      5.0   \n",
       "899  Toyota  4Runner  1996.0   2.8 L D    NaN              Diésel      5.0   \n",
       "\n",
       "    Transmisión Motor Tipo de carrocería Kilómetros                   Título  \\\n",
       "895      Manual   2.4                SUV  283000 km  Toyota 4Runner 2.8 Sl D   \n",
       "896      Manual   2.4                SUV  340000 km   Toyota 4Runner 2.8 L D   \n",
       "897      Manual   2.4                SUV  370000 km   Toyota 4Runner 2.8 L D   \n",
       "898      Manual   2.4                SUV  199000 km   Toyota 4Runner 2.8 L D   \n",
       "899      Manual   2.4                SUV  420000 km   Toyota 4Runner 2.8 L D   \n",
       "\n",
       "         Precio Moneda Tipo de vendedor Con cámara de retroceso  \n",
       "895     27500.0    U$S    concesionaria                     NaN  \n",
       "896     19000.0    U$S    concesionaria                     NaN  \n",
       "897     10900.0    U$S    concesionaria                     NaN  \n",
       "898  16500000.0      $    concesionaria                     NaN  \n",
       "899     12500.0    U$S       particular                     NaN  "
      ]
     },
     "execution_count": 4,
     "metadata": {},
     "output_type": "execute_result"
    }
   ],
   "source": [
    "df_toyota.head()"
   ]
  },
  {
   "cell_type": "code",
   "execution_count": 6,
   "metadata": {},
   "outputs": [
    {
     "data": {
      "text/plain": [
       "array(['4Runner', 'C-HR', 'Corolla Cross', 'Hilux', 'Hilux SW4',\n",
       "       'Land Cruiser', 'RAV4', 'SW4'], dtype=object)"
      ]
     },
     "execution_count": 6,
     "metadata": {},
     "output_type": "execute_result"
    }
   ],
   "source": [
    "df_toyota[\"Modelo\"].unique()"
   ]
  },
  {
   "cell_type": "code",
   "execution_count": 7,
   "metadata": {},
   "outputs": [],
   "source": [
    "df_toyota.loc[df['Modelo'].isin(['Hilux', 'Hilux SW4', 'SW4']), 'Modelo'] = 'Hilux SW4'"
   ]
  },
  {
   "cell_type": "code",
   "execution_count": 8,
   "metadata": {},
   "outputs": [
    {
     "data": {
      "text/plain": [
       "array(['4Runner', 'C-HR', 'Corolla Cross', 'Hilux SW4', 'Land Cruiser',\n",
       "       'RAV4'], dtype=object)"
      ]
     },
     "execution_count": 8,
     "metadata": {},
     "output_type": "execute_result"
    }
   ],
   "source": [
    "df_toyota[\"Modelo\"].unique()"
   ]
  },
  {
   "cell_type": "code",
   "execution_count": 9,
   "metadata": {},
   "outputs": [
    {
     "data": {
      "text/plain": [
       "Modelo\n",
       "Hilux SW4        1065\n",
       "Corolla Cross     518\n",
       "RAV4              231\n",
       "Land Cruiser       82\n",
       "4Runner             8\n",
       "C-HR                2\n",
       "Name: count, dtype: int64"
      ]
     },
     "execution_count": 9,
     "metadata": {},
     "output_type": "execute_result"
    }
   ],
   "source": [
    "df_toyota['Modelo'].value_counts()"
   ]
  },
  {
   "cell_type": "markdown",
   "metadata": {},
   "source": [
    "Due to the number of examples of each model, we decide to only keep hilux sw4, corolla cross and rav4"
   ]
  },
  {
   "cell_type": "code",
   "execution_count": 10,
   "metadata": {},
   "outputs": [],
   "source": [
    "models_to_remove = ['Land Cruiser', '4Runner', 'C-HR']\n",
    "df_toyota_filtered = df_toyota[~df_toyota['Modelo'].isin(models_to_remove)]"
   ]
  },
  {
   "cell_type": "code",
   "execution_count": 12,
   "metadata": {},
   "outputs": [
    {
     "name": "stdout",
     "output_type": "stream",
     "text": [
      "<class 'pandas.core.frame.DataFrame'>\n",
      "Index: 1814 entries, 4377 to 16741\n",
      "Data columns (total 16 columns):\n",
      " #   Column                   Non-Null Count  Dtype  \n",
      "---  ------                   --------------  -----  \n",
      " 0   Marca                    1814 non-null   object \n",
      " 1   Modelo                   1814 non-null   object \n",
      " 2   Año                      1814 non-null   float64\n",
      " 3   Versión                  1814 non-null   object \n",
      " 4   Color                    1142 non-null   object \n",
      " 5   Tipo de combustible      1814 non-null   object \n",
      " 6   Puertas                  1814 non-null   float64\n",
      " 7   Transmisión              1808 non-null   object \n",
      " 8   Motor                    1806 non-null   object \n",
      " 9   Tipo de carrocería       1814 non-null   object \n",
      " 10  Kilómetros               1814 non-null   object \n",
      " 11  Título                   1814 non-null   object \n",
      " 12  Precio                   1814 non-null   float64\n",
      " 13  Moneda                   1814 non-null   object \n",
      " 14  Tipo de vendedor         1814 non-null   object \n",
      " 15  Con cámara de retroceso  249 non-null    object \n",
      "dtypes: float64(3), object(13)\n",
      "memory usage: 240.9+ KB\n"
     ]
    }
   ],
   "source": [
    "df_toyota_filtered.info()"
   ]
  },
  {
   "cell_type": "markdown",
   "metadata": {},
   "source": [
    "Columns to keep (as discussed with robbie):\n",
    "\n",
    "- Modelo\n",
    "- Año\n",
    "- Color\n",
    "- Combustible\n",
    "- Transmision\n",
    "- Motor\n",
    "- Km\n",
    "- Tipo de vendedor\n",
    "- Precio en dolares\n",
    "\n",
    "\n",
    "\n"
   ]
  },
  {
   "cell_type": "code",
   "execution_count": 14,
   "metadata": {},
   "outputs": [],
   "source": [
    "df_toyota_filtered = df_toyota_filtered.drop(columns=['Marca', 'Versión', 'Puertas', 'Tipo de carrocería', 'Título', 'Con cámara de retroceso'])"
   ]
  },
  {
   "cell_type": "code",
   "execution_count": 15,
   "metadata": {},
   "outputs": [
    {
     "data": {
      "text/html": [
       "<div>\n",
       "<style scoped>\n",
       "    .dataframe tbody tr th:only-of-type {\n",
       "        vertical-align: middle;\n",
       "    }\n",
       "\n",
       "    .dataframe tbody tr th {\n",
       "        vertical-align: top;\n",
       "    }\n",
       "\n",
       "    .dataframe thead th {\n",
       "        text-align: right;\n",
       "    }\n",
       "</style>\n",
       "<table border=\"1\" class=\"dataframe\">\n",
       "  <thead>\n",
       "    <tr style=\"text-align: right;\">\n",
       "      <th></th>\n",
       "      <th>Modelo</th>\n",
       "      <th>Año</th>\n",
       "      <th>Color</th>\n",
       "      <th>Tipo de combustible</th>\n",
       "      <th>Transmisión</th>\n",
       "      <th>Motor</th>\n",
       "      <th>Kilómetros</th>\n",
       "      <th>Precio</th>\n",
       "      <th>Moneda</th>\n",
       "      <th>Tipo de vendedor</th>\n",
       "    </tr>\n",
       "  </thead>\n",
       "  <tbody>\n",
       "    <tr>\n",
       "      <th>4377</th>\n",
       "      <td>Corolla Cross</td>\n",
       "      <td>2022.0</td>\n",
       "      <td>Gris</td>\n",
       "      <td>Nafta</td>\n",
       "      <td>Automática</td>\n",
       "      <td>2.0</td>\n",
       "      <td>74000 km</td>\n",
       "      <td>20000000.0</td>\n",
       "      <td>$</td>\n",
       "      <td>concesionaria</td>\n",
       "    </tr>\n",
       "    <tr>\n",
       "      <th>4378</th>\n",
       "      <td>Corolla Cross</td>\n",
       "      <td>2024.0</td>\n",
       "      <td>Blanco</td>\n",
       "      <td>Nafta</td>\n",
       "      <td>Automática</td>\n",
       "      <td>2.0</td>\n",
       "      <td>0 km</td>\n",
       "      <td>31086000.0</td>\n",
       "      <td>$</td>\n",
       "      <td>tienda</td>\n",
       "    </tr>\n",
       "    <tr>\n",
       "      <th>4379</th>\n",
       "      <td>Corolla Cross</td>\n",
       "      <td>2024.0</td>\n",
       "      <td>Blanco</td>\n",
       "      <td>Híbrido/Nafta</td>\n",
       "      <td>Automática</td>\n",
       "      <td>1.8</td>\n",
       "      <td>1111 km</td>\n",
       "      <td>39900.0</td>\n",
       "      <td>U$S</td>\n",
       "      <td>particular</td>\n",
       "    </tr>\n",
       "    <tr>\n",
       "      <th>4380</th>\n",
       "      <td>Corolla Cross</td>\n",
       "      <td>2024.0</td>\n",
       "      <td>Blanco</td>\n",
       "      <td>Híbrido/Nafta</td>\n",
       "      <td>Automática</td>\n",
       "      <td>1.8</td>\n",
       "      <td>0 km</td>\n",
       "      <td>40900.0</td>\n",
       "      <td>U$S</td>\n",
       "      <td>concesionaria</td>\n",
       "    </tr>\n",
       "    <tr>\n",
       "      <th>4381</th>\n",
       "      <td>Corolla Cross</td>\n",
       "      <td>2022.0</td>\n",
       "      <td>Gris</td>\n",
       "      <td>Nafta</td>\n",
       "      <td>Automática</td>\n",
       "      <td>2.0</td>\n",
       "      <td>74000 km</td>\n",
       "      <td>34499999.0</td>\n",
       "      <td>$</td>\n",
       "      <td>concesionaria</td>\n",
       "    </tr>\n",
       "  </tbody>\n",
       "</table>\n",
       "</div>"
      ],
      "text/plain": [
       "             Modelo     Año   Color Tipo de combustible Transmisión Motor  \\\n",
       "4377  Corolla Cross  2022.0    Gris               Nafta  Automática   2.0   \n",
       "4378  Corolla Cross  2024.0  Blanco               Nafta  Automática   2.0   \n",
       "4379  Corolla Cross  2024.0  Blanco       Híbrido/Nafta  Automática   1.8   \n",
       "4380  Corolla Cross  2024.0  Blanco       Híbrido/Nafta  Automática   1.8   \n",
       "4381  Corolla Cross  2022.0    Gris               Nafta  Automática   2.0   \n",
       "\n",
       "     Kilómetros      Precio Moneda Tipo de vendedor  \n",
       "4377   74000 km  20000000.0      $    concesionaria  \n",
       "4378       0 km  31086000.0      $           tienda  \n",
       "4379    1111 km     39900.0    U$S       particular  \n",
       "4380       0 km     40900.0    U$S    concesionaria  \n",
       "4381   74000 km  34499999.0      $    concesionaria  "
      ]
     },
     "execution_count": 15,
     "metadata": {},
     "output_type": "execute_result"
    }
   ],
   "source": [
    "df_toyota_filtered.head()"
   ]
  },
  {
   "cell_type": "markdown",
   "metadata": {},
   "source": [
    "Change price in ARS to USD. Exchange rate: 1 U$D = 1045 AR$"
   ]
  },
  {
   "cell_type": "code",
   "execution_count": 16,
   "metadata": {},
   "outputs": [],
   "source": [
    "exchange_rate = 1045\n",
    "\n",
    "# Convertir precios en pesos a dólares\n",
    "df_toyota_filtered['Precio_USD'] = df_toyota_filtered.apply(\n",
    "    lambda row: row['Precio'] / exchange_rate if row['Moneda'] == '$' else row['Precio'], axis=1\n",
    ")\n",
    "\n",
    "# Eliminar la columna original 'Precio' y 'Moneda' si ya no son necesarias\n",
    "df_toyota_filtered = df_toyota_filtered.drop(columns=['Precio', 'Moneda'])\n",
    "\n",
    "# Renombrar la columna nueva si prefieres\n",
    "df_toyota_filtered.rename(columns={'Precio_USD': 'Precio'}, inplace=True)"
   ]
  },
  {
   "cell_type": "code",
   "execution_count": 17,
   "metadata": {},
   "outputs": [
    {
     "data": {
      "text/html": [
       "<div>\n",
       "<style scoped>\n",
       "    .dataframe tbody tr th:only-of-type {\n",
       "        vertical-align: middle;\n",
       "    }\n",
       "\n",
       "    .dataframe tbody tr th {\n",
       "        vertical-align: top;\n",
       "    }\n",
       "\n",
       "    .dataframe thead th {\n",
       "        text-align: right;\n",
       "    }\n",
       "</style>\n",
       "<table border=\"1\" class=\"dataframe\">\n",
       "  <thead>\n",
       "    <tr style=\"text-align: right;\">\n",
       "      <th></th>\n",
       "      <th>Modelo</th>\n",
       "      <th>Año</th>\n",
       "      <th>Color</th>\n",
       "      <th>Tipo de combustible</th>\n",
       "      <th>Transmisión</th>\n",
       "      <th>Motor</th>\n",
       "      <th>Kilómetros</th>\n",
       "      <th>Tipo de vendedor</th>\n",
       "      <th>Precio</th>\n",
       "    </tr>\n",
       "  </thead>\n",
       "  <tbody>\n",
       "    <tr>\n",
       "      <th>4377</th>\n",
       "      <td>Corolla Cross</td>\n",
       "      <td>2022.0</td>\n",
       "      <td>Gris</td>\n",
       "      <td>Nafta</td>\n",
       "      <td>Automática</td>\n",
       "      <td>2.0</td>\n",
       "      <td>74000 km</td>\n",
       "      <td>concesionaria</td>\n",
       "      <td>19138.755981</td>\n",
       "    </tr>\n",
       "    <tr>\n",
       "      <th>4378</th>\n",
       "      <td>Corolla Cross</td>\n",
       "      <td>2024.0</td>\n",
       "      <td>Blanco</td>\n",
       "      <td>Nafta</td>\n",
       "      <td>Automática</td>\n",
       "      <td>2.0</td>\n",
       "      <td>0 km</td>\n",
       "      <td>tienda</td>\n",
       "      <td>29747.368421</td>\n",
       "    </tr>\n",
       "    <tr>\n",
       "      <th>4379</th>\n",
       "      <td>Corolla Cross</td>\n",
       "      <td>2024.0</td>\n",
       "      <td>Blanco</td>\n",
       "      <td>Híbrido/Nafta</td>\n",
       "      <td>Automática</td>\n",
       "      <td>1.8</td>\n",
       "      <td>1111 km</td>\n",
       "      <td>particular</td>\n",
       "      <td>39900.000000</td>\n",
       "    </tr>\n",
       "    <tr>\n",
       "      <th>4380</th>\n",
       "      <td>Corolla Cross</td>\n",
       "      <td>2024.0</td>\n",
       "      <td>Blanco</td>\n",
       "      <td>Híbrido/Nafta</td>\n",
       "      <td>Automática</td>\n",
       "      <td>1.8</td>\n",
       "      <td>0 km</td>\n",
       "      <td>concesionaria</td>\n",
       "      <td>40900.000000</td>\n",
       "    </tr>\n",
       "    <tr>\n",
       "      <th>4381</th>\n",
       "      <td>Corolla Cross</td>\n",
       "      <td>2022.0</td>\n",
       "      <td>Gris</td>\n",
       "      <td>Nafta</td>\n",
       "      <td>Automática</td>\n",
       "      <td>2.0</td>\n",
       "      <td>74000 km</td>\n",
       "      <td>concesionaria</td>\n",
       "      <td>33014.353110</td>\n",
       "    </tr>\n",
       "  </tbody>\n",
       "</table>\n",
       "</div>"
      ],
      "text/plain": [
       "             Modelo     Año   Color Tipo de combustible Transmisión Motor  \\\n",
       "4377  Corolla Cross  2022.0    Gris               Nafta  Automática   2.0   \n",
       "4378  Corolla Cross  2024.0  Blanco               Nafta  Automática   2.0   \n",
       "4379  Corolla Cross  2024.0  Blanco       Híbrido/Nafta  Automática   1.8   \n",
       "4380  Corolla Cross  2024.0  Blanco       Híbrido/Nafta  Automática   1.8   \n",
       "4381  Corolla Cross  2022.0    Gris               Nafta  Automática   2.0   \n",
       "\n",
       "     Kilómetros Tipo de vendedor        Precio  \n",
       "4377   74000 km    concesionaria  19138.755981  \n",
       "4378       0 km           tienda  29747.368421  \n",
       "4379    1111 km       particular  39900.000000  \n",
       "4380       0 km    concesionaria  40900.000000  \n",
       "4381   74000 km    concesionaria  33014.353110  "
      ]
     },
     "execution_count": 17,
     "metadata": {},
     "output_type": "execute_result"
    }
   ],
   "source": [
    "df_toyota_filtered.head()"
   ]
  },
  {
   "cell_type": "code",
   "execution_count": 18,
   "metadata": {},
   "outputs": [
    {
     "data": {
      "text/html": [
       "<div>\n",
       "<style scoped>\n",
       "    .dataframe tbody tr th:only-of-type {\n",
       "        vertical-align: middle;\n",
       "    }\n",
       "\n",
       "    .dataframe tbody tr th {\n",
       "        vertical-align: top;\n",
       "    }\n",
       "\n",
       "    .dataframe thead th {\n",
       "        text-align: right;\n",
       "    }\n",
       "</style>\n",
       "<table border=\"1\" class=\"dataframe\">\n",
       "  <thead>\n",
       "    <tr style=\"text-align: right;\">\n",
       "      <th></th>\n",
       "      <th>Año</th>\n",
       "      <th>Precio</th>\n",
       "    </tr>\n",
       "  </thead>\n",
       "  <tbody>\n",
       "    <tr>\n",
       "      <th>count</th>\n",
       "      <td>1814.000000</td>\n",
       "      <td>1814.000000</td>\n",
       "    </tr>\n",
       "    <tr>\n",
       "      <th>mean</th>\n",
       "      <td>2018.248071</td>\n",
       "      <td>34906.338342</td>\n",
       "    </tr>\n",
       "    <tr>\n",
       "      <th>std</th>\n",
       "      <td>5.603972</td>\n",
       "      <td>13160.513060</td>\n",
       "    </tr>\n",
       "    <tr>\n",
       "      <th>min</th>\n",
       "      <td>1997.000000</td>\n",
       "      <td>1387.559809</td>\n",
       "    </tr>\n",
       "    <tr>\n",
       "      <th>25%</th>\n",
       "      <td>2015.000000</td>\n",
       "      <td>25900.000000</td>\n",
       "    </tr>\n",
       "    <tr>\n",
       "      <th>50%</th>\n",
       "      <td>2020.000000</td>\n",
       "      <td>34000.000000</td>\n",
       "    </tr>\n",
       "    <tr>\n",
       "      <th>75%</th>\n",
       "      <td>2023.000000</td>\n",
       "      <td>42000.000000</td>\n",
       "    </tr>\n",
       "    <tr>\n",
       "      <th>max</th>\n",
       "      <td>2024.000000</td>\n",
       "      <td>102000.000000</td>\n",
       "    </tr>\n",
       "  </tbody>\n",
       "</table>\n",
       "</div>"
      ],
      "text/plain": [
       "               Año         Precio\n",
       "count  1814.000000    1814.000000\n",
       "mean   2018.248071   34906.338342\n",
       "std       5.603972   13160.513060\n",
       "min    1997.000000    1387.559809\n",
       "25%    2015.000000   25900.000000\n",
       "50%    2020.000000   34000.000000\n",
       "75%    2023.000000   42000.000000\n",
       "max    2024.000000  102000.000000"
      ]
     },
     "execution_count": 18,
     "metadata": {},
     "output_type": "execute_result"
    }
   ],
   "source": [
    "df_toyota_filtered.describe()"
   ]
  },
  {
   "cell_type": "markdown",
   "metadata": {},
   "source": [
    "Download dataset"
   ]
  },
  {
   "cell_type": "code",
   "execution_count": 25,
   "metadata": {},
   "outputs": [],
   "source": [
    "df_toyota_filtered.to_csv(\"/home/linar/Desktop/ML/Clases/i302/TPs/TP2/Data/toyota.csv\")"
   ]
  },
  {
   "cell_type": "markdown",
   "metadata": {},
   "source": [
    "## Visualizaciones"
   ]
  },
  {
   "cell_type": "code",
   "execution_count": 19,
   "metadata": {},
   "outputs": [],
   "source": [
    "import seaborn as sns\n",
    "import matplotlib.pyplot as plt"
   ]
  },
  {
   "cell_type": "markdown",
   "metadata": {},
   "source": [
    "1. Distribución de Precio por modelo"
   ]
  },
  {
   "cell_type": "code",
   "execution_count": 20,
   "metadata": {},
   "outputs": [
    {
     "data": {
      "image/png": "[encoded data removed]",
      "text/plain": [
       "<Figure size 720x432 with 1 Axes>"
      ]
     },
     "metadata": {
      "needs_background": "light"
     },
     "output_type": "display_data"
    }
   ],
   "source": [
    "plt.figure(figsize=(10, 6))\n",
    "sns.boxplot(x='Modelo', y='Precio', data=df_toyota_filtered)\n",
    "plt.title('Distribución de Precios por Modelo')\n",
    "plt.xlabel('Modelo')\n",
    "plt.ylabel('Precio (U$S)')\n",
    "plt.xticks(rotation=45)\n",
    "plt.show()"
   ]
  },
  {
   "cell_type": "markdown",
   "metadata": {},
   "source": [
    "2. Relación entre Km y Precio"
   ]
  },
  {
   "cell_type": "code",
   "execution_count": 21,
   "metadata": {},
   "outputs": [
    {
     "data": {
      "image/png": "[encoded data removed]",
      "text/plain": [
       "<Figure size 720x432 with 1 Axes>"
      ]
     },
     "metadata": {
      "needs_background": "light"
     },
     "output_type": "display_data"
    }
   ],
   "source": [
    "plt.figure(figsize=(10, 6))\n",
    "sns.scatterplot(x='Kilómetros', y='Precio', hue='Modelo', data=df_toyota_filtered)\n",
    "plt.title('Relación entre Kilómetros y Precio')\n",
    "plt.xlabel('Kilómetros')\n",
    "plt.ylabel('Precio (U$S)')\n",
    "plt.show()"
   ]
  },
  {
   "cell_type": "markdown",
   "metadata": {},
   "source": []
  }
 ],
 "metadata": {
  "kernelspec": {
   "display_name": "i302",
   "language": "python",
   "name": "python3"
  },
  "language_info": {
   "codemirror_mode": {
    "name": "ipython",
    "version": 3
   },
   "file_extension": ".py",
   "mimetype": "text/x-python",
   "name": "python",
   "nbconvert_exporter": "python",
   "pygments_lexer": "ipython3",
   "version": "3.8.10"
  }
 },
 "nbformat": 4,
 "nbformat_minor": 2
}
