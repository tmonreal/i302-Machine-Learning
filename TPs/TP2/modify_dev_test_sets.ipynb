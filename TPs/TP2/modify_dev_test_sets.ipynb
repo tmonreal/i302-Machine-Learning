{
 "cells": [
  {
   "cell_type": "markdown",
   "metadata": {},
   "source": [
    "El objetivo de este notebook es corregir los datasets ya divididos en el archivo create_dataset, para que no aparezca la columna \"Set\" y para cambiar el nombre de la feature \"Modelo\" ya que puede confundirse en las consignas con modelo de ML. Vamos a asignarle el nombre \"Tipo\""
   ]
  },
  {
   "cell_type": "code",
   "execution_count": 2,
   "metadata": {},
   "outputs": [
    {
     "name": "stdout",
     "output_type": "stream",
     "text": [
      "      id           Tipo     Año     Color Tipo de combustible Transmisión  \\\n",
      "0  16631      Hilux SW4  2013.0  Plateado               Nafta  Automática   \n",
      "1  16568      Hilux SW4  1999.0       NaN              Diésel      Manual   \n",
      "2   4694  Corolla Cross  2023.0    Blanco               Nafta  Automática   \n",
      "3   4806  Corolla Cross  2023.0      Gris               Nafta  Automática   \n",
      "4   9838      Hilux SW4  2017.0       NaN              Diésel      Manual   \n",
      "\n",
      "  Motor Kilómetros Tipo de vendedor   Precio  \n",
      "0   2.7  176000 km       particular  22000.0  \n",
      "1   3.0  516000 km       particular  14800.0  \n",
      "2     2    1111 km    concesionaria  36000.0  \n",
      "3   2.0    2000 km       particular  33900.0  \n",
      "4   2.8  119000 km       particular  32000.0  \n"
     ]
    }
   ],
   "source": [
    "import pandas as pd\n",
    "\n",
    "# Load the dataset\n",
    "df = pd.read_csv('/home/linar/Desktop/ML/Clases/i302/TPs/TP2/Data/toyota_dev.csv')\n",
    "\n",
    "# Delete the column \"Set\"\n",
    "df = df.drop(columns=['Set'])\n",
    "\n",
    "# Rename the column \"Modelo\" to \"Tipo\"\n",
    "df = df.rename(columns={'Modelo': 'Tipo'})\n",
    "\n",
    "# Display the first few rows to verify the changes\n",
    "print(df.head())\n",
    "\n",
    "# Save the modified dataset if needed\n",
    "df.to_csv('/home/linar/Desktop/ML/Clases/i302/TPs/TP2/Data/toyota_dev_modified.csv', index=False)"
   ]
  },
  {
   "cell_type": "code",
   "execution_count": 3,
   "metadata": {},
   "outputs": [
    {
     "name": "stdout",
     "output_type": "stream",
     "text": [
      "      id       Tipo     Año     Color Tipo de combustible Transmisión Motor  \\\n",
      "0  13599       RAV4  2013.0      Gris               Nafta  Automática   2.4   \n",
      "1   9865  Hilux SW4  2013.0  Plateado              Diésel  Automática   3.0   \n",
      "2  13501       RAV4  2014.0       NaN               Nafta  Automática   2.5   \n",
      "3  16288  Hilux SW4  2021.0    Blanco              Diésel  Automática   2.8   \n",
      "4  16519  Hilux SW4  2023.0    Blanco              Diésel  Automática   2.8   \n",
      "\n",
      "  Kilómetros Tipo de vendedor        Precio  \n",
      "0  140000 km    concesionaria   8612.440191  \n",
      "1  240000 km       particular  14500.000000  \n",
      "2  160000 km       particular  19800.000000  \n",
      "3   32000 km    concesionaria  51674.641148  \n",
      "4    1800 km    concesionaria  53000.000000  \n"
     ]
    }
   ],
   "source": [
    "import pandas as pd\n",
    "\n",
    "# Load the dataset\n",
    "df = pd.read_csv('/home/linar/Desktop/ML/Clases/i302/TPs/TP2/Data/toyota_test.csv')\n",
    "\n",
    "# Delete the column \"Set\"\n",
    "df = df.drop(columns=['Set'])\n",
    "\n",
    "# Rename the column \"Modelo\" to \"Tipo\"\n",
    "df = df.rename(columns={'Modelo': 'Tipo'})\n",
    "\n",
    "# Display the first few rows to verify the changes\n",
    "print(df.head())\n",
    "\n",
    "# Save the modified dataset if needed\n",
    "df.to_csv('/home/linar/Desktop/ML/Clases/i302/TPs/TP2/Data/toyota_test_modified.csv', index=False)"
   ]
  }
 ],
 "metadata": {
  "kernelspec": {
   "display_name": "i302",
   "language": "python",
   "name": "python3"
  },
  "language_info": {
   "codemirror_mode": {
    "name": "ipython",
    "version": 3
   },
   "file_extension": ".py",
   "mimetype": "text/x-python",
   "name": "python",
   "nbconvert_exporter": "python",
   "pygments_lexer": "ipython3",
   "version": "3.8.10"
  }
 },
 "nbformat": 4,
 "nbformat_minor": 2
}
