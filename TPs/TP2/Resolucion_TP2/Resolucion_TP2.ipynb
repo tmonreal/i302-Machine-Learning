{
 "cells": [
  {
   "cell_type": "markdown",
   "metadata": {},
   "source": [
    "# Trabajo Práctico 2: Regresión\n",
    "\n",
    "El objetivo de este trabajo práctico es desarrollar y evaluar diversos modelos de regresión para estimar el precio de venta de una SUV (Sport Utility Vehicle) de Toyota. El dataset **Precios de SUVs** contiene información sobre los precios en dólares de tres modelos de vehículos SUV de la marca Toyota, publicados en la página de Mercado Libre Argentina. Además, incluye características adicionales relacionadas con cada publicación. Previamente, el conjunto de datos fue dividido en subconjuntos de desarrollo (`toyota_dev.csv`) y prueba (`toyota_test.csv`).\n",
    "\n",
    "**Nota:** La implementación de las funciones y/o clases debe realizarse utilizando exclusivamente la librería NumPy. No se permite el uso de librerías de Machine Learning como scikit-learn, TensorFlow, Keras, PyTorch, XGBoost, o LightGBM."
   ]
  },
  {
   "cell_type": "markdown",
   "metadata": {},
   "source": [
    "1. **Visualización de Datos**\n",
    "\n",
    "   Utiliza el dataset de desarrollo para crear una serie de gráficos que exploren las relaciones entre diferentes variables. Las visualizaciones deben ayudarte a identificar patrones y tendencias en los datos. Utiliza las librerías Matplotlib o Seaborn para esta tarea.\n",
    "\n",
    "    - Visualiza cómo varía el precio en dólares en función de los kilómetros recorridos por el vehículo. ¿Observas la misma tendencia para los diferentes modelos?\n",
    "    - Compara la distribución de precios en dólares entre los distintos modelos de SUV. ¿Identificas la presencia de outliers? ¿Qué acciones tomarías con ellos?\n",
    "    - Analiza la distribución del precio en dólares según el año del vehículo.\n",
    "    - Evalúa la utilidad de la variable categórica **Color**. ¿Existen diferencias significativas en el precio según el color del vehículo? ¿Hay algún modelo cuyo precio parezca estar influenciado por el color?\n",
    "    - Compara cómo varía el precio según el tipo de combustible utilizado. ¿Hay algún modelo cuyo precio esté condicionado por el tipo de combustible?\n",
    "    - Compara los precios en función del tipo de transmisión del vehículo.\n",
    "    - Analiza la distribución de los modelos por año. ¿Puedes identificar si ciertos modelos son más comunes en años específicos?\n",
    "    - **OPCIONAL**: Agrega una o más visualizaciones adicionales que consideres útiles para obtener insights valiosos y mejorar la comprensión del dataset."
   ]
  },
  {
   "cell_type": "code",
   "execution_count": 1,
   "metadata": {},
   "outputs": [],
   "source": [
    "import pandas as pd\n",
    "import matplotlib.pyplot as plt\n",
    "import seaborn as sns\n",
    "\n",
    "\n",
    "# COMPLETAR CON TU CÓDIGO AQUÍ"
   ]
  },
  {
   "cell_type": "markdown",
   "metadata": {},
   "source": [
    "2. **División del Dataset**\n",
    "\n",
    "   Dentro de un archivo llamado `data_splitting.py`:\n",
    "\n",
    "   - Implementa la función `train_val_split(...)` que divida el set de desarrollo en dos subconjuntos: uno para entrenamiento (train) y otro para validación (validate). Asegúrate de que la división sea representativa y evite que un solo grupo de muestras se concentre en un solo subconjunto.\n",
    "   - Implementa la función `cross_val(...)` que realice la validación cruzada (cross-validation) con `k` folds sobre el set de desarrollo."
   ]
  },
  {
   "cell_type": "code",
   "execution_count": null,
   "metadata": {},
   "outputs": [],
   "source": [
    "from data_splitting import train_val_split, cross_val"
   ]
  },
  {
   "cell_type": "markdown",
   "metadata": {},
   "source": [
    "3. **Implementación de Métricas**\n",
    "\n",
    "   Dentro de un archivo llamado `metrics.py`:\n",
    "\n",
    "   - Implementa la función `RMSE(...)` que calcule el error cuadrático medio (Root Mean Squared Error) entre las predicciones y los valores reales.\n",
    "   - Implementa la función `MAE(...)` que calcule el error absoluto medio (Mean Absolute Error) entre las predicciones y los valores reales.\n",
    "   - Implementa la función `R2(...)` que calcule el coeficiente de determinación (R-squared) para evaluar la proporción de la varianza en los valores reales explicada por las predicciones."
   ]
  },
  {
   "cell_type": "code",
   "execution_count": null,
   "metadata": {},
   "outputs": [],
   "source": [
    "from metrics import RMSE, MAE, R2"
   ]
  },
  {
   "cell_type": "markdown",
   "metadata": {},
   "source": [
    "4. **Modelos de Regresión**\n",
    "\n",
    "   Dentro de un archivo llamado `models.py`:\n",
    "\n",
    "   - Implementa un modelo de regresión lineal (`LinearRegression`) que estime el precio de venta de una SUV de Toyota utilizando las características disponibles en el dataset.\n",
    "   - Implementa un modelo de regresión no-lineal (`NonLinearRegression`) utilizando regresores con parámetros no-lineales que deberás seleccionar o desarrollar según tu criterio. **Nota:** El objetivo es modelar el precio de venta de SUVs, por lo que debes elegir un enfoque que capture de manera efectiva la relación no-lineal entre las variables.\n",
    "   - Implementa un modelo de regresión localmente ponderada (`LocallyWeightedRegression`) que ajuste el modelo de regresión en función de los datos cercanos a la predicción."
   ]
  },
  {
   "cell_type": "code",
   "execution_count": null,
   "metadata": {},
   "outputs": [],
   "source": [
    "from models import LinearRegression, NonLinearRegression, LocallyWeightedRegression"
   ]
  },
  {
   "cell_type": "markdown",
   "metadata": {},
   "source": [
    "5. **Evaluación con División Train-Val**\n",
    "\n",
    "   Utiliza la función `train_val_split(...)` para dividir el dataset de desarrollo en conjuntos de entrenamiento (70%) y validación (30%). Entrena los modelos `LinearRegression`, `NonLinearRegression`, y `LocallyWeightedRegression`, y reporta las métricas RMSE, MAE y $R^2$."
   ]
  },
  {
   "cell_type": "code",
   "execution_count": null,
   "metadata": {},
   "outputs": [],
   "source": [
    "# COMPLETAR CON TU CÓDIGO AQUÍ"
   ]
  },
  {
   "cell_type": "markdown",
   "metadata": {},
   "source": [
    "6. **Evaluación con Validación Cruzada**\n",
    "\n",
    "   Utiliza el dataset de desarrollo y la función `cross_val(...)` con `k=5` para entrenar los modelos `LinearRegression`, `NonLinearRegression`, y `LocallyWeightedRegression`. Reporta las métricas RMSE, MAE y $R^2$."
   ]
  },
  {
   "cell_type": "code",
   "execution_count": null,
   "metadata": {},
   "outputs": [],
   "source": [
    "# COMPLETAR CON TU CÓDIGO AQUÍ"
   ]
  },
  {
   "cell_type": "markdown",
   "metadata": {},
   "source": [
    "7. **Comparación de Resultados**\n",
    "\n",
    "   Elabora una tabla comparativa de los resultados obtenidos en los dos pasos anteriores. Realiza una discusión breve en la que analices las diferencias entre los modelos y expliques los motivos detrás de los resultados observados."
   ]
  },
  {
   "cell_type": "code",
   "execution_count": null,
   "metadata": {},
   "outputs": [],
   "source": [
    "# COMPLETAR CON TU CÓDIGO AQUÍ"
   ]
  },
  {
   "cell_type": "markdown",
   "metadata": {},
   "source": [
    "8. **Evaluación en el Conjunto de Prueba**\n",
    "\n",
    "    Evalúa el rendimiento de los modelos LinearRegression, NonLinearRegression, y LocallyWeightedRegression sobre el conjunto de prueba y reporta las métricas RMSE, MAE y $R^2$."
   ]
  },
  {
   "cell_type": "code",
   "execution_count": null,
   "metadata": {},
   "outputs": [],
   "source": [
    "# COMPLETAR CON TU CÓDIGO AQUÍ"
   ]
  }
 ],
 "metadata": {
  "kernelspec": {
   "display_name": "i302",
   "language": "python",
   "name": "python3"
  },
  "language_info": {
   "codemirror_mode": {
    "name": "ipython",
    "version": 3
   },
   "file_extension": ".py",
   "mimetype": "text/x-python",
   "name": "python",
   "nbconvert_exporter": "python",
   "pygments_lexer": "ipython3",
   "version": "3.8.10"
  }
 },
 "nbformat": 4,
 "nbformat_minor": 2
}
