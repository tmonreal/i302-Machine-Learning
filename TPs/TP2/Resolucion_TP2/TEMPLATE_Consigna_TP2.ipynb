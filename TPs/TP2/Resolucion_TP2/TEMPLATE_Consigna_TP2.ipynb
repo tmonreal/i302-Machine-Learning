{
 "cells": [
  {
   "cell_type": "markdown",
   "metadata": {},
   "source": [
    "<center>\n",
    "  <img src=\"/home/linar/Desktop/ML/Clases/i302/TPs/TP2/Resolucion_TP2/Logo-Udesa.jpg\" alt=\"Logo Udesa\" width=\"200\"/>\n",
    "  <h1>Trabajo Práctico 2: Regresión</h1>\n",
    "  <h2>I302 - Aprendizaje Automático y Aprendizaje Profundo</h2>\n",
    "  <h4>Nombre y Apellido</h4>\n",
    "</center>\n",
    "\n",
    "<span style=\"color: black;\">**Fecha de entrega:** Domingo 1 de septiembre, 23:59 hs.\n",
    "\n",
    "<span style=\"color: black;\">**Formato de entrega:** Los archivos desarrollados deben ser entregados en un archivo comprimido `.zip` a través del Campus Virtual, utilizando el siguiente formato de nombre de archivo: `Apellido_Nombre_TP2.zip`. Dentro del archivo `.zip`, debe incluirse este Jupyter Notebook llamado `Entrega_TP2.ipynb` con las respuestas y gráficos resultantes.\n",
    "Puede agregar resultados o análisis adicionales si lo considera necesario. Se recomienda fuertemente no realizar todo el desarrollo dentro del Jupyter Notebook; en su lugar, se sugiere usar archivos `.py` para desarrollar el código, siguiendo las buenas prácticas de programación y modularización vistas en clase. \n",
    "\n",
    "<span style=\"color: black;\">**Objetivo:** El objetivo de este trabajo es desarrollar y evaluar diversos modelos de regresión para estimar el precio de venta de una SUV de Toyota utilizando NumPy y otras librerías permitidas (Matplotlib o Seaborn para gráficos). No se permite el uso de librerías de machine learning como scikit-learn.\n",
    "\n",
    "---"
   ]
  },
  {
   "cell_type": "markdown",
   "metadata": {},
   "source": [
    "## <span style=\"color: black;\"> 1. Análisis Exploratorio de Datos (EDA)\n",
    "<span style=\"color: black;\">El primer paso consiste en crear una serie de gráficos para explorar las relaciones entre diferentes variables del dataset de desarrollo. Para ello, podrán hacer uso de las librerías Matplotlib o Seaborn."
   ]
  },
  {
   "cell_type": "code",
   "execution_count": null,
   "metadata": {
    "vscode": {
     "languageId": "plaintext"
    }
   },
   "outputs": [],
   "source": [
    "# Import libraries"
   ]
  },
  {
   "cell_type": "markdown",
   "metadata": {},
   "source": [
    "### <span style=\"color: black;\">a) Cobertura de las características\n",
    "<span style=\"color: black;\">1. Generar histogramas para visualizar la distribución de tipos de vehículo, años de fabricación y kilómetros recorridos.</span> "
   ]
  },
  {
   "cell_type": "code",
   "execution_count": null,
   "metadata": {
    "vscode": {
     "languageId": "plaintext"
    }
   },
   "outputs": [],
   "source": []
  },
  {
   "cell_type": "markdown",
   "metadata": {},
   "source": [
    "<span style=\"color: black;\">2. Crear gráficos de dispersión para analizar la cobertura de datos en el espacio de kilómetros recorridos y años de fabricación, diferenciando por tipo de vehículo."
   ]
  },
  {
   "cell_type": "code",
   "execution_count": null,
   "metadata": {
    "vscode": {
     "languageId": "plaintext"
    }
   },
   "outputs": [],
   "source": []
  },
  {
   "cell_type": "markdown",
   "metadata": {},
   "source": [
    "<span style=\"color: black;\">3. Visualizar la distribución de la variable \"Motor\" según el tipo de vehículo. ¿Cómo podría agrupar o simplificar las categorías para obtener un análisis más claro?"
   ]
  },
  {
   "cell_type": "code",
   "execution_count": null,
   "metadata": {
    "vscode": {
     "languageId": "plaintext"
    }
   },
   "outputs": [],
   "source": []
  },
  {
   "cell_type": "markdown",
   "metadata": {},
   "source": [
    "<span style=\"color: black;\">4. Comparar la distribución de los tipos de transmisión en función del tipo de vehículo utilizando gráficos adecuados."
   ]
  },
  {
   "cell_type": "code",
   "execution_count": null,
   "metadata": {
    "vscode": {
     "languageId": "plaintext"
    }
   },
   "outputs": [],
   "source": []
  },
  {
   "cell_type": "markdown",
   "metadata": {},
   "source": [
    "<span style=\"color: black;\">5. Analizar cómo se distribuye la variable \"Color\" entre los distintos tipos de vehículo."
   ]
  },
  {
   "cell_type": "code",
   "execution_count": null,
   "metadata": {
    "vscode": {
     "languageId": "plaintext"
    }
   },
   "outputs": [],
   "source": []
  },
  {
   "cell_type": "markdown",
   "metadata": {},
   "source": [
    "### <span style=\"color: black;\">b) Análisis de correlación con el precio\n",
    "\n",
    "<span style=\"color: black;\">1. Visualizar cómo varía el precio de venta en función de los kilómetros recorridos por el vehículo. ¿Observa la misma tendencia para los diferentes tipos de vehículo?"
   ]
  },
  {
   "cell_type": "code",
   "execution_count": null,
   "metadata": {
    "vscode": {
     "languageId": "plaintext"
    }
   },
   "outputs": [],
   "source": []
  },
  {
   "cell_type": "markdown",
   "metadata": {},
   "source": [
    "<span style=\"color: black;\">2. Comparar la distribución de precios de venta entre los distintos tipos de SUV. ¿Identifica la presencia de outliers?"
   ]
  },
  {
   "cell_type": "code",
   "execution_count": null,
   "metadata": {
    "vscode": {
     "languageId": "plaintext"
    }
   },
   "outputs": [],
   "source": []
  },
  {
   "cell_type": "markdown",
   "metadata": {},
   "source": [
    "<span style=\"color: black;\">3. Analizar la distribución del precio de venta según el año del vehículo."
   ]
  },
  {
   "cell_type": "code",
   "execution_count": null,
   "metadata": {
    "vscode": {
     "languageId": "plaintext"
    }
   },
   "outputs": [],
   "source": []
  },
  {
   "cell_type": "markdown",
   "metadata": {},
   "source": [
    "<span style=\"color: black;\">4. Evaluar la utilidad de la variable \"Color\". ¿Existen diferencias significativas en el precio de venta según el color del vehículo? ¿Hay algún modelo cuyo precio parezca estar influenciado por el color?"
   ]
  },
  {
   "cell_type": "code",
   "execution_count": null,
   "metadata": {
    "vscode": {
     "languageId": "plaintext"
    }
   },
   "outputs": [],
   "source": []
  },
  {
   "cell_type": "markdown",
   "metadata": {},
   "source": [
    "<span style=\"color: black;\">5. Comparar cómo varía el precio de venta según el tipo de combustible utilizado. ¿Existe algún tipo de vehículo cuyo precio de venta esté condicionado por el tipo de combustible?"
   ]
  },
  {
   "cell_type": "code",
   "execution_count": null,
   "metadata": {
    "vscode": {
     "languageId": "plaintext"
    }
   },
   "outputs": [],
   "source": []
  },
  {
   "cell_type": "markdown",
   "metadata": {},
   "source": [
    "<span style=\"color: black;\">6. Comparar los precios de venta en función del tipo de transmisión del vehículo."
   ]
  },
  {
   "cell_type": "code",
   "execution_count": null,
   "metadata": {
    "vscode": {
     "languageId": "plaintext"
    }
   },
   "outputs": [],
   "source": []
  },
  {
   "cell_type": "markdown",
   "metadata": {},
   "source": [
    "<span style=\"color: black;\">7. Graficar la relación entre el tipo de vendedor y el precio de venta. ¿Hay alguna tendencia o patrón en los precios en función del tipo de vendedor?"
   ]
  },
  {
   "cell_type": "code",
   "execution_count": null,
   "metadata": {
    "vscode": {
     "languageId": "plaintext"
    }
   },
   "outputs": [],
   "source": []
  },
  {
   "cell_type": "markdown",
   "metadata": {},
   "source": [
    "<span style=\"color: black;\">8. Generar la matriz de correlación entre las características y el precio de venta. ¿Qué puede deducir a partir de estos resultados?"
   ]
  },
  {
   "cell_type": "code",
   "execution_count": null,
   "metadata": {
    "vscode": {
     "languageId": "plaintext"
    }
   },
   "outputs": [],
   "source": []
  },
  {
   "cell_type": "markdown",
   "metadata": {},
   "source": [
    "<span style=\"color: black;\">_OPCIONAL_: Agregar una o más visualizaciones que considere útiles para generar un insight valioso y mejorar la comprensión del dataset."
   ]
  },
  {
   "cell_type": "code",
   "execution_count": null,
   "metadata": {
    "vscode": {
     "languageId": "plaintext"
    }
   },
   "outputs": [],
   "source": [
    "# Celda opcional."
   ]
  },
  {
   "cell_type": "markdown",
   "metadata": {},
   "source": [
    "### 1.2 Análisis de correlación con el precio\n",
    "1. Generar un gráfico de dispersión para observar la relación entre kilómetros recorridos y precio.\n",
    "\n",
    "2. Generar un gráfico de dispersión para observar la relación entre años de fabricación y precio.\n",
    "\n",
    "3. Realizar un análisis de correlación entre las características del dataset y el precio, utilizando métodos numéricos como la correlación de Pearson.\n",
    "\n",
    "4. Interpretar los resultados: \n",
    "   - ¿Qué variables parecen tener mayor correlación con el precio?\n",
    "   - ¿Qué conclusiones pueden extraerse a partir de la visualización y la correlación numérica?\n",
    "\n",
    "---\n",
    "\n",
    "## 2. Preprocesamiento de Datos\n",
    "El segundo paso es preparar los datos para el entrenamiento de modelos de regresión.\n",
    "\n",
    "### 2.1 Tratamiento de valores faltantes\n",
    "1. Identificar si existen valores faltantes en el dataset.\n",
    "\n",
    "2. Describir cómo se manejarán estos valores en el preprocesamiento.\n",
    "\n",
    "### 2.2 Codificación de variables categóricas\n",
    "1. Convertir las variables categóricas del dataset a un formato numérico adecuado mediante `one-hot encoding`.\n",
    "\n",
    "### 2.3 Normalización de características\n",
    "1. Normalizar las características numéricas utilizando un método de normalización que consideres apropiado (min-max scaling, z-score, etc.).\n",
    "\n",
    "2. Justificar la elección del método de normalización.\n",
    "\n",
    "---\n",
    "\n",
    "## 3. Implementación de Modelos de Regresión\n",
    "En esta sección se implementarán distintos modelos de regresión desde cero.\n",
    "\n",
    "### 3.1 Regresión Lineal\n",
    "1. Implementar el modelo de regresión lineal utilizando la ecuación normal o un algoritmo de gradiente descendente. No se permite el uso de librerías de machine learning como `scikit-learn`.\n",
    "\n",
    "2. Entrenar el modelo con los datos preprocesados.\n",
    "\n",
    "3. Evaluar el modelo utilizando métricas adecuadas (RMSE, MAE, etc.).\n",
    "\n",
    "### 3.2 Comparación con otros modelos\n",
    "1. Implementar otro modelo de regresión (p. ej., regresión polinómica o ridge).\n",
    "\n",
    "2. Entrenar el modelo y compararlo con la regresión lineal en términos de rendimiento y complejidad.\n",
    "\n",
    "---\n",
    "\n",
    "## 4. Análisis Final\n",
    "1. Realizar una tabla comparativa que muestre las diferencias entre los modelos implementados.\n",
    "\n",
    "2. Discutir los resultados obtenidos, destacando ventajas y desventajas de cada modelo en función del dataset utilizado.\n",
    "\n",
    "---\n",
    "\n",
    "## 5. Extensión\n",
    "Desarrollar una idea propia para mejorar o extender el análisis, como probar un nuevo modelo, realizar una selección de características, o analizar los puntos atípicos en detalle. Explicar tu enfoque y justificar por qué es relevante.\n",
    "\n",
    "---\n",
    "\n",
    "¡Éxitos!"
   ]
  },
  {
   "cell_type": "markdown",
   "metadata": {},
   "source": []
  }
 ],
 "metadata": {
  "kernelspec": {
   "display_name": "i302",
   "language": "python",
   "name": "python3"
  },
  "language_info": {
   "codemirror_mode": {
    "name": "ipython",
    "version": 3
   },
   "file_extension": ".py",
   "mimetype": "text/x-python",
   "name": "python",
   "nbconvert_exporter": "python",
   "pygments_lexer": "ipython3",
   "version": "3.8.10"
  }
 },
 "nbformat": 4,
 "nbformat_minor": 2
}
