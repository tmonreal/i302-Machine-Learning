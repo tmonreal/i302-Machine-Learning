{
 "cells": [
  {
   "cell_type": "markdown",
   "metadata": {},
   "source": [
    "# Ejercicio 1: Regresión"
   ]
  },
  {
   "cell_type": "markdown",
   "metadata": {},
   "source": [
    "Quiero definir una arquitectura básica que sea adecuada para que los alumnos realicen las primeras consignas, y luego investigar qué arquitectura puede ser la más adecuada en términos de rendimiento y número de parámetros."
   ]
  },
  {
   "cell_type": "code",
   "execution_count": null,
   "metadata": {},
   "outputs": [],
   "source": [
    "import pandas as pd\n",
    "from sklearn.preprocessing import MinMaxScaler\n",
    "\n",
    "# Cargar los datos\n",
    "df_train = pd.read_csv('/home/linar/Desktop/ML/Clases/i302/TPs/TP4/Data/toyota_dev_train_processed.csv')\n",
    "df_val = pd.read_csv('/home/linar/Desktop/ML/Clases/i302/TPs/TP4/Data/toyota_dev_val_processed.csv')\n",
    "df_test = pd.read_csv('/home/linar/Desktop/ML/Clases/i302/TPs/TP4/Data/toyota_test_processed.csv')\n",
    "\n",
    "# Identify columns in test set\n",
    "test_columns = list(df_test.columns)\n",
    "\n",
    "# Drop columns from training and validation sets that are not in the test set\n",
    "train_data_filtered = df_train.loc[:, test_columns]\n",
    "val_data_filtered = df_val.loc[:, test_columns]\n",
    "\n",
    "# Estándarizar características numéricas\n",
    "scaler = MinMaxScaler()\n",
    "\n",
    "# Ajustar el escalador en los datos de entrenamiento y transformar todos los conjuntos\n",
    "X_train_scaled = train_data_filtered.copy()\n",
    "X_val_scaled = val_data_filtered.copy()\n",
    "X_test_scaled = df_test.copy()\n",
    "\n",
    "# Ajustar el escalador solo en las características numéricas de entrenamiento\n",
    "X_train_scaled[['Año', 'Motor']] = scaler.fit_transform(df_train[['Año', 'Motor']])\n",
    "\n",
    "# Transformar los conjuntos de validación y prueba\n",
    "X_val_scaled[['Año', 'Motor']] = scaler.transform(df_val[['Año', 'Motor']])\n",
    "X_test_scaled[['Año', 'Motor']] = scaler.transform(df_test[['Año', 'Motor']])\n",
    "\n",
    "# Guardar los conjuntos de datos estandarizados si es necesario\n",
    "X_train_scaled.to_csv('/home/linar/Desktop/ML/Clases/i302/TPs/TP4/Data/toyota_dev_train_processed_scaled.csv', index=False)\n",
    "X_val_scaled.to_csv('/home/linar/Desktop/ML/Clases/i302/TPs/TP4/Data/toyota_dev_val_processed_scaled.csv', index=False)\n",
    "X_test_scaled.to_csv('/home/linar/Desktop/ML/Clases/i302/TPs/TP4/Data/toyota_test_processed_scaled.csv', index=False)\n"
   ]
  },
  {
   "cell_type": "markdown",
   "metadata": {},
   "source": [
    "# CORRER DESDE ACA"
   ]
  },
  {
   "cell_type": "code",
   "execution_count": 1,
   "metadata": {},
   "outputs": [],
   "source": [
    "import pandas as pd\n",
    "from sklearn.neural_network import MLPRegressor\n",
    "from sklearn.metrics import mean_squared_error, r2_score\n",
    "import matplotlib.pyplot as plt\n",
    "\n",
    "# Cargar los datos\n",
    "train_path = '/home/linar/Desktop/ML/Clases/i302/TPs/TP4/Data/toyota_dev_train_processed_scaled.csv'\n",
    "val_path = '/home/linar/Desktop/ML/Clases/i302/TPs/TP4/Data/toyota_dev_val_processed_scaled.csv'\n",
    "test_path = '/home/linar/Desktop/ML/Clases/i302/TPs/TP4/Data/toyota_test_processed_scaled.csv'\n",
    "\n",
    "train_data = pd.read_csv(train_path)\n",
    "val_data = pd.read_csv(val_path)\n",
    "test_data = pd.read_csv(test_path)\n"
   ]
  },
  {
   "cell_type": "code",
   "execution_count": 2,
   "metadata": {},
   "outputs": [],
   "source": [
    "X_train = train_data.drop(columns=['Precio'])\n",
    "y_train = train_data['Precio']\n",
    "X_val = val_data.drop(columns=['Precio'])\n",
    "y_val = val_data['Precio']\n",
    "X_test = test_data.drop(columns=['Precio'])\n",
    "y_test = test_data['Precio']"
   ]
  },
  {
   "cell_type": "code",
   "execution_count": 9,
   "metadata": {},
   "outputs": [],
   "source": [
    "def evaluate_model(hidden_layer_sizes, rs):\n",
    "    model = MLPRegressor(hidden_layer_sizes=hidden_layer_sizes, activation='relu', solver='sgd',learning_rate_init=0.00000001, max_iter=300, random_state=rs, batch_size=len(X_train))\n",
    "    model.fit(X_train, y_train)\n",
    "    y_pred_val = model.predict(X_val)\n",
    "    y_pred_test = model.predict(X_test)\n",
    "    mse_val = mean_squared_error(y_val, y_pred_val)\n",
    "    mse_test = mean_squared_error(y_test, y_pred_test)\n",
    "    r2_val = r2_score(y_val, y_pred_val)\n",
    "    r2_test = r2_score(y_test, y_pred_test)\n",
    "    return mse_val, mse_test,r2_val, r2_test"
   ]
  },
  {
   "cell_type": "code",
   "execution_count": 35,
   "metadata": {},
   "outputs": [],
   "source": [
    "# Definir una lista de arquitecturas a probar\n",
    "architectures = [ (10, 8, 4)]"
   ]
  },
  {
   "cell_type": "code",
   "execution_count": 10,
   "metadata": {},
   "outputs": [
    {
     "name": "stderr",
     "output_type": "stream",
     "text": [
      "/home/linar/.local/lib/python3.8/site-packages/sklearn/neural_network/_multilayer_perceptron.py:691: ConvergenceWarning: Stochastic Optimizer: Maximum iterations (300) reached and the optimization hasn't converged yet.\n",
      "  warnings.warn(\n"
     ]
    },
    {
     "name": "stdout",
     "output_type": "stream",
     "text": [
      "MSE en Validación: 24860851.8090 | MSE en Prueba: 24369176.0743 \n",
      " | R2 en Validación: 0.8535 | R2 en Prueba: 0.8344\n"
     ]
    },
    {
     "name": "stderr",
     "output_type": "stream",
     "text": [
      "/home/linar/.local/lib/python3.8/site-packages/sklearn/neural_network/_multilayer_perceptron.py:691: ConvergenceWarning: Stochastic Optimizer: Maximum iterations (300) reached and the optimization hasn't converged yet.\n",
      "  warnings.warn(\n"
     ]
    },
    {
     "name": "stdout",
     "output_type": "stream",
     "text": [
      "MSE en Validación: 1392404175.0470 | MSE en Prueba: 1319987113.6368 \n",
      " | R2 en Validación: -7.2045 | R2 en Prueba: -7.9725\n"
     ]
    },
    {
     "name": "stderr",
     "output_type": "stream",
     "text": [
      "/home/linar/.local/lib/python3.8/site-packages/sklearn/neural_network/_multilayer_perceptron.py:691: ConvergenceWarning: Stochastic Optimizer: Maximum iterations (300) reached and the optimization hasn't converged yet.\n",
      "  warnings.warn(\n"
     ]
    },
    {
     "name": "stdout",
     "output_type": "stream",
     "text": [
      "MSE en Validación: 30231426.0380 | MSE en Prueba: 26659241.4160 \n",
      " | R2 en Validación: 0.8219 | R2 en Prueba: 0.8188\n"
     ]
    },
    {
     "name": "stderr",
     "output_type": "stream",
     "text": [
      "/home/linar/.local/lib/python3.8/site-packages/sklearn/neural_network/_multilayer_perceptron.py:691: ConvergenceWarning: Stochastic Optimizer: Maximum iterations (300) reached and the optimization hasn't converged yet.\n",
      "  warnings.warn(\n"
     ]
    },
    {
     "name": "stdout",
     "output_type": "stream",
     "text": [
      "MSE en Validación: 1392381810.2008 | MSE en Prueba: 1319965142.8154 \n",
      " | R2 en Validación: -7.2043 | R2 en Prueba: -7.9723\n"
     ]
    },
    {
     "name": "stderr",
     "output_type": "stream",
     "text": [
      "/home/linar/.local/lib/python3.8/site-packages/sklearn/neural_network/_multilayer_perceptron.py:691: ConvergenceWarning: Stochastic Optimizer: Maximum iterations (300) reached and the optimization hasn't converged yet.\n",
      "  warnings.warn(\n"
     ]
    },
    {
     "name": "stdout",
     "output_type": "stream",
     "text": [
      "MSE en Validación: 1391936857.7836 | MSE en Prueba: 1319533911.1920 \n",
      " | R2 en Validación: -7.2017 | R2 en Prueba: -7.9694\n"
     ]
    },
    {
     "name": "stderr",
     "output_type": "stream",
     "text": [
      "/home/linar/.local/lib/python3.8/site-packages/sklearn/neural_network/_multilayer_perceptron.py:691: ConvergenceWarning: Stochastic Optimizer: Maximum iterations (300) reached and the optimization hasn't converged yet.\n",
      "  warnings.warn(\n"
     ]
    },
    {
     "name": "stdout",
     "output_type": "stream",
     "text": [
      "MSE en Validación: 1392399308.9279 | MSE en Prueba: 1319981942.0685 \n",
      " | R2 en Validación: -7.2044 | R2 en Prueba: -7.9724\n"
     ]
    },
    {
     "name": "stderr",
     "output_type": "stream",
     "text": [
      "/home/linar/.local/lib/python3.8/site-packages/sklearn/neural_network/_multilayer_perceptron.py:691: ConvergenceWarning: Stochastic Optimizer: Maximum iterations (300) reached and the optimization hasn't converged yet.\n",
      "  warnings.warn(\n"
     ]
    },
    {
     "name": "stdout",
     "output_type": "stream",
     "text": [
      "MSE en Validación: 20476139.7734 | MSE en Prueba: 20801386.4279 \n",
      " | R2 en Validación: 0.8793 | R2 en Prueba: 0.8586\n"
     ]
    },
    {
     "name": "stderr",
     "output_type": "stream",
     "text": [
      "/home/linar/.local/lib/python3.8/site-packages/sklearn/neural_network/_multilayer_perceptron.py:691: ConvergenceWarning: Stochastic Optimizer: Maximum iterations (300) reached and the optimization hasn't converged yet.\n",
      "  warnings.warn(\n"
     ]
    },
    {
     "name": "stdout",
     "output_type": "stream",
     "text": [
      "MSE en Validación: 21209703.5519 | MSE en Prueba: 21181230.1107 \n",
      " | R2 en Validación: 0.8750 | R2 en Prueba: 0.8560\n"
     ]
    },
    {
     "name": "stderr",
     "output_type": "stream",
     "text": [
      "/home/linar/.local/lib/python3.8/site-packages/sklearn/neural_network/_multilayer_perceptron.py:691: ConvergenceWarning: Stochastic Optimizer: Maximum iterations (300) reached and the optimization hasn't converged yet.\n",
      "  warnings.warn(\n"
     ]
    },
    {
     "name": "stdout",
     "output_type": "stream",
     "text": [
      "MSE en Validación: 1392433902.9297 | MSE en Prueba: 1320016210.8743 \n",
      " | R2 en Validación: -7.2046 | R2 en Prueba: -7.9727\n"
     ]
    },
    {
     "name": "stderr",
     "output_type": "stream",
     "text": [
      "/home/linar/.local/lib/python3.8/site-packages/sklearn/neural_network/_multilayer_perceptron.py:691: ConvergenceWarning: Stochastic Optimizer: Maximum iterations (300) reached and the optimization hasn't converged yet.\n",
      "  warnings.warn(\n"
     ]
    },
    {
     "name": "stdout",
     "output_type": "stream",
     "text": [
      "MSE en Validación: 21312090.4729 | MSE en Prueba: 21122634.4100 \n",
      " | R2 en Validación: 0.8744 | R2 en Prueba: 0.8564\n"
     ]
    },
    {
     "name": "stderr",
     "output_type": "stream",
     "text": [
      "/home/linar/.local/lib/python3.8/site-packages/sklearn/neural_network/_multilayer_perceptron.py:691: ConvergenceWarning: Stochastic Optimizer: Maximum iterations (300) reached and the optimization hasn't converged yet.\n",
      "  warnings.warn(\n"
     ]
    },
    {
     "name": "stdout",
     "output_type": "stream",
     "text": [
      "MSE en Validación: 1392397820.6805 | MSE en Prueba: 1319980897.6422 \n",
      " | R2 en Validación: -7.2044 | R2 en Prueba: -7.9724\n"
     ]
    },
    {
     "name": "stderr",
     "output_type": "stream",
     "text": [
      "/home/linar/.local/lib/python3.8/site-packages/sklearn/neural_network/_multilayer_perceptron.py:691: ConvergenceWarning: Stochastic Optimizer: Maximum iterations (300) reached and the optimization hasn't converged yet.\n",
      "  warnings.warn(\n"
     ]
    },
    {
     "name": "stdout",
     "output_type": "stream",
     "text": [
      "MSE en Validación: 1326207133.8761 | MSE en Prueba: 1254970268.9790 \n",
      " | R2 en Validación: -6.8144 | R2 en Prueba: -7.5305\n"
     ]
    },
    {
     "name": "stderr",
     "output_type": "stream",
     "text": [
      "/home/linar/.local/lib/python3.8/site-packages/sklearn/neural_network/_multilayer_perceptron.py:691: ConvergenceWarning: Stochastic Optimizer: Maximum iterations (300) reached and the optimization hasn't converged yet.\n",
      "  warnings.warn(\n"
     ]
    },
    {
     "name": "stdout",
     "output_type": "stream",
     "text": [
      "MSE en Validación: 20371962.9796 | MSE en Prueba: 20326299.7388 \n",
      " | R2 en Validación: 0.8800 | R2 en Prueba: 0.8618\n"
     ]
    },
    {
     "name": "stderr",
     "output_type": "stream",
     "text": [
      "/home/linar/.local/lib/python3.8/site-packages/sklearn/neural_network/_multilayer_perceptron.py:691: ConvergenceWarning: Stochastic Optimizer: Maximum iterations (300) reached and the optimization hasn't converged yet.\n",
      "  warnings.warn(\n"
     ]
    },
    {
     "name": "stdout",
     "output_type": "stream",
     "text": [
      "MSE en Validación: 41356554.7762 | MSE en Prueba: 36396478.9548 \n",
      " | R2 en Validación: 0.7563 | R2 en Prueba: 0.7526\n"
     ]
    },
    {
     "name": "stderr",
     "output_type": "stream",
     "text": [
      "/home/linar/.local/lib/python3.8/site-packages/sklearn/neural_network/_multilayer_perceptron.py:691: ConvergenceWarning: Stochastic Optimizer: Maximum iterations (300) reached and the optimization hasn't converged yet.\n",
      "  warnings.warn(\n"
     ]
    },
    {
     "name": "stdout",
     "output_type": "stream",
     "text": [
      "MSE en Validación: 34983113.4234 | MSE en Prueba: 30395483.1343 \n",
      " | R2 en Validación: 0.7939 | R2 en Prueba: 0.7934\n"
     ]
    },
    {
     "name": "stderr",
     "output_type": "stream",
     "text": [
      "/home/linar/.local/lib/python3.8/site-packages/sklearn/neural_network/_multilayer_perceptron.py:691: ConvergenceWarning: Stochastic Optimizer: Maximum iterations (300) reached and the optimization hasn't converged yet.\n",
      "  warnings.warn(\n"
     ]
    },
    {
     "name": "stdout",
     "output_type": "stream",
     "text": [
      "MSE en Validación: 121465549.1676 | MSE en Prueba: 110953839.6634 \n",
      " | R2 en Validación: 0.2843 | R2 en Prueba: 0.2458\n"
     ]
    },
    {
     "name": "stderr",
     "output_type": "stream",
     "text": [
      "/home/linar/.local/lib/python3.8/site-packages/sklearn/neural_network/_multilayer_perceptron.py:691: ConvergenceWarning: Stochastic Optimizer: Maximum iterations (300) reached and the optimization hasn't converged yet.\n",
      "  warnings.warn(\n"
     ]
    },
    {
     "name": "stdout",
     "output_type": "stream",
     "text": [
      "MSE en Validación: 105788915.7339 | MSE en Prueba: 95268503.4526 \n",
      " | R2 en Validación: 0.3767 | R2 en Prueba: 0.3524\n"
     ]
    },
    {
     "name": "stderr",
     "output_type": "stream",
     "text": [
      "/home/linar/.local/lib/python3.8/site-packages/sklearn/neural_network/_multilayer_perceptron.py:691: ConvergenceWarning: Stochastic Optimizer: Maximum iterations (300) reached and the optimization hasn't converged yet.\n",
      "  warnings.warn(\n"
     ]
    },
    {
     "name": "stdout",
     "output_type": "stream",
     "text": [
      "MSE en Validación: 21262172.3091 | MSE en Prueba: 20910108.7208 \n",
      " | R2 en Validación: 0.8747 | R2 en Prueba: 0.8579\n"
     ]
    },
    {
     "name": "stderr",
     "output_type": "stream",
     "text": [
      "/home/linar/.local/lib/python3.8/site-packages/sklearn/neural_network/_multilayer_perceptron.py:691: ConvergenceWarning: Stochastic Optimizer: Maximum iterations (300) reached and the optimization hasn't converged yet.\n",
      "  warnings.warn(\n",
      "/home/linar/.local/lib/python3.8/site-packages/sklearn/neural_network/_multilayer_perceptron.py:698: UserWarning: Training interrupted by user.\n",
      "  warnings.warn(\"Training interrupted by user.\")\n"
     ]
    },
    {
     "name": "stdout",
     "output_type": "stream",
     "text": [
      "MSE en Validación: 22148081.5260 | MSE en Prueba: 22319609.3208 \n",
      " | R2 en Validación: 0.8695 | R2 en Prueba: 0.8483\n",
      "MSE en Validación: 1392316518.4487 | MSE en Prueba: 1319902587.2641 \n",
      " | R2 en Validación: -7.2040 | R2 en Prueba: -7.9719\n"
     ]
    },
    {
     "name": "stderr",
     "output_type": "stream",
     "text": [
      "/home/linar/.local/lib/python3.8/site-packages/sklearn/neural_network/_multilayer_perceptron.py:691: ConvergenceWarning: Stochastic Optimizer: Maximum iterations (300) reached and the optimization hasn't converged yet.\n",
      "  warnings.warn(\n"
     ]
    },
    {
     "name": "stdout",
     "output_type": "stream",
     "text": [
      "MSE en Validación: 1392368415.5996 | MSE en Prueba: 1319952074.8028 \n",
      " | R2 en Validación: -7.2043 | R2 en Prueba: -7.9722\n"
     ]
    },
    {
     "name": "stderr",
     "output_type": "stream",
     "text": [
      "/home/linar/.local/lib/python3.8/site-packages/sklearn/neural_network/_multilayer_perceptron.py:691: ConvergenceWarning: Stochastic Optimizer: Maximum iterations (300) reached and the optimization hasn't converged yet.\n",
      "  warnings.warn(\n"
     ]
    },
    {
     "name": "stdout",
     "output_type": "stream",
     "text": [
      "MSE en Validación: 21770075.4895 | MSE en Prueba: 22843265.4563 \n",
      " | R2 en Validación: 0.8717 | R2 en Prueba: 0.8447\n"
     ]
    },
    {
     "name": "stderr",
     "output_type": "stream",
     "text": [
      "/home/linar/.local/lib/python3.8/site-packages/sklearn/neural_network/_multilayer_perceptron.py:691: ConvergenceWarning: Stochastic Optimizer: Maximum iterations (300) reached and the optimization hasn't converged yet.\n",
      "  warnings.warn(\n"
     ]
    },
    {
     "name": "stdout",
     "output_type": "stream",
     "text": [
      "MSE en Validación: 39330001.8861 | MSE en Prueba: 34461867.2996 \n",
      " | R2 en Validación: 0.7683 | R2 en Prueba: 0.7657\n"
     ]
    },
    {
     "name": "stderr",
     "output_type": "stream",
     "text": [
      "/home/linar/.local/lib/python3.8/site-packages/sklearn/neural_network/_multilayer_perceptron.py:691: ConvergenceWarning: Stochastic Optimizer: Maximum iterations (300) reached and the optimization hasn't converged yet.\n",
      "  warnings.warn(\n"
     ]
    },
    {
     "name": "stdout",
     "output_type": "stream",
     "text": [
      "MSE en Validación: 1392297826.5144 | MSE en Prueba: 1319880655.1057 \n",
      " | R2 en Validación: -7.2038 | R2 en Prueba: -7.9717\n"
     ]
    },
    {
     "name": "stderr",
     "output_type": "stream",
     "text": [
      "/home/linar/.local/lib/python3.8/site-packages/sklearn/neural_network/_multilayer_perceptron.py:691: ConvergenceWarning: Stochastic Optimizer: Maximum iterations (300) reached and the optimization hasn't converged yet.\n",
      "  warnings.warn(\n"
     ]
    },
    {
     "name": "stdout",
     "output_type": "stream",
     "text": [
      "MSE en Validación: 46056992.0619 | MSE en Prueba: 40484496.3634 \n",
      " | R2 en Validación: 0.7286 | R2 en Prueba: 0.7248\n"
     ]
    },
    {
     "name": "stderr",
     "output_type": "stream",
     "text": [
      "/home/linar/.local/lib/python3.8/site-packages/sklearn/neural_network/_multilayer_perceptron.py:691: ConvergenceWarning: Stochastic Optimizer: Maximum iterations (300) reached and the optimization hasn't converged yet.\n",
      "  warnings.warn(\n"
     ]
    },
    {
     "name": "stdout",
     "output_type": "stream",
     "text": [
      "MSE en Validación: 28431795.3037 | MSE en Prueba: 25992880.5344 \n",
      " | R2 en Validación: 0.8325 | R2 en Prueba: 0.8233\n"
     ]
    },
    {
     "name": "stderr",
     "output_type": "stream",
     "text": [
      "/home/linar/.local/lib/python3.8/site-packages/sklearn/neural_network/_multilayer_perceptron.py:691: ConvergenceWarning: Stochastic Optimizer: Maximum iterations (300) reached and the optimization hasn't converged yet.\n",
      "  warnings.warn(\n"
     ]
    },
    {
     "name": "stdout",
     "output_type": "stream",
     "text": [
      "MSE en Validación: 26303724.2327 | MSE en Prueba: 24571261.8784 \n",
      " | R2 en Validación: 0.8450 | R2 en Prueba: 0.8330\n"
     ]
    },
    {
     "name": "stderr",
     "output_type": "stream",
     "text": [
      "/home/linar/.local/lib/python3.8/site-packages/sklearn/neural_network/_multilayer_perceptron.py:691: ConvergenceWarning: Stochastic Optimizer: Maximum iterations (300) reached and the optimization hasn't converged yet.\n",
      "  warnings.warn(\n"
     ]
    },
    {
     "name": "stdout",
     "output_type": "stream",
     "text": [
      "MSE en Validación: 1392353572.6694 | MSE en Prueba: 1319937245.4570 \n",
      " | R2 en Validación: -7.2042 | R2 en Prueba: -7.9721\n"
     ]
    },
    {
     "name": "stderr",
     "output_type": "stream",
     "text": [
      "/home/linar/.local/lib/python3.8/site-packages/sklearn/neural_network/_multilayer_perceptron.py:691: ConvergenceWarning: Stochastic Optimizer: Maximum iterations (300) reached and the optimization hasn't converged yet.\n",
      "  warnings.warn(\n"
     ]
    },
    {
     "name": "stdout",
     "output_type": "stream",
     "text": [
      "MSE en Validación: 1392343495.6376 | MSE en Prueba: 1319927953.5757 \n",
      " | R2 en Validación: -7.2041 | R2 en Prueba: -7.9721\n"
     ]
    },
    {
     "name": "stderr",
     "output_type": "stream",
     "text": [
      "/home/linar/.local/lib/python3.8/site-packages/sklearn/neural_network/_multilayer_perceptron.py:691: ConvergenceWarning: Stochastic Optimizer: Maximum iterations (300) reached and the optimization hasn't converged yet.\n",
      "  warnings.warn(\n"
     ]
    },
    {
     "name": "stdout",
     "output_type": "stream",
     "text": [
      "MSE en Validación: 1392450765.4022 | MSE en Prueba: 1320032747.7486 \n",
      " | R2 en Validación: -7.2047 | R2 en Prueba: -7.9728\n"
     ]
    },
    {
     "name": "stderr",
     "output_type": "stream",
     "text": [
      "/home/linar/.local/lib/python3.8/site-packages/sklearn/neural_network/_multilayer_perceptron.py:691: ConvergenceWarning: Stochastic Optimizer: Maximum iterations (300) reached and the optimization hasn't converged yet.\n",
      "  warnings.warn(\n"
     ]
    },
    {
     "name": "stdout",
     "output_type": "stream",
     "text": [
      "MSE en Validación: 121951941.7192 | MSE en Prueba: 108525418.1844 \n",
      " | R2 en Validación: 0.2814 | R2 en Prueba: 0.2623\n"
     ]
    },
    {
     "name": "stderr",
     "output_type": "stream",
     "text": [
      "/home/linar/.local/lib/python3.8/site-packages/sklearn/neural_network/_multilayer_perceptron.py:691: ConvergenceWarning: Stochastic Optimizer: Maximum iterations (300) reached and the optimization hasn't converged yet.\n",
      "  warnings.warn(\n"
     ]
    },
    {
     "name": "stdout",
     "output_type": "stream",
     "text": [
      "MSE en Validación: 1392468591.4037 | MSE en Prueba: 1320050107.0242 \n",
      " | R2 en Validación: -7.2048 | R2 en Prueba: -7.9729\n"
     ]
    },
    {
     "name": "stderr",
     "output_type": "stream",
     "text": [
      "/home/linar/.local/lib/python3.8/site-packages/sklearn/neural_network/_multilayer_perceptron.py:691: ConvergenceWarning: Stochastic Optimizer: Maximum iterations (300) reached and the optimization hasn't converged yet.\n",
      "  warnings.warn(\n"
     ]
    },
    {
     "name": "stdout",
     "output_type": "stream",
     "text": [
      "MSE en Validación: 20134164.5011 | MSE en Prueba: 20135865.7518 \n",
      " | R2 en Validación: 0.8814 | R2 en Prueba: 0.8631\n"
     ]
    },
    {
     "name": "stderr",
     "output_type": "stream",
     "text": [
      "/home/linar/.local/lib/python3.8/site-packages/sklearn/neural_network/_multilayer_perceptron.py:691: ConvergenceWarning: Stochastic Optimizer: Maximum iterations (300) reached and the optimization hasn't converged yet.\n",
      "  warnings.warn(\n"
     ]
    },
    {
     "name": "stdout",
     "output_type": "stream",
     "text": [
      "MSE en Validación: 21336828.9248 | MSE en Prueba: 20870591.1064 \n",
      " | R2 en Validación: 0.8743 | R2 en Prueba: 0.8581\n"
     ]
    },
    {
     "name": "stderr",
     "output_type": "stream",
     "text": [
      "/home/linar/.local/lib/python3.8/site-packages/sklearn/neural_network/_multilayer_perceptron.py:691: ConvergenceWarning: Stochastic Optimizer: Maximum iterations (300) reached and the optimization hasn't converged yet.\n",
      "  warnings.warn(\n"
     ]
    },
    {
     "name": "stdout",
     "output_type": "stream",
     "text": [
      "MSE en Validación: 74866349.6397 | MSE en Prueba: 67663997.9298 \n",
      " | R2 en Validación: 0.5589 | R2 en Prueba: 0.5401\n"
     ]
    },
    {
     "name": "stderr",
     "output_type": "stream",
     "text": [
      "/home/linar/.local/lib/python3.8/site-packages/sklearn/neural_network/_multilayer_perceptron.py:691: ConvergenceWarning: Stochastic Optimizer: Maximum iterations (300) reached and the optimization hasn't converged yet.\n",
      "  warnings.warn(\n"
     ]
    },
    {
     "name": "stdout",
     "output_type": "stream",
     "text": [
      "MSE en Validación: 43335553.8743 | MSE en Prueba: 37877741.4530 \n",
      " | R2 en Validación: 0.7447 | R2 en Prueba: 0.7425\n"
     ]
    },
    {
     "name": "stderr",
     "output_type": "stream",
     "text": [
      "/home/linar/.local/lib/python3.8/site-packages/sklearn/neural_network/_multilayer_perceptron.py:691: ConvergenceWarning: Stochastic Optimizer: Maximum iterations (300) reached and the optimization hasn't converged yet.\n",
      "  warnings.warn(\n"
     ]
    },
    {
     "name": "stdout",
     "output_type": "stream",
     "text": [
      "MSE en Validación: 120932270.4680 | MSE en Prueba: 103193769.8077 \n",
      " | R2 en Validación: 0.2874 | R2 en Prueba: 0.2986\n"
     ]
    },
    {
     "name": "stderr",
     "output_type": "stream",
     "text": [
      "/home/linar/.local/lib/python3.8/site-packages/sklearn/neural_network/_multilayer_perceptron.py:691: ConvergenceWarning: Stochastic Optimizer: Maximum iterations (300) reached and the optimization hasn't converged yet.\n",
      "  warnings.warn(\n"
     ]
    },
    {
     "name": "stdout",
     "output_type": "stream",
     "text": [
      "MSE en Validación: 1392444413.8148 | MSE en Prueba: 1320026252.3519 \n",
      " | R2 en Validación: -7.2047 | R2 en Prueba: -7.9727\n"
     ]
    },
    {
     "name": "stderr",
     "output_type": "stream",
     "text": [
      "/home/linar/.local/lib/python3.8/site-packages/sklearn/neural_network/_multilayer_perceptron.py:691: ConvergenceWarning: Stochastic Optimizer: Maximum iterations (300) reached and the optimization hasn't converged yet.\n",
      "  warnings.warn(\n"
     ]
    },
    {
     "name": "stdout",
     "output_type": "stream",
     "text": [
      "MSE en Validación: 35602020.2596 | MSE en Prueba: 30893304.5029 \n",
      " | R2 en Validación: 0.7902 | R2 en Prueba: 0.7900\n"
     ]
    },
    {
     "name": "stderr",
     "output_type": "stream",
     "text": [
      "/home/linar/.local/lib/python3.8/site-packages/sklearn/neural_network/_multilayer_perceptron.py:691: ConvergenceWarning: Stochastic Optimizer: Maximum iterations (300) reached and the optimization hasn't converged yet.\n",
      "  warnings.warn(\n"
     ]
    },
    {
     "name": "stdout",
     "output_type": "stream",
     "text": [
      "MSE en Validación: 27146252.0100 | MSE en Prueba: 25375031.3803 \n",
      " | R2 en Validación: 0.8400 | R2 en Prueba: 0.8275\n"
     ]
    },
    {
     "name": "stderr",
     "output_type": "stream",
     "text": [
      "/home/linar/.local/lib/python3.8/site-packages/sklearn/neural_network/_multilayer_perceptron.py:691: ConvergenceWarning: Stochastic Optimizer: Maximum iterations (300) reached and the optimization hasn't converged yet.\n",
      "  warnings.warn(\n"
     ]
    },
    {
     "name": "stdout",
     "output_type": "stream",
     "text": [
      "MSE en Validación: 41488658.9328 | MSE en Prueba: 36201427.5675 \n",
      " | R2 en Validación: 0.7555 | R2 en Prueba: 0.7539\n"
     ]
    },
    {
     "name": "stderr",
     "output_type": "stream",
     "text": [
      "/home/linar/.local/lib/python3.8/site-packages/sklearn/neural_network/_multilayer_perceptron.py:691: ConvergenceWarning: Stochastic Optimizer: Maximum iterations (300) reached and the optimization hasn't converged yet.\n",
      "  warnings.warn(\n"
     ]
    },
    {
     "name": "stdout",
     "output_type": "stream",
     "text": [
      "MSE en Validación: 1392407884.4672 | MSE en Prueba: 1319990639.1875 \n",
      " | R2 en Validación: -7.2045 | R2 en Prueba: -7.9725\n"
     ]
    },
    {
     "name": "stderr",
     "output_type": "stream",
     "text": [
      "/home/linar/.local/lib/python3.8/site-packages/sklearn/neural_network/_multilayer_perceptron.py:691: ConvergenceWarning: Stochastic Optimizer: Maximum iterations (300) reached and the optimization hasn't converged yet.\n",
      "  warnings.warn(\n"
     ]
    },
    {
     "name": "stdout",
     "output_type": "stream",
     "text": [
      "MSE en Validación: 1392412972.7550 | MSE en Prueba: 1319995727.4848 \n",
      " | R2 en Validación: -7.2045 | R2 en Prueba: -7.9725\n"
     ]
    },
    {
     "name": "stderr",
     "output_type": "stream",
     "text": [
      "/home/linar/.local/lib/python3.8/site-packages/sklearn/neural_network/_multilayer_perceptron.py:691: ConvergenceWarning: Stochastic Optimizer: Maximum iterations (300) reached and the optimization hasn't converged yet.\n",
      "  warnings.warn(\n"
     ]
    },
    {
     "name": "stdout",
     "output_type": "stream",
     "text": [
      "MSE en Validación: 1392452055.6770 | MSE en Prueba: 1320034066.5458 \n",
      " | R2 en Validación: -7.2047 | R2 en Prueba: -7.9728\n"
     ]
    },
    {
     "name": "stderr",
     "output_type": "stream",
     "text": [
      "/home/linar/.local/lib/python3.8/site-packages/sklearn/neural_network/_multilayer_perceptron.py:691: ConvergenceWarning: Stochastic Optimizer: Maximum iterations (300) reached and the optimization hasn't converged yet.\n",
      "  warnings.warn(\n"
     ]
    },
    {
     "name": "stdout",
     "output_type": "stream",
     "text": [
      "MSE en Validación: 21014634.4883 | MSE en Prueba: 20285139.5173 \n",
      " | R2 en Validación: 0.8762 | R2 en Prueba: 0.8621\n"
     ]
    },
    {
     "name": "stderr",
     "output_type": "stream",
     "text": [
      "/home/linar/.local/lib/python3.8/site-packages/sklearn/neural_network/_multilayer_perceptron.py:691: ConvergenceWarning: Stochastic Optimizer: Maximum iterations (300) reached and the optimization hasn't converged yet.\n",
      "  warnings.warn(\n"
     ]
    },
    {
     "name": "stdout",
     "output_type": "stream",
     "text": [
      "MSE en Validación: 19649981.9455 | MSE en Prueba: 19573777.7659 \n",
      " | R2 en Validación: 0.8842 | R2 en Prueba: 0.8669\n"
     ]
    },
    {
     "name": "stderr",
     "output_type": "stream",
     "text": [
      "/home/linar/.local/lib/python3.8/site-packages/sklearn/neural_network/_multilayer_perceptron.py:691: ConvergenceWarning: Stochastic Optimizer: Maximum iterations (300) reached and the optimization hasn't converged yet.\n",
      "  warnings.warn(\n"
     ]
    },
    {
     "name": "stdout",
     "output_type": "stream",
     "text": [
      "MSE en Validación: 1392157867.7780 | MSE en Prueba: 1319750644.5176 \n",
      " | R2 en Validación: -7.2030 | R2 en Prueba: -7.9709\n"
     ]
    },
    {
     "name": "stderr",
     "output_type": "stream",
     "text": [
      "/home/linar/.local/lib/python3.8/site-packages/sklearn/neural_network/_multilayer_perceptron.py:691: ConvergenceWarning: Stochastic Optimizer: Maximum iterations (300) reached and the optimization hasn't converged yet.\n",
      "  warnings.warn(\n"
     ]
    },
    {
     "name": "stdout",
     "output_type": "stream",
     "text": [
      "MSE en Validación: 19757283.8255 | MSE en Prueba: 19036916.6168 \n",
      " | R2 en Validación: 0.8836 | R2 en Prueba: 0.8706\n"
     ]
    },
    {
     "name": "stderr",
     "output_type": "stream",
     "text": [
      "/home/linar/.local/lib/python3.8/site-packages/sklearn/neural_network/_multilayer_perceptron.py:691: ConvergenceWarning: Stochastic Optimizer: Maximum iterations (300) reached and the optimization hasn't converged yet.\n",
      "  warnings.warn(\n"
     ]
    },
    {
     "name": "stdout",
     "output_type": "stream",
     "text": [
      "MSE en Validación: 124855497.9775 | MSE en Prueba: 105858225.5944 \n",
      " | R2 en Validación: 0.2643 | R2 en Prueba: 0.2804\n",
      "MSE en Validación: 27866729.5589 | MSE en Prueba: 25457524.4562 \n",
      " | R2 en Validación: 0.8358 | R2 en Prueba: 0.8270\n"
     ]
    },
    {
     "name": "stderr",
     "output_type": "stream",
     "text": [
      "/home/linar/.local/lib/python3.8/site-packages/sklearn/neural_network/_multilayer_perceptron.py:691: ConvergenceWarning: Stochastic Optimizer: Maximum iterations (300) reached and the optimization hasn't converged yet.\n",
      "  warnings.warn(\n"
     ]
    }
   ],
   "source": [
    "import numpy as np\n",
    "# Evaluar las arquitecturas\n",
    "rs = np.linspace(0,250,50).astype('int')\n",
    "for r in rs:\n",
    "    mse_val, mse_test, r2_val, r2_test = evaluate_model(hidden_layer_sizes=(10, 8, 4), rs=r)\n",
    "    results = {'MSE_Val': mse_val, 'MSE_Test': mse_test, 'R2_Val': r2_val, 'R2_Test': r2_test}\n",
    "    print(f\"MSE en Validación: {mse_val:.4f} | MSE en Prueba: {mse_test:.4f} \\n | R2 en Validación: {r2_val:.4f} | R2 en Prueba: {r2_test:.4f}\")"
   ]
  },
  {
   "cell_type": "code",
   "execution_count": 14,
   "metadata": {},
   "outputs": [
    {
     "data": {
      "image/png": "[encoded data removed]",
      "text/plain": [
       "<Figure size 1008x504 with 1 Axes>"
      ]
     },
     "metadata": {
      "needs_background": "light"
     },
     "output_type": "display_data"
    }
   ],
   "source": [
    "# Graficar los resultados\n",
    "plt.figure(figsize=(14, 7))\n",
    "x_labels = [str(arch) for arch in architectures]\n",
    "mse_val_list = [results[arch]['MSE_Val'] for arch in architectures]\n",
    "mse_test_list = [results[arch]['MSE_Test'] for arch in architectures]\n",
    "\n",
    "plt.plot(x_labels, mse_val_list, 'o-', label='MSE en Validación', color='blue')\n",
    "plt.plot(x_labels, mse_test_list, 'o-', label='MSE en Prueba', color='red')\n",
    "plt.xlabel('Arquitectura de la Red')\n",
    "plt.ylabel('Error Cuadrático Medio')\n",
    "plt.title('Evaluación de Diferentes Arquitecturas de Red Neuronal')\n",
    "plt.xticks(rotation=90)\n",
    "plt.legend()\n",
    "plt.grid(True)\n",
    "plt.tight_layout()\n",
    "plt.show()"
   ]
  },
  {
   "cell_type": "code",
   "execution_count": 15,
   "metadata": {},
   "outputs": [
    {
     "data": {
      "image/png": "[encoded data removed]",
      "text/plain": [
       "<Figure size 1008x504 with 1 Axes>"
      ]
     },
     "metadata": {
      "needs_background": "light"
     },
     "output_type": "display_data"
    }
   ],
   "source": [
    "# Graficar los resultados\n",
    "plt.figure(figsize=(14, 7))\n",
    "x_labels = [str(arch) for arch in architectures]\n",
    "mse_val_list = [results[arch]['R2_Val'] for arch in architectures]\n",
    "mse_test_list = [results[arch]['R2_Test'] for arch in architectures]\n",
    "\n",
    "plt.plot(x_labels, mse_val_list, 'o-', label='R2 en Validación', color='blue')\n",
    "plt.plot(x_labels, mse_test_list, 'o-', label='R2 en Prueba', color='red')\n",
    "plt.xlabel('Arquitectura de la Red')\n",
    "plt.ylabel('R2')\n",
    "plt.title('Evaluación de Diferentes Arquitecturas de Red Neuronal')\n",
    "plt.xticks(rotation=90)\n",
    "plt.legend()\n",
    "plt.grid(True)\n",
    "plt.tight_layout()\n",
    "plt.show()"
   ]
  },
  {
   "cell_type": "markdown",
   "metadata": {},
   "source": [
    "# Ejercicio 2: Clasificación"
   ]
  },
  {
   "cell_type": "code",
   "execution_count": 1,
   "metadata": {},
   "outputs": [],
   "source": [
    "import torch\n",
    "import torch.nn as nn\n",
    "\n",
    "class FlexibleNN(nn.Module):\n",
    "    def __init__(self, input_size, layer_sizes):\n",
    "        \"\"\"\n",
    "        input_size: Tamaño de la capa de entrada\n",
    "        layer_sizes: Lista con la cantidad de neuronas por capa oculta (ej: [64, 32, 16] -> 3 capas con 64, 32 y 16 neuronas)\n",
    "        \"\"\"\n",
    "        super(FlexibleNN, self).__init__()\n",
    "        \n",
    "        # Crear una lista para las capas\n",
    "        layers = []\n",
    "        \n",
    "        # Capa de entrada conectada a la primera capa oculta\n",
    "        prev_size = input_size\n",
    "        for layer_size in layer_sizes:\n",
    "            layers.append(nn.Linear(prev_size, layer_size))\n",
    "            layers.append(nn.ReLU())  # Activación ReLU\n",
    "            prev_size = layer_size\n",
    "        \n",
    "        # Capa de salida (1 neurona, ya que es una tarea de clasificación binaria)\n",
    "        layers.append(nn.Linear(prev_size, 1))\n",
    "        layers.append(nn.Sigmoid())  # Activación Sigmoid para salida binaria\n",
    "        \n",
    "        # Usar nn.Sequential para apilar todas las capas\n",
    "        self.model = nn.Sequential(*layers)\n",
    "    \n",
    "    def forward(self, x):\n",
    "        return self.model(x)"
   ]
  },
  {
   "cell_type": "markdown",
   "metadata": {},
   "source": [
    "### Grid search through architectures"
   ]
  },
  {
   "cell_type": "code",
   "execution_count": 7,
   "metadata": {},
   "outputs": [
    {
     "name": "stderr",
     "output_type": "stream",
     "text": [
      "/home/linar/.local/lib/python3.8/site-packages/sklearn/metrics/_classification.py:1471: UndefinedMetricWarning: Precision is ill-defined and being set to 0.0 due to no predicted samples. Use `zero_division` parameter to control this behavior.\n",
      "  _warn_prf(average, modifier, msg_start, len(result))\n",
      "/home/linar/.local/lib/python3.8/site-packages/sklearn/metrics/_classification.py:1471: UndefinedMetricWarning: Precision is ill-defined and being set to 0.0 due to no predicted samples. Use `zero_division` parameter to control this behavior.\n",
      "  _warn_prf(average, modifier, msg_start, len(result))\n",
      "/home/linar/.local/lib/python3.8/site-packages/sklearn/metrics/_classification.py:1471: UndefinedMetricWarning: Precision is ill-defined and being set to 0.0 due to no predicted samples. Use `zero_division` parameter to control this behavior.\n",
      "  _warn_prf(average, modifier, msg_start, len(result))\n",
      "/home/linar/.local/lib/python3.8/site-packages/sklearn/metrics/_classification.py:1471: UndefinedMetricWarning: Precision is ill-defined and being set to 0.0 due to no predicted samples. Use `zero_division` parameter to control this behavior.\n",
      "  _warn_prf(average, modifier, msg_start, len(result))\n",
      "/home/linar/.local/lib/python3.8/site-packages/sklearn/metrics/_classification.py:1471: UndefinedMetricWarning: Precision is ill-defined and being set to 0.0 due to no predicted samples. Use `zero_division` parameter to control this behavior.\n",
      "  _warn_prf(average, modifier, msg_start, len(result))\n",
      "/home/linar/.local/lib/python3.8/site-packages/sklearn/metrics/_classification.py:1471: UndefinedMetricWarning: Precision is ill-defined and being set to 0.0 due to no predicted samples. Use `zero_division` parameter to control this behavior.\n",
      "  _warn_prf(average, modifier, msg_start, len(result))\n",
      "/home/linar/.local/lib/python3.8/site-packages/sklearn/metrics/_classification.py:1471: UndefinedMetricWarning: Precision is ill-defined and being set to 0.0 due to no predicted samples. Use `zero_division` parameter to control this behavior.\n",
      "  _warn_prf(average, modifier, msg_start, len(result))\n",
      "/home/linar/.local/lib/python3.8/site-packages/sklearn/metrics/_classification.py:1471: UndefinedMetricWarning: Precision is ill-defined and being set to 0.0 due to no predicted samples. Use `zero_division` parameter to control this behavior.\n",
      "  _warn_prf(average, modifier, msg_start, len(result))\n",
      "/home/linar/.local/lib/python3.8/site-packages/sklearn/metrics/_classification.py:1471: UndefinedMetricWarning: Precision is ill-defined and being set to 0.0 due to no predicted samples. Use `zero_division` parameter to control this behavior.\n",
      "  _warn_prf(average, modifier, msg_start, len(result))\n",
      "/home/linar/.local/lib/python3.8/site-packages/sklearn/metrics/_classification.py:1471: UndefinedMetricWarning: Precision is ill-defined and being set to 0.0 due to no predicted samples. Use `zero_division` parameter to control this behavior.\n",
      "  _warn_prf(average, modifier, msg_start, len(result))\n",
      "/home/linar/.local/lib/python3.8/site-packages/sklearn/metrics/_classification.py:1471: UndefinedMetricWarning: Precision is ill-defined and being set to 0.0 due to no predicted samples. Use `zero_division` parameter to control this behavior.\n",
      "  _warn_prf(average, modifier, msg_start, len(result))\n",
      "/home/linar/.local/lib/python3.8/site-packages/sklearn/metrics/_classification.py:1471: UndefinedMetricWarning: Precision is ill-defined and being set to 0.0 due to no predicted samples. Use `zero_division` parameter to control this behavior.\n",
      "  _warn_prf(average, modifier, msg_start, len(result))\n",
      "/home/linar/.local/lib/python3.8/site-packages/sklearn/metrics/_classification.py:1471: UndefinedMetricWarning: Precision is ill-defined and being set to 0.0 due to no predicted samples. Use `zero_division` parameter to control this behavior.\n",
      "  _warn_prf(average, modifier, msg_start, len(result))\n",
      "/home/linar/.local/lib/python3.8/site-packages/sklearn/metrics/_classification.py:1471: UndefinedMetricWarning: Precision is ill-defined and being set to 0.0 due to no predicted samples. Use `zero_division` parameter to control this behavior.\n",
      "  _warn_prf(average, modifier, msg_start, len(result))\n",
      "/home/linar/.local/lib/python3.8/site-packages/sklearn/metrics/_classification.py:1471: UndefinedMetricWarning: Precision is ill-defined and being set to 0.0 due to no predicted samples. Use `zero_division` parameter to control this behavior.\n",
      "  _warn_prf(average, modifier, msg_start, len(result))\n",
      "/home/linar/.local/lib/python3.8/site-packages/sklearn/metrics/_classification.py:1471: UndefinedMetricWarning: Precision is ill-defined and being set to 0.0 due to no predicted samples. Use `zero_division` parameter to control this behavior.\n",
      "  _warn_prf(average, modifier, msg_start, len(result))\n",
      "/home/linar/.local/lib/python3.8/site-packages/sklearn/metrics/_classification.py:1471: UndefinedMetricWarning: Precision is ill-defined and being set to 0.0 due to no predicted samples. Use `zero_division` parameter to control this behavior.\n",
      "  _warn_prf(average, modifier, msg_start, len(result))\n",
      "/home/linar/.local/lib/python3.8/site-packages/sklearn/metrics/_classification.py:1471: UndefinedMetricWarning: Precision is ill-defined and being set to 0.0 due to no predicted samples. Use `zero_division` parameter to control this behavior.\n",
      "  _warn_prf(average, modifier, msg_start, len(result))\n",
      "/home/linar/.local/lib/python3.8/site-packages/sklearn/metrics/_classification.py:1471: UndefinedMetricWarning: Precision is ill-defined and being set to 0.0 due to no predicted samples. Use `zero_division` parameter to control this behavior.\n",
      "  _warn_prf(average, modifier, msg_start, len(result))\n",
      "/home/linar/.local/lib/python3.8/site-packages/sklearn/metrics/_classification.py:1471: UndefinedMetricWarning: Precision is ill-defined and being set to 0.0 due to no predicted samples. Use `zero_division` parameter to control this behavior.\n",
      "  _warn_prf(average, modifier, msg_start, len(result))\n",
      "/home/linar/.local/lib/python3.8/site-packages/sklearn/metrics/_classification.py:1471: UndefinedMetricWarning: Precision is ill-defined and being set to 0.0 due to no predicted samples. Use `zero_division` parameter to control this behavior.\n",
      "  _warn_prf(average, modifier, msg_start, len(result))\n",
      "/home/linar/.local/lib/python3.8/site-packages/sklearn/metrics/_classification.py:1471: UndefinedMetricWarning: Precision is ill-defined and being set to 0.0 due to no predicted samples. Use `zero_division` parameter to control this behavior.\n",
      "  _warn_prf(average, modifier, msg_start, len(result))\n",
      "/home/linar/.local/lib/python3.8/site-packages/sklearn/metrics/_classification.py:1471: UndefinedMetricWarning: Precision is ill-defined and being set to 0.0 due to no predicted samples. Use `zero_division` parameter to control this behavior.\n",
      "  _warn_prf(average, modifier, msg_start, len(result))\n",
      "/home/linar/.local/lib/python3.8/site-packages/sklearn/metrics/_classification.py:1471: UndefinedMetricWarning: Precision is ill-defined and being set to 0.0 due to no predicted samples. Use `zero_division` parameter to control this behavior.\n",
      "  _warn_prf(average, modifier, msg_start, len(result))\n",
      "/home/linar/.local/lib/python3.8/site-packages/sklearn/metrics/_classification.py:1471: UndefinedMetricWarning: Precision is ill-defined and being set to 0.0 due to no predicted samples. Use `zero_division` parameter to control this behavior.\n",
      "  _warn_prf(average, modifier, msg_start, len(result))\n",
      "/home/linar/.local/lib/python3.8/site-packages/sklearn/metrics/_classification.py:1471: UndefinedMetricWarning: Precision is ill-defined and being set to 0.0 due to no predicted samples. Use `zero_division` parameter to control this behavior.\n",
      "  _warn_prf(average, modifier, msg_start, len(result))\n",
      "/home/linar/.local/lib/python3.8/site-packages/sklearn/metrics/_classification.py:1471: UndefinedMetricWarning: Precision is ill-defined and being set to 0.0 due to no predicted samples. Use `zero_division` parameter to control this behavior.\n",
      "  _warn_prf(average, modifier, msg_start, len(result))\n",
      "/home/linar/.local/lib/python3.8/site-packages/sklearn/metrics/_classification.py:1471: UndefinedMetricWarning: Precision is ill-defined and being set to 0.0 due to no predicted samples. Use `zero_division` parameter to control this behavior.\n",
      "  _warn_prf(average, modifier, msg_start, len(result))\n"
     ]
    },
    {
     "name": "stdout",
     "output_type": "stream",
     "text": [
      "                  layers  learning_rate  accuracy  precision    recall  \\\n",
      "49            [256, 128]   1.000000e-03  0.871795   0.666667  0.571429   \n",
      "36              [32, 16]   1.000000e-02  0.858974   0.615385  0.571429   \n",
      "13        [256, 128, 64]   1.000000e-03  0.858974   0.615385  0.571429   \n",
      "30              [64, 32]   1.000000e-02  0.858974   0.615385  0.571429   \n",
      "25    [256, 128, 64, 32]   1.000000e-03  0.858974   0.615385  0.571429   \n",
      "19     [128, 64, 32, 16]   1.000000e-03  0.858974   0.615385  0.571429   \n",
      "7         [128, 64, 128]   1.000000e-03  0.858974   0.615385  0.571429   \n",
      "43  [128, 64, 32, 16, 8]   1.000000e-03  0.858974   0.615385  0.571429   \n",
      "31              [64, 32]   1.000000e-03  0.871795   0.700000  0.500000   \n",
      "1        [128, 128, 128]   1.000000e-03  0.846154   0.571429  0.571429   \n",
      "0        [128, 128, 128]   1.000000e-02  0.820513   0.500000  0.642857   \n",
      "48            [256, 128]   1.000000e-02  0.833333   0.533333  0.571429   \n",
      "18     [128, 64, 32, 16]   1.000000e-02  0.833333   0.533333  0.571429   \n",
      "6         [128, 64, 128]   1.000000e-02  0.833333   0.533333  0.571429   \n",
      "12        [256, 128, 64]   1.000000e-02  0.807692   0.470588  0.571429   \n",
      "21     [128, 64, 32, 16]   1.000000e-05  0.666667   0.333333  0.857143   \n",
      "24    [256, 128, 64, 32]   1.000000e-02  0.871795   1.000000  0.285714   \n",
      "23     [128, 64, 32, 16]   1.000000e-07  0.179487   0.179487  1.000000   \n",
      "52            [256, 128]   1.000000e-06  0.179487   0.179487  1.000000   \n",
      "39              [32, 16]   1.000000e-05  0.179487   0.179487  1.000000   \n",
      "28    [256, 128, 64, 32]   1.000000e-06  0.179487   0.179487  1.000000   \n",
      "17        [256, 128, 64]   1.000000e-07  0.179487   0.179487  1.000000   \n",
      "35              [64, 32]   1.000000e-07  0.179487   0.179487  1.000000   \n",
      "47  [128, 64, 32, 16, 8]   1.000000e-07  0.179487   0.179487  1.000000   \n",
      "5        [128, 128, 128]   1.000000e-07  0.833333   1.000000  0.071429   \n",
      "41              [32, 16]   1.000000e-07  0.820513   0.000000  0.000000   \n",
      "42  [128, 64, 32, 16, 8]   1.000000e-02  0.820513   0.000000  0.000000   \n",
      "40              [32, 16]   1.000000e-06  0.820513   0.000000  0.000000   \n",
      "50            [256, 128]   1.000000e-04  0.820513   0.000000  0.000000   \n",
      "44  [128, 64, 32, 16, 8]   1.000000e-04  0.820513   0.000000  0.000000   \n",
      "45  [128, 64, 32, 16, 8]   1.000000e-05  0.820513   0.000000  0.000000   \n",
      "51            [256, 128]   1.000000e-05  0.820513   0.000000  0.000000   \n",
      "38              [32, 16]   1.000000e-04  0.820513   0.000000  0.000000   \n",
      "37              [32, 16]   1.000000e-03  0.820513   0.000000  0.000000   \n",
      "46  [128, 64, 32, 16, 8]   1.000000e-06  0.820513   0.000000  0.000000   \n",
      "27    [256, 128, 64, 32]   1.000000e-05  0.820513   0.000000  0.000000   \n",
      "34              [64, 32]   1.000000e-06  0.820513   0.000000  0.000000   \n",
      "33              [64, 32]   1.000000e-05  0.820513   0.000000  0.000000   \n",
      "2        [128, 128, 128]   1.000000e-04  0.820513   0.000000  0.000000   \n",
      "3        [128, 128, 128]   1.000000e-05  0.820513   0.000000  0.000000   \n",
      "4        [128, 128, 128]   1.000000e-06  0.820513   0.000000  0.000000   \n",
      "8         [128, 64, 128]   1.000000e-04  0.820513   0.000000  0.000000   \n",
      "9         [128, 64, 128]   1.000000e-05  0.820513   0.000000  0.000000   \n",
      "10        [128, 64, 128]   1.000000e-06  0.820513   0.000000  0.000000   \n",
      "11        [128, 64, 128]   1.000000e-07  0.820513   0.000000  0.000000   \n",
      "14        [256, 128, 64]   1.000000e-04  0.820513   0.000000  0.000000   \n",
      "15        [256, 128, 64]   1.000000e-05  0.820513   0.000000  0.000000   \n",
      "16        [256, 128, 64]   1.000000e-06  0.820513   0.000000  0.000000   \n",
      "20     [128, 64, 32, 16]   1.000000e-04  0.820513   0.000000  0.000000   \n",
      "22     [128, 64, 32, 16]   1.000000e-06  0.820513   0.000000  0.000000   \n",
      "26    [256, 128, 64, 32]   1.000000e-04  0.820513   0.000000  0.000000   \n",
      "29    [256, 128, 64, 32]   1.000000e-07  0.820513   0.000000  0.000000   \n",
      "32              [64, 32]   1.000000e-04  0.820513   0.000000  0.000000   \n",
      "53            [256, 128]   1.000000e-07  0.820513   0.000000  0.000000   \n",
      "\n",
      "    f1_score   roc_auc  \n",
      "49  0.615385  0.797991  \n",
      "36  0.592593  0.766741  \n",
      "13  0.592593  0.777902  \n",
      "30  0.592593  0.791295  \n",
      "25  0.592593  0.801339  \n",
      "19  0.592593  0.794643  \n",
      "7   0.592593  0.784598  \n",
      "43  0.592593  0.796875  \n",
      "31  0.583333  0.789062  \n",
      "1   0.571429  0.791295  \n",
      "0   0.562500  0.715402  \n",
      "48  0.551724  0.695312  \n",
      "18  0.551724  0.777902  \n",
      "6   0.551724  0.742188  \n",
      "12  0.516129  0.728795  \n",
      "21  0.480000  0.775670  \n",
      "24  0.444444  0.751116  \n",
      "23  0.304348  0.302455  \n",
      "52  0.304348  0.685268  \n",
      "39  0.304348  0.401786  \n",
      "28  0.304348  0.751116  \n",
      "17  0.304348  0.758929  \n",
      "35  0.304348  0.402902  \n",
      "47  0.304348  0.667411  \n",
      "5   0.133333  0.809152  \n",
      "41  0.000000  0.587054  \n",
      "42  0.000000  0.500000  \n",
      "40  0.000000  0.330357  \n",
      "50  0.000000  0.820312  \n",
      "44  0.000000  0.829241  \n",
      "45  0.000000  0.675223  \n",
      "51  0.000000  0.603795  \n",
      "38  0.000000  0.780134  \n",
      "37  0.000000  0.779018  \n",
      "46  0.000000  0.428571  \n",
      "27  0.000000  0.853795  \n",
      "34  0.000000  0.412946  \n",
      "33  0.000000  0.811384  \n",
      "2   0.000000  0.809152  \n",
      "3   0.000000  0.237723  \n",
      "4   0.000000  0.396205  \n",
      "8   0.000000  0.822545  \n",
      "9   0.000000  0.588170  \n",
      "10  0.000000  0.791853  \n",
      "11  0.000000  0.431920  \n",
      "14  0.000000  0.820312  \n",
      "15  0.000000  0.794643  \n",
      "16  0.000000  0.577009  \n",
      "20  0.000000  0.799107  \n",
      "22  0.000000  0.648996  \n",
      "26  0.000000  0.809152  \n",
      "29  0.000000  0.206473  \n",
      "32  0.000000  0.662946  \n",
      "53  0.000000  0.796875  \n"
     ]
    },
    {
     "name": "stderr",
     "output_type": "stream",
     "text": [
      "/home/linar/.local/lib/python3.8/site-packages/sklearn/metrics/_classification.py:1471: UndefinedMetricWarning: Precision is ill-defined and being set to 0.0 due to no predicted samples. Use `zero_division` parameter to control this behavior.\n",
      "  _warn_prf(average, modifier, msg_start, len(result))\n"
     ]
    }
   ],
   "source": [
    "import torch\n",
    "import torch.optim as optim\n",
    "import torch.nn as nn\n",
    "from sklearn.model_selection import train_test_split\n",
    "from sklearn.metrics import accuracy_score, precision_score, recall_score, f1_score, roc_auc_score, confusion_matrix, roc_curve, precision_recall_curve\n",
    "import pandas as pd\n",
    "import numpy as np\n",
    "import matplotlib.pyplot as plt\n",
    "\n",
    "# Cargar los datos\n",
    "df = pd.read_csv('/home/linar/Desktop/ML/Clases/i302/TPs/TP4/Data/breast_cancer_dev.csv')\n",
    "\n",
    "# Separar las características (features) y el target (clase)\n",
    "X = df.drop(columns=['target'])  # Reemplazar 'target' con el nombre de la columna objetivo\n",
    "y = df['target']\n",
    "\n",
    "# Dividir los datos en conjuntos de entrenamiento y validación\n",
    "X_train, X_val, y_train, y_val = train_test_split(X, y, test_size=0.2, random_state=42)\n",
    "\n",
    "# Convertir a tensores de PyTorch\n",
    "X_train_tensor = torch.tensor(X_train.values, dtype=torch.float32)\n",
    "X_val_tensor = torch.tensor(X_val.values, dtype=torch.float32)\n",
    "y_train_tensor = torch.tensor(y_train.values, dtype=torch.float32).unsqueeze(1)\n",
    "y_val_tensor = torch.tensor(y_val.values, dtype=torch.float32).unsqueeze(1)\n",
    "\n",
    "# Parámetros del modelo\n",
    "input_size = X_train.shape[1]\n",
    "n_epochs = 300\n",
    "\n",
    "#from itertools import product\n",
    "\n",
    "# Definir combinaciones de hiperparámetros\n",
    "layer_options = [[128, 128, 128],[128, 64, 128],\n",
    "                [256, 128, 64],\n",
    "                [128, 64, 32, 16],\n",
    "                [256, 128, 64, 32],\n",
    "                [64, 32],\n",
    "                [32, 16],\n",
    "                [128, 64, 32, 16, 8],\n",
    "                [256, 128],]  # Diferentes configuraciones de capas\n",
    "learning_rates = [0.01, 0.001, 0.0001, 0.00001, 0.000001, 0.0000001]  # Diferentes tasas de aprendizaje\n",
    "results = []\n",
    "\n",
    "for layers in layer_options:\n",
    "    for lr in learning_rates:\n",
    "        # Inicializar el modelo\n",
    "        model = FlexibleNN(input_size, layers)\n",
    "        \n",
    "        # Definir la función de pérdida y el optimizador\n",
    "        criterion = nn.BCELoss()\n",
    "        optimizer = optim.Adam(model.parameters(), lr=lr)\n",
    "        \n",
    "        # Entrenar el modelo\n",
    "        for epoch in range(n_epochs):\n",
    "            model.train()\n",
    "            optimizer.zero_grad()\n",
    "            output = model(X_train_tensor)\n",
    "            loss = criterion(output, y_train_tensor)\n",
    "            loss.backward()\n",
    "            optimizer.step()\n",
    "\n",
    "        # Evaluar el modelo en el conjunto de validación\n",
    "        model.eval()\n",
    "        with torch.no_grad():\n",
    "            y_val_pred = model(X_val_tensor)\n",
    "            y_val_pred_class = (y_val_pred > 0.5).float()\n",
    "        \n",
    "        # Calcular métricas\n",
    "        accuracy = accuracy_score(y_val, y_val_pred_class)\n",
    "        precision = precision_score(y_val, y_val_pred_class)\n",
    "        recall = recall_score(y_val, y_val_pred_class)\n",
    "        f1 = f1_score(y_val, y_val_pred_class)\n",
    "        roc_auc = roc_auc_score(y_val, y_val_pred)\n",
    "\n",
    "        # Almacenar resultados\n",
    "        results.append({\n",
    "            'layers': layers,\n",
    "            'learning_rate': lr,\n",
    "            'accuracy': accuracy,\n",
    "            'precision': precision,\n",
    "            'recall': recall,\n",
    "            'f1_score': f1,\n",
    "            'roc_auc': roc_auc,\n",
    "        })\n",
    "\n",
    "# Convertir los resultados a un DataFrame para visualización\n",
    "results_df = pd.DataFrame(results)\n",
    "\n",
    "# Mostrar los resultados ordenados por F1 Score\n",
    "print(results_df.sort_values(by='f1_score', ascending=False))"
   ]
  },
  {
   "cell_type": "markdown",
   "metadata": {},
   "source": [
    "### Define possible architecture as baseline"
   ]
  },
  {
   "cell_type": "code",
   "execution_count": 2,
   "metadata": {},
   "outputs": [
    {
     "data": {
      "image/png": "[encoded data removed]",
      "text/plain": [
       "<Figure size 864x432 with 2 Axes>"
      ]
     },
     "metadata": {
      "needs_background": "light"
     },
     "output_type": "display_data"
    },
    {
     "data": {
      "image/png": "[encoded data removed]",
      "text/plain": [
       "<Figure size 432x432 with 2 Axes>"
      ]
     },
     "metadata": {
      "needs_background": "light"
     },
     "output_type": "display_data"
    },
    {
     "data": {
      "image/png": "[encoded data removed]",
      "text/plain": [
       "<Figure size 720x360 with 1 Axes>"
      ]
     },
     "metadata": {
      "needs_background": "light"
     },
     "output_type": "display_data"
    }
   ],
   "source": [
    "import torch\n",
    "import torch.nn as nn\n",
    "import torch.optim as optim\n",
    "from sklearn.model_selection import train_test_split\n",
    "from sklearn.metrics import accuracy_score, precision_score, recall_score, f1_score, roc_auc_score, confusion_matrix, roc_curve, precision_recall_curve\n",
    "import pandas as pd\n",
    "import numpy as np\n",
    "import matplotlib.pyplot as plt\n",
    "import seaborn as sns\n",
    "\n",
    "# Cargar los datos\n",
    "df = pd.read_csv('/home/linar/Desktop/ML/Clases/i302/TPs/TP4/Data/breast_cancer_dev.csv')\n",
    "\n",
    "# Separar características y target\n",
    "X = df.drop(columns=['target'])  # Cambiar 'target' por el nombre de la columna objetivo\n",
    "y = df['target']\n",
    "\n",
    "# Dividir datos en entrenamiento y validación\n",
    "X_train, X_val, y_train, y_val = train_test_split(X, y, test_size=0.2, random_state=42)\n",
    "\n",
    "# Convertir a tensores de PyTorch\n",
    "X_train_tensor = torch.tensor(X_train.values, dtype=torch.float32)\n",
    "X_val_tensor = torch.tensor(X_val.values, dtype=torch.float32)\n",
    "y_train_tensor = torch.tensor(y_train.values, dtype=torch.float32).unsqueeze(1)\n",
    "y_val_tensor = torch.tensor(y_val.values, dtype=torch.float32).unsqueeze(1)\n",
    "\n",
    "# Parámetros del modelo\n",
    "input_size = X_train.shape[1]\n",
    "n_epochs = 300\n",
    "results = []\n",
    "train_losses = []\n",
    "\n",
    "# Inicializar el modelo\n",
    "model = FlexibleNN(input_size, [256, 128])\n",
    "\n",
    "# Definir la función de pérdida y el optimizador\n",
    "criterion = nn.BCELoss()\n",
    "optimizer = optim.Adam(model.parameters(), lr=0.001)\n",
    "\n",
    "# Entrenar el modelo\n",
    "for epoch in range(n_epochs):\n",
    "    model.train()\n",
    "    optimizer.zero_grad()\n",
    "    output = model(X_train_tensor)\n",
    "    loss = criterion(output, y_train_tensor)\n",
    "    loss.backward()\n",
    "    optimizer.step()\n",
    "    \n",
    "    train_losses.append(loss.item())  # Guardar el valor de la pérdida\n",
    "\n",
    "# Evaluar el modelo en el conjunto de validación\n",
    "model.eval()\n",
    "with torch.no_grad():\n",
    "    y_val_pred = model(X_val_tensor)\n",
    "    y_val_pred_class = (y_val_pred > 0.5).float()\n",
    "\n",
    "# Calcular métricas\n",
    "accuracy = accuracy_score(y_val, y_val_pred_class)\n",
    "precision = precision_score(y_val, y_val_pred_class)\n",
    "recall = recall_score(y_val, y_val_pred_class)\n",
    "f1 = f1_score(y_val, y_val_pred_class)\n",
    "roc_auc = roc_auc_score(y_val, y_val_pred)\n",
    "\n",
    "# Almacenar resultados\n",
    "results.append({\n",
    "    'accuracy': accuracy,\n",
    "    'precision': precision,\n",
    "    'recall': recall,\n",
    "    'f1_score': f1,\n",
    "    'roc_auc': roc_auc,\n",
    "})\n",
    "results_df = pd.DataFrame(results)\n",
    "\n",
    "# Ploteo de la curva ROC\n",
    "fpr, tpr, _ = roc_curve(y_val, y_val_pred)\n",
    "plt.figure(figsize=(12, 6))\n",
    "plt.subplot(1, 2, 1)\n",
    "plt.plot(fpr, tpr, color='blue', label='ROC curve (area = %0.2f)' % roc_auc)\n",
    "plt.plot([0, 1], [0, 1], color='red', linestyle='--')\n",
    "plt.xlim([0.0, 1.0])\n",
    "plt.ylim([0.0, 1.0])\n",
    "plt.xlabel('False Positive Rate')\n",
    "plt.ylabel('True Positive Rate')\n",
    "plt.title('Receiver Operating Characteristic')\n",
    "plt.legend(loc='lower right')\n",
    "\n",
    "# Ploteo de la curva PR\n",
    "precision_vals, recall_vals, _ = precision_recall_curve(y_val, y_val_pred)\n",
    "plt.subplot(1, 2, 2)\n",
    "plt.plot(recall_vals, precision_vals, color='green')\n",
    "plt.xlabel('Recall')\n",
    "plt.ylabel('Precision')\n",
    "plt.title('Precision-Recall Curve')\n",
    "plt.grid()\n",
    "\n",
    "plt.tight_layout()\n",
    "plt.show()\n",
    "\n",
    "# Ploteo de la matriz de confusión\n",
    "conf_matrix = confusion_matrix(y_val, y_val_pred_class)\n",
    "plt.figure(figsize=(6, 6))\n",
    "sns.heatmap(conf_matrix, annot=True, fmt='d', cmap='Blues', square=True)\n",
    "plt.ylabel('Actual label')\n",
    "plt.xlabel('Predicted label')\n",
    "plt.title('Confusion Matrix')\n",
    "plt.show()\n",
    "\n",
    "# Ploteo de las curvas de error\n",
    "plt.figure(figsize=(10, 5))\n",
    "plt.plot(train_losses, label='Training Loss')\n",
    "plt.xlabel('Epoch')\n",
    "plt.ylabel('Loss')\n",
    "plt.title('Training Loss Curve')\n",
    "plt.legend()\n",
    "plt.show()"
   ]
  },
  {
   "cell_type": "code",
   "execution_count": 3,
   "metadata": {},
   "outputs": [
    {
     "name": "stdout",
     "output_type": "stream",
     "text": [
      "Test Accuracy: 0.8551\n",
      "Test Precision: 0.6667\n",
      "Test Recall: 0.5714\n",
      "Test F1 Score: 0.6154\n",
      "Test ROC AUC: 0.8130\n"
     ]
    }
   ],
   "source": [
    "# Evaluar el modelo en el conjunto de prueba\n",
    "# Cargar los datos de prueba\n",
    "df_test = pd.read_csv('/home/linar/Desktop/ML/Clases/i302/TPs/TP4/Data/breast_cancer_test.csv')\n",
    "X_test = df_test.drop(columns=['target'])  # Cambiar 'target' por el nombre de la columna objetivo\n",
    "y_test = df_test['target']\n",
    "\n",
    "# Convertir a tensores de PyTorch\n",
    "X_test_tensor = torch.tensor(X_test.values, dtype=torch.float32)\n",
    "y_test_tensor = torch.tensor(y_test.values, dtype=torch.float32).unsqueeze(1)\n",
    "\n",
    "# Evaluar en el conjunto de prueba\n",
    "model.eval()\n",
    "with torch.no_grad():\n",
    "    y_test_pred = model(X_test_tensor)\n",
    "    y_test_pred_class = (y_test_pred > 0.5).float()\n",
    "\n",
    "# Calcular métricas para el conjunto de prueba\n",
    "test_accuracy = accuracy_score(y_test, y_test_pred_class)\n",
    "test_precision = precision_score(y_test, y_test_pred_class)\n",
    "test_recall = recall_score(y_test, y_test_pred_class)\n",
    "test_f1 = f1_score(y_test, y_test_pred_class)\n",
    "test_roc_auc = roc_auc_score(y_test, y_test_pred)\n",
    "\n",
    "# Imprimir resultados del conjunto de prueba\n",
    "print(f\"Test Accuracy: {test_accuracy:.4f}\")\n",
    "print(f\"Test Precision: {test_precision:.4f}\")\n",
    "print(f\"Test Recall: {test_recall:.4f}\")\n",
    "print(f\"Test F1 Score: {test_f1:.4f}\")\n",
    "print(f\"Test ROC AUC: {test_roc_auc:.4f}\")"
   ]
  },
  {
   "cell_type": "code",
   "execution_count": 4,
   "metadata": {},
   "outputs": [
    {
     "data": {
      "image/png": "[encoded data removed]",
      "text/plain": [
       "<Figure size 864x432 with 2 Axes>"
      ]
     },
     "metadata": {
      "needs_background": "light"
     },
     "output_type": "display_data"
    },
    {
     "data": {
      "image/png": "[encoded data removed]",
      "text/plain": [
       "<Figure size 432x432 with 2 Axes>"
      ]
     },
     "metadata": {
      "needs_background": "light"
     },
     "output_type": "display_data"
    }
   ],
   "source": [
    "# Ploteo de la curva ROC\n",
    "fpr, tpr, _ = roc_curve(y_test, y_test_pred_class)\n",
    "plt.figure(figsize=(12, 6))\n",
    "plt.subplot(1, 2, 1)\n",
    "plt.plot(fpr, tpr, color='blue', label='ROC curve (area = %0.2f)' % roc_auc)\n",
    "plt.plot([0, 1], [0, 1], color='red', linestyle='--')\n",
    "plt.xlim([0.0, 1.0])\n",
    "plt.ylim([0.0, 1.0])\n",
    "plt.xlabel('False Positive Rate')\n",
    "plt.ylabel('True Positive Rate')\n",
    "plt.title('Receiver Operating Characteristic')\n",
    "plt.legend(loc='lower right')\n",
    "\n",
    "# Ploteo de la curva PR\n",
    "precision_test, recall_test, _ = precision_recall_curve(y_test, y_test_pred_class)\n",
    "plt.subplot(1, 2, 2)\n",
    "plt.plot(recall_test, precision_test, color='green')\n",
    "plt.xlabel('Recall')\n",
    "plt.ylabel('Precision')\n",
    "plt.title('Precision-Recall Curve')\n",
    "plt.grid()\n",
    "\n",
    "plt.tight_layout()\n",
    "plt.show()\n",
    "\n",
    "# Ploteo de la matriz de confusión\n",
    "conf_matrix = confusion_matrix(y_test, y_test_pred_class)\n",
    "plt.figure(figsize=(6, 6))\n",
    "sns.heatmap(conf_matrix, annot=True, fmt='d', cmap='Blues', square=True)\n",
    "plt.ylabel('Actual label')\n",
    "plt.xlabel('Predicted label')\n",
    "plt.title('Confusion Matrix')\n",
    "plt.show()"
   ]
  }
 ],
 "metadata": {
  "kernelspec": {
   "display_name": "i302",
   "language": "python",
   "name": "python3"
  },
  "language_info": {
   "codemirror_mode": {
    "name": "ipython",
    "version": 3
   },
   "file_extension": ".py",
   "mimetype": "text/x-python",
   "name": "python",
   "nbconvert_exporter": "python",
   "pygments_lexer": "ipython3",
   "version": "3.8.10"
  }
 },
 "nbformat": 4,
 "nbformat_minor": 2
}
