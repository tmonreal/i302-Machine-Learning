{
 "cells": [
  {
   "cell_type": "code",
   "execution_count": 6,
   "metadata": {},
   "outputs": [
    {
     "name": "stdout",
     "output_type": "stream",
     "text": [
      "Confusion Matrix:\n",
      "[[35  5]\n",
      " [ 1 73]]\n",
      "AUC ROC: 0.7574324324324324\n"
     ]
    }
   ],
   "source": [
    "import numpy as np\n",
    "import pandas as pd\n",
    "\n",
    "# Define your LDA class\n",
    "class LDA:\n",
    "    def __init__(self):\n",
    "        self.mu_0 = None\n",
    "        self.mu_1 = None\n",
    "        self.sigma = None\n",
    "        self.pi1 = None\n",
    "        self.pi0 = None\n",
    "\n",
    "    def fit(self, X_train, Y_train):\n",
    "        self.mu_0 = np.mean(X_train[Y_train == 0], axis=0)\n",
    "        self.mu_1 = np.mean(X_train[Y_train == 1], axis=0)\n",
    "        self.sigma = np.cov(X_train.T)\n",
    "        self.pi1 = np.sum(Y_train == 1) / len(Y_train)\n",
    "        self.pi0 = 1 - self.pi1\n",
    "\n",
    "    def predict(self, X):\n",
    "        Y_pred = []\n",
    "        Y_prob = []\n",
    "\n",
    "        for x in X:\n",
    "            ln_prob0 = np.log(self.pi0) - 0.5 * np.log( np.linalg.det(2*np.pi*self.sigma)) - 0.5 * np.dot(np.dot((x - self.mu_0).T, np.linalg.inv(self.sigma)), (x - self.mu_0))\n",
    "            ln_prob1 = np.log(self.pi1) - 0.5 * np.log(np.linalg.det(2*np.pi*self.sigma)) - 0.5 * np.dot(np.dot((x - self.mu_1).T, np.linalg.inv(self.sigma)), (x - self.mu_1))\n",
    "\n",
    "            if ln_prob1 >= ln_prob0:\n",
    "                Y_pred.append(1)\n",
    "                Y_prob.append(np.exp(ln_prob1))\n",
    "            else:\n",
    "                Y_pred.append(0)\n",
    "                Y_prob.append(np.exp(ln_prob0))\n",
    "\n",
    "        return np.array(Y_pred), np.array(Y_prob)\n",
    "\n",
    "# Load the datasets\n",
    "train_data = pd.read_csv(\"breast_cancer_train.csv\")\n",
    "valid_data = pd.read_csv(\"breast_cancer_valid.csv\")\n",
    "\n",
    "# Assuming the last column is the target variable\n",
    "x_train = train_data.iloc[:, :-1].values\n",
    "y_train = train_data.iloc[:, -1].values\n",
    "\n",
    "x_valid = valid_data.iloc[:, :-1].values\n",
    "y_valid = valid_data.iloc[:, -1].values\n",
    "\n",
    "# Initialize and train your LDA model\n",
    "lda = LDA()\n",
    "lda.fit(x_train, y_train)\n",
    "\n",
    "# Predict on the validation set\n",
    "y_pred, y_prob = lda.predict(x_valid)\n",
    "\n",
    "# Evaluate your model\n",
    "from sklearn.metrics import confusion_matrix, roc_auc_score\n",
    "\n",
    "print(\"Confusion Matrix:\")\n",
    "print(confusion_matrix(y_valid, y_pred))\n",
    "print(\"AUC ROC:\", roc_auc_score(y_valid, y_prob))\n"
   ]
  },
  {
   "cell_type": "code",
   "execution_count": 10,
   "metadata": {},
   "outputs": [
    {
     "data": {
      "text/plain": [
       "{'fp': 5, 'fn': 1, 'tp': 73, 'tn': 35}"
      ]
     },
     "execution_count": 10,
     "metadata": {},
     "output_type": "execute_result"
    }
   ],
   "source": [
    "def calc_conf_matrix(y, y_prob, threshold=0.5):\n",
    "    y_pred = [1 if prob >= threshold else 0 for prob in y_prob]\n",
    "    conf_matrix = {'fp':0, 'fn':0, 'tp':0, 'tn':0}\n",
    "    for i in range(len(y)):\n",
    "        if y[i] == y_pred[i]:\n",
    "            if y[i]:\n",
    "                conf_matrix['tp'] += 1\n",
    "            else:\n",
    "                conf_matrix['tn'] += 1\n",
    "        else:\n",
    "            if y_pred[i]:\n",
    "                conf_matrix['fp'] += 1\n",
    "            else: \n",
    "                conf_matrix['fn'] += 1\n",
    "    return conf_matrix\n",
    "\n",
    "calc_conf_matrix(y_valid, y_pred)"
   ]
  }
 ],
 "metadata": {
  "kernelspec": {
   "display_name": "Python 3",
   "language": "python",
   "name": "python3"
  },
  "language_info": {
   "codemirror_mode": {
    "name": "ipython",
    "version": 3
   },
   "file_extension": ".py",
   "mimetype": "text/x-python",
   "name": "python",
   "nbconvert_exporter": "python",
   "pygments_lexer": "ipython3",
   "version": "3.8.10"
  }
 },
 "nbformat": 4,
 "nbformat_minor": 2
}
