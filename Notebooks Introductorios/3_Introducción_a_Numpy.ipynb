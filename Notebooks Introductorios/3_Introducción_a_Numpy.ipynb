{
  "cells": [
    {
      "cell_type": "markdown",
      "metadata": {
        "id": "ynmR6ublrxl6"
      },
      "source": [
        "<center>\n",
        "  <h1>Introducción a NumPy</h1>\n",
        "  <h2>I302 - Aprendizaje Automático y Aprendizaje Profundo</h2>\n",
        "  <h4>Universidad de San Andrés </h4>\n",
        "</center>\n",
        "\n"
      ]
    },
    {
      "cell_type": "markdown",
      "metadata": {
        "id": "5XnOE8d5I-fo"
      },
      "source": [
        "Para usar NumPy, debemos importarla con:"
      ]
    },
    {
      "cell_type": "code",
      "execution_count": 1,
      "metadata": {
        "id": "85P-Rqn_qGWH"
      },
      "outputs": [],
      "source": [
        "import numpy as np"
      ]
    },
    {
      "cell_type": "markdown",
      "metadata": {
        "id": "y-u7Es_OI68I"
      },
      "source": [
        "## Arrays\n",
        "\n",
        "Los arreglos de NumPy son creados llamando al método array() de la biblioteca de NumPy. Cómo argumento del método, se debe pasar una lista."
      ]
    },
    {
      "cell_type": "code",
      "execution_count": 2,
      "metadata": {
        "colab": {
          "base_uri": "https://localhost:8080/"
        },
        "id": "tPMVKe3Nr7XD",
        "outputId": "abaa6a2d-fff8-4b14-e0a6-386a65504bd3"
      },
      "outputs": [
        {
          "name": "stdout",
          "output_type": "stream",
          "text": [
            "[1 2 3]\n"
          ]
        }
      ],
      "source": [
        "a = np.array([1, 2, 3])\n",
        "print(a)"
      ]
    },
    {
      "cell_type": "markdown",
      "metadata": {
        "id": "nsi-b1ITsAf0"
      },
      "source": [
        "Hay diferentes tipos de arreglos en diferentes dimensiones. Pueden ser de una dimension (vectores), dos dimensiones (matrices), o n-dimensionales"
      ]
    },
    {
      "cell_type": "code",
      "execution_count": 3,
      "metadata": {
        "colab": {
          "base_uri": "https://localhost:8080/"
        },
        "id": "m2fOLdnrr-QO",
        "outputId": "77bfca2e-1409-4c61-e4b1-d851d8917d5d"
      },
      "outputs": [
        {
          "name": "stdout",
          "output_type": "stream",
          "text": [
            "(3,)\n",
            "(3, 3)\n",
            "(3, 2, 3)\n"
          ]
        }
      ],
      "source": [
        "# Uni-dimensional (vectores)\n",
        "uni_dimensional = np.array([1,2,3])\n",
        "print(uni_dimensional.shape)\n",
        "\n",
        "# dos-dimensional (matrices)\n",
        "dos_dimensional = np.array([[1,2,3], [1,2,3], [1,2,3]])\n",
        "print(dos_dimensional.shape)\n",
        "\n",
        "# tri-dimensional (tensores de orden 3)\n",
        "tres_dimensional = np.array([[[1,2,3], [1,2,3]], [[1,2,3], [1,2,3]], [[1,2,3], [1,2,3]]])\n",
        "print(tres_dimensional.shape)"
      ]
    },
    {
      "cell_type": "code",
      "execution_count": 4,
      "metadata": {
        "colab": {
          "base_uri": "https://localhost:8080/"
        },
        "id": "nihDApBfsby5",
        "outputId": "16b69c36-4727-451b-dba2-81595ff5fef7"
      },
      "outputs": [
        {
          "name": "stdout",
          "output_type": "stream",
          "text": [
            "(3,)\n",
            "(3, 1)\n",
            "(1, 3)\n"
          ]
        }
      ],
      "source": [
        "# Ojo, no es lo mismo un vector unidimensional, que una matriz columna o matriz fila\n",
        "uni_dimensional = np.array([1,2,3])\n",
        "print(uni_dimensional.shape)\n",
        "\n",
        "matriz_fila = uni_dimensional.reshape(-1, 1) # -1 : no especificado, se infiere que debe ser 3\n",
        "print(matriz_fila.shape)\n",
        "\n",
        "matriz_columna = uni_dimensional.reshape(1, -1)\n",
        "print(matriz_columna.shape)"
      ]
    },
    {
      "cell_type": "markdown",
      "metadata": {
        "id": "RzEJOu5UxFEC"
      },
      "source": [
        "## Slicing\n",
        "\n",
        "Los array se pueden hacer cortes para obtener sub arrays"
      ]
    },
    {
      "cell_type": "code",
      "execution_count": 5,
      "metadata": {
        "colab": {
          "base_uri": "https://localhost:8080/"
        },
        "id": "TUh5GmaHxJk6",
        "outputId": "5ad584cb-e787-4953-97ae-55dd82a3d5fc"
      },
      "outputs": [
        {
          "name": "stdout",
          "output_type": "stream",
          "text": [
            "El primer elemento de vector es 1 y el anteultimo es 5\n",
            "La segunda fila de matriz es [4 5 6], la primer columna es [1 4 7]\n",
            "y podemos sacar submatrices tal como:\n",
            "[[1 2]\n",
            " [4 5]]\n"
          ]
        }
      ],
      "source": [
        "vector = np.array([1,2,3,4,5,6])\n",
        "matriz = np.array([[1,2,3], [4,5,6], [7,8,9]])\n",
        "\n",
        "print(f\"El primer elemento de vector es {vector[0]} y el anteultimo es {vector[-2]}\")\n",
        "print(f\"La segunda fila de matriz es {matriz[1,:]}, la primer columna es {matriz[:,0]}\")\n",
        "print(f\"y podemos sacar submatrices tal como:\")\n",
        "print(matriz[:2, :2]) # Todas las filas hasta la 3 no inclusive, todas las columnas hasta la 3 no inclusive"
      ]
    },
    {
      "cell_type": "code",
      "execution_count": 6,
      "metadata": {
        "colab": {
          "base_uri": "https://localhost:8080/"
        },
        "id": "1tX5MJgT4uHJ",
        "outputId": "c3b5e222-acc4-438e-a8b7-cae0613cf3b5"
      },
      "outputs": [
        {
          "name": "stdout",
          "output_type": "stream",
          "text": [
            "[1 2 3 4 5 6]\n"
          ]
        }
      ],
      "source": [
        "# Puedo cambiar elementos\n",
        "vector = np.array([1,2,3,4,5,6])\n",
        "print(vector)"
      ]
    },
    {
      "cell_type": "code",
      "execution_count": 7,
      "metadata": {
        "colab": {
          "base_uri": "https://localhost:8080/"
        },
        "id": "HsEOqvxm4txy",
        "outputId": "335b5829-ee69-4031-9566-fcf8d0955ea9"
      },
      "outputs": [
        {
          "name": "stdout",
          "output_type": "stream",
          "text": [
            "[  1   2 200   4   5   6]\n"
          ]
        }
      ],
      "source": [
        "vector[2] = 200\n",
        "print(vector)"
      ]
    },
    {
      "cell_type": "code",
      "execution_count": 8,
      "metadata": {
        "colab": {
          "base_uri": "https://localhost:8080/"
        },
        "id": "5kGtRixF4teP",
        "outputId": "ecc2af41-293c-48eb-fffe-1e17a846eabd"
      },
      "outputs": [
        {
          "name": "stdout",
          "output_type": "stream",
          "text": [
            "[1 2 0 0 5 6]\n"
          ]
        }
      ],
      "source": [
        "vector[2:4] = [0, 0]\n",
        "print(vector)"
      ]
    },
    {
      "cell_type": "code",
      "execution_count": 9,
      "metadata": {
        "colab": {
          "base_uri": "https://localhost:8080/"
        },
        "id": "80nKprcZ4x5W",
        "outputId": "5269b171-2040-4448-ae7c-7e56966fe650"
      },
      "outputs": [
        {
          "name": "stdout",
          "output_type": "stream",
          "text": [
            "[[1 2 3]\n",
            " [4 5 6]\n",
            " [7 8 9]]\n"
          ]
        }
      ],
      "source": [
        "matriz = np.array([[1,2,3], [4,5,6], [7,8,9]])\n",
        "print(matriz)"
      ]
    },
    {
      "cell_type": "code",
      "execution_count": 10,
      "metadata": {
        "colab": {
          "base_uri": "https://localhost:8080/"
        },
        "id": "b0fbzwUb40S1",
        "outputId": "a680eaac-6c09-4a82-f4d8-b547c2f7a4fc"
      },
      "outputs": [
        {
          "name": "stdout",
          "output_type": "stream",
          "text": [
            "[[  1   2   3]\n",
            " [  4   5   6]\n",
            " [  7 900   9]]\n"
          ]
        }
      ],
      "source": [
        "matriz[2, 1] = 900 # Cambio el elemento de la fila 3, columna 1 (elemento 8 antes)\n",
        "print(matriz)"
      ]
    },
    {
      "cell_type": "code",
      "execution_count": 11,
      "metadata": {
        "colab": {
          "base_uri": "https://localhost:8080/"
        },
        "id": "_7vNMT1d40GK",
        "outputId": "986d4e12-3da4-4299-dff2-93e2acc2e45d"
      },
      "outputs": [
        {
          "name": "stdout",
          "output_type": "stream",
          "text": [
            "[[  1   2   0]\n",
            " [  4   5   0]\n",
            " [  7 900   0]]\n"
          ]
        }
      ],
      "source": [
        "matriz[: , -1] = [0, 0, 0] # Redefino todos los elementos de la última columna\n",
        "print(matriz)"
      ]
    },
    {
      "cell_type": "code",
      "execution_count": 12,
      "metadata": {
        "colab": {
          "base_uri": "https://localhost:8080/"
        },
        "id": "t4jQHgcwyLAp",
        "outputId": "ff27cc73-9fac-4d23-d1c8-793694db77b4"
      },
      "outputs": [
        {
          "name": "stdout",
          "output_type": "stream",
          "text": [
            "[[1 2 0]\n",
            " [7 8 0]\n",
            " [8 7 0]]\n"
          ]
        }
      ],
      "source": [
        "matriz[1:3 , -3:-1] = [[7, 8], [8, 7]]\n",
        "print(matriz)"
      ]
    },
    {
      "cell_type": "markdown",
      "metadata": {
        "id": "77Zbho8j2CQ-"
      },
      "source": [
        "Con NumPy contamos de formas de agregar o quitar elementos. Pero como es un array, en realidad crea una nueva copia"
      ]
    },
    {
      "cell_type": "code",
      "execution_count": 13,
      "metadata": {
        "colab": {
          "base_uri": "https://localhost:8080/"
        },
        "id": "mPFhW-pm466J",
        "outputId": "a7ea9367-a48a-49f5-fcc1-ebdb85a8906a"
      },
      "outputs": [
        {
          "name": "stdout",
          "output_type": "stream",
          "text": [
            "[1 2 3 4]\n"
          ]
        }
      ],
      "source": [
        "vector = np.array([1, 2, 3, 4])\n",
        "print(vector)"
      ]
    },
    {
      "cell_type": "markdown",
      "metadata": {
        "id": "zxCdLcbWLdIU"
      },
      "source": [
        "Append"
      ]
    },
    {
      "cell_type": "code",
      "execution_count": 14,
      "metadata": {
        "colab": {
          "base_uri": "https://localhost:8080/"
        },
        "id": "XPtAqGI046xA",
        "outputId": "3da7e3a3-e661-4cdf-c890-3155ef16e791"
      },
      "outputs": [
        {
          "name": "stdout",
          "output_type": "stream",
          "text": [
            "[1 2 3 4]\n",
            "[1 2 3 4 5]\n"
          ]
        }
      ],
      "source": [
        "vector2 = np.append(vector, 5) # a \"vector\" le agrego el elemento 5, y lo guardo en \"vector2\"\n",
        "print(vector)\n",
        "print(vector2)"
      ]
    },
    {
      "cell_type": "code",
      "execution_count": 15,
      "metadata": {
        "colab": {
          "base_uri": "https://localhost:8080/"
        },
        "id": "qxpzijj246oW",
        "outputId": "26fcc151-7c9d-4663-af34-a59d65fc33a5"
      },
      "outputs": [
        {
          "name": "stdout",
          "output_type": "stream",
          "text": [
            "[ 1  2  3  4 10 11 12]\n"
          ]
        }
      ],
      "source": [
        "vector2 = np.append(vector, [10, 11, 12])\n",
        "print(vector2)"
      ]
    },
    {
      "cell_type": "code",
      "execution_count": 16,
      "metadata": {
        "colab": {
          "base_uri": "https://localhost:8080/"
        },
        "id": "w_Cmg7us46fv",
        "outputId": "17d711f4-1161-4d31-b36e-cbd5d88a0a96"
      },
      "outputs": [
        {
          "name": "stdout",
          "output_type": "stream",
          "text": [
            "[[1 2 3]\n",
            " [4 5 6]]\n"
          ]
        }
      ],
      "source": [
        "matriz = np.array([[1,2,3], [4,5,6]])\n",
        "print(matriz)"
      ]
    },
    {
      "cell_type": "code",
      "execution_count": 17,
      "metadata": {
        "colab": {
          "base_uri": "https://localhost:8080/"
        },
        "id": "SgpUCUS_4_iw",
        "outputId": "bc152161-1254-4406-faef-ca74e1e0824e"
      },
      "outputs": [
        {
          "name": "stdout",
          "output_type": "stream",
          "text": [
            "[1 2 3 4 5 6 5]\n"
          ]
        }
      ],
      "source": [
        "matriz2 = np.append(matriz, 5)\n",
        "print(matriz2)"
      ]
    },
    {
      "cell_type": "code",
      "execution_count": 18,
      "metadata": {
        "colab": {
          "base_uri": "https://localhost:8080/"
        },
        "id": "5eqMSyHq46Ve",
        "outputId": "6722bbcd-470d-4b6d-85d7-6c6e37545325"
      },
      "outputs": [
        {
          "name": "stdout",
          "output_type": "stream",
          "text": [
            "[[1 2 3]\n",
            " [4 5 6]\n",
            " [6 7 8]]\n"
          ]
        }
      ],
      "source": [
        "matriz2 = np.append(matriz, [[6, 7, 8]], axis=0) # axis=0 lo agrega como nueva fila\n",
        "print(matriz2)"
      ]
    },
    {
      "cell_type": "code",
      "execution_count": 19,
      "metadata": {
        "colab": {
          "base_uri": "https://localhost:8080/"
        },
        "id": "OytILYr52Bxt",
        "outputId": "6e6dd14b-9de2-4ed7-da46-825c591a6570"
      },
      "outputs": [
        {
          "name": "stdout",
          "output_type": "stream",
          "text": [
            "[[1 2 3 6]\n",
            " [4 5 6 7]]\n"
          ]
        }
      ],
      "source": [
        "matriz2 = np.append(matriz, [[6], [7]], axis=1) # axis=1 lo agrega como nueva columna\n",
        "print(matriz2)"
      ]
    },
    {
      "cell_type": "markdown",
      "metadata": {
        "id": "yGBf4Gm0LfCS"
      },
      "source": [
        "Insert"
      ]
    },
    {
      "cell_type": "code",
      "execution_count": 20,
      "metadata": {
        "colab": {
          "base_uri": "https://localhost:8080/"
        },
        "id": "TUAoWv3T5KCH",
        "outputId": "1ad6ee8f-3f7f-4ad8-bbb6-34c7d79f461b"
      },
      "outputs": [
        {
          "name": "stdout",
          "output_type": "stream",
          "text": [
            "[[1 1]\n",
            " [2 2]\n",
            " [3 3]]\n"
          ]
        }
      ],
      "source": [
        "matriz = np.array([[1, 1], [2, 2], [3, 3]])\n",
        "print(matriz)"
      ]
    },
    {
      "cell_type": "code",
      "execution_count": 21,
      "metadata": {
        "colab": {
          "base_uri": "https://localhost:8080/"
        },
        "id": "DEL8402i5J7i",
        "outputId": "4e020635-2999-42e6-eb29-81cc340c1813"
      },
      "outputs": [
        {
          "name": "stdout",
          "output_type": "stream",
          "text": [
            "[1 5 1 2 2 3 3]\n"
          ]
        }
      ],
      "source": [
        "matriz2 = np.insert(matriz, 1, 5)\n",
        "print(matriz2)"
      ]
    },
    {
      "cell_type": "code",
      "execution_count": 22,
      "metadata": {
        "colab": {
          "base_uri": "https://localhost:8080/"
        },
        "id": "cRNzVC0H5J0B",
        "outputId": "f787253f-62c5-4190-818b-c283e292505c"
      },
      "outputs": [
        {
          "name": "stdout",
          "output_type": "stream",
          "text": [
            "[[1 1]\n",
            " [2 2]\n",
            " [5 6]\n",
            " [3 3]]\n"
          ]
        }
      ],
      "source": [
        "matriz2 = np.insert(matriz, 2, [[5,6]], axis=0) # Le digo en donde quiero agregarlo\n",
        "print(matriz2)"
      ]
    },
    {
      "cell_type": "code",
      "execution_count": 23,
      "metadata": {
        "colab": {
          "base_uri": "https://localhost:8080/"
        },
        "id": "hQxBFcda5Jr8",
        "outputId": "d99f1d36-d444-47ff-c048-63205e376b96"
      },
      "outputs": [
        {
          "name": "stdout",
          "output_type": "stream",
          "text": [
            "[[1 5 1]\n",
            " [2 6 2]\n",
            " [3 7 3]]\n"
          ]
        }
      ],
      "source": [
        "matriz2 = np.insert(matriz, [1], [[5],[6],[7]], axis=1)\n",
        "print(matriz2)"
      ]
    },
    {
      "cell_type": "markdown",
      "metadata": {
        "id": "04LXFv5CLgyx"
      },
      "source": [
        "Delete"
      ]
    },
    {
      "cell_type": "code",
      "execution_count": 24,
      "metadata": {
        "colab": {
          "base_uri": "https://localhost:8080/"
        },
        "id": "tg-0lSLn4lFp",
        "outputId": "b97e41d8-3034-4c4f-a9b5-747a6ba552db"
      },
      "outputs": [
        {
          "name": "stdout",
          "output_type": "stream",
          "text": [
            "[[1 1]\n",
            " [2 2]\n",
            " [3 3]]\n"
          ]
        }
      ],
      "source": [
        "matriz = np.array([[1, 1], [2, 2], [3, 3]])\n",
        "print(matriz)"
      ]
    },
    {
      "cell_type": "code",
      "execution_count": 25,
      "metadata": {
        "colab": {
          "base_uri": "https://localhost:8080/"
        },
        "id": "su5001o95ncF",
        "outputId": "8adc5b9d-1322-45d5-add2-f20d60da8c19"
      },
      "outputs": [
        {
          "name": "stdout",
          "output_type": "stream",
          "text": [
            "[[1 1]\n",
            " [3 3]]\n"
          ]
        }
      ],
      "source": [
        "matriz2 = np.delete(matriz, 1, 0) # Elimino fila 1\n",
        "print(matriz2)"
      ]
    },
    {
      "cell_type": "code",
      "execution_count": 26,
      "metadata": {
        "colab": {
          "base_uri": "https://localhost:8080/"
        },
        "id": "PjXjLt_WLzsv",
        "outputId": "259f8cb9-2b52-43e7-edb3-75960c21f339"
      },
      "outputs": [
        {
          "name": "stdout",
          "output_type": "stream",
          "text": [
            "[[1 1]\n",
            " [2 2]]\n"
          ]
        }
      ],
      "source": [
        "matriz2 = np.delete(matriz, 2, 0) # Elimino fila 2\n",
        "print(matriz2)"
      ]
    },
    {
      "cell_type": "code",
      "execution_count": 27,
      "metadata": {
        "colab": {
          "base_uri": "https://localhost:8080/"
        },
        "id": "J06FmlftL8u7",
        "outputId": "c4c9e564-0231-4877-8782-33fda09ae9a3"
      },
      "outputs": [
        {
          "name": "stdout",
          "output_type": "stream",
          "text": [
            "[[1]\n",
            " [2]\n",
            " [3]]\n"
          ]
        }
      ],
      "source": [
        "matriz2 = np.delete(matriz, 1, 1) # Elimino columna 2\n",
        "print(matriz2)"
      ]
    },
    {
      "cell_type": "code",
      "execution_count": 28,
      "metadata": {
        "colab": {
          "base_uri": "https://localhost:8080/"
        },
        "id": "_J_rRz9s6CZx",
        "outputId": "6be8b714-f07d-420f-9ae7-849163a329a4"
      },
      "outputs": [
        {
          "name": "stdout",
          "output_type": "stream",
          "text": [
            "[1 2 2 3 3]\n"
          ]
        }
      ],
      "source": [
        "matriz2 = np.delete(matriz, 0, None) #If axis is None, obj is applied to the flattened array.\n",
        "print(matriz2)"
      ]
    },
    {
      "cell_type": "code",
      "execution_count": 29,
      "metadata": {
        "colab": {
          "base_uri": "https://localhost:8080/"
        },
        "id": "6Eymg2vJ6M4I",
        "outputId": "1a06030f-05d3-4c26-cf1b-1af5de17f0e2"
      },
      "outputs": [
        {
          "name": "stdout",
          "output_type": "stream",
          "text": [
            "[1 2 3 3]\n"
          ]
        }
      ],
      "source": [
        "matriz2 = np.delete(matriz, [0, 2], None)\n",
        "print(matriz2)"
      ]
    },
    {
      "cell_type": "markdown",
      "metadata": {
        "id": "HNuixCcGvcvr"
      },
      "source": [
        "# Tipos\n",
        "\n",
        "La forma de que NumPy es muy eficiente en sus cálculos es que obliga a que los datos de los array sean del mismo tipo, es decir que implementa un array tradicional.\n",
        "\n",
        "El atributo `dtype` nos permite ver que tipo de variable esta conformado el array."
      ]
    },
    {
      "cell_type": "code",
      "execution_count": 30,
      "metadata": {
        "colab": {
          "base_uri": "https://localhost:8080/"
        },
        "id": "ut4jW472vsd9",
        "outputId": "bb905385-9ad8-43fa-b8b9-7b9b1b24e1d2"
      },
      "outputs": [
        {
          "name": "stdout",
          "output_type": "stream",
          "text": [
            "El ejemplo 1 es del tipo int64\n",
            "El ejemplo 2 es del tipo float64\n",
            "El ejemplo 3 es del tipo <U21\n",
            "12\n"
          ]
        }
      ],
      "source": [
        "ejemplo1 = np.array([1, 2, 3])\n",
        "print(f\"El ejemplo 1 es del tipo {ejemplo1.dtype}\")\n",
        "\n",
        "ejemplo2 = np.array([1, 2., 3])\n",
        "print(f\"El ejemplo 2 es del tipo {ejemplo2.dtype}\")\n",
        "\n",
        "ejemplo3 = np.array([1, 2, \"casa\"])\n",
        "print(f\"El ejemplo 3 es del tipo {ejemplo3.dtype}\")\n",
        "print(ejemplo3[0] + ejemplo3[1])"
      ]
    },
    {
      "cell_type": "code",
      "execution_count": 31,
      "metadata": {
        "colab": {
          "base_uri": "https://localhost:8080/"
        },
        "id": "KFMT2STTwbaQ",
        "outputId": "af16da70-0003-44e3-d129-79c336235a3a"
      },
      "outputs": [
        {
          "name": "stdout",
          "output_type": "stream",
          "text": [
            "El ejemplo 4 es del tipo float64\n"
          ]
        }
      ],
      "source": [
        "# Puedo forzar el tipo\n",
        "ejemplo4 = np.array([1, 2, 3], dtype=float)\n",
        "print(f\"El ejemplo 4 es del tipo {ejemplo4.dtype}\")"
      ]
    },
    {
      "cell_type": "code",
      "execution_count": 32,
      "metadata": {
        "colab": {
          "base_uri": "https://localhost:8080/"
        },
        "id": "xXnjW5rKwthS",
        "outputId": "ae727510-0817-4758-f28f-a798bd63de60"
      },
      "outputs": [
        {
          "name": "stdout",
          "output_type": "stream",
          "text": [
            "El ejemplo 1 es del tipo int64\n",
            "El ejemplo 5 es del tipo float64\n"
          ]
        }
      ],
      "source": [
        "# Tambien puedo convertir de tipo\n",
        "ejemplo5 = ejemplo1.astype(float)\n",
        "print(f\"El ejemplo 1 es del tipo {ejemplo1.dtype}\")\n",
        "print(f\"El ejemplo 5 es del tipo {ejemplo5.dtype}\")"
      ]
    },
    {
      "cell_type": "markdown",
      "metadata": {
        "id": "f-GqAMbWtpc7"
      },
      "source": [
        "## Unos y ceros\n",
        "\n",
        "NumPy tiene métodos incorporados que permiten crear arreglos de unos o ceros."
      ]
    },
    {
      "cell_type": "code",
      "execution_count": 33,
      "metadata": {
        "colab": {
          "base_uri": "https://localhost:8080/"
        },
        "id": "NBHseZm8ttee",
        "outputId": "df6c654e-3fad-44e8-a061-eee497f10c8f"
      },
      "outputs": [
        {
          "name": "stdout",
          "output_type": "stream",
          "text": [
            "[0. 0. 0. 0.]\n",
            "[1. 1. 1. 1. 1.]\n"
          ]
        }
      ],
      "source": [
        "ceros = np.zeros(4)\n",
        "print(ceros)\n",
        "\n",
        "unos = np.ones(5)\n",
        "print(unos)"
      ]
    },
    {
      "cell_type": "code",
      "execution_count": 34,
      "metadata": {
        "colab": {
          "base_uri": "https://localhost:8080/"
        },
        "id": "8kdpENsWMsk5",
        "outputId": "3a1d488d-9ad3-4d99-fe86-3fef0a019c4d"
      },
      "outputs": [
        {
          "data": {
            "text/plain": [
              "array([[1., 1.],\n",
              "       [1., 1.]])"
            ]
          },
          "execution_count": 34,
          "metadata": {},
          "output_type": "execute_result"
        }
      ],
      "source": [
        "s = (2,2)\n",
        "np.ones(s)"
      ]
    },
    {
      "cell_type": "code",
      "execution_count": 35,
      "metadata": {
        "colab": {
          "base_uri": "https://localhost:8080/"
        },
        "id": "SUPcFsMwMu2O",
        "outputId": "7d3c7f68-77d9-46d3-8ba6-d27f41041a00"
      },
      "outputs": [
        {
          "data": {
            "text/plain": [
              "array([[0, 0],\n",
              "       [0, 0],\n",
              "       [0, 0]])"
            ]
          },
          "execution_count": 35,
          "metadata": {},
          "output_type": "execute_result"
        }
      ],
      "source": [
        "s = (3,2)\n",
        "np.zeros(s, dtype=int)"
      ]
    },
    {
      "cell_type": "markdown",
      "metadata": {
        "id": "osx35R_AuB93"
      },
      "source": [
        "## Otros metodos que permiten crear array de valores"
      ]
    },
    {
      "cell_type": "code",
      "execution_count": 36,
      "metadata": {
        "colab": {
          "base_uri": "https://localhost:8080/"
        },
        "id": "nM8NDFqTt0dk",
        "outputId": "f7d7e774-6954-457d-d6c6-1c15fecceafd"
      },
      "outputs": [
        {
          "name": "stdout",
          "output_type": "stream",
          "text": [
            "[0 1 2 3 4 5 6 7 8 9]\n",
            "[-10  -8  -6  -4  -2   0   2   4   6   8]\n"
          ]
        }
      ],
      "source": [
        "rango_valores = np.arange(10)\n",
        "print(rango_valores)\n",
        "\n",
        "rango_valores = np.arange(-10, 10, 2)\n",
        "print(rango_valores)"
      ]
    },
    {
      "cell_type": "code",
      "execution_count": 37,
      "metadata": {
        "colab": {
          "base_uri": "https://localhost:8080/"
        },
        "id": "l5ZbcJoHuSS6",
        "outputId": "953943ae-af8d-47ff-ff1c-cbb11bc30f34"
      },
      "outputs": [
        {
          "name": "stdout",
          "output_type": "stream",
          "text": [
            "[ 0.  1.  2.  3.  4.  5.  6.  7.  8.  9. 10.]\n",
            "[0.  0.5 1.  1.5 2.  2.5 3.  3.5 4.  4.5 5. ]\n"
          ]
        }
      ],
      "source": [
        "rango_lineas = np.linspace(0, 10, 11)\n",
        "print(rango_lineas)\n",
        "\n",
        "rango_lineas = np.linspace(0, 5, 11)\n",
        "print(rango_lineas)"
      ]
    },
    {
      "cell_type": "code",
      "execution_count": 38,
      "metadata": {
        "colab": {
          "base_uri": "https://localhost:8080/"
        },
        "id": "kQr8_qSSDY_f",
        "outputId": "fd1bb3a0-a9b7-4437-c918-f537a2b6d356"
      },
      "outputs": [
        {
          "name": "stdout",
          "output_type": "stream",
          "text": [
            "[[1. 0.]\n",
            " [0. 1.]]\n",
            "[[1. 0. 0. 0.]\n",
            " [0. 1. 0. 0.]\n",
            " [0. 0. 1. 0.]\n",
            " [0. 0. 0. 1.]]\n"
          ]
        }
      ],
      "source": [
        "# Podemos crear matrices identidad con eye\n",
        "identidad_2 = np.eye(2)\n",
        "print(identidad_2)\n",
        "\n",
        "identidad_4 = np.eye(4)\n",
        "print(identidad_4)"
      ]
    },
    {
      "cell_type": "code",
      "execution_count": 39,
      "metadata": {
        "colab": {
          "base_uri": "https://localhost:8080/"
        },
        "id": "jobimCv0uqbC",
        "outputId": "f570ed46-e1d7-4f43-8150-0fa98c18ca51"
      },
      "outputs": [
        {
          "name": "stdout",
          "output_type": "stream",
          "text": [
            "[0 6 4 7 5 2 9 8 3 3]\n",
            "[[0.50166712 0.04758563]\n",
            " [0.53290367 0.31416562]\n",
            " [0.13478005 0.85877004]]\n"
          ]
        }
      ],
      "source": [
        "aleatorio = np.random.randint(0, 10, 10)\n",
        "print(aleatorio)\n",
        "\n",
        "aleatorio = np.random.rand(3, 2)\n",
        "print(aleatorio)"
      ]
    },
    {
      "cell_type": "markdown",
      "metadata": {
        "id": "MbLwRgz09dlC"
      },
      "source": [
        "## Axis en Numpy\n",
        "\n",
        "En array de dos dimensiones, los axes son las direcciones a travez de las filas y columnas"
      ]
    },
    {
      "cell_type": "code",
      "execution_count": 40,
      "metadata": {
        "colab": {
          "base_uri": "https://localhost:8080/"
        },
        "id": "Oa24FZI29nPF",
        "outputId": "7be3e1f0-19e2-4bc9-fe53-0720dbe7c8c1"
      },
      "outputs": [
        {
          "name": "stdout",
          "output_type": "stream",
          "text": [
            "[[1 2 3]\n",
            " [4 5 6]]\n"
          ]
        }
      ],
      "source": [
        "# Veamos con np.sum() las diferencias\n",
        "matriz = np.array([[1, 2, 3], [4, 5, 6]])\n",
        "print(matriz)"
      ]
    },
    {
      "cell_type": "code",
      "execution_count": 41,
      "metadata": {
        "colab": {
          "base_uri": "https://localhost:8080/"
        },
        "id": "X0g252EW90id",
        "outputId": "9055bda6-ab30-4721-af7d-95e59e40ae81"
      },
      "outputs": [
        {
          "data": {
            "text/plain": [
              "array([5, 7, 9])"
            ]
          },
          "execution_count": 41,
          "metadata": {},
          "output_type": "execute_result"
        }
      ],
      "source": [
        "np.sum(matriz, axis=0)"
      ]
    },
    {
      "cell_type": "code",
      "execution_count": 42,
      "metadata": {
        "colab": {
          "base_uri": "https://localhost:8080/"
        },
        "id": "CnTOD2xJ97nt",
        "outputId": "a6ed8f93-f2c7-4087-d08a-eac7fd813855"
      },
      "outputs": [
        {
          "data": {
            "text/plain": [
              "array([ 6, 15])"
            ]
          },
          "execution_count": 42,
          "metadata": {},
          "output_type": "execute_result"
        }
      ],
      "source": [
        "np.sum(matriz, axis=1)"
      ]
    },
    {
      "cell_type": "code",
      "execution_count": 43,
      "metadata": {
        "colab": {
          "base_uri": "https://localhost:8080/"
        },
        "id": "CKDvymNg9-Fa",
        "outputId": "1653a326-4948-40a5-ee65-efa255fc3a47"
      },
      "outputs": [
        {
          "data": {
            "text/plain": [
              "21"
            ]
          },
          "execution_count": 43,
          "metadata": {},
          "output_type": "execute_result"
        }
      ],
      "source": [
        "# Sumamos todos los elementos\n",
        "np.sum(matriz)"
      ]
    },
    {
      "cell_type": "code",
      "execution_count": 44,
      "metadata": {
        "colab": {
          "base_uri": "https://localhost:8080/"
        },
        "id": "JE1MK6aI-BXT",
        "outputId": "863bea14-d217-46c9-d001-3af91215da86"
      },
      "outputs": [
        {
          "data": {
            "text/plain": [
              "21"
            ]
          },
          "execution_count": 44,
          "metadata": {},
          "output_type": "execute_result"
        }
      ],
      "source": [
        "# Esto es equivalente a hacer\n",
        "np.sum(np.sum(matriz, axis=1), axis=0)"
      ]
    },
    {
      "cell_type": "markdown",
      "metadata": {
        "id": "wTs-y0JqNy92"
      },
      "source": [
        "Concatenate"
      ]
    },
    {
      "cell_type": "code",
      "execution_count": 45,
      "metadata": {
        "colab": {
          "base_uri": "https://localhost:8080/"
        },
        "id": "_BpYhvAr_iZc",
        "outputId": "3f1d8979-b2fc-493e-9094-d5fa2f31a3b1"
      },
      "outputs": [
        {
          "name": "stdout",
          "output_type": "stream",
          "text": [
            "[[1 1]\n",
            " [1 1]]\n",
            "[[5 5]\n",
            " [5 5]]\n"
          ]
        }
      ],
      "source": [
        "a = np.array([[1, 1], [1, 1]])\n",
        "b = np.array([[5, 5], [5, 5]])\n",
        "print(a)\n",
        "print(b)"
      ]
    },
    {
      "cell_type": "code",
      "execution_count": 46,
      "metadata": {
        "colab": {
          "base_uri": "https://localhost:8080/"
        },
        "id": "tpt1KMGR_xHE",
        "outputId": "eabcec7c-ab71-416c-d935-a6b80cef2b13"
      },
      "outputs": [
        {
          "data": {
            "text/plain": [
              "array([[1, 1],\n",
              "       [1, 1],\n",
              "       [5, 5],\n",
              "       [5, 5]])"
            ]
          },
          "execution_count": 46,
          "metadata": {},
          "output_type": "execute_result"
        }
      ],
      "source": [
        "# Concatenamos en direccion de las filas\n",
        "np.concatenate([a,b], axis=0)"
      ]
    },
    {
      "cell_type": "code",
      "execution_count": 47,
      "metadata": {
        "colab": {
          "base_uri": "https://localhost:8080/"
        },
        "id": "q9RIVVoQ_iOY",
        "outputId": "84335b14-7707-4dcc-f3bb-04fdb1f20d4f"
      },
      "outputs": [
        {
          "data": {
            "text/plain": [
              "array([[1, 1, 5, 5],\n",
              "       [1, 1, 5, 5]])"
            ]
          },
          "execution_count": 47,
          "metadata": {},
          "output_type": "execute_result"
        }
      ],
      "source": [
        "# Concatenamos en direccion de las columnas\n",
        "np.concatenate([a,b], axis=1)"
      ]
    },
    {
      "cell_type": "code",
      "execution_count": 48,
      "metadata": {
        "id": "QrJmot8vABYw"
      },
      "outputs": [],
      "source": [
        "# Por ultimo, los array unidimensionales, tienen un solo eje\n",
        "vector_1 = np.array([1,1,1])\n",
        "vector_9 = np.array([9,9,9])"
      ]
    },
    {
      "cell_type": "code",
      "execution_count": 49,
      "metadata": {
        "colab": {
          "base_uri": "https://localhost:8080/"
        },
        "id": "ZdMMwto-AQgN",
        "outputId": "9de876a9-9655-469f-ab0b-d49073ab88be"
      },
      "outputs": [
        {
          "data": {
            "text/plain": [
              "3"
            ]
          },
          "execution_count": 49,
          "metadata": {},
          "output_type": "execute_result"
        }
      ],
      "source": [
        "np.sum(vector_1, axis=0)"
      ]
    },
    {
      "cell_type": "markdown",
      "metadata": {
        "id": "KSy33wqQN-Zk"
      },
      "source": [
        "Si sumamos en axis=1 nos da error"
      ]
    },
    {
      "cell_type": "code",
      "execution_count": 51,
      "metadata": {
        "colab": {
          "base_uri": "https://localhost:8080/",
          "height": 301
        },
        "id": "4tK1ZfQUAVvJ",
        "outputId": "460bc830-a025-44c5-baa7-d8f6272e9ad7"
      },
      "outputs": [
        {
          "ename": "AxisError",
          "evalue": "axis 1 is out of bounds for array of dimension 1",
          "output_type": "error",
          "traceback": [
            "\u001b[0;31m---------------------------------------------------------------------------\u001b[0m",
            "\u001b[0;31mAxisError\u001b[0m                                 Traceback (most recent call last)",
            "\u001b[0;32m<ipython-input-51-334f3b196ba6>\u001b[0m in \u001b[0;36m<cell line: 1>\u001b[0;34m()\u001b[0m\n\u001b[0;32m----> 1\u001b[0;31m \u001b[0mnp\u001b[0m\u001b[0;34m.\u001b[0m\u001b[0msum\u001b[0m\u001b[0;34m(\u001b[0m\u001b[0mvector_1\u001b[0m\u001b[0;34m,\u001b[0m \u001b[0maxis\u001b[0m\u001b[0;34m=\u001b[0m\u001b[0;36m1\u001b[0m\u001b[0;34m)\u001b[0m\u001b[0;34m\u001b[0m\u001b[0;34m\u001b[0m\u001b[0m\n\u001b[0m",
            "\u001b[0;32m/usr/local/lib/python3.10/dist-packages/numpy/core/fromnumeric.py\u001b[0m in \u001b[0;36msum\u001b[0;34m(a, axis, dtype, out, keepdims, initial, where)\u001b[0m\n\u001b[1;32m   2311\u001b[0m         \u001b[0;32mreturn\u001b[0m \u001b[0mres\u001b[0m\u001b[0;34m\u001b[0m\u001b[0;34m\u001b[0m\u001b[0m\n\u001b[1;32m   2312\u001b[0m \u001b[0;34m\u001b[0m\u001b[0m\n\u001b[0;32m-> 2313\u001b[0;31m     return _wrapreduction(a, np.add, 'sum', axis, dtype, out, keepdims=keepdims,\n\u001b[0m\u001b[1;32m   2314\u001b[0m                           initial=initial, where=where)\n\u001b[1;32m   2315\u001b[0m \u001b[0;34m\u001b[0m\u001b[0m\n",
            "\u001b[0;32m/usr/local/lib/python3.10/dist-packages/numpy/core/fromnumeric.py\u001b[0m in \u001b[0;36m_wrapreduction\u001b[0;34m(obj, ufunc, method, axis, dtype, out, **kwargs)\u001b[0m\n\u001b[1;32m     86\u001b[0m                 \u001b[0;32mreturn\u001b[0m \u001b[0mreduction\u001b[0m\u001b[0;34m(\u001b[0m\u001b[0maxis\u001b[0m\u001b[0;34m=\u001b[0m\u001b[0maxis\u001b[0m\u001b[0;34m,\u001b[0m \u001b[0mout\u001b[0m\u001b[0;34m=\u001b[0m\u001b[0mout\u001b[0m\u001b[0;34m,\u001b[0m \u001b[0;34m**\u001b[0m\u001b[0mpasskwargs\u001b[0m\u001b[0;34m)\u001b[0m\u001b[0;34m\u001b[0m\u001b[0;34m\u001b[0m\u001b[0m\n\u001b[1;32m     87\u001b[0m \u001b[0;34m\u001b[0m\u001b[0m\n\u001b[0;32m---> 88\u001b[0;31m     \u001b[0;32mreturn\u001b[0m \u001b[0mufunc\u001b[0m\u001b[0;34m.\u001b[0m\u001b[0mreduce\u001b[0m\u001b[0;34m(\u001b[0m\u001b[0mobj\u001b[0m\u001b[0;34m,\u001b[0m \u001b[0maxis\u001b[0m\u001b[0;34m,\u001b[0m \u001b[0mdtype\u001b[0m\u001b[0;34m,\u001b[0m \u001b[0mout\u001b[0m\u001b[0;34m,\u001b[0m \u001b[0;34m**\u001b[0m\u001b[0mpasskwargs\u001b[0m\u001b[0;34m)\u001b[0m\u001b[0;34m\u001b[0m\u001b[0;34m\u001b[0m\u001b[0m\n\u001b[0m\u001b[1;32m     89\u001b[0m \u001b[0;34m\u001b[0m\u001b[0m\n\u001b[1;32m     90\u001b[0m \u001b[0;34m\u001b[0m\u001b[0m\n",
            "\u001b[0;31mAxisError\u001b[0m: axis 1 is out of bounds for array of dimension 1"
          ]
        }
      ],
      "source": [
        "np.sum(vector_1, axis=1)"
      ]
    },
    {
      "cell_type": "code",
      "execution_count": 52,
      "metadata": {
        "colab": {
          "base_uri": "https://localhost:8080/"
        },
        "id": "OGJRcoiJAXh0",
        "outputId": "f73ec7ca-06c4-4a53-fd15-bad59b285bf2"
      },
      "outputs": [
        {
          "data": {
            "text/plain": [
              "array([1, 1, 1, 9, 9, 9])"
            ]
          },
          "execution_count": 52,
          "metadata": {},
          "output_type": "execute_result"
        }
      ],
      "source": [
        "np.concatenate([vector_1, vector_9], axis=0)"
      ]
    },
    {
      "cell_type": "markdown",
      "metadata": {
        "id": "kmdn6ZgmAgv6"
      },
      "source": [
        "Aca tenemos una fuente de confusion ya que si fuera un array de dos dimensiones, si axis=0, se acomodaria uno abajo del otro, pero como es de una sola dimension, es en realidad uno al lado del otro. El eje en una array de una sola dimension **no** apunta hacia abajo.\n",
        "\n",
        "Se recomienda evitar usar *axis* en array unidimensionales\n",
        "\n",
        "Ahora si trabajamos con matrices filas, el panorama es diferente:"
      ]
    },
    {
      "cell_type": "code",
      "execution_count": 53,
      "metadata": {
        "id": "CSK4By1_Aggx"
      },
      "outputs": [],
      "source": [
        "# Estos son array de dos dimensiones\n",
        "arr_1 = np.array([1,1,1]).reshape([1, -1])\n",
        "arr_9 = np.array([9,9,9]).reshape([1, -1])"
      ]
    },
    {
      "cell_type": "code",
      "execution_count": 54,
      "metadata": {
        "colab": {
          "base_uri": "https://localhost:8080/"
        },
        "id": "VFuAaFD9Ae-x",
        "outputId": "4d97572c-1c8d-4ddb-cbbb-25444f0da45f"
      },
      "outputs": [
        {
          "data": {
            "text/plain": [
              "array([[1, 1, 1],\n",
              "       [9, 9, 9]])"
            ]
          },
          "execution_count": 54,
          "metadata": {},
          "output_type": "execute_result"
        }
      ],
      "source": [
        "np.concatenate([arr_1, arr_9], axis=0)"
      ]
    },
    {
      "cell_type": "code",
      "execution_count": 55,
      "metadata": {
        "colab": {
          "base_uri": "https://localhost:8080/"
        },
        "id": "glti7CQ6BSqu",
        "outputId": "2238bc51-a176-4e29-aa70-6b519032b5ea"
      },
      "outputs": [
        {
          "data": {
            "text/plain": [
              "array([[1, 1, 1, 9, 9, 9]])"
            ]
          },
          "execution_count": 55,
          "metadata": {},
          "output_type": "execute_result"
        }
      ],
      "source": [
        "np.concatenate([arr_1, arr_9], axis=1)"
      ]
    },
    {
      "cell_type": "markdown",
      "metadata": {
        "id": "QLRpyiPQHhgJ"
      },
      "source": [
        "## Reshape\n",
        "\n",
        "Con Reshape podemos convertir array de una dimension a otra. Esta funcion es muy util"
      ]
    },
    {
      "cell_type": "code",
      "execution_count": 56,
      "metadata": {
        "id": "aN_Yc-pAHnfg"
      },
      "outputs": [],
      "source": [
        "vector_unidimensional = np.array([0, 1, 2, 3, 4, 5])"
      ]
    },
    {
      "cell_type": "code",
      "execution_count": 58,
      "metadata": {
        "colab": {
          "base_uri": "https://localhost:8080/"
        },
        "id": "oU9f_J0KHswf",
        "outputId": "a31ce663-801f-4ffa-bc84-915e7da88fa6"
      },
      "outputs": [
        {
          "data": {
            "text/plain": [
              "array([[0],\n",
              "       [1],\n",
              "       [2],\n",
              "       [3],\n",
              "       [4],\n",
              "       [5]])"
            ]
          },
          "execution_count": 58,
          "metadata": {},
          "output_type": "execute_result"
        }
      ],
      "source": [
        "# Lo transformemos en un vector columna\n",
        "vector_unidimensional.reshape([-1, 1])"
      ]
    },
    {
      "cell_type": "code",
      "execution_count": 59,
      "metadata": {
        "colab": {
          "base_uri": "https://localhost:8080/"
        },
        "id": "pEZS_zmGH1kh",
        "outputId": "e47abfb5-d1b1-49fc-deff-b8da68225afa"
      },
      "outputs": [
        {
          "data": {
            "text/plain": [
              "array([[0, 1, 2],\n",
              "       [3, 4, 5]])"
            ]
          },
          "execution_count": 59,
          "metadata": {},
          "output_type": "execute_result"
        }
      ],
      "source": [
        "# Ahora en una matriz de 2 filas(y la cantidad de columnas necesarias)\n",
        "vector_unidimensional.reshape([2, -1])"
      ]
    },
    {
      "cell_type": "code",
      "execution_count": 60,
      "metadata": {
        "colab": {
          "base_uri": "https://localhost:8080/"
        },
        "id": "q8eWKubwIA9O",
        "outputId": "b1ff26a3-07a5-481a-b3aa-58bc7caa77b7"
      },
      "outputs": [
        {
          "data": {
            "text/plain": [
              "array([[0, 1],\n",
              "       [2, 3],\n",
              "       [4, 5]])"
            ]
          },
          "execution_count": 60,
          "metadata": {},
          "output_type": "execute_result"
        }
      ],
      "source": [
        "# O en esta otra matriz de 2 columnas(y la cantidad de filas necesarias)\n",
        "vector_unidimensional.reshape([-1, 2])"
      ]
    },
    {
      "cell_type": "code",
      "execution_count": 61,
      "metadata": {
        "colab": {
          "base_uri": "https://localhost:8080/"
        },
        "id": "PhYYl4A5IEAM",
        "outputId": "8159f292-532c-4446-a00a-a4ccda0627fc"
      },
      "outputs": [
        {
          "data": {
            "text/plain": [
              "array([[[0, 1]],\n",
              "\n",
              "       [[2, 3]],\n",
              "\n",
              "       [[4, 5]]])"
            ]
          },
          "execution_count": 61,
          "metadata": {},
          "output_type": "execute_result"
        }
      ],
      "source": [
        "# Probemos una de tres dimensiones\n",
        "vector_unidimensional.reshape([-1, 1, 2])"
      ]
    },
    {
      "cell_type": "code",
      "execution_count": 62,
      "metadata": {
        "colab": {
          "base_uri": "https://localhost:8080/"
        },
        "id": "rVHyUyPmIRzf",
        "outputId": "b632cf15-e7e9-4a7d-b5ad-57c0b8065d20"
      },
      "outputs": [
        {
          "name": "stdout",
          "output_type": "stream",
          "text": [
            "[[1 1]\n",
            " [2 2]]\n"
          ]
        }
      ],
      "source": [
        "# Tambien podemos \"aplanar\" matrices en un array de una dimension\n",
        "a = np.array([[1, 1], [2, 2]])\n",
        "\n",
        "print(a)"
      ]
    },
    {
      "cell_type": "code",
      "execution_count": 63,
      "metadata": {
        "colab": {
          "base_uri": "https://localhost:8080/"
        },
        "id": "GJcAQ8VLIdx3",
        "outputId": "e1f741d3-e588-4d7d-97b0-acfa60d76cf2"
      },
      "outputs": [
        {
          "data": {
            "text/plain": [
              "array([1, 1, 2, 2])"
            ]
          },
          "execution_count": 63,
          "metadata": {},
          "output_type": "execute_result"
        }
      ],
      "source": [
        "a.reshape(-1)"
      ]
    },
    {
      "cell_type": "markdown",
      "metadata": {
        "id": "SmUoMeTaC5QW"
      },
      "source": [
        "# Operaciones\n",
        "\n",
        "Por último, nos queda un millar de tipos de diferentes de operaciones en Numpy"
      ]
    },
    {
      "cell_type": "code",
      "execution_count": 64,
      "metadata": {
        "colab": {
          "base_uri": "https://localhost:8080/"
        },
        "id": "NDAQAr05DC0w",
        "outputId": "b3ef53c7-1e0c-40b2-e003-4d79f6d43292"
      },
      "outputs": [
        {
          "name": "stdout",
          "output_type": "stream",
          "text": [
            "[[1 2 3]\n",
            " [4 5 6]]\n",
            "[[10 11 12]\n",
            " [13 14 15]]\n"
          ]
        }
      ],
      "source": [
        "a = np.array([[1,2,3],\n",
        "              [4,5,6]])\n",
        "\n",
        "b = np.array([[10,11,12],\n",
        "              [13,14,15]])\n",
        "\n",
        "print(a)\n",
        "print(b)"
      ]
    },
    {
      "cell_type": "code",
      "execution_count": 65,
      "metadata": {
        "colab": {
          "base_uri": "https://localhost:8080/"
        },
        "id": "SSDnvWErEOGs",
        "outputId": "3a7301bf-a671-4483-c7a2-3162ff7cb28a"
      },
      "outputs": [
        {
          "data": {
            "text/plain": [
              "array([[11, 13, 15],\n",
              "       [17, 19, 21]])"
            ]
          },
          "execution_count": 65,
          "metadata": {},
          "output_type": "execute_result"
        }
      ],
      "source": [
        "# Suma\n",
        "a + b"
      ]
    },
    {
      "cell_type": "code",
      "execution_count": 66,
      "metadata": {
        "colab": {
          "base_uri": "https://localhost:8080/"
        },
        "id": "lpoEEpKXEN8-",
        "outputId": "96768d4e-d4bd-491f-a165-79821cd8bce3"
      },
      "outputs": [
        {
          "data": {
            "text/plain": [
              "array([[-9, -9, -9],\n",
              "       [-9, -9, -9]])"
            ]
          },
          "execution_count": 66,
          "metadata": {},
          "output_type": "execute_result"
        }
      ],
      "source": [
        "# Resta\n",
        "a - b"
      ]
    },
    {
      "cell_type": "code",
      "execution_count": 67,
      "metadata": {
        "colab": {
          "base_uri": "https://localhost:8080/"
        },
        "id": "aAhNvsJVEN6r",
        "outputId": "9efe2629-279a-4f35-8226-93c6b720af99"
      },
      "outputs": [
        {
          "data": {
            "text/plain": [
              "array([[ 2,  4,  6],\n",
              "       [ 8, 10, 12]])"
            ]
          },
          "execution_count": 67,
          "metadata": {},
          "output_type": "execute_result"
        }
      ],
      "source": [
        "# Multiplico un array por un escalar\n",
        "2*a"
      ]
    },
    {
      "cell_type": "code",
      "execution_count": 68,
      "metadata": {
        "colab": {
          "base_uri": "https://localhost:8080/"
        },
        "id": "7rASDyYLEN3-",
        "outputId": "cc6af7ee-b921-4206-a1e0-9800bd4b6b3f"
      },
      "outputs": [
        {
          "data": {
            "text/plain": [
              "array([[21, 24, 27],\n",
              "       [30, 33, 36]])"
            ]
          },
          "execution_count": 68,
          "metadata": {},
          "output_type": "execute_result"
        }
      ],
      "source": [
        "# Operaciones algebraicas de matrices o vectores\n",
        "a + 2*b"
      ]
    },
    {
      "cell_type": "code",
      "execution_count": 69,
      "metadata": {
        "colab": {
          "base_uri": "https://localhost:8080/"
        },
        "id": "XWiF6d-ZEN0-",
        "outputId": "7f214c1d-e222-4b2a-d0db-f3f0082bbb9f"
      },
      "outputs": [
        {
          "data": {
            "text/plain": [
              "array([[10, 22, 36],\n",
              "       [52, 70, 90]])"
            ]
          },
          "execution_count": 69,
          "metadata": {},
          "output_type": "execute_result"
        }
      ],
      "source": [
        "# Multiplicar elemento a elemento (esto no es una matriz, sino es el producto de dos array)\n",
        "a * b"
      ]
    },
    {
      "cell_type": "code",
      "execution_count": 70,
      "metadata": {
        "colab": {
          "base_uri": "https://localhost:8080/"
        },
        "id": "ANlsshTiDJbU",
        "outputId": "692649d8-fde0-4c6b-8866-09f519832777"
      },
      "outputs": [
        {
          "data": {
            "text/plain": [
              "array([[ 1,  4,  9],\n",
              "       [16, 25, 36]])"
            ]
          },
          "execution_count": 70,
          "metadata": {},
          "output_type": "execute_result"
        }
      ],
      "source": [
        "# Elevar al cuadrado elemento a elemento (esto no es una matriz)\n",
        "a ** 2"
      ]
    },
    {
      "cell_type": "code",
      "execution_count": 71,
      "metadata": {
        "colab": {
          "base_uri": "https://localhost:8080/"
        },
        "id": "cLiTFjN2D2b8",
        "outputId": "88345d0a-b115-49a6-c45c-880940aad45b"
      },
      "outputs": [
        {
          "data": {
            "text/plain": [
              "array([[0.1       , 0.18181818, 0.25      ],\n",
              "       [0.30769231, 0.35714286, 0.4       ]])"
            ]
          },
          "execution_count": 71,
          "metadata": {},
          "output_type": "execute_result"
        }
      ],
      "source": [
        "# Dividir elemento a elemento (esto no es una matriz)\n",
        "a / b"
      ]
    },
    {
      "cell_type": "code",
      "execution_count": 72,
      "metadata": {
        "colab": {
          "base_uri": "https://localhost:8080/"
        },
        "id": "lvpmkBkAEfgZ",
        "outputId": "2718291d-8a0f-4722-9055-01b1009fb42e"
      },
      "outputs": [
        {
          "data": {
            "text/plain": [
              "array([[ 72,  84],\n",
              "       [177, 204]])"
            ]
          },
          "execution_count": 72,
          "metadata": {},
          "output_type": "execute_result"
        }
      ],
      "source": [
        "# Multiplicar dos matrices\n",
        "a = np.array([[1,2,3],\n",
        "              [4,5,6]])\n",
        "\n",
        "c = np.array([[10,11],\n",
        "              [13,14],\n",
        "              [12,15]])\n",
        "\n",
        "np.matmul(a,c)"
      ]
    },
    {
      "cell_type": "code",
      "execution_count": 73,
      "metadata": {
        "colab": {
          "base_uri": "https://localhost:8080/"
        },
        "id": "W07QW1EKEjwM",
        "outputId": "fabe0b5b-b99d-4331-b149-82c3249b31bf"
      },
      "outputs": [
        {
          "data": {
            "text/plain": [
              "array([[ 54,  75,  96],\n",
              "       [ 69,  96, 123],\n",
              "       [ 72,  99, 126]])"
            ]
          },
          "execution_count": 73,
          "metadata": {},
          "output_type": "execute_result"
        }
      ],
      "source": [
        "np.matmul(c,a)"
      ]
    },
    {
      "cell_type": "code",
      "execution_count": 74,
      "metadata": {
        "colab": {
          "base_uri": "https://localhost:8080/"
        },
        "id": "9IEZNDh8Ezfr",
        "outputId": "7701925a-047e-4bdc-963b-d011c6f4e0bb"
      },
      "outputs": [
        {
          "data": {
            "text/plain": [
              "array([[1, 4],\n",
              "       [2, 5],\n",
              "       [3, 6]])"
            ]
          },
          "execution_count": 74,
          "metadata": {},
          "output_type": "execute_result"
        }
      ],
      "source": [
        "# Transponer una matriz\n",
        "a.T"
      ]
    },
    {
      "cell_type": "code",
      "execution_count": 75,
      "metadata": {
        "colab": {
          "base_uri": "https://localhost:8080/",
          "height": 185
        },
        "id": "ng97bSJiFAlz",
        "outputId": "4d7fcd7b-089b-436e-8cbf-3cc95c352a16"
      },
      "outputs": [
        {
          "ename": "ValueError",
          "evalue": "matmul: Input operand 1 has a mismatch in its core dimension 0, with gufunc signature (n?,k),(k,m?)->(n?,m?) (size 2 is different from 3)",
          "output_type": "error",
          "traceback": [
            "\u001b[0;31m---------------------------------------------------------------------------\u001b[0m",
            "\u001b[0;31mValueError\u001b[0m                                Traceback (most recent call last)",
            "\u001b[0;32m<ipython-input-75-95c611c47031>\u001b[0m in \u001b[0;36m<cell line: 3>\u001b[0;34m()\u001b[0m\n\u001b[1;32m      1\u001b[0m \u001b[0;31m# Recordar que para multiplicar matrices las columnas de la primera matriz\u001b[0m\u001b[0;34m\u001b[0m\u001b[0;34m\u001b[0m\u001b[0m\n\u001b[1;32m      2\u001b[0m \u001b[0;31m# tienen que ser igual a las filas de la segunda\u001b[0m\u001b[0;34m\u001b[0m\u001b[0;34m\u001b[0m\u001b[0m\n\u001b[0;32m----> 3\u001b[0;31m \u001b[0mnp\u001b[0m\u001b[0;34m.\u001b[0m\u001b[0mmatmul\u001b[0m\u001b[0;34m(\u001b[0m\u001b[0ma\u001b[0m\u001b[0;34m,\u001b[0m\u001b[0mb\u001b[0m\u001b[0;34m)\u001b[0m\u001b[0;34m\u001b[0m\u001b[0;34m\u001b[0m\u001b[0m\n\u001b[0m",
            "\u001b[0;31mValueError\u001b[0m: matmul: Input operand 1 has a mismatch in its core dimension 0, with gufunc signature (n?,k),(k,m?)->(n?,m?) (size 2 is different from 3)"
          ]
        }
      ],
      "source": [
        "# Recordar que para multiplicar matrices las columnas de la primera matriz\n",
        "# tienen que ser igual a las filas de la segunda -> da error!\n",
        "np.matmul(a,b)"
      ]
    },
    {
      "cell_type": "code",
      "execution_count": 76,
      "metadata": {
        "colab": {
          "base_uri": "https://localhost:8080/"
        },
        "id": "LZRvnEODFDVR",
        "outputId": "106518de-8096-46c4-f830-2f2dab3ae545"
      },
      "outputs": [
        {
          "data": {
            "text/plain": [
              "array([[ 68,  86],\n",
              "       [167, 212]])"
            ]
          },
          "execution_count": 76,
          "metadata": {},
          "output_type": "execute_result"
        }
      ],
      "source": [
        "np.matmul(a,b.T)"
      ]
    },
    {
      "cell_type": "code",
      "execution_count": 77,
      "metadata": {
        "colab": {
          "base_uri": "https://localhost:8080/"
        },
        "id": "e_B6JA-CFEjK",
        "outputId": "5a8f53ab-fa5b-4bf3-994c-8c544827df15"
      },
      "outputs": [
        {
          "data": {
            "text/plain": [
              "array([3.14159265, 1.57079633, 0.78539816, 0.        ])"
            ]
          },
          "execution_count": 77,
          "metadata": {},
          "output_type": "execute_result"
        }
      ],
      "source": [
        "# Trigonometria\n",
        "angles = np.array([np.pi, np.pi/2, np.pi/4, 0])\n",
        "angles"
      ]
    },
    {
      "cell_type": "code",
      "execution_count": 78,
      "metadata": {
        "colab": {
          "base_uri": "https://localhost:8080/"
        },
        "id": "uP0zLTSmFd90",
        "outputId": "9612b5af-3ab5-4f39-c1f8-125de7925f86"
      },
      "outputs": [
        {
          "data": {
            "text/plain": [
              "array([-1.00000000e+00,  6.12323400e-17,  7.07106781e-01,  1.00000000e+00])"
            ]
          },
          "execution_count": 78,
          "metadata": {},
          "output_type": "execute_result"
        }
      ],
      "source": [
        "np.cos(angles)"
      ]
    },
    {
      "cell_type": "code",
      "execution_count": 79,
      "metadata": {
        "colab": {
          "base_uri": "https://localhost:8080/"
        },
        "id": "IrpSbSf6FfLe",
        "outputId": "faaea202-6d41-438d-a7fa-7472d1d379f6"
      },
      "outputs": [
        {
          "data": {
            "text/plain": [
              "array([1.22464680e-16, 1.00000000e+00, 7.07106781e-01, 0.00000000e+00])"
            ]
          },
          "execution_count": 79,
          "metadata": {},
          "output_type": "execute_result"
        }
      ],
      "source": [
        "np.sin(angles)"
      ]
    },
    {
      "cell_type": "code",
      "execution_count": 80,
      "metadata": {
        "colab": {
          "base_uri": "https://localhost:8080/"
        },
        "id": "DfHkMR1eFgjz",
        "outputId": "1a129280-4a94-4fe1-c9d7-1e4deb7d4102"
      },
      "outputs": [
        {
          "data": {
            "text/plain": [
              "array([-1.22464680e-16,  1.63312394e+16,  1.00000000e+00,  0.00000000e+00])"
            ]
          },
          "execution_count": 80,
          "metadata": {},
          "output_type": "execute_result"
        }
      ],
      "source": [
        "np.tan(angles)"
      ]
    },
    {
      "cell_type": "code",
      "execution_count": 81,
      "metadata": {
        "colab": {
          "base_uri": "https://localhost:8080/"
        },
        "id": "DtAoPc9rFicG",
        "outputId": "133b9f6a-23d3-4252-a84c-35835366e921"
      },
      "outputs": [
        {
          "data": {
            "text/plain": [
              "array([3.14159265, 1.57079633, 0.78539816, 0.        ])"
            ]
          },
          "execution_count": 81,
          "metadata": {},
          "output_type": "execute_result"
        }
      ],
      "source": [
        "cos_values = np.cos(angles)\n",
        "np.arccos(cos_values)"
      ]
    }
  ],
  "metadata": {
    "colab": {
      "provenance": []
    },
    "kernelspec": {
      "display_name": "Python 3",
      "name": "python3"
    },
    "language_info": {
      "codemirror_mode": {
        "name": "ipython",
        "version": 3
      },
      "file_extension": ".py",
      "mimetype": "text/x-python",
      "name": "python",
      "nbconvert_exporter": "python",
      "pygments_lexer": "ipython3",
      "version": "3.11.4"
    }
  },
  "nbformat": 4,
  "nbformat_minor": 0
}
