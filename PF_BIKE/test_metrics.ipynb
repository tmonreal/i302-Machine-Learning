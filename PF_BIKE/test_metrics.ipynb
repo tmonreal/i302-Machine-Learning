{
 "cells": [
  {
   "cell_type": "code",
   "execution_count": 1,
   "id": "8e705ca7",
   "metadata": {},
   "outputs": [
    {
     "name": "stdout",
     "output_type": "stream",
     "text": [
      "✅ CSV file saved as 'metrics_by_station.csv'\n"
     ]
    }
   ],
   "source": [
    "import json\n",
    "import pandas as pd\n",
    "\n",
    "# Load the JSON file\n",
    "with open(\"/home/tmonreal/Desktop/i302-Machine-Learning/PF_BIKE/Students_Predictions/Viñas_Lebrero_delta30min.json\", \"r\") as f:\n",
    "    data = json.load(f)\n",
    "\n",
    "# Convert JSON dict to a list of rows, adding 'id_estacion' as a column\n",
    "rows = []\n",
    "for id_estacion, metrics in data.items():\n",
    "    row = {\"id_estacion\": int(id_estacion), **metrics}\n",
    "    rows.append(row)\n",
    "\n",
    "# Create DataFrame and save as CSV\n",
    "df = pd.DataFrame(rows)\n",
    "df.to_csv(\"Viñas_Lebrero_delta30min.csv\", index=False)\n",
    "\n",
    "print(\"✅ CSV file saved as 'metrics_by_station.csv'\")\n"
   ]
  }
 ],
 "metadata": {
  "kernelspec": {
   "display_name": ".venv",
   "language": "python",
   "name": "python3"
  },
  "language_info": {
   "codemirror_mode": {
    "name": "ipython",
    "version": 3
   },
   "file_extension": ".py",
   "mimetype": "text/x-python",
   "name": "python",
   "nbconvert_exporter": "python",
   "pygments_lexer": "ipython3",
   "version": "3.12.3"
  }
 },
 "nbformat": 4,
 "nbformat_minor": 5
}
