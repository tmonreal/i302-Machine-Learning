{
 "cells": [
  {
   "cell_type": "markdown",
   "metadata": {},
   "source": [
    "# Clase Tutorial 7: Regresión Lineal Localmente Ponderada"
   ]
  },
  {
   "cell_type": "markdown",
   "metadata": {},
   "source": [
    "## Ajustando los datos\n",
    "\n",
    "- Supongamos que tenemos el conjunto de datos de precios de casas, que muestra cómo el precio de una casa varía con su tamaño:\n",
    "\n",
    "<div style=\"text-align: center;\">\n",
    "    <img style=\"width: 50%;\" src=\"img/house_prices.jpg\">\n",
    "</div>\n",
    "\n",
    "- Una pregunta que debemos hacernos cuando buscamos ajustar un modelo a los datos es: _¿Cuáles son los features que necesito/quiero?_\n",
    "- Podriamos ajustar usando...\n",
    "    - Una recta de la forma: $w_0 + w_1 x_1$\n",
    "    - Una cuadrática de la forma: $w_0 + w_1 x_1 + w_2 x_2^2 $\n",
    "    - Un ajuste personalizado como: $w_0 + w_1 x + w_2 \\sqrt x + w_3 log(x) $\n",
    "        - En este caso, deberiamos definir nuestras features como: \n",
    "            - $x_1 = x$\n",
    "            - $x_2 = \\sqrt x$\n",
    "            - $x_3 = log(x)$\n",
    "\n",
    "- Al definir estas nuevas características, la maquinaria de regresión lineal se presta naturalmente para ajustarse a estas funciones de características de entrada en su conjunto de datos."
   ]
  },
  {
   "cell_type": "markdown",
   "metadata": {},
   "source": [
    "## Algoritmos de selección de características\n",
    "- Son algoritmos para decidir de forma automática cual es el conjunto de features que mejor ajusta a nuestros datos.\n",
    "- Permiten responder la pregunta: _¿Cuál es la combinación de __funciones de nuestras features de entrada__ que resultan en la mejor performance del modelo?_\n",
    "    - En otras palabras, ¿qué funciones de x (por ejemplo, $x^2$, $\\sqrt x$, $log(x)$, $x^3$, $x^{2/3}$) resultan como features apropiadas para usar? \n",
    "- Para ajustar a un dataset que es inherentemente no lineal, una línea recta no sería la mejor opción y tendríamos que explorar polinomios.\n",
    "- Para abordar el problema de ajustar datos que no son lineales y descubrir la mejor combinación de funciones de sus características a utilizar, entra en juego la regresión lineal localmente ponderada."
   ]
  },
  {
   "cell_type": "markdown",
   "metadata": {},
   "source": [
    "## Regresión Lineal Localmente Ponderada\n",
    "- Es un algoritmo que modifica la regresión lineal para adaptarla a funciones no lineales.\n",
    "- Consideremos el problema de predecir $y$ a partir de los valores de $x$. \n",
    "\n",
    "#### 1️⃣ Si ajustamos $y = w_0 + w_1 x$:\n",
    "\n",
    "> ➡️ Vemos que los datos no están realmente en línea recta, por lo que el ajuste no es muy bueno. __Underfitting__\n",
    "<div style=\"text-align: center;\">\n",
    "    <img style=\"width: 50%;\" src=\"img/lineal1.jpg\">\n",
    "</div>\n",
    "\n"
   ]
  },
  {
   "cell_type": "markdown",
   "metadata": {},
   "source": [
    "#### 2️⃣ Si ajustamos:  $y = w_0 + w_1 x + w_2 x^2$ (agregamos una feature más $x^2$):\n",
    "\n",
    "> ➡️ Vemos que obtenemos un mejor ajuste a los datos. __Good fit__\n",
    "<div style=\"text-align: center;\">\n",
    "    <img style=\"width: 50%;\" src=\"img/lineal2.jpg\">\n",
    "</div>"
   ]
  },
  {
   "cell_type": "markdown",
   "metadata": {},
   "source": [
    "- Podría parecer que cuantas más features agregamos, mejor. Pero ya vimos que hay cierto riesgo en agregar demasiadas features.\n",
    "\n",
    "#### 3️⃣ Si ajustamos $y = w_0 + w_1 x + w_2 x^2 + w_3 x^3 + w_4 x^4 + w_5 x^5$ (polinomio de orden 5):\n",
    "\n",
    "> ➡️ Vemos que aunque la curva ajustada pasa perfectamente los datos, no esperamos que sea un buen predictor de precios de casas. __Overfitting__\n",
    "\n",
    "<div style=\"text-align: center;\">\n",
    "    <img style=\"width: 50%;\" src=\"img/lineal3.jpg\">\n",
    "</div>\n"
   ]
  },
  {
   "cell_type": "markdown",
   "metadata": {},
   "source": []
  }
 ],
 "metadata": {
  "language_info": {
   "name": "python"
  }
 },
 "nbformat": 4,
 "nbformat_minor": 2
}
