{
 "cells": [
  {
   "cell_type": "markdown",
   "metadata": {},
   "source": [
    "<h1><center>Aprendizaje Automático y Aprendizaje Profundo</center></h1>\n",
    "<h2><center>Trabajo Práctico 3</center></h1>\n",
    "<h3><center>Alumno: Nombre Apellido</center></h1>\n"
   ]
  },
  {
   "cell_type": "markdown",
   "metadata": {},
   "source": [
    "<font color=red>Instrucciones de uso: \n",
    "- Se deberán completar las secciones que indican `#COMPLETAR`. \n",
    "- No se recomienda incluir todo el desarrollo dentro de una celda (ni varias celdas). Se recomienda encapsular el código dentro de funciones auxiliares en un archivo python, y realizar llamados a estas funciones dentro de las celdas de este notebook.\n",
    "- En caso de haber tomado decisiones por fuera de lo que es 100% explicito en la consigna, se recomienda que las justifique de forma concisa y clara en celdas de Markdown dentro de la sección a completar."
   ]
  },
  {
   "cell_type": "markdown",
   "metadata": {},
   "source": [
    "### **Ejercicio 1: Diagnóstico de Cáncer Mamario**"
   ]
  },
  {
   "cell_type": "markdown",
   "metadata": {},
   "source": [
    "#### **(a) Derivar la función de costo de \"binary cross-entropy\" con regularización $L_2$ sobre los parámetros $w$, con hiperparámetro $\\lambda$, aplicando el principio de máxima verosimilitud sobre el conjunto de entrenamiento.**"
   ]
  },
  {
   "cell_type": "markdown",
   "metadata": {},
   "source": [
    "`# COMPLETAR`"
   ]
  },
  {
   "cell_type": "markdown",
   "metadata": {},
   "source": [
    "***"
   ]
  },
  {
   "cell_type": "markdown",
   "metadata": {},
   "source": [
    "#### **(b) Implementar los siguientes clasificadores, y para cada uno reportar las siguientes métricas de performance: matriz de confusión, accuracy, precision, recall, el gráfico de la curva ROC y el área bajo la curva ROC (AUC-ROC), sobre el conjunto de validación:**"
   ]
  },
  {
   "cell_type": "markdown",
   "metadata": {},
   "source": [
    "##### **(i) Linear Discriminant Analysis - LDA**"
   ]
  },
  {
   "cell_type": "markdown",
   "metadata": {},
   "source": [
    "**Implementación:**"
   ]
  },
  {
   "cell_type": "code",
   "execution_count": null,
   "metadata": {},
   "outputs": [],
   "source": [
    "# COMPLETAR (llamado a funciones en otros archivos .py, no colocar todo el código en esta celda).\n",
    "# Se deberá mostrar el resultado de la ejecución de la(s) celda(s)."
   ]
  },
  {
   "cell_type": "markdown",
   "metadata": {},
   "source": [
    "**Métricas (accuracy, precision, recall, AUC) sobre el conjunto de validación:**"
   ]
  },
  {
   "cell_type": "code",
   "execution_count": null,
   "metadata": {},
   "outputs": [],
   "source": [
    "# COMPLETAR (llamado a funciones en otros archivos .py, no colocar todo el código en esta celda).\n",
    "# Se deberá mostrar el resultado de la ejecución de la(s) celda(s)."
   ]
  },
  {
   "cell_type": "markdown",
   "metadata": {},
   "source": [
    "**Curva ROC:**"
   ]
  },
  {
   "cell_type": "code",
   "execution_count": null,
   "metadata": {},
   "outputs": [],
   "source": [
    "# COMPLETAR (llamado a funciones en otros archivos .py, no colocar todo el código en esta celda).\n",
    "# Se deberá mostrar el resultado de la ejecución de la(s) celda(s)."
   ]
  },
  {
   "cell_type": "markdown",
   "metadata": {},
   "source": [
    "**Matriz de confunsión:**"
   ]
  },
  {
   "cell_type": "code",
   "execution_count": null,
   "metadata": {},
   "outputs": [],
   "source": [
    "# COMPLETAR (llamado a funciones en otros archivos .py, no colocar todo el código en esta celda).\n",
    "# Se deberá mostrar el resultado de la ejecución de la(s) celda(s)."
   ]
  },
  {
   "cell_type": "markdown",
   "metadata": {},
   "source": [
    "***"
   ]
  },
  {
   "cell_type": "markdown",
   "metadata": {},
   "source": [
    "##### **(ii) K-nearest neighbours (KNN)**"
   ]
  },
  {
   "cell_type": "markdown",
   "metadata": {},
   "source": [
    "**Implementación y ajuste del hiperparámetro $k$ evaluando AUC-ROC sobre el conjunto de validación:**"
   ]
  },
  {
   "cell_type": "code",
   "execution_count": null,
   "metadata": {},
   "outputs": [],
   "source": [
    "# COMPLETAR (llamado a funciones en otros archivos .py, no colocar todo el código en esta celda).\n",
    "# Se deberá mostrar el resultado de la ejecución de la(s) celda(s).\n",
    "\n",
    "# Dejar en claro el rango de búsqueda de k y justificarlo.\n",
    "# Dejar en claro cual es el k del modelo final."
   ]
  },
  {
   "cell_type": "markdown",
   "metadata": {},
   "source": [
    "**Métricas (accuracy, precision, recall, AUC) sobre el conjunto de validación:**"
   ]
  },
  {
   "cell_type": "code",
   "execution_count": null,
   "metadata": {},
   "outputs": [],
   "source": [
    "# COMPLETAR (llamado a funciones en otros archivos .py, no colocar todo el código en esta celda).\n",
    "# Se deberá mostrar el resultado de la ejecución de la(s) celda(s)."
   ]
  },
  {
   "cell_type": "markdown",
   "metadata": {},
   "source": [
    "**Curva ROC:**"
   ]
  },
  {
   "cell_type": "code",
   "execution_count": null,
   "metadata": {},
   "outputs": [],
   "source": [
    "# COMPLETAR (llamado a funciones en otros archivos .py, no colocar todo el código en esta celda).\n",
    "# Se deberá mostrar el resultado de la ejecución de la(s) celda(s)."
   ]
  },
  {
   "cell_type": "markdown",
   "metadata": {},
   "source": [
    "**Matriz de confunsión:**"
   ]
  },
  {
   "cell_type": "code",
   "execution_count": null,
   "metadata": {},
   "outputs": [],
   "source": [
    "# COMPLETAR (llamado a funciones en otros archivos .py, no colocar todo el código en esta celda).\n",
    "# Se deberá mostrar el resultado de la ejecución de la(s) celda(s)."
   ]
  },
  {
   "cell_type": "markdown",
   "metadata": {},
   "source": [
    "***"
   ]
  },
  {
   "cell_type": "markdown",
   "metadata": {},
   "source": [
    "##### **(iii) Regresión Logística con regularización $L_2$**"
   ]
  },
  {
   "cell_type": "markdown",
   "metadata": {},
   "source": [
    "**Implementación y ajuste del hiperparámetro $\\lambda$ evaluando AUC-ROC sobre el conjunto de validación:**"
   ]
  },
  {
   "cell_type": "code",
   "execution_count": null,
   "metadata": {},
   "outputs": [],
   "source": [
    "# COMPLETAR (llamado a funciones en otros archivos .py, no colocar todo el código en esta celda).\n",
    "# Se deberá mostrar el resultado de la ejecución de la(s) celda(s).\n",
    "\n",
    "# Dejar en claro el rango de búsqueda de λ y justificarlo.\n",
    "# Dejar en claro cual es el λ del modelo final."
   ]
  },
  {
   "cell_type": "markdown",
   "metadata": {},
   "source": [
    "**Métricas (accuracy, precision, recall, AUC) sobre el conjunto de validación:**"
   ]
  },
  {
   "cell_type": "code",
   "execution_count": null,
   "metadata": {},
   "outputs": [],
   "source": [
    "# COMPLETAR (llamado a funciones en otros archivos .py, no colocar todo el código en esta celda).\n",
    "# Se deberá mostrar el resultado de la ejecución de la(s) celda(s)."
   ]
  },
  {
   "cell_type": "markdown",
   "metadata": {},
   "source": [
    "**Curva ROC:**"
   ]
  },
  {
   "cell_type": "code",
   "execution_count": null,
   "metadata": {},
   "outputs": [],
   "source": [
    "# COMPLETAR (llamado a funciones en otros archivos .py, no colocar todo el código en esta celda).\n",
    "# Se deberá mostrar el resultado de la ejecución de la(s) celda(s)."
   ]
  },
  {
   "cell_type": "markdown",
   "metadata": {},
   "source": [
    "**Matriz de confunsión:**"
   ]
  },
  {
   "cell_type": "code",
   "execution_count": null,
   "metadata": {},
   "outputs": [],
   "source": [
    "# COMPLETAR (llamado a funciones en otros archivos .py, no colocar todo el código en esta celda).\n",
    "# Se deberá mostrar el resultado de la ejecución de la(s) celda(s)."
   ]
  },
  {
   "cell_type": "markdown",
   "metadata": {},
   "source": [
    "#### **(c) Una vez que haya desarrollado todos los modelos y este satisfecho con la performance de cada uno, evalúe las métricas de performance antes mencionadas para cada uno de los clasificadores desarrollados, **"
   ]
  }
 ],
 "metadata": {
  "kernelspec": {
   "display_name": "i302",
   "language": "python",
   "name": "python3"
  },
  "language_info": {
   "name": "python",
   "version": "3.8.10"
  }
 },
 "nbformat": 4,
 "nbformat_minor": 2
}
